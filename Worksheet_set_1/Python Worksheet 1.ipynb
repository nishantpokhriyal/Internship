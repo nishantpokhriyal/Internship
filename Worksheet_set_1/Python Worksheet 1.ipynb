{
 "cells": [
  {
   "cell_type": "markdown",
   "id": "17b5fb2a",
   "metadata": {},
   "source": [
    "# Python Worksheet"
   ]
  },
  {
   "cell_type": "raw",
   "id": "75631afe",
   "metadata": {},
   "source": [
    "Q-1. Which of the following operators is used to calculate remainder in a division?"
   ]
  },
  {
   "cell_type": "code",
   "execution_count": 21,
   "id": "dec3aea8",
   "metadata": {},
   "outputs": [
    {
     "data": {
      "text/plain": [
       "1"
      ]
     },
     "execution_count": 21,
     "metadata": {},
     "output_type": "execute_result"
    }
   ],
   "source": [
    "9%2"
   ]
  },
  {
   "cell_type": "raw",
   "id": "59adb08a",
   "metadata": {},
   "source": [
    "Q-2. In python 2//3 is equal to?"
   ]
  },
  {
   "cell_type": "code",
   "execution_count": 1,
   "id": "d66c84a2",
   "metadata": {},
   "outputs": [
    {
     "data": {
      "text/plain": [
       "0"
      ]
     },
     "execution_count": 1,
     "metadata": {},
     "output_type": "execute_result"
    }
   ],
   "source": [
    "2//3"
   ]
  },
  {
   "cell_type": "raw",
   "id": "3a74b2a7",
   "metadata": {},
   "source": [
    "Q-3. In python, 6<<2 is equal to?"
   ]
  },
  {
   "cell_type": "code",
   "execution_count": 2,
   "id": "a42a4ad1",
   "metadata": {},
   "outputs": [
    {
     "data": {
      "text/plain": [
       "24"
      ]
     },
     "execution_count": 2,
     "metadata": {},
     "output_type": "execute_result"
    }
   ],
   "source": [
    "6<<2"
   ]
  },
  {
   "cell_type": "raw",
   "id": "dfa3b7e5",
   "metadata": {},
   "source": [
    "Q-4. In python, 6&2 will give which of the following as output?"
   ]
  },
  {
   "cell_type": "code",
   "execution_count": 3,
   "id": "3d0b4677",
   "metadata": {},
   "outputs": [
    {
     "data": {
      "text/plain": [
       "2"
      ]
     },
     "execution_count": 3,
     "metadata": {},
     "output_type": "execute_result"
    }
   ],
   "source": [
    "6&2"
   ]
  },
  {
   "cell_type": "raw",
   "id": "f8075be4",
   "metadata": {},
   "source": [
    "Q-5. In python, 6|2 will give which of the following as output?"
   ]
  },
  {
   "cell_type": "code",
   "execution_count": 4,
   "id": "74721743",
   "metadata": {},
   "outputs": [
    {
     "data": {
      "text/plain": [
       "6"
      ]
     },
     "execution_count": 4,
     "metadata": {},
     "output_type": "execute_result"
    }
   ],
   "source": [
    "6|2"
   ]
  },
  {
   "cell_type": "raw",
   "id": "a9e998f5",
   "metadata": {},
   "source": [
    "Q-6. What does the finally keyword denotes in python?"
   ]
  },
  {
   "cell_type": "code",
   "execution_count": 27,
   "id": "cc6a7b23",
   "metadata": {},
   "outputs": [],
   "source": [
    "def divide(x,y):\n",
    "    try:\n",
    "        result=x/y\n",
    "    except:\n",
    "        print('Something went wrong')\n",
    "    else:\n",
    "        print('result is',result)\n",
    "    finally:\n",
    "        print('finally clause')"
   ]
  },
  {
   "cell_type": "code",
   "execution_count": 28,
   "id": "f936c8c9",
   "metadata": {},
   "outputs": [
    {
     "name": "stdout",
     "output_type": "stream",
     "text": [
      "result is 5.0\n",
      "finally clause\n"
     ]
    }
   ],
   "source": [
    "divide(25,5)"
   ]
  },
  {
   "cell_type": "code",
   "execution_count": 29,
   "id": "59742df7",
   "metadata": {},
   "outputs": [
    {
     "name": "stdout",
     "output_type": "stream",
     "text": [
      "Something went wrong\n",
      "finally clause\n"
     ]
    }
   ],
   "source": [
    "divide(25,0)"
   ]
  },
  {
   "cell_type": "raw",
   "id": "a9217d2d",
   "metadata": {},
   "source": [
    "Q-7. What does raise keyword is used for in python?"
   ]
  },
  {
   "cell_type": "code",
   "execution_count": 33,
   "id": "766c80e6",
   "metadata": {},
   "outputs": [
    {
     "ename": "TypeError",
     "evalue": "Only integers are allowed",
     "output_type": "error",
     "traceback": [
      "\u001b[1;31m---------------------------------------------------------------------------\u001b[0m",
      "\u001b[1;31mTypeError\u001b[0m                                 Traceback (most recent call last)",
      "\u001b[1;32m<ipython-input-33-3a52710cb63e>\u001b[0m in \u001b[0;36m<module>\u001b[1;34m\u001b[0m\n\u001b[0;32m      2\u001b[0m \u001b[1;33m\u001b[0m\u001b[0m\n\u001b[0;32m      3\u001b[0m \u001b[1;32mif\u001b[0m \u001b[0mtype\u001b[0m\u001b[1;33m(\u001b[0m\u001b[0mx\u001b[0m\u001b[1;33m)\u001b[0m \u001b[1;32mis\u001b[0m \u001b[1;32mnot\u001b[0m \u001b[0mint\u001b[0m\u001b[1;33m:\u001b[0m\u001b[1;33m\u001b[0m\u001b[1;33m\u001b[0m\u001b[0m\n\u001b[1;32m----> 4\u001b[1;33m     \u001b[1;32mraise\u001b[0m \u001b[0mTypeError\u001b[0m\u001b[1;33m(\u001b[0m\u001b[1;34m'Only integers are allowed'\u001b[0m\u001b[1;33m)\u001b[0m\u001b[1;33m\u001b[0m\u001b[1;33m\u001b[0m\u001b[0m\n\u001b[0m",
      "\u001b[1;31mTypeError\u001b[0m: Only integers are allowed"
     ]
    }
   ],
   "source": [
    "x='Welcome'\n",
    "\n",
    "if type(x) is not int:\n",
    "    raise TypeError('Only integers are allowed')"
   ]
  },
  {
   "cell_type": "raw",
   "id": "8d129616",
   "metadata": {},
   "source": [
    "Q-8. Which of the following is a common use case of yield keyword in python?"
   ]
  },
  {
   "cell_type": "code",
   "execution_count": 58,
   "id": "07699781",
   "metadata": {},
   "outputs": [],
   "source": [
    "def finger():\n",
    "    yield 1\n",
    "    yield 2\n",
    "    yield 3\n",
    "    yield 4\n",
    "    yield 5"
   ]
  },
  {
   "cell_type": "code",
   "execution_count": 59,
   "id": "3a55a9fa",
   "metadata": {},
   "outputs": [
    {
     "name": "stdout",
     "output_type": "stream",
     "text": [
      "1\n"
     ]
    }
   ],
   "source": [
    "finger=finger()\n",
    "print(next(finger))"
   ]
  },
  {
   "cell_type": "code",
   "execution_count": 60,
   "id": "cd3049aa",
   "metadata": {},
   "outputs": [
    {
     "name": "stdout",
     "output_type": "stream",
     "text": [
      "2\n"
     ]
    }
   ],
   "source": [
    "print(next(finger))"
   ]
  },
  {
   "cell_type": "code",
   "execution_count": 61,
   "id": "dd117c98",
   "metadata": {},
   "outputs": [
    {
     "name": "stdout",
     "output_type": "stream",
     "text": [
      "3\n"
     ]
    }
   ],
   "source": [
    "print(next(finger))"
   ]
  },
  {
   "cell_type": "code",
   "execution_count": 62,
   "id": "3af4f23a",
   "metadata": {},
   "outputs": [
    {
     "name": "stdout",
     "output_type": "stream",
     "text": [
      "4\n"
     ]
    }
   ],
   "source": [
    "print(next(finger))"
   ]
  },
  {
   "cell_type": "code",
   "execution_count": 63,
   "id": "067b5fcb",
   "metadata": {},
   "outputs": [
    {
     "name": "stdout",
     "output_type": "stream",
     "text": [
      "5\n"
     ]
    }
   ],
   "source": [
    "print(next(finger))"
   ]
  },
  {
   "cell_type": "code",
   "execution_count": 65,
   "id": "0ede4268",
   "metadata": {},
   "outputs": [
    {
     "ename": "StopIteration",
     "evalue": "",
     "output_type": "error",
     "traceback": [
      "\u001b[1;31m---------------------------------------------------------------------------\u001b[0m",
      "\u001b[1;31mStopIteration\u001b[0m                             Traceback (most recent call last)",
      "\u001b[1;32m<ipython-input-65-3a1f2504cc26>\u001b[0m in \u001b[0;36m<module>\u001b[1;34m\u001b[0m\n\u001b[1;32m----> 1\u001b[1;33m \u001b[0mprint\u001b[0m\u001b[1;33m(\u001b[0m\u001b[0mnext\u001b[0m\u001b[1;33m(\u001b[0m\u001b[0mfinger\u001b[0m\u001b[1;33m)\u001b[0m\u001b[1;33m)\u001b[0m   \u001b[1;31m# here iteration stops\u001b[0m\u001b[1;33m\u001b[0m\u001b[1;33m\u001b[0m\u001b[0m\n\u001b[0m",
      "\u001b[1;31mStopIteration\u001b[0m: "
     ]
    }
   ],
   "source": [
    "print(next(finger))   # here iteration stops"
   ]
  },
  {
   "cell_type": "raw",
   "id": "bfccd6ac",
   "metadata": {},
   "source": [
    "Q-9. Which of the following are the valid variable names?"
   ]
  },
  {
   "cell_type": "code",
   "execution_count": 67,
   "id": "dccc1f27",
   "metadata": {},
   "outputs": [
    {
     "data": {
      "text/plain": [
       "'abc'"
      ]
     },
     "execution_count": 67,
     "metadata": {},
     "output_type": "execute_result"
    }
   ],
   "source": [
    "_abc='abc'\n",
    "_abc"
   ]
  },
  {
   "cell_type": "code",
   "execution_count": 68,
   "id": "c3a0dd44",
   "metadata": {},
   "outputs": [
    {
     "ename": "SyntaxError",
     "evalue": "invalid syntax (<ipython-input-68-8b89963e54b0>, line 1)",
     "output_type": "error",
     "traceback": [
      "\u001b[1;36m  File \u001b[1;32m\"<ipython-input-68-8b89963e54b0>\"\u001b[1;36m, line \u001b[1;32m1\u001b[0m\n\u001b[1;33m    1abc='abc'\u001b[0m\n\u001b[1;37m     ^\u001b[0m\n\u001b[1;31mSyntaxError\u001b[0m\u001b[1;31m:\u001b[0m invalid syntax\n"
     ]
    }
   ],
   "source": [
    "1abc='abc'\n",
    "1abc"
   ]
  },
  {
   "cell_type": "code",
   "execution_count": 69,
   "id": "dbf69c50",
   "metadata": {},
   "outputs": [
    {
     "data": {
      "text/plain": [
       "'abc'"
      ]
     },
     "execution_count": 69,
     "metadata": {},
     "output_type": "execute_result"
    }
   ],
   "source": [
    "abc2='abc'\n",
    "abc2"
   ]
  },
  {
   "cell_type": "raw",
   "id": "7d556f25",
   "metadata": {},
   "source": [
    "Q-10. Which of the following are the keywords in python?"
   ]
  },
  {
   "cell_type": "markdown",
   "id": "c6a3b5c1",
   "metadata": {},
   "source": [
    "Yield and Raise are the keyword in pyhton\n",
    "\n",
    "programs are written in Q-7 and Q-8"
   ]
  },
  {
   "cell_type": "raw",
   "id": "79c86835",
   "metadata": {},
   "source": [
    "Q-11. Write a python program to find the factorial of a number."
   ]
  },
  {
   "cell_type": "code",
   "execution_count": 12,
   "id": "fadec363",
   "metadata": {},
   "outputs": [
    {
     "name": "stdout",
     "output_type": "stream",
     "text": [
      "Enter a number:10\n",
      "The factorial of 10 is 3628800\n"
     ]
    }
   ],
   "source": [
    "n=int(input('Enter a number:'))\n",
    "factorial=1\n",
    "if n <0:\n",
    "    print('Factorial does not exist for negative numbers')\n",
    "elif n == 0:\n",
    "    print('The factorial of 0 is 1')\n",
    "else:\n",
    "    for i in range(1,n+1):\n",
    "        factorial=factorial*i\n",
    "    print('The factorial of',n,'is',factorial)"
   ]
  },
  {
   "cell_type": "raw",
   "id": "350b728c",
   "metadata": {},
   "source": [
    "Q-12. Write a python program to find whether a number is prime or composite."
   ]
  },
  {
   "cell_type": "code",
   "execution_count": 3,
   "id": "26d0a271",
   "metadata": {},
   "outputs": [
    {
     "name": "stdout",
     "output_type": "stream",
     "text": [
      "Enter a number:29\n",
      "29 is a Prime number\n"
     ]
    }
   ],
   "source": [
    "n=int(input('Enter a number:'))\n",
    "\n",
    "if (n==0 or n==1):\n",
    "    print(n,'is neither prime nor composite')\n",
    "elif n>1:\n",
    "    for i in range(2,n):\n",
    "        if (n%i==0):\n",
    "            print(n,'is not a Prime number but a Composite number')\n",
    "            break\n",
    "    else:\n",
    "        print(n,'is a Prime number')\n",
    "else:\n",
    "    print('Please enter positive number only')"
   ]
  },
  {
   "cell_type": "raw",
   "id": "9a1d205e",
   "metadata": {},
   "source": [
    "Q-13. Write a python program to check whether a given string is palindrome or not."
   ]
  },
  {
   "cell_type": "code",
   "execution_count": 13,
   "id": "54294269",
   "metadata": {},
   "outputs": [
    {
     "name": "stdout",
     "output_type": "stream",
     "text": [
      "Length of Tenet is 5\n",
      "Tenet is a Palindrome\n"
     ]
    }
   ],
   "source": [
    "# Program to check if a string is palindrome or not\n",
    "t='Tenet'\n",
    "\n",
    "# for caseless comparison\n",
    "t=t.casefold()\n",
    "\n",
    "# reverse the string\n",
    "reverse_t=reversed(t)\n",
    "\n",
    "# Length of string\n",
    "print(\"Length of Tenet is\",len(t))\n",
    "\n",
    "# checking if the string is equal to its reverse\n",
    "if list(t) == list(reverse_t):\n",
    "    print('Tenet is a Palindrome')\n",
    "else:\n",
    "    print('The string is not a Palindrome')"
   ]
  },
  {
   "cell_type": "raw",
   "id": "5806dd75",
   "metadata": {},
   "source": [
    "Q-14. Write a Python program to get the third side of right-angled triangle from two given sides."
   ]
  },
  {
   "cell_type": "code",
   "execution_count": 18,
   "id": "c0c44eeb",
   "metadata": {},
   "outputs": [
    {
     "name": "stdout",
     "output_type": "stream",
     "text": [
      "Enter base 10\n",
      "Enter height 20\n",
      "Hypotenuse (c) is 22\n"
     ]
    }
   ],
   "source": [
    "import math\n",
    "\n",
    "# Sides of Right Angled Triangle\n",
    "a=float(input('Enter base '))\n",
    "b=float(input('Enter height '))\n",
    "\n",
    "# third side is c=?\n",
    "\n",
    "c=math.sqrt(a**2 + b**2)\n",
    "\n",
    "print('Hypotenuse (c) is',round(c))"
   ]
  },
  {
   "cell_type": "raw",
   "id": "34ee378c",
   "metadata": {},
   "source": [
    "Q-15. Write a python program to print the frequency of each of the characters present in a given string."
   ]
  },
  {
   "cell_type": "code",
   "execution_count": 20,
   "id": "e5c1259c",
   "metadata": {},
   "outputs": [
    {
     "name": "stdout",
     "output_type": "stream",
     "text": [
      "Enter string Monstrous\n",
      "Frequency of Monstrous is {'M': 1, 'o': 2, 'n': 1, 's': 2, 't': 1, 'r': 1, 'u': 1}\n"
     ]
    }
   ],
   "source": [
    "str=input('Enter string ')\n",
    "\n",
    "Freq=dict()\n",
    "\n",
    "for char in str:\n",
    "    if char in Freq:\n",
    "        Freq[char] = Freq[char] + 1\n",
    "    else:\n",
    "        Freq[char]=1\n",
    "print('Frequency of',str,'is',Freq)"
   ]
  },
  {
   "cell_type": "markdown",
   "id": "a2d01f17",
   "metadata": {},
   "source": [
    "# THE END"
   ]
  }
 ],
 "metadata": {
  "kernelspec": {
   "display_name": "Python 3",
   "language": "python",
   "name": "python3"
  },
  "language_info": {
   "codemirror_mode": {
    "name": "ipython",
    "version": 3
   },
   "file_extension": ".py",
   "mimetype": "text/x-python",
   "name": "python",
   "nbconvert_exporter": "python",
   "pygments_lexer": "ipython3",
   "version": "3.8.8"
  }
 },
 "nbformat": 4,
 "nbformat_minor": 5
}
