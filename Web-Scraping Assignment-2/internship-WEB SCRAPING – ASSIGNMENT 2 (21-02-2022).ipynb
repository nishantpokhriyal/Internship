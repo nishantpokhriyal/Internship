{
 "cells": [
  {
   "cell_type": "markdown",
   "id": "1128bb89",
   "metadata": {},
   "source": [
    "Q1: Write a python program to scrape data for “Data Analyst” Job position in “Bangalore” location. You have to scrape the job-title, job-location, company_name, experience_required. You have to scrape first 10 jobs data."
   ]
  },
  {
   "cell_type": "code",
   "execution_count": 1,
   "id": "fb8e6717",
   "metadata": {},
   "outputs": [
    {
     "name": "stdout",
     "output_type": "stream",
     "text": [
      "Requirement already satisfied: selenium in c:\\users\\sneha pokhriyal\\anaconda3\\lib\\site-packages (4.1.3)\n",
      "Requirement already satisfied: urllib3[secure,socks]~=1.26 in c:\\users\\sneha pokhriyal\\anaconda3\\lib\\site-packages (from selenium) (1.26.4)\n",
      "Requirement already satisfied: trio-websocket~=0.9 in c:\\users\\sneha pokhriyal\\anaconda3\\lib\\site-packages (from selenium) (0.9.2)\n",
      "Requirement already satisfied: trio~=0.17 in c:\\users\\sneha pokhriyal\\anaconda3\\lib\\site-packages (from selenium) (0.20.0)\n",
      "Requirement already satisfied: cffi>=1.14 in c:\\users\\sneha pokhriyal\\anaconda3\\lib\\site-packages (from trio~=0.17->selenium) (1.14.5)\n",
      "Requirement already satisfied: sniffio in c:\\users\\sneha pokhriyal\\anaconda3\\lib\\site-packages (from trio~=0.17->selenium) (1.2.0)\n",
      "Requirement already satisfied: async-generator>=1.9 in c:\\users\\sneha pokhriyal\\anaconda3\\lib\\site-packages (from trio~=0.17->selenium) (1.10)\n",
      "Requirement already satisfied: outcome in c:\\users\\sneha pokhriyal\\anaconda3\\lib\\site-packages (from trio~=0.17->selenium) (1.1.0)\n",
      "Requirement already satisfied: idna in c:\\users\\sneha pokhriyal\\anaconda3\\lib\\site-packages (from trio~=0.17->selenium) (2.10)\n",
      "Requirement already satisfied: attrs>=19.2.0 in c:\\users\\sneha pokhriyal\\anaconda3\\lib\\site-packages (from trio~=0.17->selenium) (20.3.0)\n",
      "Requirement already satisfied: sortedcontainers in c:\\users\\sneha pokhriyal\\anaconda3\\lib\\site-packages (from trio~=0.17->selenium) (2.3.0)\n",
      "Requirement already satisfied: pycparser in c:\\users\\sneha pokhriyal\\anaconda3\\lib\\site-packages (from cffi>=1.14->trio~=0.17->selenium) (2.20)\n",
      "Requirement already satisfied: wsproto>=0.14 in c:\\users\\sneha pokhriyal\\anaconda3\\lib\\site-packages (from trio-websocket~=0.9->selenium) (1.1.0)\n",
      "Requirement already satisfied: pyOpenSSL>=0.14 in c:\\users\\sneha pokhriyal\\anaconda3\\lib\\site-packages (from urllib3[secure,socks]~=1.26->selenium) (20.0.1)\n",
      "Requirement already satisfied: certifi in c:\\users\\sneha pokhriyal\\anaconda3\\lib\\site-packages (from urllib3[secure,socks]~=1.26->selenium) (2020.12.5)\n",
      "Requirement already satisfied: cryptography>=1.3.4 in c:\\users\\sneha pokhriyal\\anaconda3\\lib\\site-packages (from urllib3[secure,socks]~=1.26->selenium) (3.4.7)\n",
      "Requirement already satisfied: PySocks!=1.5.7,<2.0,>=1.5.6 in c:\\users\\sneha pokhriyal\\anaconda3\\lib\\site-packages (from urllib3[secure,socks]~=1.26->selenium) (1.7.1)\n",
      "Requirement already satisfied: six>=1.5.2 in c:\\users\\sneha pokhriyal\\anaconda3\\lib\\site-packages (from pyOpenSSL>=0.14->urllib3[secure,socks]~=1.26->selenium) (1.15.0)\n",
      "Requirement already satisfied: h11<1,>=0.9.0 in c:\\users\\sneha pokhriyal\\anaconda3\\lib\\site-packages (from wsproto>=0.14->trio-websocket~=0.9->selenium) (0.13.0)\n"
     ]
    }
   ],
   "source": [
    "# Lets first install the selenium Library\n",
    "! pip install selenium"
   ]
  },
  {
   "cell_type": "code",
   "execution_count": 2,
   "id": "ee5e9f83",
   "metadata": {},
   "outputs": [],
   "source": [
    "# Lets now import all the required Libraries\n",
    "import selenium\n",
    "import pandas as pd\n",
    "from selenium import webdriver\n",
    "import warnings\n",
    "warnings.filterwarnings('ignore')\n",
    "import time"
   ]
  },
  {
   "cell_type": "code",
   "execution_count": 286,
   "id": "34168ce3",
   "metadata": {},
   "outputs": [],
   "source": [
    "# Lets first connect to the web driver\n",
    "driver=webdriver.Chrome(r\"C:\\Internship\\Web scraping assignment_2 selenium\\chromedriver_win32\\chromedriver.exe\")"
   ]
  },
  {
   "cell_type": "code",
   "execution_count": 10,
   "id": "a0ee19d1",
   "metadata": {},
   "outputs": [],
   "source": [
    "driver.get('https://www.naukri.com/')"
   ]
  },
  {
   "cell_type": "code",
   "execution_count": 19,
   "id": "b9b1edd3",
   "metadata": {},
   "outputs": [],
   "source": [
    "# Finding element for job search bar\n",
    "search_skill=driver.find_element_by_class_name('suggestor-input') # Job search\n",
    "search_skill.send_keys('Data Analyst')\n",
    "search_location=driver.find_element_by_xpath('/html/body/div/div[2]/div[3]/div/div/div[3]/div/div/div/input') # Location search bar\n",
    "search_location.send_keys('Bangalore')"
   ]
  },
  {
   "cell_type": "code",
   "execution_count": 20,
   "id": "6dfaccf4",
   "metadata": {},
   "outputs": [],
   "source": [
    "search_button=driver.find_element_by_xpath('/html/body/div/div[2]/div[3]/div/div/div[6]')\n",
    "search_button.click()"
   ]
  },
  {
   "cell_type": "code",
   "execution_count": 13,
   "id": "4dc7af03",
   "metadata": {},
   "outputs": [],
   "source": [
    "# Specifying the url of the webpage to be scraped\n",
    "url=\"https://www.naukri.com/data-analyst-jobs-in-bangalore?k=data%20analyst&l=bangalore\""
   ]
  },
  {
   "cell_type": "code",
   "execution_count": 21,
   "id": "39580ea0",
   "metadata": {},
   "outputs": [],
   "source": [
    "# Lets open the page through our web driver\n",
    "driver.get(url)"
   ]
  },
  {
   "cell_type": "code",
   "execution_count": 17,
   "id": "8bd7ef7b",
   "metadata": {},
   "outputs": [],
   "source": [
    "job_titles=[]\n",
    "company_names=[]\n",
    "locations_list=[]\n",
    "experience_list=[]"
   ]
  },
  {
   "cell_type": "code",
   "execution_count": 15,
   "id": "dc4e36d6",
   "metadata": {},
   "outputs": [
    {
     "data": {
      "text/plain": [
       "[<selenium.webdriver.remote.webelement.WebElement (session=\"13c7bada95d3f4e06bec09b01964bb39\", element=\"ebbaabf5-25e9-44d0-9c89-59bf22e4af25\")>,\n",
       " <selenium.webdriver.remote.webelement.WebElement (session=\"13c7bada95d3f4e06bec09b01964bb39\", element=\"c867bf03-5c7e-4a5d-9c6e-276bc9193364\")>,\n",
       " <selenium.webdriver.remote.webelement.WebElement (session=\"13c7bada95d3f4e06bec09b01964bb39\", element=\"5c196011-cff4-470b-8017-3f476b3b3d44\")>,\n",
       " <selenium.webdriver.remote.webelement.WebElement (session=\"13c7bada95d3f4e06bec09b01964bb39\", element=\"aa08c930-29b4-440a-9ae5-bdce2c4dc9f6\")>,\n",
       " <selenium.webdriver.remote.webelement.WebElement (session=\"13c7bada95d3f4e06bec09b01964bb39\", element=\"fd4879e7-0f2a-41a4-b48c-33f7335db2ff\")>,\n",
       " <selenium.webdriver.remote.webelement.WebElement (session=\"13c7bada95d3f4e06bec09b01964bb39\", element=\"ddc73093-3a4a-4a28-bc2a-5649b2a6da7c\")>,\n",
       " <selenium.webdriver.remote.webelement.WebElement (session=\"13c7bada95d3f4e06bec09b01964bb39\", element=\"e07e59c4-178a-4622-a6c7-b64a33973073\")>,\n",
       " <selenium.webdriver.remote.webelement.WebElement (session=\"13c7bada95d3f4e06bec09b01964bb39\", element=\"61b58893-5915-4f8e-bfa8-3ea012f7bbc6\")>,\n",
       " <selenium.webdriver.remote.webelement.WebElement (session=\"13c7bada95d3f4e06bec09b01964bb39\", element=\"8ee3c98e-7173-4b3f-be52-a12656909415\")>,\n",
       " <selenium.webdriver.remote.webelement.WebElement (session=\"13c7bada95d3f4e06bec09b01964bb39\", element=\"edf9e4ca-f854-4f26-bf47-3954cde9da16\")>]"
      ]
     },
     "execution_count": 15,
     "metadata": {},
     "output_type": "execute_result"
    }
   ],
   "source": [
    "# so lets extract all the tags having the job_titles \n",
    "title_tags=driver.find_elements_by_xpath(\"//a[@class='title fw500 ellipsis']\")\n",
    "title_tags[0:10]"
   ]
  },
  {
   "cell_type": "code",
   "execution_count": 18,
   "id": "7a862f2a",
   "metadata": {},
   "outputs": [
    {
     "data": {
      "text/plain": [
       "['Senior Data Analyst/ Business Analyst',\n",
       " 'Sr Domain Expert -Data Analysts',\n",
       " 'Senior Data Analyst',\n",
       " 'Senior Data Analyst',\n",
       " 'Senior Data Analyst',\n",
       " 'Senior Data Analyst (Digital Services Analytics)',\n",
       " 'Senior Data Analyst',\n",
       " 'Data Analyst',\n",
       " 'Data Analyst',\n",
       " 'Data Analyst - Platform & Security']"
      ]
     },
     "execution_count": 18,
     "metadata": {},
     "output_type": "execute_result"
    }
   ],
   "source": [
    "# Now we will extract the text from these tags one by one by looping over these tags\n",
    "for i in title_tags:\n",
    "    title=i.text\n",
    "    job_titles.append(title)\n",
    "job_titles[0:10]"
   ]
  },
  {
   "cell_type": "code",
   "execution_count": 22,
   "id": "6ccc24be",
   "metadata": {},
   "outputs": [
    {
     "data": {
      "text/plain": [
       "[<selenium.webdriver.remote.webelement.WebElement (session=\"13c7bada95d3f4e06bec09b01964bb39\", element=\"f7e50122-8a24-43de-ad90-9b34b1c65a4f\")>,\n",
       " <selenium.webdriver.remote.webelement.WebElement (session=\"13c7bada95d3f4e06bec09b01964bb39\", element=\"bed7f908-c10d-44d4-990b-50a984bd6ec4\")>,\n",
       " <selenium.webdriver.remote.webelement.WebElement (session=\"13c7bada95d3f4e06bec09b01964bb39\", element=\"f018bdf8-e49f-4f5b-9d8b-10b44b88857e\")>,\n",
       " <selenium.webdriver.remote.webelement.WebElement (session=\"13c7bada95d3f4e06bec09b01964bb39\", element=\"30fedec4-3349-4355-af9c-de033417d872\")>,\n",
       " <selenium.webdriver.remote.webelement.WebElement (session=\"13c7bada95d3f4e06bec09b01964bb39\", element=\"20f57ead-23bc-417f-9af5-2abe8878656d\")>,\n",
       " <selenium.webdriver.remote.webelement.WebElement (session=\"13c7bada95d3f4e06bec09b01964bb39\", element=\"53d5aaff-8711-4223-b1cd-fe15925678ed\")>,\n",
       " <selenium.webdriver.remote.webelement.WebElement (session=\"13c7bada95d3f4e06bec09b01964bb39\", element=\"9838c0af-b689-44e9-8de1-fe7bd1d57357\")>,\n",
       " <selenium.webdriver.remote.webelement.WebElement (session=\"13c7bada95d3f4e06bec09b01964bb39\", element=\"58223629-6d39-430a-91f8-fac02bed0423\")>,\n",
       " <selenium.webdriver.remote.webelement.WebElement (session=\"13c7bada95d3f4e06bec09b01964bb39\", element=\"7e4d4161-56fb-4baf-8806-5d7aaed7f5d7\")>,\n",
       " <selenium.webdriver.remote.webelement.WebElement (session=\"13c7bada95d3f4e06bec09b01964bb39\", element=\"b07d6e22-5e3b-4d8a-9cf9-f22817578da9\")>]"
      ]
     },
     "execution_count": 22,
     "metadata": {},
     "output_type": "execute_result"
    }
   ],
   "source": [
    "# So lets extract all the tags having the company names\n",
    "company_tags=driver.find_elements_by_xpath(\"//a[@class='subTitle ellipsis fleft']\")\n",
    "company_tags[0:10]"
   ]
  },
  {
   "cell_type": "code",
   "execution_count": 23,
   "id": "ba4217a2",
   "metadata": {},
   "outputs": [
    {
     "data": {
      "text/plain": [
       "['Rupeek',\n",
       " 'Siemens',\n",
       " 'Walmart',\n",
       " 'LatentView',\n",
       " 'FINNOVATION TECH SOLUTIONS PRIVATE LIMITED',\n",
       " 'Dell Technologies',\n",
       " 'Cerner',\n",
       " 'Myntra',\n",
       " 'Enrich talents',\n",
       " 'National Geographic']"
      ]
     },
     "execution_count": 23,
     "metadata": {},
     "output_type": "execute_result"
    }
   ],
   "source": [
    "# Now we will extract the text from these tags one by one by looping over these tags\n",
    "for i in company_tags:\n",
    "    company_name=i.text\n",
    "    company_names.append(company_name)\n",
    "company_names[0:10]"
   ]
  },
  {
   "cell_type": "code",
   "execution_count": 24,
   "id": "6a626fed",
   "metadata": {},
   "outputs": [
    {
     "data": {
      "text/plain": [
       "[<selenium.webdriver.remote.webelement.WebElement (session=\"13c7bada95d3f4e06bec09b01964bb39\", element=\"12954dae-161a-419b-9a10-b782a97b1ace\")>,\n",
       " <selenium.webdriver.remote.webelement.WebElement (session=\"13c7bada95d3f4e06bec09b01964bb39\", element=\"77d83cf2-277e-442c-9890-c4a8fdc946cd\")>,\n",
       " <selenium.webdriver.remote.webelement.WebElement (session=\"13c7bada95d3f4e06bec09b01964bb39\", element=\"bdadd253-b5ce-4d7b-bde9-d78b02c1b56e\")>,\n",
       " <selenium.webdriver.remote.webelement.WebElement (session=\"13c7bada95d3f4e06bec09b01964bb39\", element=\"72b26ca2-f2ca-4244-b564-d1504a54952b\")>,\n",
       " <selenium.webdriver.remote.webelement.WebElement (session=\"13c7bada95d3f4e06bec09b01964bb39\", element=\"0121e49c-09a0-4102-8719-2dd87c159e09\")>,\n",
       " <selenium.webdriver.remote.webelement.WebElement (session=\"13c7bada95d3f4e06bec09b01964bb39\", element=\"0fd4adf7-8a0e-48ee-a1e4-2499a078ef4e\")>,\n",
       " <selenium.webdriver.remote.webelement.WebElement (session=\"13c7bada95d3f4e06bec09b01964bb39\", element=\"4533a923-c44c-44a3-98c9-bd523b24e0cf\")>,\n",
       " <selenium.webdriver.remote.webelement.WebElement (session=\"13c7bada95d3f4e06bec09b01964bb39\", element=\"b37528b0-9062-4ad3-be62-4a90c27f1ab8\")>,\n",
       " <selenium.webdriver.remote.webelement.WebElement (session=\"13c7bada95d3f4e06bec09b01964bb39\", element=\"6036b6f8-4a31-4a73-a1d8-4d3d39326a88\")>,\n",
       " <selenium.webdriver.remote.webelement.WebElement (session=\"13c7bada95d3f4e06bec09b01964bb39\", element=\"46a88515-b757-40b8-9193-a43f8c77ce25\")>]"
      ]
     },
     "execution_count": 24,
     "metadata": {},
     "output_type": "execute_result"
    }
   ],
   "source": [
    "# So lets extract all the tags having the experience required data\n",
    "experience_tags=driver.find_elements_by_xpath(\"//li[@class='fleft grey-text br2 placeHolderLi experience']/span[1]\")\n",
    "experience_tags[0:10]"
   ]
  },
  {
   "cell_type": "code",
   "execution_count": 25,
   "id": "fb77e39a",
   "metadata": {},
   "outputs": [
    {
     "data": {
      "text/plain": [
       "['2-7 Yrs',\n",
       " '0-10 Yrs',\n",
       " '5-8 Yrs',\n",
       " '2-6 Yrs',\n",
       " '3-6 Yrs',\n",
       " '1-6 Yrs',\n",
       " '8-12 Yrs',\n",
       " '1-3 Yrs',\n",
       " '0-4 Yrs',\n",
       " '4-6 Yrs']"
      ]
     },
     "execution_count": 25,
     "metadata": {},
     "output_type": "execute_result"
    }
   ],
   "source": [
    "# Now we will extract the text from these tags one by one by looping over these tags\n",
    "for i in experience_tags:\n",
    "    experience=i.text\n",
    "    experience_list.append(experience)\n",
    "experience_list[0:10]"
   ]
  },
  {
   "cell_type": "code",
   "execution_count": 26,
   "id": "6a0d61ff",
   "metadata": {},
   "outputs": [
    {
     "data": {
      "text/plain": [
       "[<selenium.webdriver.remote.webelement.WebElement (session=\"13c7bada95d3f4e06bec09b01964bb39\", element=\"d9a76c33-d4a6-4729-9543-7e88b7408a54\")>,\n",
       " <selenium.webdriver.remote.webelement.WebElement (session=\"13c7bada95d3f4e06bec09b01964bb39\", element=\"d2013d22-ed98-47fd-bdf4-3fe562763fbe\")>,\n",
       " <selenium.webdriver.remote.webelement.WebElement (session=\"13c7bada95d3f4e06bec09b01964bb39\", element=\"7c10c5c0-4f98-44e3-8db9-e7757104bcf5\")>,\n",
       " <selenium.webdriver.remote.webelement.WebElement (session=\"13c7bada95d3f4e06bec09b01964bb39\", element=\"e7891f5b-31ba-4cdd-996c-f0397e8f6b43\")>,\n",
       " <selenium.webdriver.remote.webelement.WebElement (session=\"13c7bada95d3f4e06bec09b01964bb39\", element=\"0bf32086-8521-478f-ac7c-1204e2b8fe93\")>,\n",
       " <selenium.webdriver.remote.webelement.WebElement (session=\"13c7bada95d3f4e06bec09b01964bb39\", element=\"986b9405-1a1e-4845-9f62-de24c28fe76f\")>,\n",
       " <selenium.webdriver.remote.webelement.WebElement (session=\"13c7bada95d3f4e06bec09b01964bb39\", element=\"6a1fe738-e679-4b41-a2d7-d309fb7fca3b\")>,\n",
       " <selenium.webdriver.remote.webelement.WebElement (session=\"13c7bada95d3f4e06bec09b01964bb39\", element=\"c6613776-13d1-4bc2-9cdc-8f1e49d93fed\")>,\n",
       " <selenium.webdriver.remote.webelement.WebElement (session=\"13c7bada95d3f4e06bec09b01964bb39\", element=\"479ad478-8abc-4770-b3b2-9afb828240ff\")>,\n",
       " <selenium.webdriver.remote.webelement.WebElement (session=\"13c7bada95d3f4e06bec09b01964bb39\", element=\"1e4c098c-9963-433a-a223-78f84c4b31d4\")>]"
      ]
     },
     "execution_count": 26,
     "metadata": {},
     "output_type": "execute_result"
    }
   ],
   "source": [
    "# lets extract all the tags having locations data\n",
    "location_tags=driver.find_elements_by_xpath(\"//li[@class='fleft grey-text br2 placeHolderLi location']/span[1]\")\n",
    "location_tags[0:10]"
   ]
  },
  {
   "cell_type": "code",
   "execution_count": 27,
   "id": "7a56be50",
   "metadata": {},
   "outputs": [
    {
     "data": {
      "text/plain": [
       "['Bangalore/Bengaluru',\n",
       " 'Bangalore/Bengaluru',\n",
       " 'Bangalore/Bengaluru',\n",
       " 'Chennai, Bangalore/Bengaluru',\n",
       " 'Bangalore/Bengaluru(Old Madras Road)',\n",
       " 'Bangalore/Bengaluru',\n",
       " 'Bangalore/Bengaluru',\n",
       " 'Bangalore/Bengaluru',\n",
       " 'Bangalore/Bengaluru',\n",
       " 'Bangalore/Bengaluru']"
      ]
     },
     "execution_count": 27,
     "metadata": {},
     "output_type": "execute_result"
    }
   ],
   "source": [
    "# Now we will extract the text from these tags one by one by looping over these tags\n",
    "for i in location_tags:\n",
    "    location=i.text\n",
    "    locations_list.append(location)\n",
    "locations_list[0:10]"
   ]
  },
  {
   "cell_type": "markdown",
   "id": "6805f092",
   "metadata": {},
   "source": [
    "So, now we have extracted the data required from the webpage and stored them in the 4 lists mentioned above. Now before creating a dataframe from these lists. Lets first check the length of each of the list. Because if the length of all of the lists are not equal, then a dataframe cannot be formed."
   ]
  },
  {
   "cell_type": "code",
   "execution_count": 28,
   "id": "0501f8f2",
   "metadata": {},
   "outputs": [
    {
     "name": "stdout",
     "output_type": "stream",
     "text": [
      "20 20 20 20\n"
     ]
    }
   ],
   "source": [
    "print(len(job_titles),len(company_names),len(experience_list),len(locations_list))"
   ]
  },
  {
   "cell_type": "code",
   "execution_count": 29,
   "id": "9adc03be",
   "metadata": {},
   "outputs": [],
   "source": [
    "# import pandas as pd\n",
    "jobs=pd.DataFrame({})\n",
    "jobs['Title']=job_titles\n",
    "jobs['Company']=company_names\n",
    "jobs['Experience_Required']=experience_list\n",
    "jobs['Location']=locations_list"
   ]
  },
  {
   "cell_type": "code",
   "execution_count": 32,
   "id": "407dcd26",
   "metadata": {},
   "outputs": [],
   "source": [
    "jobs=jobs[0:10]"
   ]
  },
  {
   "cell_type": "code",
   "execution_count": 33,
   "id": "fb75930f",
   "metadata": {},
   "outputs": [
    {
     "data": {
      "text/html": [
       "<div>\n",
       "<style scoped>\n",
       "    .dataframe tbody tr th:only-of-type {\n",
       "        vertical-align: middle;\n",
       "    }\n",
       "\n",
       "    .dataframe tbody tr th {\n",
       "        vertical-align: top;\n",
       "    }\n",
       "\n",
       "    .dataframe thead th {\n",
       "        text-align: right;\n",
       "    }\n",
       "</style>\n",
       "<table border=\"1\" class=\"dataframe\">\n",
       "  <thead>\n",
       "    <tr style=\"text-align: right;\">\n",
       "      <th></th>\n",
       "      <th>Title</th>\n",
       "      <th>Company</th>\n",
       "      <th>Experience_Required</th>\n",
       "      <th>Location</th>\n",
       "    </tr>\n",
       "  </thead>\n",
       "  <tbody>\n",
       "    <tr>\n",
       "      <th>0</th>\n",
       "      <td>Senior Data Analyst/ Business Analyst</td>\n",
       "      <td>Rupeek</td>\n",
       "      <td>2-7 Yrs</td>\n",
       "      <td>Bangalore/Bengaluru</td>\n",
       "    </tr>\n",
       "    <tr>\n",
       "      <th>1</th>\n",
       "      <td>Sr Domain Expert -Data Analysts</td>\n",
       "      <td>Siemens</td>\n",
       "      <td>0-10 Yrs</td>\n",
       "      <td>Bangalore/Bengaluru</td>\n",
       "    </tr>\n",
       "    <tr>\n",
       "      <th>2</th>\n",
       "      <td>Senior Data Analyst</td>\n",
       "      <td>Walmart</td>\n",
       "      <td>5-8 Yrs</td>\n",
       "      <td>Bangalore/Bengaluru</td>\n",
       "    </tr>\n",
       "    <tr>\n",
       "      <th>3</th>\n",
       "      <td>Senior Data Analyst</td>\n",
       "      <td>LatentView</td>\n",
       "      <td>2-6 Yrs</td>\n",
       "      <td>Chennai, Bangalore/Bengaluru</td>\n",
       "    </tr>\n",
       "    <tr>\n",
       "      <th>4</th>\n",
       "      <td>Senior Data Analyst</td>\n",
       "      <td>FINNOVATION TECH SOLUTIONS PRIVATE LIMITED</td>\n",
       "      <td>3-6 Yrs</td>\n",
       "      <td>Bangalore/Bengaluru(Old Madras Road)</td>\n",
       "    </tr>\n",
       "    <tr>\n",
       "      <th>5</th>\n",
       "      <td>Senior Data Analyst (Digital Services Analytics)</td>\n",
       "      <td>Dell Technologies</td>\n",
       "      <td>1-6 Yrs</td>\n",
       "      <td>Bangalore/Bengaluru</td>\n",
       "    </tr>\n",
       "    <tr>\n",
       "      <th>6</th>\n",
       "      <td>Senior Data Analyst</td>\n",
       "      <td>Cerner</td>\n",
       "      <td>8-12 Yrs</td>\n",
       "      <td>Bangalore/Bengaluru</td>\n",
       "    </tr>\n",
       "    <tr>\n",
       "      <th>7</th>\n",
       "      <td>Data Analyst</td>\n",
       "      <td>Myntra</td>\n",
       "      <td>1-3 Yrs</td>\n",
       "      <td>Bangalore/Bengaluru</td>\n",
       "    </tr>\n",
       "    <tr>\n",
       "      <th>8</th>\n",
       "      <td>Data Analyst</td>\n",
       "      <td>Enrich talents</td>\n",
       "      <td>0-4 Yrs</td>\n",
       "      <td>Bangalore/Bengaluru</td>\n",
       "    </tr>\n",
       "    <tr>\n",
       "      <th>9</th>\n",
       "      <td>Data Analyst - Platform &amp; Security</td>\n",
       "      <td>National Geographic</td>\n",
       "      <td>4-6 Yrs</td>\n",
       "      <td>Bangalore/Bengaluru</td>\n",
       "    </tr>\n",
       "  </tbody>\n",
       "</table>\n",
       "</div>"
      ],
      "text/plain": [
       "                                              Title  \\\n",
       "0             Senior Data Analyst/ Business Analyst   \n",
       "1                   Sr Domain Expert -Data Analysts   \n",
       "2                               Senior Data Analyst   \n",
       "3                               Senior Data Analyst   \n",
       "4                               Senior Data Analyst   \n",
       "5  Senior Data Analyst (Digital Services Analytics)   \n",
       "6                               Senior Data Analyst   \n",
       "7                                      Data Analyst   \n",
       "8                                      Data Analyst   \n",
       "9                Data Analyst - Platform & Security   \n",
       "\n",
       "                                      Company Experience_Required  \\\n",
       "0                                      Rupeek             2-7 Yrs   \n",
       "1                                     Siemens            0-10 Yrs   \n",
       "2                                     Walmart             5-8 Yrs   \n",
       "3                                  LatentView             2-6 Yrs   \n",
       "4  FINNOVATION TECH SOLUTIONS PRIVATE LIMITED             3-6 Yrs   \n",
       "5                           Dell Technologies             1-6 Yrs   \n",
       "6                                      Cerner            8-12 Yrs   \n",
       "7                                      Myntra             1-3 Yrs   \n",
       "8                              Enrich talents             0-4 Yrs   \n",
       "9                         National Geographic             4-6 Yrs   \n",
       "\n",
       "                               Location  \n",
       "0                   Bangalore/Bengaluru  \n",
       "1                   Bangalore/Bengaluru  \n",
       "2                   Bangalore/Bengaluru  \n",
       "3          Chennai, Bangalore/Bengaluru  \n",
       "4  Bangalore/Bengaluru(Old Madras Road)  \n",
       "5                   Bangalore/Bengaluru  \n",
       "6                   Bangalore/Bengaluru  \n",
       "7                   Bangalore/Bengaluru  \n",
       "8                   Bangalore/Bengaluru  \n",
       "9                   Bangalore/Bengaluru  "
      ]
     },
     "execution_count": 33,
     "metadata": {},
     "output_type": "execute_result"
    }
   ],
   "source": [
    "jobs"
   ]
  },
  {
   "cell_type": "markdown",
   "id": "0c1e4f88",
   "metadata": {},
   "source": [
    "Q2: Write a python program to scrape data for “Data Scientist” Job position in “Bangalore” location. You have to scrape the job-title, job-location, company_name. You have to scrape first 10 jobs data.\n",
    "This task will be done in following steps:"
   ]
  },
  {
   "cell_type": "code",
   "execution_count": 34,
   "id": "8b839b38",
   "metadata": {},
   "outputs": [],
   "source": [
    "naukri=\"https://www.naukri.com/\""
   ]
  },
  {
   "cell_type": "code",
   "execution_count": 35,
   "id": "0b42d14c",
   "metadata": {},
   "outputs": [],
   "source": [
    "driver.get(naukri)"
   ]
  },
  {
   "cell_type": "code",
   "execution_count": 37,
   "id": "36223595",
   "metadata": {},
   "outputs": [],
   "source": [
    "# Finding elements for job\n",
    "search_skill=driver.find_element_by_xpath('/html/body/div/div[2]/div[3]/div/div/div[1]/div/div/div/input')\n",
    "search_skill.send_keys('Data Scientist')\n",
    "search_loc_=driver.find_element_by_xpath('/html/body/div/div[2]/div[3]/div/div/div[3]/div/div/div/input')\n",
    "search_loc_.send_keys('Bangalore')"
   ]
  },
  {
   "cell_type": "code",
   "execution_count": 38,
   "id": "fb1ac303",
   "metadata": {},
   "outputs": [],
   "source": [
    "search_button=driver.find_element_by_xpath('/html/body/div/div[2]/div[3]/div/div/div[6]')\n",
    "search_button.click()"
   ]
  },
  {
   "cell_type": "code",
   "execution_count": 45,
   "id": "940515a6",
   "metadata": {},
   "outputs": [],
   "source": [
    "job=[]\n",
    "company=[]\n",
    "location=[]"
   ]
  },
  {
   "cell_type": "code",
   "execution_count": 46,
   "id": "cd573e1c",
   "metadata": {},
   "outputs": [
    {
     "data": {
      "text/plain": [
       "[<selenium.webdriver.remote.webelement.WebElement (session=\"13c7bada95d3f4e06bec09b01964bb39\", element=\"ae20ba17-c486-4cbb-adff-4d61f9d8786a\")>,\n",
       " <selenium.webdriver.remote.webelement.WebElement (session=\"13c7bada95d3f4e06bec09b01964bb39\", element=\"193e8c63-275d-4ecb-8c29-21b073c97621\")>,\n",
       " <selenium.webdriver.remote.webelement.WebElement (session=\"13c7bada95d3f4e06bec09b01964bb39\", element=\"ffeb1100-3aca-42ed-8d7d-a6ea6f9c8a2d\")>,\n",
       " <selenium.webdriver.remote.webelement.WebElement (session=\"13c7bada95d3f4e06bec09b01964bb39\", element=\"ba8aaac0-d562-4cc0-935b-8e056672dd19\")>,\n",
       " <selenium.webdriver.remote.webelement.WebElement (session=\"13c7bada95d3f4e06bec09b01964bb39\", element=\"ce105391-9861-4724-b973-ad524b8a54c4\")>,\n",
       " <selenium.webdriver.remote.webelement.WebElement (session=\"13c7bada95d3f4e06bec09b01964bb39\", element=\"7f4fea78-d602-4b95-bf69-a2d23ef05ba0\")>,\n",
       " <selenium.webdriver.remote.webelement.WebElement (session=\"13c7bada95d3f4e06bec09b01964bb39\", element=\"3a922f29-073c-4274-8b8d-b9531676bc45\")>,\n",
       " <selenium.webdriver.remote.webelement.WebElement (session=\"13c7bada95d3f4e06bec09b01964bb39\", element=\"27f1c1c4-2595-4720-822e-8b74b8284fbc\")>,\n",
       " <selenium.webdriver.remote.webelement.WebElement (session=\"13c7bada95d3f4e06bec09b01964bb39\", element=\"81ccce83-dc00-43c1-8821-54f580d67c86\")>,\n",
       " <selenium.webdriver.remote.webelement.WebElement (session=\"13c7bada95d3f4e06bec09b01964bb39\", element=\"f7bd9158-1725-4fb6-b153-1f5afa180ffd\")>]"
      ]
     },
     "execution_count": 46,
     "metadata": {},
     "output_type": "execute_result"
    }
   ],
   "source": [
    "# extracting tags of job titles\n",
    "title_tag=driver.find_elements_by_xpath('//a[@class=\"title fw500 ellipsis\"]')\n",
    "title_tag[0:10]"
   ]
  },
  {
   "cell_type": "code",
   "execution_count": 47,
   "id": "0b797697",
   "metadata": {},
   "outputs": [
    {
     "data": {
      "text/plain": [
       "['Senior Data Scientist',\n",
       " 'Data Scientist',\n",
       " 'Manager - Data Scientist Job @ Applied Materials - Bangalore',\n",
       " 'Analyst - Data Scientist',\n",
       " 'Senior Data Scientist',\n",
       " 'Senior Data Scientist',\n",
       " 'Data Scientist',\n",
       " 'Data Scientist / Machine learning Engineer',\n",
       " 'Junior Data Scientist',\n",
       " 'Data Analyst / Data Scientist']"
      ]
     },
     "execution_count": 47,
     "metadata": {},
     "output_type": "execute_result"
    }
   ],
   "source": [
    "# extracting texts from tags\n",
    "for i in title_tag:\n",
    "    title=i.text\n",
    "    job.append(title)\n",
    "job[0:10]"
   ]
  },
  {
   "cell_type": "code",
   "execution_count": 48,
   "id": "41858c9c",
   "metadata": {},
   "outputs": [
    {
     "data": {
      "text/plain": [
       "[<selenium.webdriver.remote.webelement.WebElement (session=\"13c7bada95d3f4e06bec09b01964bb39\", element=\"7e2520de-09d4-4310-866c-98a908bcc81d\")>,\n",
       " <selenium.webdriver.remote.webelement.WebElement (session=\"13c7bada95d3f4e06bec09b01964bb39\", element=\"8e692c44-efc4-4130-a5db-de78097cf329\")>,\n",
       " <selenium.webdriver.remote.webelement.WebElement (session=\"13c7bada95d3f4e06bec09b01964bb39\", element=\"fef2f203-c56a-4908-90c7-89fb8cf0e3a3\")>,\n",
       " <selenium.webdriver.remote.webelement.WebElement (session=\"13c7bada95d3f4e06bec09b01964bb39\", element=\"986ab1d4-459c-4dcb-bead-268cc0e5ea8f\")>,\n",
       " <selenium.webdriver.remote.webelement.WebElement (session=\"13c7bada95d3f4e06bec09b01964bb39\", element=\"6351da78-23be-43af-9afa-44a11efd5d71\")>,\n",
       " <selenium.webdriver.remote.webelement.WebElement (session=\"13c7bada95d3f4e06bec09b01964bb39\", element=\"e39216ee-f936-4521-8f6b-9fbb456f20b9\")>,\n",
       " <selenium.webdriver.remote.webelement.WebElement (session=\"13c7bada95d3f4e06bec09b01964bb39\", element=\"7fdaab7c-d384-45e9-9c2e-9e7fab2017ea\")>,\n",
       " <selenium.webdriver.remote.webelement.WebElement (session=\"13c7bada95d3f4e06bec09b01964bb39\", element=\"51a0a8d5-09c5-4378-906c-bc40716c7502\")>,\n",
       " <selenium.webdriver.remote.webelement.WebElement (session=\"13c7bada95d3f4e06bec09b01964bb39\", element=\"d0882ea5-dff8-4ee3-bccb-d9a13f5fe18e\")>,\n",
       " <selenium.webdriver.remote.webelement.WebElement (session=\"13c7bada95d3f4e06bec09b01964bb39\", element=\"fd790d40-06ab-4cc4-ac22-0b1bba430070\")>]"
      ]
     },
     "execution_count": 48,
     "metadata": {},
     "output_type": "execute_result"
    }
   ],
   "source": [
    "# extracting tags of job location\n",
    "loc_tag=driver.find_elements_by_xpath('//li[@class=\"fleft grey-text br2 placeHolderLi location\"]/span[1]')\n",
    "loc_tag[0:10]"
   ]
  },
  {
   "cell_type": "code",
   "execution_count": 49,
   "id": "1fee9f36",
   "metadata": {},
   "outputs": [
    {
     "data": {
      "text/plain": [
       "['Bangalore/Bengaluru',\n",
       " 'Bangalore/Bengaluru',\n",
       " 'Bangalore/Bengaluru(Whitefield)',\n",
       " 'Bangalore/Bengaluru',\n",
       " 'Bangalore/Bengaluru',\n",
       " 'Bangalore/Bengaluru',\n",
       " 'Bangalore/Bengaluru',\n",
       " 'Bangalore/Bengaluru, Delhi / NCR',\n",
       " 'Bangalore/Bengaluru',\n",
       " 'Noida, Hyderabad/Secunderabad, Bangalore/Bengaluru']"
      ]
     },
     "execution_count": 49,
     "metadata": {},
     "output_type": "execute_result"
    }
   ],
   "source": [
    "# Now we will extract the text from these tags one by one by looping over these tags\n",
    "for i in loc_tag:\n",
    "    loc=i.text\n",
    "    location.append(loc)\n",
    "location[0:10]"
   ]
  },
  {
   "cell_type": "code",
   "execution_count": 50,
   "id": "f5edfc97",
   "metadata": {},
   "outputs": [
    {
     "data": {
      "text/plain": [
       "[<selenium.webdriver.remote.webelement.WebElement (session=\"13c7bada95d3f4e06bec09b01964bb39\", element=\"7bda0082-e7a1-492d-a685-dc0bd6060111\")>,\n",
       " <selenium.webdriver.remote.webelement.WebElement (session=\"13c7bada95d3f4e06bec09b01964bb39\", element=\"9a9baea9-0d9e-40d7-ba01-7f31621c9bad\")>,\n",
       " <selenium.webdriver.remote.webelement.WebElement (session=\"13c7bada95d3f4e06bec09b01964bb39\", element=\"bbfd00dd-6241-43c6-afed-80b024ad8a61\")>,\n",
       " <selenium.webdriver.remote.webelement.WebElement (session=\"13c7bada95d3f4e06bec09b01964bb39\", element=\"6584147d-ef8d-401a-aa69-00ffaa7744aa\")>,\n",
       " <selenium.webdriver.remote.webelement.WebElement (session=\"13c7bada95d3f4e06bec09b01964bb39\", element=\"454afc9c-3696-4525-8008-f9ced15c4aca\")>,\n",
       " <selenium.webdriver.remote.webelement.WebElement (session=\"13c7bada95d3f4e06bec09b01964bb39\", element=\"73168dd3-ef4f-4a11-81a8-1edf4e9a0d3f\")>,\n",
       " <selenium.webdriver.remote.webelement.WebElement (session=\"13c7bada95d3f4e06bec09b01964bb39\", element=\"5e64ffc2-b558-4af3-9c55-9f2e9daafdd5\")>,\n",
       " <selenium.webdriver.remote.webelement.WebElement (session=\"13c7bada95d3f4e06bec09b01964bb39\", element=\"b6b28604-d07e-4e93-8cf5-da98cfe7de91\")>,\n",
       " <selenium.webdriver.remote.webelement.WebElement (session=\"13c7bada95d3f4e06bec09b01964bb39\", element=\"4c9904b6-dcca-4d78-b112-d6cc78578e13\")>,\n",
       " <selenium.webdriver.remote.webelement.WebElement (session=\"13c7bada95d3f4e06bec09b01964bb39\", element=\"afd6141a-2b00-4728-b947-052970ef1eb4\")>]"
      ]
     },
     "execution_count": 50,
     "metadata": {},
     "output_type": "execute_result"
    }
   ],
   "source": [
    "# So lets extract all the tags having the company names\n",
    "comp_tag=driver.find_elements_by_xpath('//a[@class=\"subTitle ellipsis fleft\"]')\n",
    "comp_tag[0:10]"
   ]
  },
  {
   "cell_type": "code",
   "execution_count": 51,
   "id": "93f26851",
   "metadata": {},
   "outputs": [
    {
     "data": {
      "text/plain": [
       "['GSK India',\n",
       " 'Applied Materials',\n",
       " 'Applied Materials',\n",
       " 'MilliporeSigma',\n",
       " 'Flipkart',\n",
       " 'GSK India',\n",
       " 'Roposo',\n",
       " 'Leading US MNC into Analytics',\n",
       " 'Accenture',\n",
       " 'JK Technosoft']"
      ]
     },
     "execution_count": 51,
     "metadata": {},
     "output_type": "execute_result"
    }
   ],
   "source": [
    "# Now we will extract the text from these tags one by one by looping over these tags\n",
    "for i in comp_tag:\n",
    "    comp=i.text\n",
    "    company.append(comp)\n",
    "company[0:10]"
   ]
  },
  {
   "cell_type": "code",
   "execution_count": 52,
   "id": "40683c00",
   "metadata": {},
   "outputs": [
    {
     "name": "stdout",
     "output_type": "stream",
     "text": [
      "20 20 20\n"
     ]
    }
   ],
   "source": [
    "# checking length of above lists\n",
    "print(len(job),len(location),len(company))"
   ]
  },
  {
   "cell_type": "code",
   "execution_count": 53,
   "id": "84e56634",
   "metadata": {},
   "outputs": [],
   "source": [
    "ds_jobs=pd.DataFrame({})\n",
    "ds_jobs['Title']=job\n",
    "ds_jobs['Location']=location\n",
    "ds_jobs['Company']=company"
   ]
  },
  {
   "cell_type": "code",
   "execution_count": 54,
   "id": "efb99ac4",
   "metadata": {},
   "outputs": [
    {
     "data": {
      "text/html": [
       "<div>\n",
       "<style scoped>\n",
       "    .dataframe tbody tr th:only-of-type {\n",
       "        vertical-align: middle;\n",
       "    }\n",
       "\n",
       "    .dataframe tbody tr th {\n",
       "        vertical-align: top;\n",
       "    }\n",
       "\n",
       "    .dataframe thead th {\n",
       "        text-align: right;\n",
       "    }\n",
       "</style>\n",
       "<table border=\"1\" class=\"dataframe\">\n",
       "  <thead>\n",
       "    <tr style=\"text-align: right;\">\n",
       "      <th></th>\n",
       "      <th>Title</th>\n",
       "      <th>Location</th>\n",
       "      <th>Company</th>\n",
       "    </tr>\n",
       "  </thead>\n",
       "  <tbody>\n",
       "    <tr>\n",
       "      <th>0</th>\n",
       "      <td>Senior Data Scientist</td>\n",
       "      <td>Bangalore/Bengaluru</td>\n",
       "      <td>GSK India</td>\n",
       "    </tr>\n",
       "    <tr>\n",
       "      <th>1</th>\n",
       "      <td>Data Scientist</td>\n",
       "      <td>Bangalore/Bengaluru</td>\n",
       "      <td>Applied Materials</td>\n",
       "    </tr>\n",
       "    <tr>\n",
       "      <th>2</th>\n",
       "      <td>Manager - Data Scientist Job @ Applied Materia...</td>\n",
       "      <td>Bangalore/Bengaluru(Whitefield)</td>\n",
       "      <td>Applied Materials</td>\n",
       "    </tr>\n",
       "    <tr>\n",
       "      <th>3</th>\n",
       "      <td>Analyst - Data Scientist</td>\n",
       "      <td>Bangalore/Bengaluru</td>\n",
       "      <td>MilliporeSigma</td>\n",
       "    </tr>\n",
       "    <tr>\n",
       "      <th>4</th>\n",
       "      <td>Senior Data Scientist</td>\n",
       "      <td>Bangalore/Bengaluru</td>\n",
       "      <td>Flipkart</td>\n",
       "    </tr>\n",
       "    <tr>\n",
       "      <th>5</th>\n",
       "      <td>Senior Data Scientist</td>\n",
       "      <td>Bangalore/Bengaluru</td>\n",
       "      <td>GSK India</td>\n",
       "    </tr>\n",
       "    <tr>\n",
       "      <th>6</th>\n",
       "      <td>Data Scientist</td>\n",
       "      <td>Bangalore/Bengaluru</td>\n",
       "      <td>Roposo</td>\n",
       "    </tr>\n",
       "    <tr>\n",
       "      <th>7</th>\n",
       "      <td>Data Scientist / Machine learning Engineer</td>\n",
       "      <td>Bangalore/Bengaluru, Delhi / NCR</td>\n",
       "      <td>Leading US MNC into Analytics</td>\n",
       "    </tr>\n",
       "    <tr>\n",
       "      <th>8</th>\n",
       "      <td>Junior Data Scientist</td>\n",
       "      <td>Bangalore/Bengaluru</td>\n",
       "      <td>Accenture</td>\n",
       "    </tr>\n",
       "    <tr>\n",
       "      <th>9</th>\n",
       "      <td>Data Analyst / Data Scientist</td>\n",
       "      <td>Noida, Hyderabad/Secunderabad, Bangalore/Benga...</td>\n",
       "      <td>JK Technosoft</td>\n",
       "    </tr>\n",
       "  </tbody>\n",
       "</table>\n",
       "</div>"
      ],
      "text/plain": [
       "                                               Title  \\\n",
       "0                              Senior Data Scientist   \n",
       "1                                     Data Scientist   \n",
       "2  Manager - Data Scientist Job @ Applied Materia...   \n",
       "3                           Analyst - Data Scientist   \n",
       "4                              Senior Data Scientist   \n",
       "5                              Senior Data Scientist   \n",
       "6                                     Data Scientist   \n",
       "7         Data Scientist / Machine learning Engineer   \n",
       "8                              Junior Data Scientist   \n",
       "9                      Data Analyst / Data Scientist   \n",
       "\n",
       "                                            Location  \\\n",
       "0                                Bangalore/Bengaluru   \n",
       "1                                Bangalore/Bengaluru   \n",
       "2                    Bangalore/Bengaluru(Whitefield)   \n",
       "3                                Bangalore/Bengaluru   \n",
       "4                                Bangalore/Bengaluru   \n",
       "5                                Bangalore/Bengaluru   \n",
       "6                                Bangalore/Bengaluru   \n",
       "7                   Bangalore/Bengaluru, Delhi / NCR   \n",
       "8                                Bangalore/Bengaluru   \n",
       "9  Noida, Hyderabad/Secunderabad, Bangalore/Benga...   \n",
       "\n",
       "                         Company  \n",
       "0                      GSK India  \n",
       "1              Applied Materials  \n",
       "2              Applied Materials  \n",
       "3                 MilliporeSigma  \n",
       "4                       Flipkart  \n",
       "5                      GSK India  \n",
       "6                         Roposo  \n",
       "7  Leading US MNC into Analytics  \n",
       "8                      Accenture  \n",
       "9                  JK Technosoft  "
      ]
     },
     "execution_count": 54,
     "metadata": {},
     "output_type": "execute_result"
    }
   ],
   "source": [
    "ds_jobs=ds_jobs[0:10]\n",
    "ds_jobs"
   ]
  },
  {
   "cell_type": "markdown",
   "id": "2e303bab",
   "metadata": {},
   "source": [
    "Q3: In this question you have to scrape data using the filters available on the webpage as shown below:"
   ]
  },
  {
   "cell_type": "code",
   "execution_count": 59,
   "id": "153eb7f7",
   "metadata": {},
   "outputs": [],
   "source": [
    "driver.get(naukri)"
   ]
  },
  {
   "cell_type": "code",
   "execution_count": 60,
   "id": "40b1022d",
   "metadata": {},
   "outputs": [],
   "source": [
    "search_skill=driver.find_element_by_xpath('/html/body/div/div[2]/div[3]/div/div/div[1]/div/div/div/input')\n",
    "search_skill.send_keys('Data Scientist')"
   ]
  },
  {
   "cell_type": "code",
   "execution_count": 61,
   "id": "0dada324",
   "metadata": {},
   "outputs": [],
   "source": [
    "search_button=driver.find_element_by_xpath('/html/body/div/div[2]/div[3]/div/div/div[6]')\n",
    "search_button.click()"
   ]
  },
  {
   "cell_type": "code",
   "execution_count": 62,
   "id": "f94305ac",
   "metadata": {},
   "outputs": [],
   "source": [
    "loc_filter=driver.find_element_by_xpath('/html/body/div[1]/div[3]/div[2]/section[1]/div[2]/div[4]/div[2]/div[3]/label/i')\n",
    "loc_filter.click()"
   ]
  },
  {
   "cell_type": "code",
   "execution_count": 63,
   "id": "e863bc78",
   "metadata": {},
   "outputs": [],
   "source": [
    "salary_filter=driver.find_element_by_xpath('/html/body/div[1]/div[3]/div[2]/section[1]/div[2]/div[5]/div[2]/div[2]/label/i')\n",
    "salary_filter.click()"
   ]
  },
  {
   "cell_type": "code",
   "execution_count": 64,
   "id": "4f4f59b0",
   "metadata": {},
   "outputs": [],
   "source": [
    "job=[]\n",
    "location=[]\n",
    "company=[]\n",
    "experience=[]"
   ]
  },
  {
   "cell_type": "code",
   "execution_count": 69,
   "id": "f7999b74",
   "metadata": {},
   "outputs": [
    {
     "data": {
      "text/plain": [
       "['Opening For Data Scientist',\n",
       " 'Hiring For Senior Data Scientist-Noida',\n",
       " 'Lead Data Scientist',\n",
       " 'Data Scientist/ Machine Learning, 2022 Passout Can also apply',\n",
       " 'Data Scientist (freelance)',\n",
       " 'Senior Data Scientist',\n",
       " 'Data Scientist',\n",
       " 'Data Scientist',\n",
       " 'Urgent Requirement || Data Scientist || Noida',\n",
       " 'AM Data Scientist - Goods & Service Tax Network, Delhi']"
      ]
     },
     "execution_count": 69,
     "metadata": {},
     "output_type": "execute_result"
    }
   ],
   "source": [
    "# extracting job title tags\n",
    "job_tag=driver.find_elements_by_xpath('//a[@class=\"title fw500 ellipsis\"]')\n",
    "\n",
    "# extracting text from job tags\n",
    "for i in job_tag:\n",
    "    title=i.text\n",
    "    job.append(title)\n",
    "job[0:10]"
   ]
  },
  {
   "cell_type": "code",
   "execution_count": 70,
   "id": "5e917b25",
   "metadata": {},
   "outputs": [
    {
     "data": {
      "text/plain": [
       "['Gurgaon/Gurugram',\n",
       " 'Noida, Greater Noida, Delhi / NCR',\n",
       " 'Gurgaon/Gurugram',\n",
       " 'Hyderabad/Secunderabad, Ahmedabad, Chennai, Bangalore/Bengaluru, Delhi / NCR, Mumbai (All Areas)',\n",
       " 'New Delhi, Delhi',\n",
       " 'Noida',\n",
       " 'Gurgaon, Bengaluru',\n",
       " 'New Delhi',\n",
       " 'Noida, Delhi / NCR',\n",
       " 'Delhi / NCR']"
      ]
     },
     "execution_count": 70,
     "metadata": {},
     "output_type": "execute_result"
    }
   ],
   "source": [
    "# extracting location tags\n",
    "loc_tag=driver.find_elements_by_xpath('//li[@class=\"fleft grey-text br2 placeHolderLi location\"]')\n",
    "\n",
    "# extracting text from location tags\n",
    "for i in loc_tag:\n",
    "    loc=i.text\n",
    "    location.append(loc)\n",
    "location[0:10]"
   ]
  },
  {
   "cell_type": "code",
   "execution_count": 71,
   "id": "0d437c7d",
   "metadata": {},
   "outputs": [
    {
     "data": {
      "text/plain": [
       "['Care Health Insurance',\n",
       " 'Lumiq.ai',\n",
       " 'KIA INDIA PRIVATE LIMITED',\n",
       " 'Creative Hands HR Consultancy',\n",
       " '2Coms',\n",
       " 'Optum',\n",
       " 'BlackBuck',\n",
       " 'Boston Consulting Group',\n",
       " 'HCL Technologies',\n",
       " 'NISG (National Institute for Smart Government)']"
      ]
     },
     "execution_count": 71,
     "metadata": {},
     "output_type": "execute_result"
    }
   ],
   "source": [
    "# extracting location tags\n",
    "comp_tag=driver.find_elements_by_xpath('//a[@class=\"subTitle ellipsis fleft\"]')\n",
    "\n",
    "# extracting text from location tags\n",
    "for i in comp_tag:\n",
    "    comp=i.text\n",
    "    company.append(comp)\n",
    "company[0:10]"
   ]
  },
  {
   "cell_type": "code",
   "execution_count": 72,
   "id": "9606825b",
   "metadata": {},
   "outputs": [
    {
     "data": {
      "text/plain": [
       "['1-5 Yrs',\n",
       " '2-6 Yrs',\n",
       " '7-10 Yrs',\n",
       " '0-4 Yrs',\n",
       " '2-7 Yrs',\n",
       " '2-7 Yrs',\n",
       " '3-7 Yrs',\n",
       " '2-5 Yrs',\n",
       " '3-8 Yrs',\n",
       " '3-8 Yrs']"
      ]
     },
     "execution_count": 72,
     "metadata": {},
     "output_type": "execute_result"
    }
   ],
   "source": [
    "# extracting location tags\n",
    "exp_tag=driver.find_elements_by_xpath('//li[@class=\"fleft grey-text br2 placeHolderLi experience\"]')\n",
    "\n",
    "# extracting text from location tags\n",
    "for i in exp_tag:\n",
    "    exp=i.text\n",
    "    experience.append(exp)\n",
    "experience[0:10]"
   ]
  },
  {
   "cell_type": "code",
   "execution_count": 73,
   "id": "89815bcc",
   "metadata": {},
   "outputs": [
    {
     "name": "stdout",
     "output_type": "stream",
     "text": [
      "20 20 20 20\n"
     ]
    }
   ],
   "source": [
    "# checking length of above lists\n",
    "print(len(job),len(location),len(company),len(experience))"
   ]
  },
  {
   "cell_type": "code",
   "execution_count": 74,
   "id": "5ce6ac19",
   "metadata": {},
   "outputs": [],
   "source": [
    "ds_jobs_delhi=pd.DataFrame({})\n",
    "ds_jobs_delhi['Title']=job\n",
    "ds_jobs_delhi['Location']=location\n",
    "ds_jobs_delhi['Company']=company\n",
    "ds_jobs_delhi['Experience Required']=experience"
   ]
  },
  {
   "cell_type": "code",
   "execution_count": 75,
   "id": "76c366cc",
   "metadata": {},
   "outputs": [
    {
     "data": {
      "text/html": [
       "<div>\n",
       "<style scoped>\n",
       "    .dataframe tbody tr th:only-of-type {\n",
       "        vertical-align: middle;\n",
       "    }\n",
       "\n",
       "    .dataframe tbody tr th {\n",
       "        vertical-align: top;\n",
       "    }\n",
       "\n",
       "    .dataframe thead th {\n",
       "        text-align: right;\n",
       "    }\n",
       "</style>\n",
       "<table border=\"1\" class=\"dataframe\">\n",
       "  <thead>\n",
       "    <tr style=\"text-align: right;\">\n",
       "      <th></th>\n",
       "      <th>Title</th>\n",
       "      <th>Location</th>\n",
       "      <th>Company</th>\n",
       "      <th>Experience Required</th>\n",
       "    </tr>\n",
       "  </thead>\n",
       "  <tbody>\n",
       "    <tr>\n",
       "      <th>0</th>\n",
       "      <td>Opening For Data Scientist</td>\n",
       "      <td>Gurgaon/Gurugram</td>\n",
       "      <td>Care Health Insurance</td>\n",
       "      <td>1-5 Yrs</td>\n",
       "    </tr>\n",
       "    <tr>\n",
       "      <th>1</th>\n",
       "      <td>Hiring For Senior Data Scientist-Noida</td>\n",
       "      <td>Noida, Greater Noida, Delhi / NCR</td>\n",
       "      <td>Lumiq.ai</td>\n",
       "      <td>2-6 Yrs</td>\n",
       "    </tr>\n",
       "    <tr>\n",
       "      <th>2</th>\n",
       "      <td>Lead Data Scientist</td>\n",
       "      <td>Gurgaon/Gurugram</td>\n",
       "      <td>KIA INDIA PRIVATE LIMITED</td>\n",
       "      <td>7-10 Yrs</td>\n",
       "    </tr>\n",
       "    <tr>\n",
       "      <th>3</th>\n",
       "      <td>Data Scientist/ Machine Learning, 2022 Passout...</td>\n",
       "      <td>Hyderabad/Secunderabad, Ahmedabad, Chennai, Ba...</td>\n",
       "      <td>Creative Hands HR Consultancy</td>\n",
       "      <td>0-4 Yrs</td>\n",
       "    </tr>\n",
       "    <tr>\n",
       "      <th>4</th>\n",
       "      <td>Data Scientist (freelance)</td>\n",
       "      <td>New Delhi, Delhi</td>\n",
       "      <td>2Coms</td>\n",
       "      <td>2-7 Yrs</td>\n",
       "    </tr>\n",
       "    <tr>\n",
       "      <th>5</th>\n",
       "      <td>Senior Data Scientist</td>\n",
       "      <td>Noida</td>\n",
       "      <td>Optum</td>\n",
       "      <td>2-7 Yrs</td>\n",
       "    </tr>\n",
       "    <tr>\n",
       "      <th>6</th>\n",
       "      <td>Data Scientist</td>\n",
       "      <td>Gurgaon, Bengaluru</td>\n",
       "      <td>BlackBuck</td>\n",
       "      <td>3-7 Yrs</td>\n",
       "    </tr>\n",
       "    <tr>\n",
       "      <th>7</th>\n",
       "      <td>Data Scientist</td>\n",
       "      <td>New Delhi</td>\n",
       "      <td>Boston Consulting Group</td>\n",
       "      <td>2-5 Yrs</td>\n",
       "    </tr>\n",
       "    <tr>\n",
       "      <th>8</th>\n",
       "      <td>Urgent Requirement || Data Scientist || Noida</td>\n",
       "      <td>Noida, Delhi / NCR</td>\n",
       "      <td>HCL Technologies</td>\n",
       "      <td>3-8 Yrs</td>\n",
       "    </tr>\n",
       "    <tr>\n",
       "      <th>9</th>\n",
       "      <td>AM Data Scientist - Goods &amp; Service Tax Networ...</td>\n",
       "      <td>Delhi / NCR</td>\n",
       "      <td>NISG (National Institute for Smart Government)</td>\n",
       "      <td>3-8 Yrs</td>\n",
       "    </tr>\n",
       "  </tbody>\n",
       "</table>\n",
       "</div>"
      ],
      "text/plain": [
       "                                               Title  \\\n",
       "0                         Opening For Data Scientist   \n",
       "1             Hiring For Senior Data Scientist-Noida   \n",
       "2                                Lead Data Scientist   \n",
       "3  Data Scientist/ Machine Learning, 2022 Passout...   \n",
       "4                         Data Scientist (freelance)   \n",
       "5                              Senior Data Scientist   \n",
       "6                                     Data Scientist   \n",
       "7                                     Data Scientist   \n",
       "8      Urgent Requirement || Data Scientist || Noida   \n",
       "9  AM Data Scientist - Goods & Service Tax Networ...   \n",
       "\n",
       "                                            Location  \\\n",
       "0                                   Gurgaon/Gurugram   \n",
       "1                  Noida, Greater Noida, Delhi / NCR   \n",
       "2                                   Gurgaon/Gurugram   \n",
       "3  Hyderabad/Secunderabad, Ahmedabad, Chennai, Ba...   \n",
       "4                                   New Delhi, Delhi   \n",
       "5                                              Noida   \n",
       "6                                 Gurgaon, Bengaluru   \n",
       "7                                          New Delhi   \n",
       "8                                 Noida, Delhi / NCR   \n",
       "9                                        Delhi / NCR   \n",
       "\n",
       "                                          Company Experience Required  \n",
       "0                           Care Health Insurance             1-5 Yrs  \n",
       "1                                        Lumiq.ai             2-6 Yrs  \n",
       "2                       KIA INDIA PRIVATE LIMITED            7-10 Yrs  \n",
       "3                   Creative Hands HR Consultancy             0-4 Yrs  \n",
       "4                                           2Coms             2-7 Yrs  \n",
       "5                                           Optum             2-7 Yrs  \n",
       "6                                       BlackBuck             3-7 Yrs  \n",
       "7                         Boston Consulting Group             2-5 Yrs  \n",
       "8                                HCL Technologies             3-8 Yrs  \n",
       "9  NISG (National Institute for Smart Government)             3-8 Yrs  "
      ]
     },
     "execution_count": 75,
     "metadata": {},
     "output_type": "execute_result"
    }
   ],
   "source": [
    "ds_jobs_delhi=ds_jobs_delhi[0:10]\n",
    "ds_jobs_delhi"
   ]
  },
  {
   "cell_type": "markdown",
   "id": "6e3d261e",
   "metadata": {},
   "source": [
    "Q4: Scrape data of first 100 sunglasses listings on flipkart.com. You have to scrape four attributes:"
   ]
  },
  {
   "cell_type": "code",
   "execution_count": 681,
   "id": "96c22a44",
   "metadata": {},
   "outputs": [],
   "source": [
    "driver=webdriver.Chrome(\"chromedriver.exe\")"
   ]
  },
  {
   "cell_type": "code",
   "execution_count": 213,
   "id": "c7ba081f",
   "metadata": {},
   "outputs": [],
   "source": [
    "flipkart=\"https://www.flipkart.com/\"\n",
    "driver.get(flipkart)"
   ]
  },
  {
   "cell_type": "code",
   "execution_count": 214,
   "id": "87ac57d0",
   "metadata": {},
   "outputs": [],
   "source": [
    "# closing login dialogue box\n",
    "driver.find_element_by_xpath('//button[@class=\"_2KpZ6l _2doB4z\"]').click()"
   ]
  },
  {
   "cell_type": "code",
   "execution_count": 215,
   "id": "bfad41aa",
   "metadata": {},
   "outputs": [],
   "source": [
    "# search bar\n",
    "search_product=driver.find_element_by_xpath('/html/body/div[1]/div/div[1]/div[1]/div[2]/div[2]/form/div/div/input')\n",
    "search_product.send_keys('sunglasses')"
   ]
  },
  {
   "cell_type": "code",
   "execution_count": 216,
   "id": "3d50a412",
   "metadata": {},
   "outputs": [],
   "source": [
    "search_button=driver.find_element_by_xpath('//button[@class=\"L0Z3Pu\"]')\n",
    "search_button.click()"
   ]
  },
  {
   "cell_type": "code",
   "execution_count": 217,
   "id": "5cbd31b9",
   "metadata": {},
   "outputs": [],
   "source": [
    "brand=[]\n",
    "product_description=[]\n",
    "price=[]"
   ]
  },
  {
   "cell_type": "code",
   "execution_count": 218,
   "id": "82dbba0e",
   "metadata": {},
   "outputs": [
    {
     "data": {
      "text/plain": [
       "['AISLIN',\n",
       " 'Singco India',\n",
       " 'Elligator',\n",
       " 'SRPM',\n",
       " 'Fastrack',\n",
       " 'New Specs',\n",
       " 'SHAAH COLLECTIONS',\n",
       " 'AISLIN',\n",
       " 'SUNBEE',\n",
       " 'Fastrack',\n",
       " 'Lee Topper',\n",
       " 'AISLIN',\n",
       " 'PIRASO',\n",
       " 'Elligator',\n",
       " 'New Specs',\n",
       " 'AUTOSITE',\n",
       " 'PIRASO',\n",
       " 'SUNBEE',\n",
       " 'kingsunglasses',\n",
       " 'NuVew',\n",
       " 'kingsunglasses',\n",
       " 'kingsunglasses',\n",
       " 'PIRASO',\n",
       " 'AISLIN',\n",
       " 'GANSTA',\n",
       " 'SHAAH COLLECTIONS',\n",
       " 'kingsunglasses',\n",
       " 'ROZZETTA CRAFT',\n",
       " 'DEIXELS',\n",
       " 'Fastrack',\n",
       " 'PIRASO',\n",
       " 'ROZZETTA CRAFT',\n",
       " 'SUNBEE',\n",
       " 'SRPM',\n",
       " 'PHENOMENAL',\n",
       " 'AISLIN',\n",
       " 'SRPM',\n",
       " 'ROZZETTA CRAFT',\n",
       " 'kingsunglasses',\n",
       " 'NuVew']"
      ]
     },
     "execution_count": 218,
     "metadata": {},
     "output_type": "execute_result"
    }
   ],
   "source": [
    "# extracting tags of brand name\n",
    "brand_tag=driver.find_elements_by_xpath('//div[@class=\"_2WkVRV\"]')\n",
    "\n",
    "# extracting text from tags\n",
    "\n",
    "for i in brand_tag:\n",
    "    br=i.text\n",
    "    brand.append(br)\n",
    "brand"
   ]
  },
  {
   "cell_type": "code",
   "execution_count": 192,
   "id": "1df656b9",
   "metadata": {},
   "outputs": [
    {
     "data": {
      "text/plain": [
       "40"
      ]
     },
     "execution_count": 192,
     "metadata": {},
     "output_type": "execute_result"
    }
   ],
   "source": [
    "len(brand)"
   ]
  },
  {
   "cell_type": "code",
   "execution_count": 219,
   "id": "387284e6",
   "metadata": {},
   "outputs": [],
   "source": [
    "# Extracting tags of description of products\n",
    "des=driver.find_elements_by_xpath('//a[@class=\"IRpwTa\"]')"
   ]
  },
  {
   "cell_type": "code",
   "execution_count": 220,
   "id": "6f8265d8",
   "metadata": {},
   "outputs": [
    {
     "data": {
      "text/plain": [
       "['UV Protection, Gradient Cat-eye Sunglasses (58)',\n",
       " 'UV Protection Aviator Sunglasses (45)',\n",
       " 'UV Protection Round Sunglasses (54)',\n",
       " 'UV Protection Wayfarer Sunglasses (50)',\n",
       " 'UV Protection Wayfarer Sunglasses (Free Size)',\n",
       " 'UV Protection Rectangular Sunglasses (Free Size)',\n",
       " 'UV Protection, Polarized, Mirrored Rectangular Sunglass...',\n",
       " 'UV Protection, Gradient Round, Cat-eye Sunglasses (60)',\n",
       " 'UV Protection, Polarized Wayfarer Sunglasses (Free Size...',\n",
       " 'UV Protection Rectangular Sunglasses (Free Size)',\n",
       " 'UV Protection Rectangular Sunglasses (Free Size)',\n",
       " 'UV Protection, Gradient Oval Sunglasses (58)',\n",
       " 'UV Protection Aviator Sunglasses (54)',\n",
       " 'UV Protection Round Sunglasses (53)',\n",
       " 'Mirrored, UV Protection, Riding Glasses, Others Round S...',\n",
       " 'Night Vision Rectangular Sunglasses (63)',\n",
       " 'UV Protection Wayfarer Sunglasses (32)',\n",
       " 'UV Protection, Polarized, Mirrored Round Sunglasses (Fr...',\n",
       " 'UV Protection Round Sunglasses (Free Size)',\n",
       " 'UV Protection Cat-eye Sunglasses (60)',\n",
       " 'UV Protection, Riding Glasses, Mirrored Wayfarer Sungla...',\n",
       " 'Mirrored, UV Protection Wayfarer Sunglasses (Free Size)',\n",
       " 'UV Protection Aviator Sunglasses (54)',\n",
       " 'Toughened Glass Lens, UV Protection Wrap-around, Rectan...',\n",
       " 'UV Protection, Riding Glasses Wayfarer Sunglasses (53)',\n",
       " 'UV Protection, Polarized, Mirrored Rectangular Sunglass...',\n",
       " 'UV Protection Round Sunglasses (54)',\n",
       " 'Polarized, UV Protection Wayfarer Sunglasses (Free Size...',\n",
       " 'UV Protection Aviator, Wayfarer Sunglasses (Free Size)',\n",
       " 'UV Protection Wayfarer Sunglasses (Free Size)',\n",
       " 'UV Protection Aviator Sunglasses (54)',\n",
       " 'Polarized, UV Protection Aviator Sunglasses (Free Size)',\n",
       " 'UV Protection, Polarized, Mirrored Retro Square Sunglas...',\n",
       " 'UV Protection Wayfarer Sunglasses (53)',\n",
       " 'UV Protection Retro Square Sunglasses (53)',\n",
       " 'UV Protection, Gradient Round Sunglasses (58)',\n",
       " 'Others Wayfarer, Retro Square Sunglasses (50)',\n",
       " 'Polarized, Riding Glasses Sports, Wrap-around Sunglasse...',\n",
       " 'Mirrored, UV Protection Wayfarer Sunglasses (53)',\n",
       " 'UV Protection Aviator Sunglasses (57)']"
      ]
     },
     "execution_count": 220,
     "metadata": {},
     "output_type": "execute_result"
    }
   ],
   "source": [
    "# Extracting text from tags\n",
    "for i in des:\n",
    "    d=i.text\n",
    "    product_description.append(d)\n",
    "    \n",
    "product_description"
   ]
  },
  {
   "cell_type": "code",
   "execution_count": 221,
   "id": "9d7208b2",
   "metadata": {},
   "outputs": [
    {
     "data": {
      "text/plain": [
       "40"
      ]
     },
     "execution_count": 221,
     "metadata": {},
     "output_type": "execute_result"
    }
   ],
   "source": [
    "len(des)"
   ]
  },
  {
   "cell_type": "code",
   "execution_count": 223,
   "id": "7f00427f",
   "metadata": {},
   "outputs": [
    {
     "data": {
      "text/plain": [
       "['₹459',\n",
       " '₹329',\n",
       " '₹295',\n",
       " '₹249',\n",
       " '₹759',\n",
       " '₹269',\n",
       " '₹185',\n",
       " '₹458',\n",
       " '₹273',\n",
       " '₹679',\n",
       " '₹199',\n",
       " '₹458',\n",
       " '₹249',\n",
       " '₹229',\n",
       " '₹299',\n",
       " '₹149',\n",
       " '₹225',\n",
       " '₹304',\n",
       " '₹329',\n",
       " '₹375',\n",
       " '₹209',\n",
       " '₹269',\n",
       " '₹225',\n",
       " '₹1,298',\n",
       " '₹198',\n",
       " '₹203',\n",
       " '₹214',\n",
       " '₹425',\n",
       " '₹229',\n",
       " '₹759',\n",
       " '₹225',\n",
       " '₹426',\n",
       " '₹249',\n",
       " '₹246',\n",
       " '₹315',\n",
       " '₹458',\n",
       " '₹239',\n",
       " '₹474',\n",
       " '₹299',\n",
       " '₹308']"
      ]
     },
     "execution_count": 223,
     "metadata": {},
     "output_type": "execute_result"
    }
   ],
   "source": [
    "# Extracting tags of price\n",
    "price_tag=driver.find_elements_by_xpath('//div[@class=\"_30jeq3\"]')\n",
    "\n",
    "# Extracting price from tags\n",
    "for i in price_tag:\n",
    "    p=i.text\n",
    "    price.append(p)\n",
    "price"
   ]
  },
  {
   "cell_type": "code",
   "execution_count": 224,
   "id": "297e653d",
   "metadata": {},
   "outputs": [
    {
     "data": {
      "text/plain": [
       "40"
      ]
     },
     "execution_count": 224,
     "metadata": {},
     "output_type": "execute_result"
    }
   ],
   "source": [
    "len(price)"
   ]
  },
  {
   "cell_type": "code",
   "execution_count": 226,
   "id": "0aa5575c",
   "metadata": {},
   "outputs": [],
   "source": [
    "# we need brand, description and price for 100 sunglasses so we will go on the next page\n",
    "next_page=driver.find_element_by_xpath('/html/body/div[1]/div/div[3]/div[1]/div[2]/div[12]/div/div/nav/a[11]')\n",
    "next_page.click()"
   ]
  },
  {
   "cell_type": "code",
   "execution_count": 227,
   "id": "9903946d",
   "metadata": {},
   "outputs": [
    {
     "data": {
      "text/plain": [
       "['AISLIN',\n",
       " 'Singco India',\n",
       " 'Elligator',\n",
       " 'SRPM',\n",
       " 'Fastrack',\n",
       " 'New Specs',\n",
       " 'SHAAH COLLECTIONS',\n",
       " 'AISLIN',\n",
       " 'SUNBEE',\n",
       " 'Fastrack',\n",
       " 'Lee Topper',\n",
       " 'AISLIN',\n",
       " 'PIRASO',\n",
       " 'Elligator',\n",
       " 'New Specs',\n",
       " 'AUTOSITE',\n",
       " 'PIRASO',\n",
       " 'SUNBEE',\n",
       " 'kingsunglasses',\n",
       " 'NuVew',\n",
       " 'kingsunglasses',\n",
       " 'kingsunglasses',\n",
       " 'PIRASO',\n",
       " 'AISLIN',\n",
       " 'GANSTA',\n",
       " 'SHAAH COLLECTIONS',\n",
       " 'kingsunglasses',\n",
       " 'ROZZETTA CRAFT',\n",
       " 'DEIXELS',\n",
       " 'Fastrack',\n",
       " 'PIRASO',\n",
       " 'ROZZETTA CRAFT',\n",
       " 'SUNBEE',\n",
       " 'SRPM',\n",
       " 'PHENOMENAL',\n",
       " 'AISLIN',\n",
       " 'SRPM',\n",
       " 'ROZZETTA CRAFT',\n",
       " 'kingsunglasses',\n",
       " 'NuVew',\n",
       " 'kingsunglasses',\n",
       " 'PIRASO',\n",
       " 'kingsunglasses',\n",
       " 'PHENOMENAL',\n",
       " 'ROZZETTA CRAFT',\n",
       " 'elegante',\n",
       " 'New Specs',\n",
       " 'PHENOMENAL',\n",
       " 'Elligator',\n",
       " 'kingsunglasses',\n",
       " 'SRPM',\n",
       " 'PHENOMENAL',\n",
       " 'hipe',\n",
       " 'kingsunglasses',\n",
       " 'SRPM',\n",
       " 'AISLIN',\n",
       " 'hipe',\n",
       " 'Singco India',\n",
       " 'kingsunglasses',\n",
       " 'NuVew',\n",
       " 'ROYAL SON',\n",
       " 'Fastrack',\n",
       " 'PHENOMENAL',\n",
       " 'Singco India',\n",
       " 'AISLIN',\n",
       " 'kingsunglasses',\n",
       " 'ROZZETTA CRAFT',\n",
       " 'NuVew',\n",
       " 'Fastrack',\n",
       " 'hipe',\n",
       " 'Lee Topper',\n",
       " 'AISLIN',\n",
       " 'SHAAH COLLECTIONS',\n",
       " 'Fastrack',\n",
       " 'Fastrack',\n",
       " 'AISLIN',\n",
       " 'NuVew',\n",
       " 'hipe',\n",
       " 'Fastrack',\n",
       " 'AUTOSITE']"
      ]
     },
     "execution_count": 227,
     "metadata": {},
     "output_type": "execute_result"
    }
   ],
   "source": [
    "# extracting tags of brand name\n",
    "brand_tag=driver.find_elements_by_xpath('//div[@class=\"_2WkVRV\"]')\n",
    "\n",
    "# extracting text from tags\n",
    "\n",
    "for i in brand_tag:\n",
    "    br=i.text\n",
    "    brand.append(br)\n",
    "brand"
   ]
  },
  {
   "cell_type": "code",
   "execution_count": 228,
   "id": "73363c91",
   "metadata": {},
   "outputs": [],
   "source": [
    "# Extracting tags of description of products\n",
    "des=driver.find_elements_by_xpath('//a[@class=\"IRpwTa\"]')"
   ]
  },
  {
   "cell_type": "code",
   "execution_count": 229,
   "id": "2f4bcae5",
   "metadata": {},
   "outputs": [
    {
     "data": {
      "text/plain": [
       "['UV Protection, Gradient Cat-eye Sunglasses (58)',\n",
       " 'UV Protection Aviator Sunglasses (45)',\n",
       " 'UV Protection Round Sunglasses (54)',\n",
       " 'UV Protection Wayfarer Sunglasses (50)',\n",
       " 'UV Protection Wayfarer Sunglasses (Free Size)',\n",
       " 'UV Protection Rectangular Sunglasses (Free Size)',\n",
       " 'UV Protection, Polarized, Mirrored Rectangular Sunglass...',\n",
       " 'UV Protection, Gradient Round, Cat-eye Sunglasses (60)',\n",
       " 'UV Protection, Polarized Wayfarer Sunglasses (Free Size...',\n",
       " 'UV Protection Rectangular Sunglasses (Free Size)',\n",
       " 'UV Protection Rectangular Sunglasses (Free Size)',\n",
       " 'UV Protection, Gradient Oval Sunglasses (58)',\n",
       " 'UV Protection Aviator Sunglasses (54)',\n",
       " 'UV Protection Round Sunglasses (53)',\n",
       " 'Mirrored, UV Protection, Riding Glasses, Others Round S...',\n",
       " 'Night Vision Rectangular Sunglasses (63)',\n",
       " 'UV Protection Wayfarer Sunglasses (32)',\n",
       " 'UV Protection, Polarized, Mirrored Round Sunglasses (Fr...',\n",
       " 'UV Protection Round Sunglasses (Free Size)',\n",
       " 'UV Protection Cat-eye Sunglasses (60)',\n",
       " 'UV Protection, Riding Glasses, Mirrored Wayfarer Sungla...',\n",
       " 'Mirrored, UV Protection Wayfarer Sunglasses (Free Size)',\n",
       " 'UV Protection Aviator Sunglasses (54)',\n",
       " 'Toughened Glass Lens, UV Protection Wrap-around, Rectan...',\n",
       " 'UV Protection, Riding Glasses Wayfarer Sunglasses (53)',\n",
       " 'UV Protection, Polarized, Mirrored Rectangular Sunglass...',\n",
       " 'UV Protection Round Sunglasses (54)',\n",
       " 'Polarized, UV Protection Wayfarer Sunglasses (Free Size...',\n",
       " 'UV Protection Aviator, Wayfarer Sunglasses (Free Size)',\n",
       " 'UV Protection Wayfarer Sunglasses (Free Size)',\n",
       " 'UV Protection Aviator Sunglasses (54)',\n",
       " 'Polarized, UV Protection Aviator Sunglasses (Free Size)',\n",
       " 'UV Protection, Polarized, Mirrored Retro Square Sunglas...',\n",
       " 'UV Protection Wayfarer Sunglasses (53)',\n",
       " 'UV Protection Retro Square Sunglasses (53)',\n",
       " 'UV Protection, Gradient Round Sunglasses (58)',\n",
       " 'Others Wayfarer, Retro Square Sunglasses (50)',\n",
       " 'Polarized, Riding Glasses Sports, Wrap-around Sunglasse...',\n",
       " 'Mirrored, UV Protection Wayfarer Sunglasses (53)',\n",
       " 'UV Protection Aviator Sunglasses (57)',\n",
       " 'Mirrored, UV Protection Wayfarer Sunglasses (53)',\n",
       " 'UV Protection Over-sized Sunglasses (65)',\n",
       " 'UV Protection, Night Vision Wayfarer Sunglasses (Free S...',\n",
       " 'UV Protection Retro Square Sunglasses (Free Size)',\n",
       " 'UV Protection, Gradient Retro Square Sunglasses (Free S...',\n",
       " 'Polarized, Riding Glasses, Night Vision Sports, Wrap-ar...',\n",
       " 'UV Protection Round Sunglasses (Free Size)',\n",
       " 'UV Protection, Mirrored Retro Square Sunglasses (53)',\n",
       " 'Others Cat-eye, Retro Square, Wayfarer Sunglasses (54)',\n",
       " 'UV Protection Round Sunglasses (Free Size)',\n",
       " 'UV Protection Wayfarer Sunglasses (54)',\n",
       " 'UV Protection, Mirrored Retro Square Sunglasses (Free S...',\n",
       " 'UV Protection, Gradient, Mirrored, Riding Glasses Aviat...',\n",
       " 'Mirrored, UV Protection Aviator Sunglasses (56)',\n",
       " 'Night Vision, UV Protection Round Sunglasses (54)',\n",
       " 'UV Protection, Gradient Cat-eye Sunglasses (58)',\n",
       " 'Mirrored, UV Protection, Gradient Round Sunglasses (55)',\n",
       " 'Riding Glasses, UV Protection, Others Aviator Sunglasse...',\n",
       " 'UV Protection Rectangular Sunglasses (55)',\n",
       " 'UV Protection Retro Square, Wayfarer Sunglasses (58)',\n",
       " 'UV Protection Rectangular, Retro Square Sunglasses (58)',\n",
       " 'UV Protection Shield Sunglasses (Free Size)',\n",
       " 'UV Protection Retro Square Sunglasses (Free Size)',\n",
       " 'UV Protection Aviator Sunglasses (45)',\n",
       " 'UV Protection, Gradient Round, Cat-eye Sunglasses (60)',\n",
       " 'UV Protection Rectangular Sunglasses (55)',\n",
       " 'UV Protection Retro Square Sunglasses (Free Size)',\n",
       " 'UV Protection Cat-eye Sunglasses (60)',\n",
       " 'UV Protection Aviator Sunglasses (Free Size)',\n",
       " 'Mirrored, Gradient, Riding Glasses Round Sunglasses (55...',\n",
       " 'Riding Glasses, Night Vision Wrap-around Sunglasses (Fr...',\n",
       " 'UV Protection, Gradient Round, Cat-eye Sunglasses (60)',\n",
       " 'UV Protection Round Sunglasses (Free Size)',\n",
       " 'UV Protection Wayfarer Sunglasses (Free Size)',\n",
       " 'UV Protection Wayfarer Sunglasses (55)',\n",
       " 'UV Protection, Gradient Oval Sunglasses (58)',\n",
       " 'UV Protection Sports Sunglasses (62)',\n",
       " 'Mirrored Wayfarer Sunglasses (55)',\n",
       " 'UV Protection Aviator Sunglasses (57)',\n",
       " 'Night Vision Rectangular Sunglasses (63)']"
      ]
     },
     "execution_count": 229,
     "metadata": {},
     "output_type": "execute_result"
    }
   ],
   "source": [
    "# Extracting text from tags\n",
    "for i in des:\n",
    "    d=i.text\n",
    "    product_description.append(d)\n",
    "    \n",
    "product_description"
   ]
  },
  {
   "cell_type": "code",
   "execution_count": 230,
   "id": "c2a37834",
   "metadata": {},
   "outputs": [
    {
     "data": {
      "text/plain": [
       "['₹459',\n",
       " '₹329',\n",
       " '₹295',\n",
       " '₹249',\n",
       " '₹759',\n",
       " '₹269',\n",
       " '₹185',\n",
       " '₹458',\n",
       " '₹273',\n",
       " '₹679',\n",
       " '₹199',\n",
       " '₹458',\n",
       " '₹249',\n",
       " '₹229',\n",
       " '₹299',\n",
       " '₹149',\n",
       " '₹225',\n",
       " '₹304',\n",
       " '₹329',\n",
       " '₹375',\n",
       " '₹209',\n",
       " '₹269',\n",
       " '₹225',\n",
       " '₹1,298',\n",
       " '₹198',\n",
       " '₹203',\n",
       " '₹214',\n",
       " '₹425',\n",
       " '₹229',\n",
       " '₹759',\n",
       " '₹225',\n",
       " '₹426',\n",
       " '₹249',\n",
       " '₹246',\n",
       " '₹315',\n",
       " '₹458',\n",
       " '₹239',\n",
       " '₹474',\n",
       " '₹299',\n",
       " '₹308',\n",
       " '₹299',\n",
       " '₹399',\n",
       " '₹299',\n",
       " '₹379',\n",
       " '₹307',\n",
       " '₹499',\n",
       " '₹264',\n",
       " '₹369',\n",
       " '₹236',\n",
       " '₹210',\n",
       " '₹197',\n",
       " '₹379',\n",
       " '₹233',\n",
       " '₹245',\n",
       " '₹259',\n",
       " '₹459',\n",
       " '₹210',\n",
       " '₹208',\n",
       " '₹189',\n",
       " '₹185',\n",
       " '₹474',\n",
       " '₹809',\n",
       " '₹379',\n",
       " '₹329',\n",
       " '₹458',\n",
       " '₹269',\n",
       " '₹474',\n",
       " '₹375',\n",
       " '₹799',\n",
       " '₹210',\n",
       " '₹276',\n",
       " '₹458',\n",
       " '₹304',\n",
       " '₹679',\n",
       " '₹683',\n",
       " '₹458',\n",
       " '₹327',\n",
       " '₹219',\n",
       " '₹639',\n",
       " '₹149']"
      ]
     },
     "execution_count": 230,
     "metadata": {},
     "output_type": "execute_result"
    }
   ],
   "source": [
    "# Extracting tags of price\n",
    "price_tag=driver.find_elements_by_xpath('//div[@class=\"_30jeq3\"]')\n",
    "\n",
    "# Extracting price from tags\n",
    "for i in price_tag:\n",
    "    p=i.text\n",
    "    price.append(p)\n",
    "price"
   ]
  },
  {
   "cell_type": "code",
   "execution_count": 231,
   "id": "d6920291",
   "metadata": {},
   "outputs": [],
   "source": [
    "# next page\n",
    "next_page.click()"
   ]
  },
  {
   "cell_type": "code",
   "execution_count": 232,
   "id": "88b95ef4",
   "metadata": {},
   "outputs": [
    {
     "data": {
      "text/plain": [
       "['AISLIN',\n",
       " 'Singco India',\n",
       " 'Elligator',\n",
       " 'SRPM',\n",
       " 'Fastrack',\n",
       " 'New Specs',\n",
       " 'SHAAH COLLECTIONS',\n",
       " 'AISLIN',\n",
       " 'SUNBEE',\n",
       " 'Fastrack',\n",
       " 'Lee Topper',\n",
       " 'AISLIN',\n",
       " 'PIRASO',\n",
       " 'Elligator',\n",
       " 'New Specs',\n",
       " 'AUTOSITE',\n",
       " 'PIRASO',\n",
       " 'SUNBEE',\n",
       " 'kingsunglasses',\n",
       " 'NuVew',\n",
       " 'kingsunglasses',\n",
       " 'kingsunglasses',\n",
       " 'PIRASO',\n",
       " 'AISLIN',\n",
       " 'GANSTA',\n",
       " 'SHAAH COLLECTIONS',\n",
       " 'kingsunglasses',\n",
       " 'ROZZETTA CRAFT',\n",
       " 'DEIXELS',\n",
       " 'Fastrack',\n",
       " 'PIRASO',\n",
       " 'ROZZETTA CRAFT',\n",
       " 'SUNBEE',\n",
       " 'SRPM',\n",
       " 'PHENOMENAL',\n",
       " 'AISLIN',\n",
       " 'SRPM',\n",
       " 'ROZZETTA CRAFT',\n",
       " 'kingsunglasses',\n",
       " 'NuVew',\n",
       " 'kingsunglasses',\n",
       " 'PIRASO',\n",
       " 'kingsunglasses',\n",
       " 'PHENOMENAL',\n",
       " 'ROZZETTA CRAFT',\n",
       " 'elegante',\n",
       " 'New Specs',\n",
       " 'PHENOMENAL',\n",
       " 'Elligator',\n",
       " 'kingsunglasses',\n",
       " 'SRPM',\n",
       " 'PHENOMENAL',\n",
       " 'hipe',\n",
       " 'kingsunglasses',\n",
       " 'SRPM',\n",
       " 'AISLIN',\n",
       " 'hipe',\n",
       " 'Singco India',\n",
       " 'kingsunglasses',\n",
       " 'NuVew',\n",
       " 'ROYAL SON',\n",
       " 'Fastrack',\n",
       " 'PHENOMENAL',\n",
       " 'Singco India',\n",
       " 'AISLIN',\n",
       " 'kingsunglasses',\n",
       " 'ROZZETTA CRAFT',\n",
       " 'NuVew',\n",
       " 'Fastrack',\n",
       " 'hipe',\n",
       " 'Lee Topper',\n",
       " 'AISLIN',\n",
       " 'SHAAH COLLECTIONS',\n",
       " 'Fastrack',\n",
       " 'Fastrack',\n",
       " 'AISLIN',\n",
       " 'NuVew',\n",
       " 'hipe',\n",
       " 'Fastrack',\n",
       " 'AUTOSITE',\n",
       " 'kingsunglasses',\n",
       " 'PHENOMENAL',\n",
       " 'SUNBEE',\n",
       " 'Fair-x',\n",
       " 'Fastrack',\n",
       " 'Rich Club',\n",
       " 'kingsunglasses',\n",
       " 'ROZZETTA CRAFT',\n",
       " 'Singco India',\n",
       " 'ROZZETTA CRAFT',\n",
       " 'Silver Kartz',\n",
       " 'AISLIN',\n",
       " 'GANSTA',\n",
       " 'Fastrack',\n",
       " 'kingsunglasses',\n",
       " 'Fair-x',\n",
       " 'GANSTA',\n",
       " 'hipe',\n",
       " 'AISLIN',\n",
       " 'NuVew']"
      ]
     },
     "execution_count": 232,
     "metadata": {},
     "output_type": "execute_result"
    }
   ],
   "source": [
    "# extracting tags of brand name\n",
    "brand_tag=driver.find_elements_by_xpath('//div[@class=\"_2WkVRV\"]')\n",
    "brand_tag=brand_tag[0:20]\n",
    "\n",
    "# extracting text from tags\n",
    "\n",
    "for i in brand_tag:\n",
    "    br=i.text\n",
    "    brand.append(br)\n",
    "brand"
   ]
  },
  {
   "cell_type": "code",
   "execution_count": 233,
   "id": "59a2d71d",
   "metadata": {},
   "outputs": [
    {
     "data": {
      "text/plain": [
       "100"
      ]
     },
     "execution_count": 233,
     "metadata": {},
     "output_type": "execute_result"
    }
   ],
   "source": [
    "len(brand)"
   ]
  },
  {
   "cell_type": "code",
   "execution_count": 234,
   "id": "110618e8",
   "metadata": {},
   "outputs": [
    {
     "data": {
      "text/plain": [
       "['UV Protection, Gradient Cat-eye Sunglasses (58)',\n",
       " 'UV Protection Aviator Sunglasses (45)',\n",
       " 'UV Protection Round Sunglasses (54)',\n",
       " 'UV Protection Wayfarer Sunglasses (50)',\n",
       " 'UV Protection Wayfarer Sunglasses (Free Size)',\n",
       " 'UV Protection Rectangular Sunglasses (Free Size)',\n",
       " 'UV Protection, Polarized, Mirrored Rectangular Sunglass...',\n",
       " 'UV Protection, Gradient Round, Cat-eye Sunglasses (60)',\n",
       " 'UV Protection, Polarized Wayfarer Sunglasses (Free Size...',\n",
       " 'UV Protection Rectangular Sunglasses (Free Size)',\n",
       " 'UV Protection Rectangular Sunglasses (Free Size)',\n",
       " 'UV Protection, Gradient Oval Sunglasses (58)',\n",
       " 'UV Protection Aviator Sunglasses (54)',\n",
       " 'UV Protection Round Sunglasses (53)',\n",
       " 'Mirrored, UV Protection, Riding Glasses, Others Round S...',\n",
       " 'Night Vision Rectangular Sunglasses (63)',\n",
       " 'UV Protection Wayfarer Sunglasses (32)',\n",
       " 'UV Protection, Polarized, Mirrored Round Sunglasses (Fr...',\n",
       " 'UV Protection Round Sunglasses (Free Size)',\n",
       " 'UV Protection Cat-eye Sunglasses (60)',\n",
       " 'UV Protection, Riding Glasses, Mirrored Wayfarer Sungla...',\n",
       " 'Mirrored, UV Protection Wayfarer Sunglasses (Free Size)',\n",
       " 'UV Protection Aviator Sunglasses (54)',\n",
       " 'Toughened Glass Lens, UV Protection Wrap-around, Rectan...',\n",
       " 'UV Protection, Riding Glasses Wayfarer Sunglasses (53)',\n",
       " 'UV Protection, Polarized, Mirrored Rectangular Sunglass...',\n",
       " 'UV Protection Round Sunglasses (54)',\n",
       " 'Polarized, UV Protection Wayfarer Sunglasses (Free Size...',\n",
       " 'UV Protection Aviator, Wayfarer Sunglasses (Free Size)',\n",
       " 'UV Protection Wayfarer Sunglasses (Free Size)',\n",
       " 'UV Protection Aviator Sunglasses (54)',\n",
       " 'Polarized, UV Protection Aviator Sunglasses (Free Size)',\n",
       " 'UV Protection, Polarized, Mirrored Retro Square Sunglas...',\n",
       " 'UV Protection Wayfarer Sunglasses (53)',\n",
       " 'UV Protection Retro Square Sunglasses (53)',\n",
       " 'UV Protection, Gradient Round Sunglasses (58)',\n",
       " 'Others Wayfarer, Retro Square Sunglasses (50)',\n",
       " 'Polarized, Riding Glasses Sports, Wrap-around Sunglasse...',\n",
       " 'Mirrored, UV Protection Wayfarer Sunglasses (53)',\n",
       " 'UV Protection Aviator Sunglasses (57)',\n",
       " 'Mirrored, UV Protection Wayfarer Sunglasses (53)',\n",
       " 'UV Protection Over-sized Sunglasses (65)',\n",
       " 'UV Protection, Night Vision Wayfarer Sunglasses (Free S...',\n",
       " 'UV Protection Retro Square Sunglasses (Free Size)',\n",
       " 'UV Protection, Gradient Retro Square Sunglasses (Free S...',\n",
       " 'Polarized, Riding Glasses, Night Vision Sports, Wrap-ar...',\n",
       " 'UV Protection Round Sunglasses (Free Size)',\n",
       " 'UV Protection, Mirrored Retro Square Sunglasses (53)',\n",
       " 'Others Cat-eye, Retro Square, Wayfarer Sunglasses (54)',\n",
       " 'UV Protection Round Sunglasses (Free Size)',\n",
       " 'UV Protection Wayfarer Sunglasses (54)',\n",
       " 'UV Protection, Mirrored Retro Square Sunglasses (Free S...',\n",
       " 'UV Protection, Gradient, Mirrored, Riding Glasses Aviat...',\n",
       " 'Mirrored, UV Protection Aviator Sunglasses (56)',\n",
       " 'Night Vision, UV Protection Round Sunglasses (54)',\n",
       " 'UV Protection, Gradient Cat-eye Sunglasses (58)',\n",
       " 'Mirrored, UV Protection, Gradient Round Sunglasses (55)',\n",
       " 'Riding Glasses, UV Protection, Others Aviator Sunglasse...',\n",
       " 'UV Protection Rectangular Sunglasses (55)',\n",
       " 'UV Protection Retro Square, Wayfarer Sunglasses (58)',\n",
       " 'UV Protection Rectangular, Retro Square Sunglasses (58)',\n",
       " 'UV Protection Shield Sunglasses (Free Size)',\n",
       " 'UV Protection Retro Square Sunglasses (Free Size)',\n",
       " 'UV Protection Aviator Sunglasses (45)',\n",
       " 'UV Protection, Gradient Round, Cat-eye Sunglasses (60)',\n",
       " 'UV Protection Rectangular Sunglasses (55)',\n",
       " 'UV Protection Retro Square Sunglasses (Free Size)',\n",
       " 'UV Protection Cat-eye Sunglasses (60)',\n",
       " 'UV Protection Aviator Sunglasses (Free Size)',\n",
       " 'Mirrored, Gradient, Riding Glasses Round Sunglasses (55...',\n",
       " 'Riding Glasses, Night Vision Wrap-around Sunglasses (Fr...',\n",
       " 'UV Protection, Gradient Round, Cat-eye Sunglasses (60)',\n",
       " 'UV Protection Round Sunglasses (Free Size)',\n",
       " 'UV Protection Wayfarer Sunglasses (Free Size)',\n",
       " 'UV Protection Wayfarer Sunglasses (55)',\n",
       " 'UV Protection, Gradient Oval Sunglasses (58)',\n",
       " 'UV Protection Sports Sunglasses (62)',\n",
       " 'Mirrored Wayfarer Sunglasses (55)',\n",
       " 'UV Protection Aviator Sunglasses (57)',\n",
       " 'Night Vision Rectangular Sunglasses (63)',\n",
       " 'Mirrored, UV Protection Wayfarer Sunglasses (Free Size)',\n",
       " 'UV Protection, Mirrored Clubmaster Sunglasses (Free Siz...',\n",
       " 'UV Protection, Polarized, Mirrored Round Sunglasses (Fr...',\n",
       " 'Mirrored, Riding Glasses, UV Protection Sports Sunglass...',\n",
       " 'Gradient, UV Protection Wayfarer Sunglasses (Free Size)',\n",
       " 'UV Protection, Mirrored, Gradient Round Sunglasses (51)',\n",
       " 'UV Protection, Mirrored Round Sunglasses (Free Size)',\n",
       " 'UV Protection, Gradient Retro Square Sunglasses (Free S...',\n",
       " 'Gradient, Toughened Glass Lens, UV Protection Retro Squ...',\n",
       " 'UV Protection, Gradient Rectangular Sunglasses (Free Si...',\n",
       " 'UV Protection Wayfarer Sunglasses (Free Size)',\n",
       " 'UV Protection, Gradient Cat-eye Sunglasses (58)',\n",
       " 'UV Protection Aviator Sunglasses (57)',\n",
       " 'UV Protection Wayfarer Sunglasses (Free Size)',\n",
       " 'UV Protection, Others Round, Aviator Sunglasses (54)',\n",
       " 'UV Protection Aviator Sunglasses (58)',\n",
       " 'UV Protection, Gradient Clubmaster Sunglasses (52)',\n",
       " 'UV Protection Sports Sunglasses (Free Size)',\n",
       " 'UV Protection, Gradient Butterfly, Retro Square Sunglas...',\n",
       " 'UV Protection Cat-eye Sunglasses (60)']"
      ]
     },
     "execution_count": 234,
     "metadata": {},
     "output_type": "execute_result"
    }
   ],
   "source": [
    "# Extracting tags of description of products\n",
    "des=driver.find_elements_by_xpath('//a[@class=\"IRpwTa\"]')\n",
    "des=des[0:20]\n",
    "\n",
    "# Extracting text from tags\n",
    "for i in des:\n",
    "    d=i.text\n",
    "    product_description.append(d)\n",
    "    \n",
    "product_description"
   ]
  },
  {
   "cell_type": "code",
   "execution_count": 236,
   "id": "bfca16b6",
   "metadata": {},
   "outputs": [
    {
     "name": "stdout",
     "output_type": "stream",
     "text": [
      "100\n"
     ]
    }
   ],
   "source": [
    "print(len(product_description))"
   ]
  },
  {
   "cell_type": "code",
   "execution_count": 237,
   "id": "f3869e4c",
   "metadata": {},
   "outputs": [
    {
     "data": {
      "text/plain": [
       "['₹459',\n",
       " '₹329',\n",
       " '₹295',\n",
       " '₹249',\n",
       " '₹759',\n",
       " '₹269',\n",
       " '₹185',\n",
       " '₹458',\n",
       " '₹273',\n",
       " '₹679',\n",
       " '₹199',\n",
       " '₹458',\n",
       " '₹249',\n",
       " '₹229',\n",
       " '₹299',\n",
       " '₹149',\n",
       " '₹225',\n",
       " '₹304',\n",
       " '₹329',\n",
       " '₹375',\n",
       " '₹209',\n",
       " '₹269',\n",
       " '₹225',\n",
       " '₹1,298',\n",
       " '₹198',\n",
       " '₹203',\n",
       " '₹214',\n",
       " '₹425',\n",
       " '₹229',\n",
       " '₹759',\n",
       " '₹225',\n",
       " '₹426',\n",
       " '₹249',\n",
       " '₹246',\n",
       " '₹315',\n",
       " '₹458',\n",
       " '₹239',\n",
       " '₹474',\n",
       " '₹299',\n",
       " '₹308',\n",
       " '₹299',\n",
       " '₹399',\n",
       " '₹299',\n",
       " '₹379',\n",
       " '₹307',\n",
       " '₹499',\n",
       " '₹264',\n",
       " '₹369',\n",
       " '₹236',\n",
       " '₹210',\n",
       " '₹197',\n",
       " '₹379',\n",
       " '₹233',\n",
       " '₹245',\n",
       " '₹259',\n",
       " '₹459',\n",
       " '₹210',\n",
       " '₹208',\n",
       " '₹189',\n",
       " '₹185',\n",
       " '₹474',\n",
       " '₹809',\n",
       " '₹379',\n",
       " '₹329',\n",
       " '₹458',\n",
       " '₹269',\n",
       " '₹474',\n",
       " '₹375',\n",
       " '₹799',\n",
       " '₹210',\n",
       " '₹276',\n",
       " '₹458',\n",
       " '₹304',\n",
       " '₹679',\n",
       " '₹683',\n",
       " '₹458',\n",
       " '₹327',\n",
       " '₹219',\n",
       " '₹639',\n",
       " '₹149',\n",
       " '₹269',\n",
       " '₹369',\n",
       " '₹301',\n",
       " '₹341',\n",
       " '₹639',\n",
       " '₹253',\n",
       " '₹265',\n",
       " '₹307',\n",
       " '₹664',\n",
       " '₹379',\n",
       " '₹320',\n",
       " '₹459',\n",
       " '₹220',\n",
       " '₹799',\n",
       " '₹214',\n",
       " '₹239',\n",
       " '₹149',\n",
       " '₹258',\n",
       " '₹458',\n",
       " '₹375']"
      ]
     },
     "execution_count": 237,
     "metadata": {},
     "output_type": "execute_result"
    }
   ],
   "source": [
    "# Extracting tags of price\n",
    "price_tag=driver.find_elements_by_xpath('//div[@class=\"_30jeq3\"]')\n",
    "price_tag=price_tag[0:20]\n",
    "\n",
    "# Extracting price from tags\n",
    "for i in price_tag:\n",
    "    p=i.text\n",
    "    price.append(p)\n",
    "price"
   ]
  },
  {
   "cell_type": "code",
   "execution_count": 238,
   "id": "9596eaaa",
   "metadata": {},
   "outputs": [
    {
     "data": {
      "text/plain": [
       "100"
      ]
     },
     "execution_count": 238,
     "metadata": {},
     "output_type": "execute_result"
    }
   ],
   "source": [
    "len(price)"
   ]
  },
  {
   "cell_type": "code",
   "execution_count": 241,
   "id": "e05e4c6e",
   "metadata": {},
   "outputs": [
    {
     "data": {
      "text/html": [
       "<div>\n",
       "<style scoped>\n",
       "    .dataframe tbody tr th:only-of-type {\n",
       "        vertical-align: middle;\n",
       "    }\n",
       "\n",
       "    .dataframe tbody tr th {\n",
       "        vertical-align: top;\n",
       "    }\n",
       "\n",
       "    .dataframe thead th {\n",
       "        text-align: right;\n",
       "    }\n",
       "</style>\n",
       "<table border=\"1\" class=\"dataframe\">\n",
       "  <thead>\n",
       "    <tr style=\"text-align: right;\">\n",
       "      <th></th>\n",
       "      <th>Brand</th>\n",
       "      <th>Description</th>\n",
       "      <th>Price</th>\n",
       "    </tr>\n",
       "  </thead>\n",
       "  <tbody>\n",
       "    <tr>\n",
       "      <th>0</th>\n",
       "      <td>AISLIN</td>\n",
       "      <td>UV Protection, Gradient Cat-eye Sunglasses (58)</td>\n",
       "      <td>₹459</td>\n",
       "    </tr>\n",
       "    <tr>\n",
       "      <th>1</th>\n",
       "      <td>Singco India</td>\n",
       "      <td>UV Protection Aviator Sunglasses (45)</td>\n",
       "      <td>₹329</td>\n",
       "    </tr>\n",
       "    <tr>\n",
       "      <th>2</th>\n",
       "      <td>Elligator</td>\n",
       "      <td>UV Protection Round Sunglasses (54)</td>\n",
       "      <td>₹295</td>\n",
       "    </tr>\n",
       "    <tr>\n",
       "      <th>3</th>\n",
       "      <td>SRPM</td>\n",
       "      <td>UV Protection Wayfarer Sunglasses (50)</td>\n",
       "      <td>₹249</td>\n",
       "    </tr>\n",
       "    <tr>\n",
       "      <th>4</th>\n",
       "      <td>Fastrack</td>\n",
       "      <td>UV Protection Wayfarer Sunglasses (Free Size)</td>\n",
       "      <td>₹759</td>\n",
       "    </tr>\n",
       "    <tr>\n",
       "      <th>...</th>\n",
       "      <td>...</td>\n",
       "      <td>...</td>\n",
       "      <td>...</td>\n",
       "    </tr>\n",
       "    <tr>\n",
       "      <th>95</th>\n",
       "      <td>Fair-x</td>\n",
       "      <td>UV Protection Aviator Sunglasses (58)</td>\n",
       "      <td>₹239</td>\n",
       "    </tr>\n",
       "    <tr>\n",
       "      <th>96</th>\n",
       "      <td>GANSTA</td>\n",
       "      <td>UV Protection, Gradient Clubmaster Sunglasses ...</td>\n",
       "      <td>₹149</td>\n",
       "    </tr>\n",
       "    <tr>\n",
       "      <th>97</th>\n",
       "      <td>hipe</td>\n",
       "      <td>UV Protection Sports Sunglasses (Free Size)</td>\n",
       "      <td>₹258</td>\n",
       "    </tr>\n",
       "    <tr>\n",
       "      <th>98</th>\n",
       "      <td>AISLIN</td>\n",
       "      <td>UV Protection, Gradient Butterfly, Retro Squar...</td>\n",
       "      <td>₹458</td>\n",
       "    </tr>\n",
       "    <tr>\n",
       "      <th>99</th>\n",
       "      <td>NuVew</td>\n",
       "      <td>UV Protection Cat-eye Sunglasses (60)</td>\n",
       "      <td>₹375</td>\n",
       "    </tr>\n",
       "  </tbody>\n",
       "</table>\n",
       "<p>100 rows × 3 columns</p>\n",
       "</div>"
      ],
      "text/plain": [
       "           Brand                                        Description Price\n",
       "0         AISLIN    UV Protection, Gradient Cat-eye Sunglasses (58)  ₹459\n",
       "1   Singco India              UV Protection Aviator Sunglasses (45)  ₹329\n",
       "2      Elligator                UV Protection Round Sunglasses (54)  ₹295\n",
       "3           SRPM             UV Protection Wayfarer Sunglasses (50)  ₹249\n",
       "4       Fastrack      UV Protection Wayfarer Sunglasses (Free Size)  ₹759\n",
       "..           ...                                                ...   ...\n",
       "95        Fair-x              UV Protection Aviator Sunglasses (58)  ₹239\n",
       "96        GANSTA  UV Protection, Gradient Clubmaster Sunglasses ...  ₹149\n",
       "97          hipe        UV Protection Sports Sunglasses (Free Size)  ₹258\n",
       "98        AISLIN  UV Protection, Gradient Butterfly, Retro Squar...  ₹458\n",
       "99         NuVew              UV Protection Cat-eye Sunglasses (60)  ₹375\n",
       "\n",
       "[100 rows x 3 columns]"
      ]
     },
     "execution_count": 241,
     "metadata": {},
     "output_type": "execute_result"
    }
   ],
   "source": [
    "sunglasses=pd.DataFrame({})\n",
    "sunglasses['Brand']=brand\n",
    "sunglasses['Description']=product_description\n",
    "sunglasses['Price']=price\n",
    "\n",
    "sunglasses"
   ]
  },
  {
   "cell_type": "markdown",
   "id": "e901e3cc",
   "metadata": {},
   "source": [
    "Q5: Scrape 100 reviews data from flipkart.com for iphone11 phone. You have to go the link: https://www.flipkart.com/apple-iphone-11-black-64-gb-includes- earpods-power- adapter/p/itm0f37c2240b217?pid=MOBFKCTSVZAXUHGR&lid=LSTMOBFKC TSVZAXUHGREPBFGI&marketplace."
   ]
  },
  {
   "cell_type": "code",
   "execution_count": 566,
   "id": "b1a7d962",
   "metadata": {},
   "outputs": [],
   "source": [
    "iphone=\"https://www.flipkart.com/apple-iphone-11-black-64-gb-includes-earpods-power-adapter/p/itm0f37c2240b217?pid=MOBFKCTSVZAXUHGR&lid=LSTMOBFKC\"\n",
    "driver.get(iphone)"
   ]
  },
  {
   "cell_type": "code",
   "execution_count": 567,
   "id": "2de91d7c",
   "metadata": {},
   "outputs": [],
   "source": [
    "rating=[]\n",
    "review_summary=[]\n",
    "full_review=[]"
   ]
  },
  {
   "cell_type": "code",
   "execution_count": 568,
   "id": "37809a3d",
   "metadata": {},
   "outputs": [],
   "source": [
    "# Click on all 5952 reviews\n",
    "all_review=driver.find_element_by_xpath('/html/body/div[1]/div/div[3]/div[1]/div[2]/div[8]/div/div/div[5]/div/a/div')\n",
    "all_review.click()"
   ]
  },
  {
   "cell_type": "code",
   "execution_count": 569,
   "id": "a82758e7",
   "metadata": {},
   "outputs": [],
   "source": [
    "# extracting tags for rating\n",
    "rating_tag=driver.find_elements_by_xpath('//div[@class=\"_3LWZlK _1BLPMq\"]')\n",
    "\n",
    "# Extracting text from tags\n",
    "for i in rating_tag:\n",
    "    r=i.text\n",
    "    rating.append(r)\n"
   ]
  },
  {
   "cell_type": "code",
   "execution_count": 570,
   "id": "bd55f813",
   "metadata": {},
   "outputs": [
    {
     "data": {
      "text/plain": [
       "10"
      ]
     },
     "execution_count": 570,
     "metadata": {},
     "output_type": "execute_result"
    }
   ],
   "source": [
    "len(rating)"
   ]
  },
  {
   "cell_type": "code",
   "execution_count": 571,
   "id": "26d04c51",
   "metadata": {},
   "outputs": [],
   "source": [
    "# Extracting tags for review summary\n",
    "review_summ=driver.find_elements_by_xpath('//p[@class=\"_2-N8zT\"]')\n",
    "review_summ\n",
    "\n",
    "# Extracting text from tags\n",
    "for i in review_summ:\n",
    "    rs=i.text\n",
    "    review_summary.append(rs)"
   ]
  },
  {
   "cell_type": "code",
   "execution_count": 572,
   "id": "01558a27",
   "metadata": {},
   "outputs": [],
   "source": [
    "# extracting tags for full review\n",
    "full_rev=driver.find_elements_by_xpath('//div[@class=\"t-ZTKy\"]')\n",
    "full_rev\n",
    "\n",
    "# extracting text from tags\n",
    "for i in full_rev:\n",
    "    fr=i.text\n",
    "    full_review.append(fr)"
   ]
  },
  {
   "cell_type": "code",
   "execution_count": 573,
   "id": "b0b69573",
   "metadata": {},
   "outputs": [],
   "source": [
    "n=driver.find_element_by_xpath('//a[@class=\"_1LKTO3\"]/span[1]')"
   ]
  },
  {
   "cell_type": "code",
   "execution_count": 575,
   "id": "797eeea1",
   "metadata": {},
   "outputs": [],
   "source": [
    "n.click()"
   ]
  },
  {
   "cell_type": "code",
   "execution_count": 576,
   "id": "20a2acfe",
   "metadata": {},
   "outputs": [],
   "source": [
    "# extracting tags for rating\n",
    "rating_tag=driver.find_elements_by_xpath('//div[@class=\"_3LWZlK _1BLPMq\"]')\n",
    "\n",
    "# Extracting text from tags\n",
    "for i in rating_tag:\n",
    "    r=i.text\n",
    "    rating.append(r)"
   ]
  },
  {
   "cell_type": "code",
   "execution_count": 577,
   "id": "2a31c72f",
   "metadata": {},
   "outputs": [],
   "source": [
    "# Extracting tags for review summary\n",
    "review_summ=driver.find_elements_by_xpath('//p[@class=\"_2-N8zT\"]')\n",
    "\n",
    "# Extracting text from tags\n",
    "for i in review_summ:\n",
    "    rs=i.text\n",
    "    review_summary.append(rs)\n"
   ]
  },
  {
   "cell_type": "code",
   "execution_count": 578,
   "id": "1a35be86",
   "metadata": {},
   "outputs": [],
   "source": [
    "    \n",
    "# extracting tags for full review\n",
    "full_rev=driver.find_elements_by_xpath('//div[@class=\"t-ZTKy\"]')\n",
    "\n",
    "# extracting text from tags\n",
    "for i in full_rev:\n",
    "    fr=i.text\n",
    "    full_review.append(fr)"
   ]
  },
  {
   "cell_type": "code",
   "execution_count": 579,
   "id": "2d534754",
   "metadata": {},
   "outputs": [
    {
     "name": "stdout",
     "output_type": "stream",
     "text": [
      "20 20 20\n"
     ]
    }
   ],
   "source": [
    "print(len(rating),len(review_summary),len(full_review))"
   ]
  },
  {
   "cell_type": "code",
   "execution_count": 580,
   "id": "204eb2fd",
   "metadata": {},
   "outputs": [],
   "source": [
    "n=driver.find_element_by_xpath('/html/body/div[1]/div/div[3]/div/div/div[2]/div[13]/div/div/nav/a[12]')\n",
    "n.click()"
   ]
  },
  {
   "cell_type": "code",
   "execution_count": 581,
   "id": "acaa05c3",
   "metadata": {},
   "outputs": [],
   "source": [
    "# extracting tags for rating\n",
    "rating_tag=driver.find_elements_by_xpath('//div[@class=\"_3LWZlK _1BLPMq\"]')\n",
    "\n",
    "# Extracting text from tags\n",
    "for i in rating_tag:\n",
    "    r=i.text\n",
    "    rating.append(r)\n",
    "\n",
    "\n",
    "# Extracting tags for review summary\n",
    "review_summ=driver.find_elements_by_xpath('//p[@class=\"_2-N8zT\"]')\n",
    "\n",
    "# Extracting text from tags\n",
    "for i in review_summ:\n",
    "    rs=i.text\n",
    "    review_summary.append(rs)\n",
    "    \n",
    "# extracting tags for full review\n",
    "full_rev=driver.find_elements_by_xpath('//div[@class=\"t-ZTKy\"]')\n",
    "\n",
    "# extracting text from tags\n",
    "for i in full_rev:\n",
    "    fr=i.text\n",
    "    full_review.append(fr)"
   ]
  },
  {
   "cell_type": "code",
   "execution_count": 582,
   "id": "676bdc50",
   "metadata": {},
   "outputs": [],
   "source": [
    "n=driver.find_element_by_xpath('/html/body/div[1]/div/div[3]/div/div/div[2]/div[13]/div/div/nav/a[12]')\n",
    "n.click()"
   ]
  },
  {
   "cell_type": "code",
   "execution_count": 583,
   "id": "a4dde542",
   "metadata": {},
   "outputs": [],
   "source": [
    "# extracting tags for rating\n",
    "rating_tag=driver.find_elements_by_xpath('//div[@class=\"_3LWZlK _1BLPMq\"]')\n",
    "\n",
    "# Extracting text from tags\n",
    "for i in rating_tag:\n",
    "    r=i.text\n",
    "    rating.append(r)\n",
    "\n",
    "\n",
    "# Extracting tags for review summary\n",
    "review_summ=driver.find_elements_by_xpath('//p[@class=\"_2-N8zT\"]')\n",
    "\n",
    "# Extracting text from tags\n",
    "for i in review_summ:\n",
    "    rs=i.text\n",
    "    review_summary.append(rs)\n",
    "    \n",
    "# extracting tags for full review\n",
    "full_rev=driver.find_elements_by_xpath('//div[@class=\"t-ZTKy\"]')\n",
    "\n",
    "# extracting text from tags\n",
    "for i in full_rev:\n",
    "    fr=i.text\n",
    "    full_review.append(fr)"
   ]
  },
  {
   "cell_type": "code",
   "execution_count": 584,
   "id": "863f0d90",
   "metadata": {},
   "outputs": [
    {
     "name": "stdout",
     "output_type": "stream",
     "text": [
      "40 40 40\n"
     ]
    }
   ],
   "source": [
    "print(len(rating),len(review_summary),len(full_review))"
   ]
  },
  {
   "cell_type": "code",
   "execution_count": 585,
   "id": "af8dbab7",
   "metadata": {},
   "outputs": [],
   "source": [
    "n=driver.find_element_by_xpath('/html/body/div[1]/div/div[3]/div/div/div[2]/div[13]/div/div/nav/a[12]')\n",
    "n.click()"
   ]
  },
  {
   "cell_type": "code",
   "execution_count": 586,
   "id": "90dd6dc1",
   "metadata": {},
   "outputs": [],
   "source": [
    "# extracting tags for rating\n",
    "rating_tag=driver.find_elements_by_xpath('//div[@class=\"_3LWZlK _1rdVr6 _1BLPMq\"]')\n",
    "\n",
    "# Extracting text from tags\n",
    "for i in rating_tag:\n",
    "    r=i.text\n",
    "    rating.append(r)\n",
    "\n",
    "\n",
    "# Extracting tags for review summary\n",
    "review_summ=driver.find_elements_by_xpath('//p[@class=\"_2-N8zT\"]')\n",
    "\n",
    "# Extracting text from tags\n",
    "for i in review_summ:\n",
    "    rs=i.text\n",
    "    review_summary.append(rs)\n",
    "    \n",
    "# extracting tags for full review\n",
    "full_rev=driver.find_elements_by_xpath('//div[@class=\"t-ZTKy\"]')\n",
    "\n",
    "# extracting text from tags\n",
    "for i in full_rev:\n",
    "    fr=i.text\n",
    "    full_review.append(fr)"
   ]
  },
  {
   "cell_type": "code",
   "execution_count": 587,
   "id": "78fa632a",
   "metadata": {},
   "outputs": [],
   "source": [
    "# extracting tags for rating\n",
    "rating_tag=driver.find_elements_by_xpath('//div[@class=\"_3LWZlK _1BLPMq\"]')\n",
    "\n",
    "# Extracting text from tags\n",
    "for i in rating_tag:\n",
    "    r=i.text\n",
    "    rating.append(r)"
   ]
  },
  {
   "cell_type": "code",
   "execution_count": 588,
   "id": "64f08a4d",
   "metadata": {},
   "outputs": [
    {
     "name": "stdout",
     "output_type": "stream",
     "text": [
      "50 50 50\n"
     ]
    }
   ],
   "source": [
    "print(len(rating),len(review_summary),len(full_review))"
   ]
  },
  {
   "cell_type": "code",
   "execution_count": 590,
   "id": "355edfa4",
   "metadata": {},
   "outputs": [],
   "source": [
    "n=driver.find_element_by_xpath('/html/body/div[1]/div/div[3]/div/div/div[2]/div[13]/div/div/nav/a[12]')\n",
    "n.click()"
   ]
  },
  {
   "cell_type": "code",
   "execution_count": 591,
   "id": "354663ed",
   "metadata": {},
   "outputs": [],
   "source": [
    "# extracting tags for rating\n",
    "rating_tag=driver.find_elements_by_xpath('//div[@class=\"_3LWZlK _1BLPMq\"]')\n",
    "\n",
    "# Extracting text from tags\n",
    "for i in rating_tag:\n",
    "    r=i.text\n",
    "    rating.append(r)\n",
    "\n",
    "\n",
    "# Extracting tags for review summary\n",
    "review_summ=driver.find_elements_by_xpath('//p[@class=\"_2-N8zT\"]')\n",
    "\n",
    "# Extracting text from tags\n",
    "for i in review_summ:\n",
    "    rs=i.text\n",
    "    review_summary.append(rs)\n",
    "    \n",
    "# extracting tags for full review\n",
    "full_rev=driver.find_elements_by_xpath('//div[@class=\"t-ZTKy\"]')\n",
    "\n",
    "# extracting text from tags\n",
    "for i in full_rev:\n",
    "    fr=i.text\n",
    "    full_review.append(fr)"
   ]
  },
  {
   "cell_type": "code",
   "execution_count": 592,
   "id": "2ec85e4f",
   "metadata": {},
   "outputs": [
    {
     "name": "stdout",
     "output_type": "stream",
     "text": [
      "60 60 60\n"
     ]
    }
   ],
   "source": [
    "print(len(rating),len(review_summary),len(full_review))"
   ]
  },
  {
   "cell_type": "code",
   "execution_count": 593,
   "id": "5122c52c",
   "metadata": {},
   "outputs": [],
   "source": [
    "n=driver.find_element_by_xpath('/html/body/div[1]/div/div[3]/div/div/div[2]/div[13]/div/div/nav/a[12]')\n",
    "n.click()"
   ]
  },
  {
   "cell_type": "code",
   "execution_count": 594,
   "id": "d4323ed1",
   "metadata": {},
   "outputs": [],
   "source": [
    "# extracting tags for rating\n",
    "rating_tag=driver.find_elements_by_xpath('//div[@class=\"_3LWZlK _1BLPMq\"]')\n",
    "\n",
    "# Extracting text from tags\n",
    "for i in rating_tag:\n",
    "    r=i.text\n",
    "    rating.append(r)\n",
    "\n",
    "\n",
    "# Extracting tags for review summary\n",
    "review_summ=driver.find_elements_by_xpath('//p[@class=\"_2-N8zT\"]')\n",
    "\n",
    "# Extracting text from tags\n",
    "for i in review_summ:\n",
    "    rs=i.text\n",
    "    review_summary.append(rs)\n",
    "    \n",
    "# extracting tags for full review\n",
    "full_rev=driver.find_elements_by_xpath('//div[@class=\"t-ZTKy\"]')\n",
    "\n",
    "# extracting text from tags\n",
    "for i in full_rev:\n",
    "    fr=i.text\n",
    "    full_review.append(fr)"
   ]
  },
  {
   "cell_type": "code",
   "execution_count": 596,
   "id": "22f7852a",
   "metadata": {},
   "outputs": [],
   "source": [
    "# extracting tags for rating\n",
    "rating_tag=driver.find_elements_by_xpath('//div[@class=\"_3LWZlK _1rdVr6 _1BLPMq\"]')\n",
    "\n",
    "# Extracting text from tags\n",
    "for i in rating_tag:\n",
    "    r=i.text\n",
    "    rating.append(r)"
   ]
  },
  {
   "cell_type": "code",
   "execution_count": 597,
   "id": "458b0f30",
   "metadata": {},
   "outputs": [
    {
     "name": "stdout",
     "output_type": "stream",
     "text": [
      "70 70 70\n"
     ]
    }
   ],
   "source": [
    "print(len(rating),len(review_summary),len(full_review))"
   ]
  },
  {
   "cell_type": "code",
   "execution_count": 598,
   "id": "ac9b6848",
   "metadata": {},
   "outputs": [],
   "source": [
    "n=driver.find_element_by_xpath('/html/body/div[1]/div/div[3]/div/div/div[2]/div[13]/div/div/nav/a[12]')\n",
    "n.click()"
   ]
  },
  {
   "cell_type": "code",
   "execution_count": 599,
   "id": "79bedb70",
   "metadata": {},
   "outputs": [],
   "source": [
    "# extracting tags for rating\n",
    "rating_tag=driver.find_elements_by_xpath('//div[@class=\"_3LWZlK _1BLPMq\"]')\n",
    "\n",
    "# Extracting text from tags\n",
    "for i in rating_tag:\n",
    "    r=i.text\n",
    "    rating.append(r)\n",
    "\n",
    "\n",
    "# Extracting tags for review summary\n",
    "review_summ=driver.find_elements_by_xpath('//p[@class=\"_2-N8zT\"]')\n",
    "\n",
    "# Extracting text from tags\n",
    "for i in review_summ:\n",
    "    rs=i.text\n",
    "    review_summary.append(rs)\n",
    "    \n",
    "# extracting tags for full review\n",
    "full_rev=driver.find_elements_by_xpath('//div[@class=\"t-ZTKy\"]')\n",
    "\n",
    "# extracting text from tags\n",
    "for i in full_rev:\n",
    "    fr=i.text\n",
    "    full_review.append(fr)"
   ]
  },
  {
   "cell_type": "code",
   "execution_count": 600,
   "id": "7815ef67",
   "metadata": {},
   "outputs": [],
   "source": [
    "# extracting tags for rating\n",
    "rating_tag=driver.find_elements_by_xpath('//div[@class=\"_3LWZlK _1rdVr6 _1BLPMq\"]')\n",
    "\n",
    "# Extracting text from tags\n",
    "for i in rating_tag:\n",
    "    r=i.text\n",
    "    rating.append(r)"
   ]
  },
  {
   "cell_type": "code",
   "execution_count": 601,
   "id": "28ded34c",
   "metadata": {},
   "outputs": [
    {
     "name": "stdout",
     "output_type": "stream",
     "text": [
      "80 80 80\n"
     ]
    }
   ],
   "source": [
    "print(len(rating),len(review_summary),len(full_review))"
   ]
  },
  {
   "cell_type": "code",
   "execution_count": 602,
   "id": "1ebe6855",
   "metadata": {},
   "outputs": [],
   "source": [
    "n=driver.find_element_by_xpath('/html/body/div[1]/div/div[3]/div/div/div[2]/div[13]/div/div/nav/a[12]')\n",
    "n.click()"
   ]
  },
  {
   "cell_type": "code",
   "execution_count": 603,
   "id": "e8cac1ed",
   "metadata": {},
   "outputs": [],
   "source": [
    "# extracting tags for rating\n",
    "rating_tag=driver.find_elements_by_xpath('//div[@class=\"_3LWZlK _1BLPMq\"]')\n",
    "\n",
    "# Extracting text from tags\n",
    "for i in rating_tag:\n",
    "    r=i.text\n",
    "    rating.append(r)\n",
    "\n",
    "\n",
    "# Extracting tags for review summary\n",
    "review_summ=driver.find_elements_by_xpath('//p[@class=\"_2-N8zT\"]')\n",
    "\n",
    "# Extracting text from tags\n",
    "for i in review_summ:\n",
    "    rs=i.text\n",
    "    review_summary.append(rs)\n",
    "    \n",
    "# extracting tags for full review\n",
    "full_rev=driver.find_elements_by_xpath('//div[@class=\"t-ZTKy\"]')\n",
    "\n",
    "# extracting text from tags\n",
    "for i in full_rev:\n",
    "    fr=i.text\n",
    "    full_review.append(fr)"
   ]
  },
  {
   "cell_type": "code",
   "execution_count": 604,
   "id": "34672319",
   "metadata": {},
   "outputs": [
    {
     "name": "stdout",
     "output_type": "stream",
     "text": [
      "90 90 90\n"
     ]
    }
   ],
   "source": [
    "print(len(rating),len(review_summary),len(full_review))"
   ]
  },
  {
   "cell_type": "code",
   "execution_count": 605,
   "id": "f46bb33c",
   "metadata": {},
   "outputs": [],
   "source": [
    "n=driver.find_element_by_xpath('/html/body/div[1]/div/div[3]/div/div/div[2]/div[13]/div/div/nav/a[12]')\n",
    "n.click()"
   ]
  },
  {
   "cell_type": "code",
   "execution_count": 606,
   "id": "725d85fd",
   "metadata": {},
   "outputs": [],
   "source": [
    "# extracting tags for rating\n",
    "rating_tag=driver.find_elements_by_xpath('//div[@class=\"_3LWZlK _1BLPMq\"]')\n",
    "\n",
    "# Extracting text from tags\n",
    "for i in rating_tag:\n",
    "    r=i.text\n",
    "    rating.append(r)\n",
    "\n",
    "\n",
    "# Extracting tags for review summary\n",
    "review_summ=driver.find_elements_by_xpath('//p[@class=\"_2-N8zT\"]')\n",
    "\n",
    "# Extracting text from tags\n",
    "for i in review_summ:\n",
    "    rs=i.text\n",
    "    review_summary.append(rs)\n",
    "    \n",
    "# extracting tags for full review\n",
    "full_rev=driver.find_elements_by_xpath('//div[@class=\"t-ZTKy\"]')\n",
    "\n",
    "# extracting text from tags\n",
    "for i in full_rev:\n",
    "    fr=i.text\n",
    "    full_review.append(fr)"
   ]
  },
  {
   "cell_type": "code",
   "execution_count": 607,
   "id": "1c549f6e",
   "metadata": {},
   "outputs": [
    {
     "name": "stdout",
     "output_type": "stream",
     "text": [
      "100 100 100\n"
     ]
    }
   ],
   "source": [
    "print(len(rating),len(review_summary),len(full_review))"
   ]
  },
  {
   "cell_type": "code",
   "execution_count": 608,
   "id": "75de5f3b",
   "metadata": {},
   "outputs": [],
   "source": [
    "Reviews=pd.DataFrame({})\n",
    "Reviews['Ratings']=rating\n",
    "Reviews['Review Summary']=review_summary\n",
    "Reviews['Full Review']=full_review"
   ]
  },
  {
   "cell_type": "code",
   "execution_count": 609,
   "id": "b3b53834",
   "metadata": {},
   "outputs": [
    {
     "data": {
      "text/html": [
       "<div>\n",
       "<style scoped>\n",
       "    .dataframe tbody tr th:only-of-type {\n",
       "        vertical-align: middle;\n",
       "    }\n",
       "\n",
       "    .dataframe tbody tr th {\n",
       "        vertical-align: top;\n",
       "    }\n",
       "\n",
       "    .dataframe thead th {\n",
       "        text-align: right;\n",
       "    }\n",
       "</style>\n",
       "<table border=\"1\" class=\"dataframe\">\n",
       "  <thead>\n",
       "    <tr style=\"text-align: right;\">\n",
       "      <th></th>\n",
       "      <th>Ratings</th>\n",
       "      <th>Review Summary</th>\n",
       "      <th>Full Review</th>\n",
       "    </tr>\n",
       "  </thead>\n",
       "  <tbody>\n",
       "    <tr>\n",
       "      <th>0</th>\n",
       "      <td>5</td>\n",
       "      <td>Brilliant</td>\n",
       "      <td>The Best Phone for the Money\\n\\nThe iPhone 11 ...</td>\n",
       "    </tr>\n",
       "    <tr>\n",
       "      <th>1</th>\n",
       "      <td>5</td>\n",
       "      <td>Simply awesome</td>\n",
       "      <td>Really satisfied with the Product I received.....</td>\n",
       "    </tr>\n",
       "    <tr>\n",
       "      <th>2</th>\n",
       "      <td>5</td>\n",
       "      <td>Best in the market!</td>\n",
       "      <td>Great iPhone very snappy experience as apple k...</td>\n",
       "    </tr>\n",
       "    <tr>\n",
       "      <th>3</th>\n",
       "      <td>5</td>\n",
       "      <td>Perfect product!</td>\n",
       "      <td>Amazing phone with great cameras and better ba...</td>\n",
       "    </tr>\n",
       "    <tr>\n",
       "      <th>4</th>\n",
       "      <td>5</td>\n",
       "      <td>Fabulous!</td>\n",
       "      <td>This is my first iOS phone. I am very happy wi...</td>\n",
       "    </tr>\n",
       "    <tr>\n",
       "      <th>...</th>\n",
       "      <td>...</td>\n",
       "      <td>...</td>\n",
       "      <td>...</td>\n",
       "    </tr>\n",
       "    <tr>\n",
       "      <th>95</th>\n",
       "      <td>4</td>\n",
       "      <td>Pretty good</td>\n",
       "      <td>I've used this phone for over a month now and ...</td>\n",
       "    </tr>\n",
       "    <tr>\n",
       "      <th>96</th>\n",
       "      <td>5</td>\n",
       "      <td>Worth every penny</td>\n",
       "      <td>Undoubtedly Iphone 11 is the most successful m...</td>\n",
       "    </tr>\n",
       "    <tr>\n",
       "      <th>97</th>\n",
       "      <td>5</td>\n",
       "      <td>Mind-blowing purchase</td>\n",
       "      <td>Excellent camera 📸 And Display touching very N...</td>\n",
       "    </tr>\n",
       "    <tr>\n",
       "      <th>98</th>\n",
       "      <td>5</td>\n",
       "      <td>Fabulous!</td>\n",
       "      <td>I purchased the iPhone 11 a month back. I must...</td>\n",
       "    </tr>\n",
       "    <tr>\n",
       "      <th>99</th>\n",
       "      <td>5</td>\n",
       "      <td>Just wow!</td>\n",
       "      <td>The ultimate performance\\nCamera is superb\\nTh...</td>\n",
       "    </tr>\n",
       "  </tbody>\n",
       "</table>\n",
       "<p>100 rows × 3 columns</p>\n",
       "</div>"
      ],
      "text/plain": [
       "   Ratings         Review Summary  \\\n",
       "0        5              Brilliant   \n",
       "1        5         Simply awesome   \n",
       "2        5    Best in the market!   \n",
       "3        5       Perfect product!   \n",
       "4        5              Fabulous!   \n",
       "..     ...                    ...   \n",
       "95       4            Pretty good   \n",
       "96       5      Worth every penny   \n",
       "97       5  Mind-blowing purchase   \n",
       "98       5              Fabulous!   \n",
       "99       5              Just wow!   \n",
       "\n",
       "                                          Full Review  \n",
       "0   The Best Phone for the Money\\n\\nThe iPhone 11 ...  \n",
       "1   Really satisfied with the Product I received.....  \n",
       "2   Great iPhone very snappy experience as apple k...  \n",
       "3   Amazing phone with great cameras and better ba...  \n",
       "4   This is my first iOS phone. I am very happy wi...  \n",
       "..                                                ...  \n",
       "95  I've used this phone for over a month now and ...  \n",
       "96  Undoubtedly Iphone 11 is the most successful m...  \n",
       "97  Excellent camera 📸 And Display touching very N...  \n",
       "98  I purchased the iPhone 11 a month back. I must...  \n",
       "99  The ultimate performance\\nCamera is superb\\nTh...  \n",
       "\n",
       "[100 rows x 3 columns]"
      ]
     },
     "execution_count": 609,
     "metadata": {},
     "output_type": "execute_result"
    }
   ],
   "source": [
    "Reviews"
   ]
  },
  {
   "cell_type": "markdown",
   "id": "9c9f6df6",
   "metadata": {},
   "source": [
    "Q6: Scrape data for first 100 sneakers you find when you visit flipkart.com andsearch for “sneakers” in the search field."
   ]
  },
  {
   "cell_type": "code",
   "execution_count": 724,
   "id": "251eaa03",
   "metadata": {},
   "outputs": [],
   "source": [
    "driver.get(flipkart)"
   ]
  },
  {
   "cell_type": "code",
   "execution_count": 683,
   "id": "ca0111ef",
   "metadata": {},
   "outputs": [],
   "source": [
    "# closing login dialogue box\n",
    "driver.find_element_by_xpath('//button[@class=\"_2KpZ6l _2doB4z\"]').click()"
   ]
  },
  {
   "cell_type": "code",
   "execution_count": 725,
   "id": "758d2bea",
   "metadata": {},
   "outputs": [],
   "source": [
    "# search bar\n",
    "search_product=driver.find_element_by_xpath('/html/body/div[1]/div/div[1]/div[1]/div[2]/div[2]/form/div/div/input')\n",
    "search_product.send_keys('sneakers')"
   ]
  },
  {
   "cell_type": "code",
   "execution_count": 726,
   "id": "d5a707d2",
   "metadata": {},
   "outputs": [],
   "source": [
    "search_button=driver.find_element_by_xpath('//button[@class=\"L0Z3Pu\"]')\n",
    "search_button.click()"
   ]
  },
  {
   "cell_type": "code",
   "execution_count": 727,
   "id": "ef70ea68",
   "metadata": {},
   "outputs": [],
   "source": [
    "brand=[]\n",
    "product_description=[]\n",
    "price=[]\n",
    "discount=[]"
   ]
  },
  {
   "cell_type": "code",
   "execution_count": 728,
   "id": "372c6d60",
   "metadata": {},
   "outputs": [],
   "source": [
    "driver.find_element_by_xpath('/html/body/div/div/div[3]/div[1]/div[1]/div/div/div/section[3]/label/div[1]').click()"
   ]
  },
  {
   "cell_type": "code",
   "execution_count": 729,
   "id": "925d530d",
   "metadata": {
    "scrolled": true
   },
   "outputs": [
    {
     "data": {
      "text/plain": [
       "['Smoky',\n",
       " 'BIRDE',\n",
       " 'BRUTON',\n",
       " 'D-SNEAKERZ',\n",
       " 'Magnolia',\n",
       " 'corsac',\n",
       " 'ASTEROID',\n",
       " 'Smoky',\n",
       " 'Chevit',\n",
       " 'World Wear Footwear',\n",
       " 'World Wear Footwear',\n",
       " 'D-SNEAKERZ',\n",
       " 'Chevit',\n",
       " 'KWIK FIT',\n",
       " 'aadi',\n",
       " 'BERSACHE',\n",
       " 'ASTEROID',\n",
       " 'Chevit',\n",
       " 'Kraasa',\n",
       " 'ROCKFIELD',\n",
       " 'Labbin',\n",
       " 'SCATCHITE',\n",
       " 'Chevit',\n",
       " 'PUMA',\n",
       " 'Layasa',\n",
       " 'World Wear Footwear',\n",
       " 'Chevit',\n",
       " 'Extoes',\n",
       " 'Kraasa',\n",
       " 'BRUTON',\n",
       " 'aadi',\n",
       " 'ROCKFIELD',\n",
       " 'CLYMB',\n",
       " 'Rzisbo',\n",
       " 'BRUTON',\n",
       " 'ADIDAS ORIGINALS',\n",
       " 'Chevit',\n",
       " 'Shoes Bank',\n",
       " 'BRUTON',\n",
       " 'ADIDAS ORIGINALS']"
      ]
     },
     "execution_count": 729,
     "metadata": {},
     "output_type": "execute_result"
    }
   ],
   "source": [
    "# extracting tags of brand name\n",
    "brand_tag=driver.find_elements_by_xpath('//div[@class=\"_2WkVRV\"]')\n",
    "\n",
    "# extracting text from tags\n",
    "\n",
    "for i in brand_tag:\n",
    "    br=i.text\n",
    "    brand.append(br)\n",
    "brand"
   ]
  },
  {
   "cell_type": "code",
   "execution_count": 730,
   "id": "9ff21432",
   "metadata": {},
   "outputs": [
    {
     "data": {
      "text/plain": [
       "40"
      ]
     },
     "execution_count": 730,
     "metadata": {},
     "output_type": "execute_result"
    }
   ],
   "source": [
    "len(brand)"
   ]
  },
  {
   "cell_type": "code",
   "execution_count": 731,
   "id": "4ce8bcda",
   "metadata": {},
   "outputs": [
    {
     "data": {
      "text/plain": [
       "['Trendy Sneakers For Men',\n",
       " 'Stylish Comfortable Lightweight, Breathable Casual Shoe...',\n",
       " 'Modern Trendy Sneakers Shoes Sneakers For Men',\n",
       " \"Casual , Partywear Sneakers Shoes For Men's And Boys Wh...\",\n",
       " 'Sneakers For Men',\n",
       " 'STYLISH MENS BLACK SNEAKER Sneakers For Men',\n",
       " \"Original Luxury Branded Fashionable Men's Casual Walkin...\",\n",
       " '13 Sneakers For Men',\n",
       " 'Super Stylish & Trendy Combo Pack of 02 Pairs Sneakers ...',\n",
       " '5011-Latest Collection Stylish & Trendy Casual Sneakers...',\n",
       " '5013-Latest Collection Stylish & Trendy of casuals Snea...',\n",
       " 'Training & Gym Shoes Light Weight Running Casual Shoes,...',\n",
       " 'Perfect & Affordable Combo Pack of 02 Pairs Sneakers Ou...',\n",
       " 'Kwik FIT casual sneaker shoes and partywear shoes Casua...',\n",
       " 'Sneakers For Men',\n",
       " 'Sneakers For Men',\n",
       " 'Original Luxury Branded Black Fancy Casual Walking Part...',\n",
       " '516 Trendy Star Perfect Sneakers For Men',\n",
       " 'Casuals, Canvas, Partywear Sneakers For Men',\n",
       " 'Sneakers For Men',\n",
       " 'Sneakers For Men',\n",
       " 'Sneakers Sneakers For Men',\n",
       " 'Perfect Combo Pack of 02 Pairs Casual Sneakers Outdoor ...',\n",
       " 'G. Vilas 2 Core Sneakers For Men',\n",
       " 'Sneakers For Men',\n",
       " 'Men 5014 Latest Collection Stylish Casual Sports Loafer...',\n",
       " 'Super 445 Fashion Sneakers For Men',\n",
       " 'Trendy comfertable Combo pack Of 2 Sneakers For Men',\n",
       " 'Series 7 Sneakers For Men',\n",
       " 'Combo Pack Of 4 Casual Shoes Loafer Shoes Sneakers For ...',\n",
       " 'Sneakers For Men',\n",
       " 'Sneakers For Men',\n",
       " 'Sneakers For Men',\n",
       " 'Sneakers For Men',\n",
       " 'Sneaker Sneakers For Men',\n",
       " 'SMOOTH RUNNER Sneakers For Men',\n",
       " 'Sneakers For Men',\n",
       " \"White Sneaker For Men's/Boy's Sneakers For Men\",\n",
       " 'Lattest Sneakers Shoe Sneakers For Men',\n",
       " 'NY 92 STRIPES Sneakers For Men']"
      ]
     },
     "execution_count": 731,
     "metadata": {},
     "output_type": "execute_result"
    }
   ],
   "source": [
    "# Extracting tags of description of products\n",
    "des=driver.find_elements_by_xpath('//a[@class=\"IRpwTa\"]')\n",
    "\n",
    "# Extracting text from tags\n",
    "for i in des:\n",
    "    d=i.text\n",
    "    product_description.append(d)\n",
    "    \n",
    "product_description"
   ]
  },
  {
   "cell_type": "code",
   "execution_count": 732,
   "id": "66996fa2",
   "metadata": {},
   "outputs": [
    {
     "data": {
      "text/plain": [
       "40"
      ]
     },
     "execution_count": 732,
     "metadata": {},
     "output_type": "execute_result"
    }
   ],
   "source": [
    "len(des)"
   ]
  },
  {
   "cell_type": "code",
   "execution_count": 733,
   "id": "d627c418",
   "metadata": {},
   "outputs": [
    {
     "data": {
      "text/plain": [
       "['₹499',\n",
       " '₹370',\n",
       " '₹209',\n",
       " '₹249',\n",
       " '₹374',\n",
       " '₹449',\n",
       " '₹424',\n",
       " '₹499',\n",
       " '₹599',\n",
       " '₹159',\n",
       " '₹159',\n",
       " '₹248',\n",
       " '₹499',\n",
       " '₹347',\n",
       " '₹317',\n",
       " '₹515',\n",
       " '₹449',\n",
       " '₹209',\n",
       " '₹394',\n",
       " '₹749',\n",
       " '₹424',\n",
       " '₹348',\n",
       " '₹544',\n",
       " '₹1,541',\n",
       " '₹399',\n",
       " '₹209',\n",
       " '₹399',\n",
       " '₹449',\n",
       " '₹394',\n",
       " '₹449',\n",
       " '₹269',\n",
       " '₹549',\n",
       " '₹534',\n",
       " '₹549',\n",
       " '₹249',\n",
       " '₹3,520',\n",
       " '₹249',\n",
       " '₹349',\n",
       " '₹249',\n",
       " '₹3,238']"
      ]
     },
     "execution_count": 733,
     "metadata": {},
     "output_type": "execute_result"
    }
   ],
   "source": [
    "# Extracting tags of price\n",
    "price_tag=driver.find_elements_by_xpath('//div[@class=\"_30jeq3\"]')\n",
    "\n",
    "# Extracting price from tags\n",
    "for i in price_tag:\n",
    "    p=i.text\n",
    "    price.append(p)\n",
    "price"
   ]
  },
  {
   "cell_type": "code",
   "execution_count": 734,
   "id": "23611b28",
   "metadata": {},
   "outputs": [
    {
     "data": {
      "text/plain": [
       "40"
      ]
     },
     "execution_count": 734,
     "metadata": {},
     "output_type": "execute_result"
    }
   ],
   "source": [
    "len(price)"
   ]
  },
  {
   "cell_type": "code",
   "execution_count": 735,
   "id": "c79b1b1c",
   "metadata": {},
   "outputs": [],
   "source": [
    "# Extracting tags for discount\n",
    "disc=driver.find_elements_by_xpath('//div[@class=\"_3Ay6Sb\"]/span[1]')\n",
    "\n",
    "# Extracting text from tags\n",
    "for i in disc:\n",
    "    d=i.text\n",
    "    discount.append(d)"
   ]
  },
  {
   "cell_type": "code",
   "execution_count": 736,
   "id": "2b2d7f01",
   "metadata": {},
   "outputs": [
    {
     "data": {
      "text/plain": [
       "['58% off',\n",
       " '62% off',\n",
       " '83% off',\n",
       " '62% off',\n",
       " '62% off',\n",
       " '70% off',\n",
       " '78% off',\n",
       " '58% off',\n",
       " '62% off',\n",
       " '68% off',\n",
       " '68% off',\n",
       " '75% off',\n",
       " '72% off',\n",
       " '82% off',\n",
       " '68% off',\n",
       " '14% off',\n",
       " '55% off',\n",
       " '73% off',\n",
       " '60% off',\n",
       " '53% off',\n",
       " '57% off',\n",
       " '65% off',\n",
       " '76% off',\n",
       " '65% off',\n",
       " '60% off',\n",
       " '58% off',\n",
       " '20% off',\n",
       " '55% off',\n",
       " '60% off',\n",
       " '87% off',\n",
       " '73% off',\n",
       " '63% off',\n",
       " '64% off',\n",
       " '45% off',\n",
       " '80% off',\n",
       " '53% off',\n",
       " '68% off',\n",
       " '65% off',\n",
       " '80% off',\n",
       " '53% off']"
      ]
     },
     "execution_count": 736,
     "metadata": {},
     "output_type": "execute_result"
    }
   ],
   "source": [
    "discount"
   ]
  },
  {
   "cell_type": "code",
   "execution_count": 737,
   "id": "969b8eb0",
   "metadata": {},
   "outputs": [
    {
     "data": {
      "text/plain": [
       "40"
      ]
     },
     "execution_count": 737,
     "metadata": {},
     "output_type": "execute_result"
    }
   ],
   "source": [
    "len(discount)"
   ]
  },
  {
   "cell_type": "code",
   "execution_count": 738,
   "id": "02fa607e",
   "metadata": {},
   "outputs": [],
   "source": [
    "np=driver.find_element_by_xpath('/html/body/div/div/div[3]/div/div[2]/div[12]/div/div/nav/a[11]')\n",
    "np.click()"
   ]
  },
  {
   "cell_type": "code",
   "execution_count": 739,
   "id": "162c5168",
   "metadata": {},
   "outputs": [],
   "source": [
    "# extracting tags of brand name\n",
    "brand_tag=driver.find_elements_by_xpath('//div[@class=\"_2WkVRV\"]')\n",
    "\n",
    "# extracting text from tags\n",
    "\n",
    "for i in brand_tag:\n",
    "    br=i.text\n",
    "    brand.append(br)\n",
    "\n",
    "# Extracting tags of description of products\n",
    "des=driver.find_elements_by_xpath('//a[@class=\"IRpwTa\"]')\n",
    "\n",
    "# Extracting text from tags\n",
    "for i in des:\n",
    "    d=i.text\n",
    "    product_description.append(d)\n",
    "    \n",
    "\n",
    "# Extracting tags of price\n",
    "price_tag=driver.find_elements_by_xpath('//div[@class=\"_30jeq3\"]')\n",
    "\n",
    "# Extracting price from tags\n",
    "for i in price_tag:\n",
    "    p=i.text\n",
    "    price.append(p)\n",
    "\n",
    "# Extracting tags for discount\n",
    "disc=driver.find_elements_by_xpath('//div[@class=\"_3Ay6Sb\"]/span[1]')\n",
    "\n",
    "# Extracting text from tags\n",
    "for i in disc:\n",
    "    d=i.text\n",
    "    discount.append(d)"
   ]
  },
  {
   "cell_type": "code",
   "execution_count": 740,
   "id": "e6249555",
   "metadata": {},
   "outputs": [
    {
     "name": "stdout",
     "output_type": "stream",
     "text": [
      "80 80 80 80\n"
     ]
    }
   ],
   "source": [
    "print(len(brand),len(product_description),len(price),len(discount))"
   ]
  },
  {
   "cell_type": "code",
   "execution_count": 741,
   "id": "b94d0050",
   "metadata": {},
   "outputs": [],
   "source": [
    "np.click()"
   ]
  },
  {
   "cell_type": "code",
   "execution_count": 742,
   "id": "f443efcc",
   "metadata": {},
   "outputs": [],
   "source": [
    "# extracting tags of brand name\n",
    "brand_tag=driver.find_elements_by_xpath('//div[@class=\"_2WkVRV\"]')\n",
    "brand_tag=brand_tag[0:20]\n",
    "\n",
    "# extracting text from tags\n",
    "\n",
    "for i in brand_tag:\n",
    "    br=i.text\n",
    "    brand.append(br)\n",
    "\n",
    "# Extracting tags of description of products\n",
    "des=driver.find_elements_by_xpath('//a[@class=\"IRpwTa\"]')\n",
    "des=des[0:20]\n",
    "\n",
    "# Extracting text from tags\n",
    "for i in des:\n",
    "    d=i.text\n",
    "    product_description.append(d)\n",
    "    \n",
    "\n",
    "# Extracting tags of price\n",
    "price_tag=driver.find_elements_by_xpath('//div[@class=\"_30jeq3\"]')\n",
    "price_tag=price_tag[0:20]\n",
    "\n",
    "# Extracting price from tags\n",
    "for i in price_tag:\n",
    "    p=i.text\n",
    "    price.append(p)\n",
    "\n",
    "# Extracting tags for discount\n",
    "disc=driver.find_elements_by_xpath('//div[@class=\"_3Ay6Sb\"]/span[1]')\n",
    "disc=disc[0:20]\n",
    "\n",
    "# Extracting text from tags\n",
    "for i in disc:\n",
    "    d=i.text\n",
    "    discount.append(d)"
   ]
  },
  {
   "cell_type": "code",
   "execution_count": 743,
   "id": "63631c45",
   "metadata": {},
   "outputs": [
    {
     "name": "stdout",
     "output_type": "stream",
     "text": [
      "100 100 100 100\n"
     ]
    }
   ],
   "source": [
    "print(len(brand),len(product_description),len(price),len(discount))"
   ]
  },
  {
   "cell_type": "code",
   "execution_count": 744,
   "id": "80d96cba",
   "metadata": {},
   "outputs": [],
   "source": [
    "sneakers=pd.DataFrame({})\n",
    "sneakers['Brand']=brand\n",
    "sneakers['Product Description']=product_description\n",
    "sneakers['Price']=price\n",
    "sneakers['Discount']=discount"
   ]
  },
  {
   "cell_type": "code",
   "execution_count": 745,
   "id": "c1c01f8a",
   "metadata": {},
   "outputs": [
    {
     "data": {
      "text/html": [
       "<div>\n",
       "<style scoped>\n",
       "    .dataframe tbody tr th:only-of-type {\n",
       "        vertical-align: middle;\n",
       "    }\n",
       "\n",
       "    .dataframe tbody tr th {\n",
       "        vertical-align: top;\n",
       "    }\n",
       "\n",
       "    .dataframe thead th {\n",
       "        text-align: right;\n",
       "    }\n",
       "</style>\n",
       "<table border=\"1\" class=\"dataframe\">\n",
       "  <thead>\n",
       "    <tr style=\"text-align: right;\">\n",
       "      <th></th>\n",
       "      <th>Brand</th>\n",
       "      <th>Product Description</th>\n",
       "      <th>Price</th>\n",
       "      <th>Discount</th>\n",
       "    </tr>\n",
       "  </thead>\n",
       "  <tbody>\n",
       "    <tr>\n",
       "      <th>0</th>\n",
       "      <td>Smoky</td>\n",
       "      <td>Trendy Sneakers For Men</td>\n",
       "      <td>₹499</td>\n",
       "      <td>58% off</td>\n",
       "    </tr>\n",
       "    <tr>\n",
       "      <th>1</th>\n",
       "      <td>BIRDE</td>\n",
       "      <td>Stylish Comfortable Lightweight, Breathable Ca...</td>\n",
       "      <td>₹370</td>\n",
       "      <td>62% off</td>\n",
       "    </tr>\n",
       "    <tr>\n",
       "      <th>2</th>\n",
       "      <td>BRUTON</td>\n",
       "      <td>Modern Trendy Sneakers Shoes Sneakers For Men</td>\n",
       "      <td>₹209</td>\n",
       "      <td>83% off</td>\n",
       "    </tr>\n",
       "    <tr>\n",
       "      <th>3</th>\n",
       "      <td>D-SNEAKERZ</td>\n",
       "      <td>Casual , Partywear Sneakers Shoes For Men's An...</td>\n",
       "      <td>₹249</td>\n",
       "      <td>62% off</td>\n",
       "    </tr>\n",
       "    <tr>\n",
       "      <th>4</th>\n",
       "      <td>Magnolia</td>\n",
       "      <td>Sneakers For Men</td>\n",
       "      <td>₹374</td>\n",
       "      <td>62% off</td>\n",
       "    </tr>\n",
       "    <tr>\n",
       "      <th>...</th>\n",
       "      <td>...</td>\n",
       "      <td>...</td>\n",
       "      <td>...</td>\n",
       "      <td>...</td>\n",
       "    </tr>\n",
       "    <tr>\n",
       "      <th>95</th>\n",
       "      <td>PUMA</td>\n",
       "      <td>X-Ray Sneakers For Men</td>\n",
       "      <td>₹2,627</td>\n",
       "      <td>60% off</td>\n",
       "    </tr>\n",
       "    <tr>\n",
       "      <th>96</th>\n",
       "      <td>Layasa</td>\n",
       "      <td>Sneakers For Men</td>\n",
       "      <td>₹399</td>\n",
       "      <td>49% off</td>\n",
       "    </tr>\n",
       "    <tr>\n",
       "      <th>97</th>\n",
       "      <td>Hot &amp; Knot</td>\n",
       "      <td>High Top Casual Party Wear Boot Stylish Sneake...</td>\n",
       "      <td>₹509</td>\n",
       "      <td>51% off</td>\n",
       "    </tr>\n",
       "    <tr>\n",
       "      <th>98</th>\n",
       "      <td>PUMA</td>\n",
       "      <td>Blend Sneakers For Men</td>\n",
       "      <td>₹1,449</td>\n",
       "      <td>50% off</td>\n",
       "    </tr>\n",
       "    <tr>\n",
       "      <th>99</th>\n",
       "      <td>Extoes</td>\n",
       "      <td>Sneakers For Men</td>\n",
       "      <td>₹248</td>\n",
       "      <td>57% off</td>\n",
       "    </tr>\n",
       "  </tbody>\n",
       "</table>\n",
       "<p>100 rows × 4 columns</p>\n",
       "</div>"
      ],
      "text/plain": [
       "         Brand                                Product Description   Price  \\\n",
       "0        Smoky                            Trendy Sneakers For Men    ₹499   \n",
       "1        BIRDE  Stylish Comfortable Lightweight, Breathable Ca...    ₹370   \n",
       "2       BRUTON      Modern Trendy Sneakers Shoes Sneakers For Men    ₹209   \n",
       "3   D-SNEAKERZ  Casual , Partywear Sneakers Shoes For Men's An...    ₹249   \n",
       "4     Magnolia                                   Sneakers For Men    ₹374   \n",
       "..         ...                                                ...     ...   \n",
       "95        PUMA                             X-Ray Sneakers For Men  ₹2,627   \n",
       "96      Layasa                                   Sneakers For Men    ₹399   \n",
       "97  Hot & Knot  High Top Casual Party Wear Boot Stylish Sneake...    ₹509   \n",
       "98        PUMA                             Blend Sneakers For Men  ₹1,449   \n",
       "99      Extoes                                   Sneakers For Men    ₹248   \n",
       "\n",
       "   Discount  \n",
       "0   58% off  \n",
       "1   62% off  \n",
       "2   83% off  \n",
       "3   62% off  \n",
       "4   62% off  \n",
       "..      ...  \n",
       "95  60% off  \n",
       "96  49% off  \n",
       "97  51% off  \n",
       "98  50% off  \n",
       "99  57% off  \n",
       "\n",
       "[100 rows x 4 columns]"
      ]
     },
     "execution_count": 745,
     "metadata": {},
     "output_type": "execute_result"
    }
   ],
   "source": [
    "sneakers"
   ]
  },
  {
   "cell_type": "markdown",
   "id": "d5803fcb",
   "metadata": {},
   "source": [
    "Q7: Go to the link - https://www.myntra.com/shoes\n",
    "Set Price filter to “Rs. 7149 to Rs. 14099 ” , Color filter to “Black”, as shown inthe below image."
   ]
  },
  {
   "cell_type": "code",
   "execution_count": 866,
   "id": "a7bb1eda",
   "metadata": {},
   "outputs": [],
   "source": [
    "myntra='https://www.myntra.com/shoes'\n",
    "driver.get(myntra)"
   ]
  },
  {
   "cell_type": "code",
   "execution_count": 867,
   "id": "ca00e593",
   "metadata": {},
   "outputs": [],
   "source": [
    "# price filter\n",
    "driver.find_element_by_xpath('/html/body/div[2]/div/div[1]/main/div[3]/div[1]/section/div/div[5]/ul/li[2]/label/div').click()"
   ]
  },
  {
   "cell_type": "code",
   "execution_count": 868,
   "id": "3994ba14",
   "metadata": {},
   "outputs": [],
   "source": [
    "driver.find_element_by_xpath('/html/body/div[2]/div/div[1]/main/div[3]/div[1]/section/div/div[6]/ul/li[1]/label/div').click()"
   ]
  },
  {
   "cell_type": "code",
   "execution_count": 871,
   "id": "43a006c0",
   "metadata": {},
   "outputs": [],
   "source": [
    "brand=[]\n",
    "description=[]\n",
    "price=[]"
   ]
  },
  {
   "cell_type": "code",
   "execution_count": 872,
   "id": "84bc8d54",
   "metadata": {},
   "outputs": [],
   "source": [
    "# extracting tags of brand name\n",
    "brand_tag=driver.find_elements_by_xpath('//h3[@class=\"product-brand\"]')\n",
    "\n",
    "# extracting text from tags\n",
    "\n",
    "for i in brand_tag:\n",
    "    br=i.text\n",
    "    brand.append(br)"
   ]
  },
  {
   "cell_type": "code",
   "execution_count": 873,
   "id": "0065d80b",
   "metadata": {},
   "outputs": [
    {
     "data": {
      "text/plain": [
       "50"
      ]
     },
     "execution_count": 873,
     "metadata": {},
     "output_type": "execute_result"
    }
   ],
   "source": [
    "len(brand)"
   ]
  },
  {
   "cell_type": "code",
   "execution_count": 874,
   "id": "753f6458",
   "metadata": {},
   "outputs": [],
   "source": [
    "# Extracting tags of description of products\n",
    "des=driver.find_elements_by_xpath('//h4[@class=\"product-product\"]')\n",
    "\n",
    "# Extracting text from tags\n",
    "for i in des:\n",
    "    d=i.text\n",
    "    description.append(d)"
   ]
  },
  {
   "cell_type": "code",
   "execution_count": 875,
   "id": "9a4c1801",
   "metadata": {},
   "outputs": [
    {
     "data": {
      "text/plain": [
       "50"
      ]
     },
     "execution_count": 875,
     "metadata": {},
     "output_type": "execute_result"
    }
   ],
   "source": [
    "len(description)"
   ]
  },
  {
   "cell_type": "code",
   "execution_count": 876,
   "id": "248f979e",
   "metadata": {},
   "outputs": [],
   "source": [
    "# Extracting tags of price\n",
    "price_tag=driver.find_elements_by_xpath('//div[@class=\"product-price\"]/span[1]')\n",
    "\n",
    "# Extracting price from tags\n",
    "for i in price_tag:\n",
    "    p=i.text\n",
    "    price.append(p)"
   ]
  },
  {
   "cell_type": "code",
   "execution_count": 877,
   "id": "781ff06f",
   "metadata": {},
   "outputs": [
    {
     "data": {
      "text/plain": [
       "50"
      ]
     },
     "execution_count": 877,
     "metadata": {},
     "output_type": "execute_result"
    }
   ],
   "source": [
    "len(price)"
   ]
  },
  {
   "cell_type": "code",
   "execution_count": 878,
   "id": "18e917ed",
   "metadata": {},
   "outputs": [],
   "source": [
    "next_=driver.find_element_by_xpath('/html/body/div[2]/div/div[1]/main/div[3]/div[2]/div/div[2]/section/div[2]/ul/li[12]')\n",
    "next_.click()"
   ]
  },
  {
   "cell_type": "code",
   "execution_count": 879,
   "id": "7f10b5b0",
   "metadata": {},
   "outputs": [],
   "source": [
    "# extracting tags of brand name\n",
    "brand_tag=driver.find_elements_by_xpath('//h3[@class=\"product-brand\"]')\n",
    "\n",
    "# extracting text from tags\n",
    "\n",
    "for i in brand_tag:\n",
    "    br=i.text\n",
    "    brand.append(br)\n",
    "\n",
    "# Extracting tags of description of products\n",
    "des=driver.find_elements_by_xpath('//h4[@class=\"product-product\"]')\n",
    "\n",
    "# Extracting text from tags\n",
    "for i in des:\n",
    "    d=i.text\n",
    "    description.append(d)\n",
    "\n",
    "# Extracting tags of price\n",
    "price_tag=driver.find_elements_by_xpath('//div[@class=\"product-price\"]/span[1]')\n",
    "\n",
    "# Extracting price from tags\n",
    "for i in price_tag:\n",
    "    p=i.text\n",
    "    price.append(p)"
   ]
  },
  {
   "cell_type": "code",
   "execution_count": 880,
   "id": "35ca5e9d",
   "metadata": {},
   "outputs": [
    {
     "name": "stdout",
     "output_type": "stream",
     "text": [
      "100 100 100\n"
     ]
    }
   ],
   "source": [
    "print(len(brand),len(description),len(price))"
   ]
  },
  {
   "cell_type": "code",
   "execution_count": 881,
   "id": "09de577a",
   "metadata": {},
   "outputs": [],
   "source": [
    "shoes=pd.DataFrame({})\n",
    "shoes['Brand']=brand\n",
    "shoes['Shoe Description']=description\n",
    "shoes['Price']=price"
   ]
  },
  {
   "cell_type": "code",
   "execution_count": 885,
   "id": "569d9fcb",
   "metadata": {},
   "outputs": [
    {
     "data": {
      "text/html": [
       "<div>\n",
       "<style scoped>\n",
       "    .dataframe tbody tr th:only-of-type {\n",
       "        vertical-align: middle;\n",
       "    }\n",
       "\n",
       "    .dataframe tbody tr th {\n",
       "        vertical-align: top;\n",
       "    }\n",
       "\n",
       "    .dataframe thead th {\n",
       "        text-align: right;\n",
       "    }\n",
       "</style>\n",
       "<table border=\"1\" class=\"dataframe\">\n",
       "  <thead>\n",
       "    <tr style=\"text-align: right;\">\n",
       "      <th></th>\n",
       "      <th>Brand</th>\n",
       "      <th>Shoe Description</th>\n",
       "      <th>Price</th>\n",
       "    </tr>\n",
       "  </thead>\n",
       "  <tbody>\n",
       "    <tr>\n",
       "      <th>0</th>\n",
       "      <td>ALDO</td>\n",
       "      <td>Men Leather Loafers</td>\n",
       "      <td>Rs. 11199Rs. 15999</td>\n",
       "    </tr>\n",
       "    <tr>\n",
       "      <th>1</th>\n",
       "      <td>ALDO</td>\n",
       "      <td>Men Leather Driving Shoes</td>\n",
       "      <td>Rs. 9099Rs. 12999</td>\n",
       "    </tr>\n",
       "    <tr>\n",
       "      <th>2</th>\n",
       "      <td>ALDO</td>\n",
       "      <td>Men Printed Sneakers</td>\n",
       "      <td>Rs. 9099Rs. 12999</td>\n",
       "    </tr>\n",
       "    <tr>\n",
       "      <th>3</th>\n",
       "      <td>ALDO</td>\n",
       "      <td>Men Woven Design Sneakers</td>\n",
       "      <td>Rs. 13999</td>\n",
       "    </tr>\n",
       "    <tr>\n",
       "      <th>4</th>\n",
       "      <td>ALDO</td>\n",
       "      <td>Men Leather Loafers</td>\n",
       "      <td>Rs. 11199Rs. 15999</td>\n",
       "    </tr>\n",
       "    <tr>\n",
       "      <th>...</th>\n",
       "      <td>...</td>\n",
       "      <td>...</td>\n",
       "      <td>...</td>\n",
       "    </tr>\n",
       "    <tr>\n",
       "      <th>95</th>\n",
       "      <td>Sole To Soul</td>\n",
       "      <td>Platform Peep Toes with Buckles</td>\n",
       "      <td>Rs. 7690</td>\n",
       "    </tr>\n",
       "    <tr>\n",
       "      <th>96</th>\n",
       "      <td>Royal Enfield</td>\n",
       "      <td>Cabo WP Riding Boots</td>\n",
       "      <td>Rs. 8075Rs. 8500</td>\n",
       "    </tr>\n",
       "    <tr>\n",
       "      <th>97</th>\n",
       "      <td>ASICS</td>\n",
       "      <td>Men Colourblocked PU Sneakers</td>\n",
       "      <td>Rs. 9999</td>\n",
       "    </tr>\n",
       "    <tr>\n",
       "      <th>98</th>\n",
       "      <td>ALDO</td>\n",
       "      <td>Leather Slim Heels</td>\n",
       "      <td>Rs. 7199Rs. 11999</td>\n",
       "    </tr>\n",
       "    <tr>\n",
       "      <th>99</th>\n",
       "      <td>ALDO</td>\n",
       "      <td>Wedge Sandals</td>\n",
       "      <td>Rs. 7999</td>\n",
       "    </tr>\n",
       "  </tbody>\n",
       "</table>\n",
       "<p>100 rows × 3 columns</p>\n",
       "</div>"
      ],
      "text/plain": [
       "            Brand                 Shoe Description               Price\n",
       "0            ALDO              Men Leather Loafers  Rs. 11199Rs. 15999\n",
       "1            ALDO        Men Leather Driving Shoes   Rs. 9099Rs. 12999\n",
       "2            ALDO             Men Printed Sneakers   Rs. 9099Rs. 12999\n",
       "3            ALDO        Men Woven Design Sneakers           Rs. 13999\n",
       "4            ALDO              Men Leather Loafers  Rs. 11199Rs. 15999\n",
       "..            ...                              ...                 ...\n",
       "95   Sole To Soul  Platform Peep Toes with Buckles            Rs. 7690\n",
       "96  Royal Enfield             Cabo WP Riding Boots    Rs. 8075Rs. 8500\n",
       "97          ASICS    Men Colourblocked PU Sneakers            Rs. 9999\n",
       "98           ALDO               Leather Slim Heels   Rs. 7199Rs. 11999\n",
       "99           ALDO                    Wedge Sandals            Rs. 7999\n",
       "\n",
       "[100 rows x 3 columns]"
      ]
     },
     "execution_count": 885,
     "metadata": {},
     "output_type": "execute_result"
    }
   ],
   "source": [
    "shoes"
   ]
  },
  {
   "cell_type": "markdown",
   "id": "94af56a9",
   "metadata": {},
   "source": [
    "Q8: Go to webpage https://www.amazon.in/\n",
    "Enter “Laptop” in the search field and then click the search icon.\n",
    "Then set CPU Type filter to “Intel Core i7” and “Intel Core i9” as shown in the below image:"
   ]
  },
  {
   "cell_type": "code",
   "execution_count": 1460,
   "id": "c1851fe1",
   "metadata": {},
   "outputs": [],
   "source": [
    "amazon='https://www.amazon.in/'\n",
    "driver.get(amazon)"
   ]
  },
  {
   "cell_type": "code",
   "execution_count": 1461,
   "id": "0a37d08c",
   "metadata": {},
   "outputs": [],
   "source": [
    "# Search bar\n",
    "search=driver.find_element_by_xpath('/html/body/div[2]/header/div/div[1]/div[2]/div/form/div[2]/div[1]/input')\n",
    "search.send_keys('Laptop')"
   ]
  },
  {
   "cell_type": "code",
   "execution_count": 1462,
   "id": "86e5fcb1",
   "metadata": {},
   "outputs": [],
   "source": [
    "# search button\n",
    "search_button=driver.find_element_by_xpath('/html/body/div[2]/header/div/div[1]/div[2]/div/form/div[3]/div/span/input')\n",
    "search_button.click()"
   ]
  },
  {
   "cell_type": "code",
   "execution_count": 1463,
   "id": "ce850975",
   "metadata": {},
   "outputs": [],
   "source": [
    "title=[]\n",
    "num_ratings=[]\n",
    "rating=[]\n",
    "price=[]"
   ]
  },
  {
   "cell_type": "code",
   "execution_count": 1464,
   "id": "1c12bfcf",
   "metadata": {},
   "outputs": [],
   "source": [
    "# setting cpu filter\n",
    "\n",
    "# for intel core 17\n",
    "i7=driver.find_element_by_xpath('/html/body/div[2]/div[2]/div[1]/div[2]/div/div[3]/span/div[1]/div/div/div[6]/ul[5]/li[12]/span/a/div/label/i').click()\n",
    "i7"
   ]
  },
  {
   "cell_type": "code",
   "execution_count": 1465,
   "id": "037bd90c",
   "metadata": {},
   "outputs": [],
   "source": [
    "# ratings are not available for some of the products so i'm applying ratings filter \n",
    "driver.find_element_by_xpath('/html/body/div[2]/div[2]/div[1]/div[2]/div/div[3]/span/div[1]/div/div/div[3]/ul/li[1]/span/a/section/i').click()"
   ]
  },
  {
   "cell_type": "code",
   "execution_count": 1466,
   "id": "b345b911",
   "metadata": {},
   "outputs": [],
   "source": [
    "# Extracting tags for title\n",
    "title_tag=driver.find_elements_by_xpath('//span[@class=\"a-size-medium a-color-base a-text-normal\"]')"
   ]
  },
  {
   "cell_type": "code",
   "execution_count": 1467,
   "id": "db33708f",
   "metadata": {},
   "outputs": [],
   "source": [
    "title_tag=title_tag[0:10]"
   ]
  },
  {
   "cell_type": "code",
   "execution_count": 1468,
   "id": "343db334",
   "metadata": {},
   "outputs": [],
   "source": [
    "# Extracting Text from tags\n",
    "for i in title_tag:\n",
    "    t=i.text\n",
    "    title.append(t)"
   ]
  },
  {
   "cell_type": "code",
   "execution_count": 1469,
   "id": "dab832ce",
   "metadata": {},
   "outputs": [
    {
     "data": {
      "text/plain": [
       "10"
      ]
     },
     "execution_count": 1469,
     "metadata": {},
     "output_type": "execute_result"
    }
   ],
   "source": [
    "len(title)"
   ]
  },
  {
   "cell_type": "code",
   "execution_count": 1470,
   "id": "03057b15",
   "metadata": {},
   "outputs": [],
   "source": [
    "# Number of Ratings\n",
    "rn_tag=driver.find_elements_by_xpath('//div[@class=\"a-row a-size-small\"]')\n",
    "rn_tag=rn_tag[0:10]"
   ]
  },
  {
   "cell_type": "code",
   "execution_count": 1471,
   "id": "80b707fc",
   "metadata": {},
   "outputs": [
    {
     "data": {
      "text/plain": [
       "['3', '1', '56', '1', '38', '147', '89', '7', '13', '94']"
      ]
     },
     "execution_count": 1471,
     "metadata": {},
     "output_type": "execute_result"
    }
   ],
   "source": [
    "for i in rn_tag:\n",
    "    r=i.text\n",
    "    num_ratings.append(r)\n",
    "num_ratings"
   ]
  },
  {
   "cell_type": "code",
   "execution_count": 1493,
   "id": "b41ee87c",
   "metadata": {},
   "outputs": [],
   "source": [
    "price_tag=driver.find_elements_by_xpath('//span[@class=\"a-price-whole\"]')\n",
    "price_tag=price_tag[0:10]"
   ]
  },
  {
   "cell_type": "code",
   "execution_count": 1494,
   "id": "9b8ed2f3",
   "metadata": {},
   "outputs": [],
   "source": [
    "for i in price_tag:\n",
    "    p=i.text\n",
    "    price.append(p)"
   ]
  },
  {
   "cell_type": "code",
   "execution_count": 1495,
   "id": "317b2e35",
   "metadata": {},
   "outputs": [
    {
     "data": {
      "text/plain": [
       "['1,29,990',\n",
       " '1,24,990',\n",
       " '57,490',\n",
       " '86,990',\n",
       " '86,990',\n",
       " '93,999',\n",
       " '98,592',\n",
       " '1,69,990',\n",
       " '96,990',\n",
       " '72,500']"
      ]
     },
     "execution_count": 1495,
     "metadata": {},
     "output_type": "execute_result"
    }
   ],
   "source": [
    "price"
   ]
  },
  {
   "cell_type": "code",
   "execution_count": 1496,
   "id": "83a97854",
   "metadata": {},
   "outputs": [
    {
     "name": "stdout",
     "output_type": "stream",
     "text": [
      "10 10 0 10\n"
     ]
    }
   ],
   "source": [
    "print(len(title),len(num_ratings),len(rating),len(price))"
   ]
  },
  {
   "cell_type": "code",
   "execution_count": 1497,
   "id": "0ff15b86",
   "metadata": {},
   "outputs": [],
   "source": [
    "laptop=pd.DataFrame({})\n",
    "laptop['Title']=title\n",
    "laptop['Number of Ratings']=num_ratings\n",
    "laptop['Price']=price"
   ]
  },
  {
   "cell_type": "code",
   "execution_count": 1498,
   "id": "a35a36ee",
   "metadata": {},
   "outputs": [
    {
     "data": {
      "text/html": [
       "<div>\n",
       "<style scoped>\n",
       "    .dataframe tbody tr th:only-of-type {\n",
       "        vertical-align: middle;\n",
       "    }\n",
       "\n",
       "    .dataframe tbody tr th {\n",
       "        vertical-align: top;\n",
       "    }\n",
       "\n",
       "    .dataframe thead th {\n",
       "        text-align: right;\n",
       "    }\n",
       "</style>\n",
       "<table border=\"1\" class=\"dataframe\">\n",
       "  <thead>\n",
       "    <tr style=\"text-align: right;\">\n",
       "      <th></th>\n",
       "      <th>Title</th>\n",
       "      <th>Number of Ratings</th>\n",
       "      <th>Price</th>\n",
       "    </tr>\n",
       "  </thead>\n",
       "  <tbody>\n",
       "    <tr>\n",
       "      <th>0</th>\n",
       "      <td>Samsung Galaxy Book2 Pro 360 Intel 12th Gen i7...</td>\n",
       "      <td>3</td>\n",
       "      <td>1,29,990</td>\n",
       "    </tr>\n",
       "    <tr>\n",
       "      <th>1</th>\n",
       "      <td>Samsung Galaxy Book2 Pro Intel 12th Gen i7 Evo...</td>\n",
       "      <td>1</td>\n",
       "      <td>1,24,990</td>\n",
       "    </tr>\n",
       "    <tr>\n",
       "      <th>2</th>\n",
       "      <td>ASUS VivoBook 14 (2021), 14-inch (35.56 cms) F...</td>\n",
       "      <td>56</td>\n",
       "      <td>57,490</td>\n",
       "    </tr>\n",
       "    <tr>\n",
       "      <th>3</th>\n",
       "      <td>HP Pavilion 14, 11th Gen Intel Core i7-16GB RA...</td>\n",
       "      <td>1</td>\n",
       "      <td>86,990</td>\n",
       "    </tr>\n",
       "    <tr>\n",
       "      <th>4</th>\n",
       "      <td>Lenovo ThinkBook 15 Intel 11th Gen Core i7 15....</td>\n",
       "      <td>38</td>\n",
       "      <td>86,990</td>\n",
       "    </tr>\n",
       "    <tr>\n",
       "      <th>5</th>\n",
       "      <td>LG Gram Intel Evo 11th Gen Core i7 17 inches U...</td>\n",
       "      <td>147</td>\n",
       "      <td>93,999</td>\n",
       "    </tr>\n",
       "    <tr>\n",
       "      <th>6</th>\n",
       "      <td>Lenovo Yoga 7 Intel Evo Core i7 11th Gen 14\" F...</td>\n",
       "      <td>89</td>\n",
       "      <td>98,592</td>\n",
       "    </tr>\n",
       "    <tr>\n",
       "      <th>7</th>\n",
       "      <td>Acer Predator Helios 300 11th Gen Intel Core i...</td>\n",
       "      <td>7</td>\n",
       "      <td>1,69,990</td>\n",
       "    </tr>\n",
       "    <tr>\n",
       "      <th>8</th>\n",
       "      <td>ASUS TUF Gaming F15 (2021), 15.6-inch (39.62 c...</td>\n",
       "      <td>13</td>\n",
       "      <td>96,990</td>\n",
       "    </tr>\n",
       "    <tr>\n",
       "      <th>9</th>\n",
       "      <td>HP Pavilion x360 11th Gen Intel Core i7 14 inc...</td>\n",
       "      <td>94</td>\n",
       "      <td>72,500</td>\n",
       "    </tr>\n",
       "  </tbody>\n",
       "</table>\n",
       "</div>"
      ],
      "text/plain": [
       "                                               Title Number of Ratings  \\\n",
       "0  Samsung Galaxy Book2 Pro 360 Intel 12th Gen i7...                 3   \n",
       "1  Samsung Galaxy Book2 Pro Intel 12th Gen i7 Evo...                 1   \n",
       "2  ASUS VivoBook 14 (2021), 14-inch (35.56 cms) F...                56   \n",
       "3  HP Pavilion 14, 11th Gen Intel Core i7-16GB RA...                 1   \n",
       "4  Lenovo ThinkBook 15 Intel 11th Gen Core i7 15....                38   \n",
       "5  LG Gram Intel Evo 11th Gen Core i7 17 inches U...               147   \n",
       "6  Lenovo Yoga 7 Intel Evo Core i7 11th Gen 14\" F...                89   \n",
       "7  Acer Predator Helios 300 11th Gen Intel Core i...                 7   \n",
       "8  ASUS TUF Gaming F15 (2021), 15.6-inch (39.62 c...                13   \n",
       "9  HP Pavilion x360 11th Gen Intel Core i7 14 inc...                94   \n",
       "\n",
       "      Price  \n",
       "0  1,29,990  \n",
       "1  1,24,990  \n",
       "2    57,490  \n",
       "3    86,990  \n",
       "4    86,990  \n",
       "5    93,999  \n",
       "6    98,592  \n",
       "7  1,69,990  \n",
       "8    96,990  \n",
       "9    72,500  "
      ]
     },
     "execution_count": 1498,
     "metadata": {},
     "output_type": "execute_result"
    }
   ],
   "source": [
    "laptop"
   ]
  },
  {
   "cell_type": "markdown",
   "id": "080dfc55",
   "metadata": {},
   "source": [
    "Q9: Write a python program to scrape data for first 10 job results for Data Scientist Designation in Noida location. You have to scrape company name, No. of days ago when job was posted, Rating of the company."
   ]
  },
  {
   "cell_type": "code",
   "execution_count": 1242,
   "id": "62006d74",
   "metadata": {},
   "outputs": [],
   "source": [
    "ambition_box='https://www.ambitionbox.com/'\n",
    "driver.get(ambition_box)"
   ]
  },
  {
   "cell_type": "code",
   "execution_count": 1243,
   "id": "a5f43741",
   "metadata": {},
   "outputs": [],
   "source": [
    "# Click on jobs \n",
    "click_jobs=driver.find_element_by_xpath('/html/body/div[1]/nav/nav/a[6]')\n",
    "click_jobs.click()"
   ]
  },
  {
   "cell_type": "code",
   "execution_count": 1246,
   "id": "5abf75f3",
   "metadata": {},
   "outputs": [],
   "source": [
    "# write on search bar\n",
    "search=driver.find_element_by_xpath('/html/body/div/div/div/div[2]/div[1]/div[1]/div/div/div/div/span/input')\n",
    "search.send_keys('Data Scientist')"
   ]
  },
  {
   "cell_type": "code",
   "execution_count": 1247,
   "id": "a53688d4",
   "metadata": {},
   "outputs": [],
   "source": [
    "# Click on search button\n",
    "search_button=driver.find_element_by_xpath('/html/body/div/div/div/div[2]/div[1]/div[1]/div/div/div/button')\n",
    "search_button.click()"
   ]
  },
  {
   "cell_type": "code",
   "execution_count": 1248,
   "id": "0e3e718c",
   "metadata": {},
   "outputs": [],
   "source": [
    "# Click on location filter\n",
    "loc_filter=driver.find_element_by_xpath('/html/body/div/div/div/div[2]/div[1]/div[2]/div[1]/div/div/div/div[2]')\n",
    "loc_filter.click()"
   ]
  },
  {
   "cell_type": "code",
   "execution_count": 1249,
   "id": "2aab743a",
   "metadata": {},
   "outputs": [],
   "source": [
    "# Entering location name in search locations\n",
    "loc=driver.find_element_by_xpath('/html/body/div/div/div/div[2]/div[1]/div[2]/div[1]/div/div/div/div[2]/div[2]/div/div[2]/input')\n",
    "loc.send_keys('Noida')"
   ]
  },
  {
   "cell_type": "code",
   "execution_count": 1250,
   "id": "f29e6667",
   "metadata": {},
   "outputs": [],
   "source": [
    "# select the location\n",
    "noida=driver.find_element_by_xpath('/html/body/div/div/div/div[2]/div[1]/div[2]/div[1]/div/div/div/div[2]/div[2]/div/div[3]/div[1]/div[1]/div/label')\n",
    "noida.click()"
   ]
  },
  {
   "cell_type": "code",
   "execution_count": 1260,
   "id": "a4fbea68",
   "metadata": {},
   "outputs": [],
   "source": [
    "company=[]\n",
    "days_ago=[]\n",
    "rating=[]"
   ]
  },
  {
   "cell_type": "code",
   "execution_count": 1261,
   "id": "181f8726",
   "metadata": {},
   "outputs": [],
   "source": [
    "# extrtacting tags\n",
    "comp_tag=driver.find_elements_by_xpath('//div[@class=\"company-info\"]/p')"
   ]
  },
  {
   "cell_type": "code",
   "execution_count": 1263,
   "id": "18d83738",
   "metadata": {},
   "outputs": [],
   "source": [
    "for i in comp_tag:\n",
    "    c=i.text\n",
    "    company.append(c)"
   ]
  },
  {
   "cell_type": "code",
   "execution_count": 1265,
   "id": "0de4dfba",
   "metadata": {},
   "outputs": [],
   "source": [
    "company=company[1:]"
   ]
  },
  {
   "cell_type": "code",
   "execution_count": 1266,
   "id": "6008437f",
   "metadata": {},
   "outputs": [
    {
     "data": {
      "text/plain": [
       "['GENPACT India Private Limited',\n",
       " 'Optum Global Solutions (India) Private Limited',\n",
       " 'Tech Mahindra Ltd',\n",
       " 'GENPACT India Private Limited',\n",
       " 'HCL Technologies',\n",
       " 'Optum Global Solutions (India) Private Limited',\n",
       " 'Zyoin',\n",
       " 'Newgen Software Technologies Ltd.',\n",
       " 'Pitney Bowes India Pvt Ltd',\n",
       " 'JK Technosoft Ltd']"
      ]
     },
     "execution_count": 1266,
     "metadata": {},
     "output_type": "execute_result"
    }
   ],
   "source": [
    "company"
   ]
  },
  {
   "cell_type": "code",
   "execution_count": 1283,
   "id": "dff46be9",
   "metadata": {},
   "outputs": [],
   "source": [
    "# extracting tags regarding age of ad\n",
    "age_tag=driver.find_elements_by_xpath('//div[@class=\"other-info\"]/span[1]')"
   ]
  },
  {
   "cell_type": "code",
   "execution_count": 1284,
   "id": "5268fa76",
   "metadata": {},
   "outputs": [],
   "source": [
    "for i in age_tag:\n",
    "    a=i.text\n",
    "    days_ago.append(a)"
   ]
  },
  {
   "cell_type": "code",
   "execution_count": 1285,
   "id": "a75911cb",
   "metadata": {},
   "outputs": [
    {
     "data": {
      "text/plain": [
       "['4d ago',\n",
       " '19d ago',\n",
       " '18d ago',\n",
       " '21d ago',\n",
       " '25d ago',\n",
       " '1mon ago',\n",
       " '3d ago',\n",
       " '5d ago',\n",
       " '1mon ago',\n",
       " '14d ago']"
      ]
     },
     "execution_count": 1285,
     "metadata": {},
     "output_type": "execute_result"
    }
   ],
   "source": [
    "days_ago"
   ]
  },
  {
   "cell_type": "code",
   "execution_count": 1286,
   "id": "57400167",
   "metadata": {},
   "outputs": [],
   "source": [
    "# rating of company\n",
    "rate_tag=driver.find_elements_by_xpath('//span[@class=\"body-small\"]')"
   ]
  },
  {
   "cell_type": "code",
   "execution_count": 1287,
   "id": "43634bc3",
   "metadata": {},
   "outputs": [],
   "source": [
    "for i in rate_tag:\n",
    "    r=i.text\n",
    "    rating.append(r)"
   ]
  },
  {
   "cell_type": "code",
   "execution_count": 1288,
   "id": "d48dfdca",
   "metadata": {},
   "outputs": [
    {
     "data": {
      "text/plain": [
       "['4.0', '4.1', '3.7', '4.0', '3.8', '4.1', '4.1', '3.5', '4.2', '3.6']"
      ]
     },
     "execution_count": 1288,
     "metadata": {},
     "output_type": "execute_result"
    }
   ],
   "source": [
    "rating"
   ]
  },
  {
   "cell_type": "code",
   "execution_count": 1290,
   "id": "c8550be8",
   "metadata": {},
   "outputs": [
    {
     "name": "stdout",
     "output_type": "stream",
     "text": [
      "10 10 10\n"
     ]
    }
   ],
   "source": [
    "print(len(company),len(days_ago),len(rating))"
   ]
  },
  {
   "cell_type": "code",
   "execution_count": 1292,
   "id": "aec7222b",
   "metadata": {},
   "outputs": [],
   "source": [
    "ambition_box_job=pd.DataFrame({})\n",
    "ambition_box_job['Company']=company\n",
    "ambition_box_job['No. of days ago when job was posted']=days_ago\n",
    "ambition_box_job['Rating']=rating"
   ]
  },
  {
   "cell_type": "code",
   "execution_count": 1293,
   "id": "f9d8ea11",
   "metadata": {},
   "outputs": [
    {
     "data": {
      "text/html": [
       "<div>\n",
       "<style scoped>\n",
       "    .dataframe tbody tr th:only-of-type {\n",
       "        vertical-align: middle;\n",
       "    }\n",
       "\n",
       "    .dataframe tbody tr th {\n",
       "        vertical-align: top;\n",
       "    }\n",
       "\n",
       "    .dataframe thead th {\n",
       "        text-align: right;\n",
       "    }\n",
       "</style>\n",
       "<table border=\"1\" class=\"dataframe\">\n",
       "  <thead>\n",
       "    <tr style=\"text-align: right;\">\n",
       "      <th></th>\n",
       "      <th>Company</th>\n",
       "      <th>No. of days ago when job was posted</th>\n",
       "      <th>Rating</th>\n",
       "    </tr>\n",
       "  </thead>\n",
       "  <tbody>\n",
       "    <tr>\n",
       "      <th>0</th>\n",
       "      <td>GENPACT India Private Limited</td>\n",
       "      <td>4d ago</td>\n",
       "      <td>4.0</td>\n",
       "    </tr>\n",
       "    <tr>\n",
       "      <th>1</th>\n",
       "      <td>Optum Global Solutions (India) Private Limited</td>\n",
       "      <td>19d ago</td>\n",
       "      <td>4.1</td>\n",
       "    </tr>\n",
       "    <tr>\n",
       "      <th>2</th>\n",
       "      <td>Tech Mahindra Ltd</td>\n",
       "      <td>18d ago</td>\n",
       "      <td>3.7</td>\n",
       "    </tr>\n",
       "    <tr>\n",
       "      <th>3</th>\n",
       "      <td>GENPACT India Private Limited</td>\n",
       "      <td>21d ago</td>\n",
       "      <td>4.0</td>\n",
       "    </tr>\n",
       "    <tr>\n",
       "      <th>4</th>\n",
       "      <td>HCL Technologies</td>\n",
       "      <td>25d ago</td>\n",
       "      <td>3.8</td>\n",
       "    </tr>\n",
       "    <tr>\n",
       "      <th>5</th>\n",
       "      <td>Optum Global Solutions (India) Private Limited</td>\n",
       "      <td>1mon ago</td>\n",
       "      <td>4.1</td>\n",
       "    </tr>\n",
       "    <tr>\n",
       "      <th>6</th>\n",
       "      <td>Zyoin</td>\n",
       "      <td>3d ago</td>\n",
       "      <td>4.1</td>\n",
       "    </tr>\n",
       "    <tr>\n",
       "      <th>7</th>\n",
       "      <td>Newgen Software Technologies Ltd.</td>\n",
       "      <td>5d ago</td>\n",
       "      <td>3.5</td>\n",
       "    </tr>\n",
       "    <tr>\n",
       "      <th>8</th>\n",
       "      <td>Pitney Bowes India Pvt Ltd</td>\n",
       "      <td>1mon ago</td>\n",
       "      <td>4.2</td>\n",
       "    </tr>\n",
       "    <tr>\n",
       "      <th>9</th>\n",
       "      <td>JK Technosoft Ltd</td>\n",
       "      <td>14d ago</td>\n",
       "      <td>3.6</td>\n",
       "    </tr>\n",
       "  </tbody>\n",
       "</table>\n",
       "</div>"
      ],
      "text/plain": [
       "                                          Company  \\\n",
       "0                   GENPACT India Private Limited   \n",
       "1  Optum Global Solutions (India) Private Limited   \n",
       "2                               Tech Mahindra Ltd   \n",
       "3                   GENPACT India Private Limited   \n",
       "4                                HCL Technologies   \n",
       "5  Optum Global Solutions (India) Private Limited   \n",
       "6                                           Zyoin   \n",
       "7               Newgen Software Technologies Ltd.   \n",
       "8                      Pitney Bowes India Pvt Ltd   \n",
       "9                               JK Technosoft Ltd   \n",
       "\n",
       "  No. of days ago when job was posted Rating  \n",
       "0                              4d ago    4.0  \n",
       "1                             19d ago    4.1  \n",
       "2                             18d ago    3.7  \n",
       "3                             21d ago    4.0  \n",
       "4                             25d ago    3.8  \n",
       "5                            1mon ago    4.1  \n",
       "6                              3d ago    4.1  \n",
       "7                              5d ago    3.5  \n",
       "8                            1mon ago    4.2  \n",
       "9                             14d ago    3.6  "
      ]
     },
     "execution_count": 1293,
     "metadata": {},
     "output_type": "execute_result"
    }
   ],
   "source": [
    "ambition_box_job"
   ]
  },
  {
   "cell_type": "markdown",
   "id": "d364de4b",
   "metadata": {},
   "source": [
    "Q10: Write a python program to scrape the salary data for Data Scientist designation.\n",
    "You have to scrape Company name, Number of salaries, Average salary, Minsalary, Max Salary."
   ]
  },
  {
   "cell_type": "code",
   "execution_count": 1354,
   "id": "9cc24037",
   "metadata": {},
   "outputs": [],
   "source": [
    "driver.get(ambition_box)"
   ]
  },
  {
   "cell_type": "code",
   "execution_count": 1355,
   "id": "99d7e85c",
   "metadata": {},
   "outputs": [],
   "source": [
    "# click on salries\n",
    "click_sal=driver.find_element_by_xpath('/html/body/div[1]/nav/nav/a[4]')\n",
    "click_sal.click()"
   ]
  },
  {
   "cell_type": "code",
   "execution_count": 1356,
   "id": "bdea4ab7",
   "metadata": {},
   "outputs": [],
   "source": [
    "# Entering in search job profiles bar\n",
    "search_bar=driver.find_element_by_xpath('/html/body/div/div/div/main/section[1]/div[2]/div[1]/span/input')\n",
    "search_bar.send_keys('Data Scientist')"
   ]
  },
  {
   "cell_type": "code",
   "execution_count": 1357,
   "id": "8cdd018f",
   "metadata": {},
   "outputs": [],
   "source": [
    "# Click on data scientist\n",
    "ds=driver.find_element_by_xpath('//div[@class=\"suggestion_wrap tt-suggestion tt-selectable\"]')"
   ]
  },
  {
   "cell_type": "code",
   "execution_count": 1358,
   "id": "0e5ec315",
   "metadata": {},
   "outputs": [],
   "source": [
    "ds.click()"
   ]
  },
  {
   "cell_type": "code",
   "execution_count": 1361,
   "id": "9c591bdc",
   "metadata": {},
   "outputs": [],
   "source": [
    "company=[]\n",
    "total_sal_record=[]\n",
    "avg_sal=[]\n",
    "min_sal=[]\n",
    "max_sal=[]\n",
    "exp_req=[]"
   ]
  },
  {
   "cell_type": "code",
   "execution_count": 1359,
   "id": "37126e2c",
   "metadata": {},
   "outputs": [],
   "source": [
    "# company name tags\n",
    "comp_tag=driver.find_elements_by_xpath('//div[@class=\"name\"]/a')"
   ]
  },
  {
   "cell_type": "code",
   "execution_count": 1362,
   "id": "25777dd1",
   "metadata": {},
   "outputs": [],
   "source": [
    "for i in comp_tag:\n",
    "    c=i.text\n",
    "    company.append(c)"
   ]
  },
  {
   "cell_type": "code",
   "execution_count": 1363,
   "id": "4a65d5be",
   "metadata": {},
   "outputs": [
    {
     "data": {
      "text/plain": [
       "['Walmart',\n",
       " 'Ab Inbev',\n",
       " 'Reliance Jio',\n",
       " 'ZS',\n",
       " 'Optum',\n",
       " 'Fractal Analytics',\n",
       " 'Tiger Analytics',\n",
       " 'UnitedHealth',\n",
       " 'Verizon',\n",
       " 'Ganit Business Solutions']"
      ]
     },
     "execution_count": 1363,
     "metadata": {},
     "output_type": "execute_result"
    }
   ],
   "source": [
    "company"
   ]
  },
  {
   "cell_type": "code",
   "execution_count": 1364,
   "id": "c6da3046",
   "metadata": {},
   "outputs": [],
   "source": [
    "# total salary records tag\n",
    "tsr=driver.find_elements_by_xpath('//div[@class=\"name\"]/span[1]')"
   ]
  },
  {
   "cell_type": "code",
   "execution_count": 1366,
   "id": "48d06c3f",
   "metadata": {},
   "outputs": [],
   "source": [
    "for i in tsr:\n",
    "    t=i.text\n",
    "    total_sal_record.append(t)"
   ]
  },
  {
   "cell_type": "code",
   "execution_count": 1367,
   "id": "93aaa8be",
   "metadata": {},
   "outputs": [
    {
     "data": {
      "text/plain": [
       "['based on 11 salaries',\n",
       " 'based on 31 salaries',\n",
       " 'based on 10 salaries',\n",
       " 'based on 15 salaries',\n",
       " 'based on 28 salaries',\n",
       " 'based on 81 salaries',\n",
       " 'based on 46 salaries',\n",
       " 'based on 53 salaries',\n",
       " 'based on 14 salaries',\n",
       " 'based on 13 salaries']"
      ]
     },
     "execution_count": 1367,
     "metadata": {},
     "output_type": "execute_result"
    }
   ],
   "source": [
    "total_sal_record"
   ]
  },
  {
   "cell_type": "code",
   "execution_count": 1368,
   "id": "2b0d6d0b",
   "metadata": {},
   "outputs": [],
   "source": [
    "avg=driver.find_elements_by_xpath('//p[@class=\"averageCtc\"]')"
   ]
  },
  {
   "cell_type": "code",
   "execution_count": 1370,
   "id": "52f048ff",
   "metadata": {},
   "outputs": [],
   "source": [
    "for i in avg:\n",
    "    a=i.text\n",
    "    avg_sal.append(a)"
   ]
  },
  {
   "cell_type": "code",
   "execution_count": 1371,
   "id": "58b6b77a",
   "metadata": {},
   "outputs": [
    {
     "data": {
      "text/plain": [
       "['₹ 29.7L',\n",
       " '₹ 20.5L',\n",
       " '₹ 18.9L',\n",
       " '₹ 15.9L',\n",
       " '₹ 15.4L',\n",
       " '₹ 15.1L',\n",
       " '₹ 14.8L',\n",
       " '₹ 14.0L',\n",
       " '₹ 12.7L',\n",
       " '₹ 12.4L']"
      ]
     },
     "execution_count": 1371,
     "metadata": {},
     "output_type": "execute_result"
    }
   ],
   "source": [
    "avg_sal"
   ]
  },
  {
   "cell_type": "code",
   "execution_count": 1379,
   "id": "fed2a2df",
   "metadata": {},
   "outputs": [],
   "source": [
    "min_=driver.find_elements_by_xpath('//div[@class=\"salary-values\"]/div[1]')"
   ]
  },
  {
   "cell_type": "code",
   "execution_count": 1382,
   "id": "ff7753fe",
   "metadata": {},
   "outputs": [],
   "source": [
    "for i in min_:\n",
    "    m=i.text\n",
    "    min_sal.append(m)"
   ]
  },
  {
   "cell_type": "code",
   "execution_count": 1383,
   "id": "4de63815",
   "metadata": {},
   "outputs": [
    {
     "data": {
      "text/plain": [
       "['₹ 25.0L',\n",
       " '₹ 15.0L',\n",
       " '₹ 5.6L',\n",
       " '₹ 9.8L',\n",
       " '₹ 11.0L',\n",
       " '₹ 9.5L',\n",
       " '₹ 9.0L',\n",
       " '₹ 8.3L',\n",
       " '₹ 10.0L',\n",
       " '₹ 8.5L']"
      ]
     },
     "execution_count": 1383,
     "metadata": {},
     "output_type": "execute_result"
    }
   ],
   "source": [
    "min_sal"
   ]
  },
  {
   "cell_type": "code",
   "execution_count": 1384,
   "id": "c9f1876e",
   "metadata": {},
   "outputs": [],
   "source": [
    "max_=driver.find_elements_by_xpath('//div[@class=\"salary-values\"]/div[2]')"
   ]
  },
  {
   "cell_type": "code",
   "execution_count": 1385,
   "id": "a09035e8",
   "metadata": {},
   "outputs": [],
   "source": [
    "for i in max_:\n",
    "    m=i.text\n",
    "    max_sal.append(m)"
   ]
  },
  {
   "cell_type": "code",
   "execution_count": 1386,
   "id": "7ff80e57",
   "metadata": {},
   "outputs": [
    {
     "data": {
      "text/plain": [
       "['₹ 35.0L',\n",
       " '₹ 25.5L',\n",
       " '₹ 26.2L',\n",
       " '₹ 20.0L',\n",
       " '₹ 22.4L',\n",
       " '₹ 22.0L',\n",
       " '₹ 20.0L',\n",
       " '₹ 20.5L',\n",
       " '₹ 21.0L',\n",
       " '₹ 15.0L']"
      ]
     },
     "execution_count": 1386,
     "metadata": {},
     "output_type": "execute_result"
    }
   ],
   "source": [
    "max_sal"
   ]
  },
  {
   "cell_type": "code",
   "execution_count": 1454,
   "id": "435d0862",
   "metadata": {},
   "outputs": [],
   "source": [
    "exp=driver.find_elements_by_xpath('//div[@class=\"salaries sbold-list-header\"]')"
   ]
  },
  {
   "cell_type": "code",
   "execution_count": 1455,
   "id": "e7e9dcac",
   "metadata": {},
   "outputs": [],
   "source": [
    "for i in exp:\n",
    "    e=i.text.replace('Data Scientist\\n . \\n',\"\")\n",
    "    exp_req.append(e)"
   ]
  },
  {
   "cell_type": "code",
   "execution_count": 1456,
   "id": "3b54c0c6",
   "metadata": {},
   "outputs": [
    {
     "data": {
      "text/plain": [
       "['3 yrs exp',\n",
       " '3-4 yrs exp',\n",
       " '4 yrs exp',\n",
       " '2 yrs exp',\n",
       " '3-4 yrs exp',\n",
       " '2-4 yrs exp',\n",
       " '2-4 yrs exp',\n",
       " '2-4 yrs exp',\n",
       " '4 yrs exp',\n",
       " '4 yrs exp']"
      ]
     },
     "execution_count": 1456,
     "metadata": {},
     "output_type": "execute_result"
    }
   ],
   "source": [
    "exp_req"
   ]
  },
  {
   "cell_type": "code",
   "execution_count": 1457,
   "id": "2c6ae703",
   "metadata": {},
   "outputs": [
    {
     "name": "stdout",
     "output_type": "stream",
     "text": [
      "10 10 10 10 10 10\n"
     ]
    }
   ],
   "source": [
    "print(len(company),len(total_sal_record),len(avg_sal),len(min_sal),len(max_sal),len(exp_req))"
   ]
  },
  {
   "cell_type": "code",
   "execution_count": 1458,
   "id": "bc832929",
   "metadata": {},
   "outputs": [],
   "source": [
    "salary_records=pd.DataFrame({})\n",
    "salary_records['Company']=company\n",
    "salary_records['Total Salary Record']=total_sal_record\n",
    "salary_records['Average Salary']=avg_sal\n",
    "salary_records['Minimum Salary']=min_sal\n",
    "salary_records['Maximum Salary']=max_sal\n",
    "salary_records['Experience Required']=exp_req"
   ]
  },
  {
   "cell_type": "code",
   "execution_count": 1459,
   "id": "62fa60e4",
   "metadata": {},
   "outputs": [
    {
     "data": {
      "text/html": [
       "<div>\n",
       "<style scoped>\n",
       "    .dataframe tbody tr th:only-of-type {\n",
       "        vertical-align: middle;\n",
       "    }\n",
       "\n",
       "    .dataframe tbody tr th {\n",
       "        vertical-align: top;\n",
       "    }\n",
       "\n",
       "    .dataframe thead th {\n",
       "        text-align: right;\n",
       "    }\n",
       "</style>\n",
       "<table border=\"1\" class=\"dataframe\">\n",
       "  <thead>\n",
       "    <tr style=\"text-align: right;\">\n",
       "      <th></th>\n",
       "      <th>Company</th>\n",
       "      <th>Total Salary Record</th>\n",
       "      <th>Average Salary</th>\n",
       "      <th>Minimum Salary</th>\n",
       "      <th>Maximum Salary</th>\n",
       "      <th>Experience Required</th>\n",
       "    </tr>\n",
       "  </thead>\n",
       "  <tbody>\n",
       "    <tr>\n",
       "      <th>0</th>\n",
       "      <td>Walmart</td>\n",
       "      <td>based on 11 salaries</td>\n",
       "      <td>₹ 29.7L</td>\n",
       "      <td>₹ 25.0L</td>\n",
       "      <td>₹ 35.0L</td>\n",
       "      <td>3 yrs exp</td>\n",
       "    </tr>\n",
       "    <tr>\n",
       "      <th>1</th>\n",
       "      <td>Ab Inbev</td>\n",
       "      <td>based on 31 salaries</td>\n",
       "      <td>₹ 20.5L</td>\n",
       "      <td>₹ 15.0L</td>\n",
       "      <td>₹ 25.5L</td>\n",
       "      <td>3-4 yrs exp</td>\n",
       "    </tr>\n",
       "    <tr>\n",
       "      <th>2</th>\n",
       "      <td>Reliance Jio</td>\n",
       "      <td>based on 10 salaries</td>\n",
       "      <td>₹ 18.9L</td>\n",
       "      <td>₹ 5.6L</td>\n",
       "      <td>₹ 26.2L</td>\n",
       "      <td>4 yrs exp</td>\n",
       "    </tr>\n",
       "    <tr>\n",
       "      <th>3</th>\n",
       "      <td>ZS</td>\n",
       "      <td>based on 15 salaries</td>\n",
       "      <td>₹ 15.9L</td>\n",
       "      <td>₹ 9.8L</td>\n",
       "      <td>₹ 20.0L</td>\n",
       "      <td>2 yrs exp</td>\n",
       "    </tr>\n",
       "    <tr>\n",
       "      <th>4</th>\n",
       "      <td>Optum</td>\n",
       "      <td>based on 28 salaries</td>\n",
       "      <td>₹ 15.4L</td>\n",
       "      <td>₹ 11.0L</td>\n",
       "      <td>₹ 22.4L</td>\n",
       "      <td>3-4 yrs exp</td>\n",
       "    </tr>\n",
       "    <tr>\n",
       "      <th>5</th>\n",
       "      <td>Fractal Analytics</td>\n",
       "      <td>based on 81 salaries</td>\n",
       "      <td>₹ 15.1L</td>\n",
       "      <td>₹ 9.5L</td>\n",
       "      <td>₹ 22.0L</td>\n",
       "      <td>2-4 yrs exp</td>\n",
       "    </tr>\n",
       "    <tr>\n",
       "      <th>6</th>\n",
       "      <td>Tiger Analytics</td>\n",
       "      <td>based on 46 salaries</td>\n",
       "      <td>₹ 14.8L</td>\n",
       "      <td>₹ 9.0L</td>\n",
       "      <td>₹ 20.0L</td>\n",
       "      <td>2-4 yrs exp</td>\n",
       "    </tr>\n",
       "    <tr>\n",
       "      <th>7</th>\n",
       "      <td>UnitedHealth</td>\n",
       "      <td>based on 53 salaries</td>\n",
       "      <td>₹ 14.0L</td>\n",
       "      <td>₹ 8.3L</td>\n",
       "      <td>₹ 20.5L</td>\n",
       "      <td>2-4 yrs exp</td>\n",
       "    </tr>\n",
       "    <tr>\n",
       "      <th>8</th>\n",
       "      <td>Verizon</td>\n",
       "      <td>based on 14 salaries</td>\n",
       "      <td>₹ 12.7L</td>\n",
       "      <td>₹ 10.0L</td>\n",
       "      <td>₹ 21.0L</td>\n",
       "      <td>4 yrs exp</td>\n",
       "    </tr>\n",
       "    <tr>\n",
       "      <th>9</th>\n",
       "      <td>Ganit Business Solutions</td>\n",
       "      <td>based on 13 salaries</td>\n",
       "      <td>₹ 12.4L</td>\n",
       "      <td>₹ 8.5L</td>\n",
       "      <td>₹ 15.0L</td>\n",
       "      <td>4 yrs exp</td>\n",
       "    </tr>\n",
       "  </tbody>\n",
       "</table>\n",
       "</div>"
      ],
      "text/plain": [
       "                    Company   Total Salary Record Average Salary  \\\n",
       "0                   Walmart  based on 11 salaries        ₹ 29.7L   \n",
       "1                  Ab Inbev  based on 31 salaries        ₹ 20.5L   \n",
       "2              Reliance Jio  based on 10 salaries        ₹ 18.9L   \n",
       "3                        ZS  based on 15 salaries        ₹ 15.9L   \n",
       "4                     Optum  based on 28 salaries        ₹ 15.4L   \n",
       "5         Fractal Analytics  based on 81 salaries        ₹ 15.1L   \n",
       "6           Tiger Analytics  based on 46 salaries        ₹ 14.8L   \n",
       "7              UnitedHealth  based on 53 salaries        ₹ 14.0L   \n",
       "8                   Verizon  based on 14 salaries        ₹ 12.7L   \n",
       "9  Ganit Business Solutions  based on 13 salaries        ₹ 12.4L   \n",
       "\n",
       "  Minimum Salary Maximum Salary Experience Required  \n",
       "0        ₹ 25.0L        ₹ 35.0L           3 yrs exp  \n",
       "1        ₹ 15.0L        ₹ 25.5L         3-4 yrs exp  \n",
       "2         ₹ 5.6L        ₹ 26.2L           4 yrs exp  \n",
       "3         ₹ 9.8L        ₹ 20.0L           2 yrs exp  \n",
       "4        ₹ 11.0L        ₹ 22.4L         3-4 yrs exp  \n",
       "5         ₹ 9.5L        ₹ 22.0L         2-4 yrs exp  \n",
       "6         ₹ 9.0L        ₹ 20.0L         2-4 yrs exp  \n",
       "7         ₹ 8.3L        ₹ 20.5L         2-4 yrs exp  \n",
       "8        ₹ 10.0L        ₹ 21.0L           4 yrs exp  \n",
       "9         ₹ 8.5L        ₹ 15.0L           4 yrs exp  "
      ]
     },
     "execution_count": 1459,
     "metadata": {},
     "output_type": "execute_result"
    }
   ],
   "source": [
    "salary_records"
   ]
  },
  {
   "cell_type": "code",
   "execution_count": 1499,
   "id": "7e964d8c",
   "metadata": {},
   "outputs": [],
   "source": [
    "driver.close()"
   ]
  },
  {
   "cell_type": "markdown",
   "id": "bc588976",
   "metadata": {},
   "source": [
    "# END"
   ]
  }
 ],
 "metadata": {
  "kernelspec": {
   "display_name": "Python 3",
   "language": "python",
   "name": "python3"
  },
  "language_info": {
   "codemirror_mode": {
    "name": "ipython",
    "version": 3
   },
   "file_extension": ".py",
   "mimetype": "text/x-python",
   "name": "python",
   "nbconvert_exporter": "python",
   "pygments_lexer": "ipython3",
   "version": "3.8.8"
  }
 },
 "nbformat": 4,
 "nbformat_minor": 5
}
