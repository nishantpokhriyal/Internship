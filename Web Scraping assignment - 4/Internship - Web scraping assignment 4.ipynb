{
 "cells": [
  {
   "cell_type": "markdown",
   "id": "ac51be00",
   "metadata": {},
   "source": [
    "Q1 : Scrape the details of most viewed videos on YouTube from Wikipedia"
   ]
  },
  {
   "cell_type": "code",
   "execution_count": 440,
   "id": "a2a9f5b6",
   "metadata": {},
   "outputs": [],
   "source": [
    "import selenium\n",
    "import pandas as pd\n",
    "from selenium import webdriver\n",
    "from bs4 import BeautifulSoup\n",
    "import requests\n",
    "from selenium.common.exceptions import NoSuchElementException,StaleElementReferenceException,ElementNotInteractableException\n",
    "import warnings\n",
    "warnings.filterwarnings('ignore')\n",
    "import time"
   ]
  },
  {
   "cell_type": "code",
   "execution_count": 449,
   "id": "0f128aa8",
   "metadata": {},
   "outputs": [],
   "source": [
    "# Connect to the driver\n",
    "driver=webdriver.Chrome(r'C:\\Internship\\Web scraping assignment_2 selenium\\chromedriver.exe')"
   ]
  },
  {
   "cell_type": "code",
   "execution_count": 3,
   "id": "2bbf3a96",
   "metadata": {},
   "outputs": [],
   "source": [
    "wiki='https://en.wikipedia.org/wiki/List_of_most-viewed_YouTube_videos'"
   ]
  },
  {
   "cell_type": "code",
   "execution_count": 4,
   "id": "aa719756",
   "metadata": {},
   "outputs": [],
   "source": [
    "driver.get(wiki)"
   ]
  },
  {
   "cell_type": "code",
   "execution_count": 5,
   "id": "179ec30b",
   "metadata": {},
   "outputs": [],
   "source": [
    "# Creating Empty lists\n",
    "rank=[]\n",
    "name=[]\n",
    "artist=[]\n",
    "date=[]\n",
    "views=[]"
   ]
  },
  {
   "cell_type": "code",
   "execution_count": 6,
   "id": "aa9596a4",
   "metadata": {},
   "outputs": [],
   "source": [
    "# Extracting tags\n",
    "rank_tag=driver.find_elements_by_xpath('//table[@class=\"wikitable sortable jquery-tablesorter\"]/tbody/tr/td[1]')\n",
    "rank_tag=rank_tag[0:30]"
   ]
  },
  {
   "cell_type": "code",
   "execution_count": 7,
   "id": "b5c62f1b",
   "metadata": {},
   "outputs": [],
   "source": [
    "# Extracting ranks from tags\n",
    "for i in rank_tag:\n",
    "    n=i.text\n",
    "    rank.append(n)"
   ]
  },
  {
   "cell_type": "code",
   "execution_count": 8,
   "id": "d7ea4405",
   "metadata": {},
   "outputs": [
    {
     "data": {
      "text/plain": [
       "30"
      ]
     },
     "execution_count": 8,
     "metadata": {},
     "output_type": "execute_result"
    }
   ],
   "source": [
    "len(rank)"
   ]
  },
  {
   "cell_type": "code",
   "execution_count": 9,
   "id": "d5f5aa4a",
   "metadata": {},
   "outputs": [
    {
     "data": {
      "text/plain": [
       "['1.',\n",
       " '2.',\n",
       " '3.',\n",
       " '4.',\n",
       " '5.',\n",
       " '6.',\n",
       " '7.',\n",
       " '8.',\n",
       " '9.',\n",
       " '10.',\n",
       " '11.',\n",
       " '12.',\n",
       " '13.',\n",
       " '14.',\n",
       " '15.',\n",
       " '16.',\n",
       " '17.',\n",
       " '18.',\n",
       " '19.',\n",
       " '20.',\n",
       " '21.',\n",
       " '22.',\n",
       " '23.',\n",
       " '24.',\n",
       " '25.',\n",
       " '26.',\n",
       " '27.',\n",
       " '28.',\n",
       " '29.',\n",
       " '30.']"
      ]
     },
     "execution_count": 9,
     "metadata": {},
     "output_type": "execute_result"
    }
   ],
   "source": [
    "rank"
   ]
  },
  {
   "cell_type": "code",
   "execution_count": 10,
   "id": "a229e67e",
   "metadata": {},
   "outputs": [],
   "source": [
    "# Extracting tags\n",
    "name_tag=driver.find_elements_by_xpath('//table[@class=\"wikitable sortable jquery-tablesorter\"]/tbody/tr/td[2]')\n",
    "name_tag=name_tag[0:30]\n",
    "\n",
    "# Extracting names from tags\n",
    "for i in name_tag:\n",
    "    n=i.text\n",
    "    name.append(n)"
   ]
  },
  {
   "cell_type": "code",
   "execution_count": 11,
   "id": "951b2269",
   "metadata": {},
   "outputs": [
    {
     "data": {
      "text/plain": [
       "30"
      ]
     },
     "execution_count": 11,
     "metadata": {},
     "output_type": "execute_result"
    }
   ],
   "source": [
    "len(name)"
   ]
  },
  {
   "cell_type": "code",
   "execution_count": 12,
   "id": "30f8d7b5",
   "metadata": {},
   "outputs": [
    {
     "data": {
      "text/plain": [
       "['\"Baby Shark Dance\"[3]',\n",
       " '\"Despacito\"[6]',\n",
       " '\"Johny Johny Yes Papa\"[12]',\n",
       " '\"Shape of You\"[13]',\n",
       " '\"See You Again\"[15]',\n",
       " '\"Bath Song\"[20]',\n",
       " '\"Phonics Song with Two Words\"[21]',\n",
       " '\"Uptown Funk\"[22]',\n",
       " '\"Learning Colors – Colorful Eggs on a Farm\"[23]',\n",
       " '\"Masha and the Bear – Recipe for Disaster\"[24]',\n",
       " '\"Gangnam Style\"[25]',\n",
       " '\"Wheels on the Bus\"[30]',\n",
       " '\"Dame Tu Cosita\"[31]',\n",
       " '\"Sugar\"[32]',\n",
       " '\"Roar\"[33]',\n",
       " '\"Counting Stars\"[34]',\n",
       " '\"Sorry\"[35]',\n",
       " '\"Thinking Out Loud\"[36]',\n",
       " '\"Axel F\"[37]',\n",
       " '\"Girls Like You\"[38]',\n",
       " '\"Faded\"[39]',\n",
       " '\"Dark Horse\"[40]',\n",
       " '\"Baa Baa Black Sheep\"[41]',\n",
       " '\"Let Her Go\"[42]',\n",
       " '\"Bailando\"[43]',\n",
       " '\"Lean On\"[44]',\n",
       " '\"Perfect\"[45]',\n",
       " '\"Shake It Off\"[46]',\n",
       " '\"Waka Waka (This Time for Africa)\"[47]',\n",
       " '\"Mi Gente\"[48]']"
      ]
     },
     "execution_count": 12,
     "metadata": {},
     "output_type": "execute_result"
    }
   ],
   "source": [
    "name"
   ]
  },
  {
   "cell_type": "code",
   "execution_count": 13,
   "id": "f136480a",
   "metadata": {},
   "outputs": [],
   "source": [
    "# Extracting tags\n",
    "artist_tag=driver.find_elements_by_xpath('//table[@class=\"wikitable sortable jquery-tablesorter\"]/tbody/tr/td[3]')\n",
    "artist_tag=artist_tag[0:30]\n",
    "\n",
    "# Extracting artist from tags\n",
    "for i in artist_tag:\n",
    "    n=i.text\n",
    "    artist.append(n)"
   ]
  },
  {
   "cell_type": "code",
   "execution_count": 14,
   "id": "435282d8",
   "metadata": {},
   "outputs": [
    {
     "data": {
      "text/plain": [
       "30"
      ]
     },
     "execution_count": 14,
     "metadata": {},
     "output_type": "execute_result"
    }
   ],
   "source": [
    "len(artist)"
   ]
  },
  {
   "cell_type": "code",
   "execution_count": 15,
   "id": "a36faa2b",
   "metadata": {},
   "outputs": [
    {
     "data": {
      "text/plain": [
       "[\"Pinkfong Baby Shark - Kids' Songs & Stories\",\n",
       " 'Luis Fonsi',\n",
       " 'LooLoo Kids',\n",
       " 'Ed Sheeran',\n",
       " 'Wiz Khalifa',\n",
       " 'Cocomelon – Nursery Rhymes',\n",
       " 'ChuChu TV',\n",
       " 'Mark Ronson',\n",
       " 'Miroshka TV',\n",
       " 'Get Movies',\n",
       " 'Psy',\n",
       " 'Cocomelon – Nursery Rhymes',\n",
       " 'El Chombo',\n",
       " 'Maroon 5',\n",
       " 'Katy Perry',\n",
       " 'OneRepublic',\n",
       " 'Justin Bieber',\n",
       " 'Ed Sheeran',\n",
       " 'Crazy Frog',\n",
       " 'Maroon 5',\n",
       " 'Alan Walker',\n",
       " 'Katy Perry',\n",
       " 'Cocomelon – Nursery Rhymes',\n",
       " 'Passenger',\n",
       " 'Enrique Iglesias',\n",
       " 'Major Lazer',\n",
       " 'Ed Sheeran',\n",
       " 'Taylor Swift',\n",
       " 'Shakira',\n",
       " 'J Balvin']"
      ]
     },
     "execution_count": 15,
     "metadata": {},
     "output_type": "execute_result"
    }
   ],
   "source": [
    "artist"
   ]
  },
  {
   "cell_type": "code",
   "execution_count": 16,
   "id": "75fd1997",
   "metadata": {},
   "outputs": [],
   "source": [
    "# Extracting tags\n",
    "date_tag=driver.find_elements_by_xpath('//table[@class=\"wikitable sortable jquery-tablesorter\"]/tbody/tr/td[5]')\n",
    "date_tag=date_tag[0:30]\n",
    "\n",
    "# Extracting date from tags\n",
    "for i in date_tag:\n",
    "    n=i.text\n",
    "    date.append(n)"
   ]
  },
  {
   "cell_type": "code",
   "execution_count": 17,
   "id": "fa088655",
   "metadata": {},
   "outputs": [
    {
     "data": {
      "text/plain": [
       "30"
      ]
     },
     "execution_count": 17,
     "metadata": {},
     "output_type": "execute_result"
    }
   ],
   "source": [
    "len(date)"
   ]
  },
  {
   "cell_type": "code",
   "execution_count": 18,
   "id": "4964414e",
   "metadata": {},
   "outputs": [
    {
     "data": {
      "text/plain": [
       "['June 17, 2016',\n",
       " 'January 12, 2017',\n",
       " 'October 8, 2016',\n",
       " 'January 30, 2017',\n",
       " 'April 6, 2015',\n",
       " 'May 2, 2018',\n",
       " 'March 6, 2014',\n",
       " 'November 19, 2014',\n",
       " 'February 27, 2018',\n",
       " 'January 31, 2012',\n",
       " 'July 15, 2012',\n",
       " 'May 24, 2018',\n",
       " 'April 5, 2018',\n",
       " 'January 14, 2015',\n",
       " 'September 5, 2013',\n",
       " 'May 31, 2013',\n",
       " 'October 22, 2015',\n",
       " 'October 7, 2014',\n",
       " 'June 16, 2009',\n",
       " 'May 31, 2018',\n",
       " 'December 3, 2015',\n",
       " 'February 20, 2014',\n",
       " 'June 25, 2018',\n",
       " 'July 25, 2012',\n",
       " 'April 11, 2014',\n",
       " 'March 22, 2015',\n",
       " 'November 9, 2017',\n",
       " 'August 18, 2014',\n",
       " 'June 4, 2010',\n",
       " 'June 29, 2017']"
      ]
     },
     "execution_count": 18,
     "metadata": {},
     "output_type": "execute_result"
    }
   ],
   "source": [
    "date"
   ]
  },
  {
   "cell_type": "code",
   "execution_count": 19,
   "id": "e4b8f774",
   "metadata": {},
   "outputs": [],
   "source": [
    "# Extracting tags\n",
    "views_tag=driver.find_elements_by_xpath('//table[@class=\"wikitable sortable jquery-tablesorter\"]/tbody/tr/td[4]')\n",
    "views_tag=views_tag[0:30]\n",
    "\n",
    "# Extracting views from tags\n",
    "for i in views_tag:\n",
    "    n=i.text\n",
    "    views.append(n)"
   ]
  },
  {
   "cell_type": "code",
   "execution_count": 20,
   "id": "e6b0ce1f",
   "metadata": {},
   "outputs": [
    {
     "data": {
      "text/plain": [
       "30"
      ]
     },
     "execution_count": 20,
     "metadata": {},
     "output_type": "execute_result"
    }
   ],
   "source": [
    "len(views)"
   ]
  },
  {
   "cell_type": "code",
   "execution_count": 21,
   "id": "95aa5993",
   "metadata": {},
   "outputs": [
    {
     "data": {
      "text/plain": [
       "['10.80',\n",
       " '7.87',\n",
       " '6.37',\n",
       " '5.74',\n",
       " '5.54',\n",
       " '5.44',\n",
       " '4.67',\n",
       " '4.60',\n",
       " '4.58',\n",
       " '4.50',\n",
       " '4.45',\n",
       " '4.12',\n",
       " '3.95',\n",
       " '3.71',\n",
       " '3.60',\n",
       " '3.59',\n",
       " '3.55',\n",
       " '3.46',\n",
       " '3.38',\n",
       " '3.30',\n",
       " '3.29',\n",
       " '3.29',\n",
       " '3.26',\n",
       " '3.24',\n",
       " '3.22',\n",
       " '3.22',\n",
       " '3.18',\n",
       " '3.18',\n",
       " '3.16',\n",
       " '3.09']"
      ]
     },
     "execution_count": 21,
     "metadata": {},
     "output_type": "execute_result"
    }
   ],
   "source": [
    "views"
   ]
  },
  {
   "cell_type": "code",
   "execution_count": 22,
   "id": "af022f6d",
   "metadata": {},
   "outputs": [
    {
     "data": {
      "text/html": [
       "<div>\n",
       "<style scoped>\n",
       "    .dataframe tbody tr th:only-of-type {\n",
       "        vertical-align: middle;\n",
       "    }\n",
       "\n",
       "    .dataframe tbody tr th {\n",
       "        vertical-align: top;\n",
       "    }\n",
       "\n",
       "    .dataframe thead th {\n",
       "        text-align: right;\n",
       "    }\n",
       "</style>\n",
       "<table border=\"1\" class=\"dataframe\">\n",
       "  <thead>\n",
       "    <tr style=\"text-align: right;\">\n",
       "      <th></th>\n",
       "      <th>Rank</th>\n",
       "      <th>Name</th>\n",
       "      <th>Artist</th>\n",
       "      <th>Upload Date</th>\n",
       "      <th>Views</th>\n",
       "    </tr>\n",
       "  </thead>\n",
       "  <tbody>\n",
       "    <tr>\n",
       "      <th>0</th>\n",
       "      <td>1.</td>\n",
       "      <td>\"Baby Shark Dance\"[3]</td>\n",
       "      <td>Pinkfong Baby Shark - Kids' Songs &amp; Stories</td>\n",
       "      <td>June 17, 2016</td>\n",
       "      <td>10.80</td>\n",
       "    </tr>\n",
       "    <tr>\n",
       "      <th>1</th>\n",
       "      <td>2.</td>\n",
       "      <td>\"Despacito\"[6]</td>\n",
       "      <td>Luis Fonsi</td>\n",
       "      <td>January 12, 2017</td>\n",
       "      <td>7.87</td>\n",
       "    </tr>\n",
       "    <tr>\n",
       "      <th>2</th>\n",
       "      <td>3.</td>\n",
       "      <td>\"Johny Johny Yes Papa\"[12]</td>\n",
       "      <td>LooLoo Kids</td>\n",
       "      <td>October 8, 2016</td>\n",
       "      <td>6.37</td>\n",
       "    </tr>\n",
       "    <tr>\n",
       "      <th>3</th>\n",
       "      <td>4.</td>\n",
       "      <td>\"Shape of You\"[13]</td>\n",
       "      <td>Ed Sheeran</td>\n",
       "      <td>January 30, 2017</td>\n",
       "      <td>5.74</td>\n",
       "    </tr>\n",
       "    <tr>\n",
       "      <th>4</th>\n",
       "      <td>5.</td>\n",
       "      <td>\"See You Again\"[15]</td>\n",
       "      <td>Wiz Khalifa</td>\n",
       "      <td>April 6, 2015</td>\n",
       "      <td>5.54</td>\n",
       "    </tr>\n",
       "  </tbody>\n",
       "</table>\n",
       "</div>"
      ],
      "text/plain": [
       "  Rank                        Name  \\\n",
       "0   1.       \"Baby Shark Dance\"[3]   \n",
       "1   2.              \"Despacito\"[6]   \n",
       "2   3.  \"Johny Johny Yes Papa\"[12]   \n",
       "3   4.          \"Shape of You\"[13]   \n",
       "4   5.         \"See You Again\"[15]   \n",
       "\n",
       "                                        Artist       Upload Date  Views  \n",
       "0  Pinkfong Baby Shark - Kids' Songs & Stories     June 17, 2016  10.80  \n",
       "1                                   Luis Fonsi  January 12, 2017   7.87  \n",
       "2                                  LooLoo Kids   October 8, 2016   6.37  \n",
       "3                                   Ed Sheeran  January 30, 2017   5.74  \n",
       "4                                  Wiz Khalifa     April 6, 2015   5.54  "
      ]
     },
     "execution_count": 22,
     "metadata": {},
     "output_type": "execute_result"
    }
   ],
   "source": [
    "# Creating Dataframe\n",
    "most_viewed_videos=pd.DataFrame({})\n",
    "\n",
    "most_viewed_videos['Rank']=rank\n",
    "most_viewed_videos['Name']=name\n",
    "most_viewed_videos['Artist']=artist\n",
    "most_viewed_videos['Upload Date']=date\n",
    "most_viewed_videos['Views']=views\n",
    "\n",
    "most_viewed_videos.head()"
   ]
  },
  {
   "cell_type": "markdown",
   "id": "ce88bc33",
   "metadata": {},
   "source": [
    "Q2 : Scrape the details team India’s international fixtures from bcci.tv."
   ]
  },
  {
   "cell_type": "code",
   "execution_count": 23,
   "id": "75831baf",
   "metadata": {},
   "outputs": [],
   "source": [
    "bcci='https://www.bcci.tv/'\n",
    "driver.get(bcci)\n",
    "time.sleep(5)"
   ]
  },
  {
   "cell_type": "code",
   "execution_count": 25,
   "id": "66d9d19e",
   "metadata": {},
   "outputs": [],
   "source": [
    "# Clicking on menu button\n",
    "driver.find_element_by_xpath('/html/body/nav/div[1]/button').click()"
   ]
  },
  {
   "cell_type": "code",
   "execution_count": 26,
   "id": "9079432a",
   "metadata": {},
   "outputs": [],
   "source": [
    "# Clicking on International Fixtures\n",
    "driver.find_element_by_xpath('/html/body/nav/div[1]/div[2]/ul[1]/li[2]/a').click()"
   ]
  },
  {
   "cell_type": "code",
   "execution_count": 27,
   "id": "07741999",
   "metadata": {},
   "outputs": [],
   "source": [
    "# Craeting Empty Lists\n",
    "title=[]\n",
    "series=[]\n",
    "place=[]\n",
    "date=[]\n",
    "time=[]"
   ]
  },
  {
   "cell_type": "code",
   "execution_count": 28,
   "id": "4c94cae8",
   "metadata": {},
   "outputs": [
    {
     "data": {
      "text/plain": [
       "[<selenium.webdriver.remote.webelement.WebElement (session=\"f3336fc5b1f6e41066ad419fe57e1fd0\", element=\"00a9d54e-80f7-4927-a525-ff98ca5f42c7\")>,\n",
       " <selenium.webdriver.remote.webelement.WebElement (session=\"f3336fc5b1f6e41066ad419fe57e1fd0\", element=\"f2a9cd8d-a8e2-48c1-89a6-fea06ea7cb41\")>]"
      ]
     },
     "execution_count": 28,
     "metadata": {},
     "output_type": "execute_result"
    }
   ],
   "source": [
    "# Extracting tags\n",
    "title_tag=driver.find_elements_by_xpath('//span[@class=\"matchOrderText ng-binding ng-scope\"]')\n",
    "title_tag"
   ]
  },
  {
   "cell_type": "code",
   "execution_count": 29,
   "id": "6d24368b",
   "metadata": {},
   "outputs": [],
   "source": [
    "# Extracting title from tags\n",
    "for i in title_tag:\n",
    "    n=i.text\n",
    "    title.append(n)"
   ]
  },
  {
   "cell_type": "code",
   "execution_count": 30,
   "id": "8be62f9c",
   "metadata": {},
   "outputs": [
    {
     "data": {
      "text/plain": [
       "['4th T20I -', '5th T20I -']"
      ]
     },
     "execution_count": 30,
     "metadata": {},
     "output_type": "execute_result"
    }
   ],
   "source": [
    "title"
   ]
  },
  {
   "cell_type": "code",
   "execution_count": 33,
   "id": "8ca9e0ef",
   "metadata": {},
   "outputs": [
    {
     "data": {
      "text/plain": [
       "[<selenium.webdriver.remote.webelement.WebElement (session=\"f3336fc5b1f6e41066ad419fe57e1fd0\", element=\"5dbd5ae1-2f6d-4d14-8061-57183aa0254e\")>,\n",
       " <selenium.webdriver.remote.webelement.WebElement (session=\"f3336fc5b1f6e41066ad419fe57e1fd0\", element=\"858a2426-b655-4947-988e-a1ded93993c3\")>]"
      ]
     },
     "execution_count": 33,
     "metadata": {},
     "output_type": "execute_result"
    }
   ],
   "source": [
    "# Extracting tags\n",
    "series_tag=driver.find_elements_by_xpath('//div[@class=\"fixture-card-top\"]/h5[2]')\n",
    "series_tag"
   ]
  },
  {
   "cell_type": "code",
   "execution_count": 34,
   "id": "d40b15c9",
   "metadata": {},
   "outputs": [],
   "source": [
    "# Extracting title from tags\n",
    "for i in series_tag:\n",
    "    n=i.text\n",
    "    series.append(n)"
   ]
  },
  {
   "cell_type": "code",
   "execution_count": 35,
   "id": "f817d439",
   "metadata": {},
   "outputs": [
    {
     "data": {
      "text/plain": [
       "['SOUTH AFRICA TOUR OF INDIA T20 SERIES 2022',\n",
       " 'SOUTH AFRICA TOUR OF INDIA T20 SERIES 2022']"
      ]
     },
     "execution_count": 35,
     "metadata": {},
     "output_type": "execute_result"
    }
   ],
   "source": [
    "series"
   ]
  },
  {
   "cell_type": "code",
   "execution_count": 36,
   "id": "838defd1",
   "metadata": {},
   "outputs": [],
   "source": [
    "# Extracting tags\n",
    "place_tag=driver.find_elements_by_xpath('//div[@class=\"fix-place ng-binding ng-scope\"]/span[2]')\n",
    "place_tag\n",
    "\n",
    "# Extracting place from tags\n",
    "for i in place_tag:\n",
    "    n=i.text\n",
    "    place.append(n)"
   ]
  },
  {
   "cell_type": "code",
   "execution_count": 37,
   "id": "eb523dc4",
   "metadata": {},
   "outputs": [
    {
     "data": {
      "text/plain": [
       "['Saurashtra Cricket Association Stadium,', 'M Chinnaswamy Stadium,']"
      ]
     },
     "execution_count": 37,
     "metadata": {},
     "output_type": "execute_result"
    }
   ],
   "source": [
    "place"
   ]
  },
  {
   "cell_type": "code",
   "execution_count": 38,
   "id": "a440c99c",
   "metadata": {},
   "outputs": [],
   "source": [
    "# Extracting tags\n",
    "date_tag=driver.find_elements_by_xpath('//div[@class=\"match-card-left match-schedule\"]/h5')\n",
    "date_tag\n",
    "\n",
    "# Extracting date from tags\n",
    "for i in date_tag:\n",
    "    n=i.text\n",
    "    date.append(n)"
   ]
  },
  {
   "cell_type": "code",
   "execution_count": 39,
   "id": "a5286b92",
   "metadata": {},
   "outputs": [
    {
     "data": {
      "text/plain": [
       "['17 JUN 2022', '19 JUN 2022']"
      ]
     },
     "execution_count": 39,
     "metadata": {},
     "output_type": "execute_result"
    }
   ],
   "source": [
    "date"
   ]
  },
  {
   "cell_type": "code",
   "execution_count": 40,
   "id": "96b913a3",
   "metadata": {},
   "outputs": [],
   "source": [
    "# Extracting tags\n",
    "time_tag=driver.find_elements_by_xpath('//div[@class=\"match-card-right match-schedule \"]/h5')\n",
    "time_tag\n",
    "\n",
    "# Extracting time from tags\n",
    "for i in time_tag:\n",
    "    n=i.text\n",
    "    time.append(n)"
   ]
  },
  {
   "cell_type": "code",
   "execution_count": 41,
   "id": "487c6f5b",
   "metadata": {},
   "outputs": [
    {
     "data": {
      "text/plain": [
       "['7:00 PM IST', '7:00 PM IST']"
      ]
     },
     "execution_count": 41,
     "metadata": {},
     "output_type": "execute_result"
    }
   ],
   "source": [
    "time"
   ]
  },
  {
   "cell_type": "code",
   "execution_count": 42,
   "id": "c2d40ddf",
   "metadata": {},
   "outputs": [
    {
     "data": {
      "text/html": [
       "<div>\n",
       "<style scoped>\n",
       "    .dataframe tbody tr th:only-of-type {\n",
       "        vertical-align: middle;\n",
       "    }\n",
       "\n",
       "    .dataframe tbody tr th {\n",
       "        vertical-align: top;\n",
       "    }\n",
       "\n",
       "    .dataframe thead th {\n",
       "        text-align: right;\n",
       "    }\n",
       "</style>\n",
       "<table border=\"1\" class=\"dataframe\">\n",
       "  <thead>\n",
       "    <tr style=\"text-align: right;\">\n",
       "      <th></th>\n",
       "      <th>Title</th>\n",
       "      <th>Series</th>\n",
       "      <th>Place</th>\n",
       "      <th>Date</th>\n",
       "      <th>Time</th>\n",
       "    </tr>\n",
       "  </thead>\n",
       "  <tbody>\n",
       "    <tr>\n",
       "      <th>0</th>\n",
       "      <td>4th T20I -</td>\n",
       "      <td>SOUTH AFRICA TOUR OF INDIA T20 SERIES 2022</td>\n",
       "      <td>Saurashtra Cricket Association Stadium,</td>\n",
       "      <td>17 JUN 2022</td>\n",
       "      <td>7:00 PM IST</td>\n",
       "    </tr>\n",
       "    <tr>\n",
       "      <th>1</th>\n",
       "      <td>5th T20I -</td>\n",
       "      <td>SOUTH AFRICA TOUR OF INDIA T20 SERIES 2022</td>\n",
       "      <td>M Chinnaswamy Stadium,</td>\n",
       "      <td>19 JUN 2022</td>\n",
       "      <td>7:00 PM IST</td>\n",
       "    </tr>\n",
       "  </tbody>\n",
       "</table>\n",
       "</div>"
      ],
      "text/plain": [
       "        Title                                      Series  \\\n",
       "0  4th T20I -  SOUTH AFRICA TOUR OF INDIA T20 SERIES 2022   \n",
       "1  5th T20I -  SOUTH AFRICA TOUR OF INDIA T20 SERIES 2022   \n",
       "\n",
       "                                     Place         Date         Time  \n",
       "0  Saurashtra Cricket Association Stadium,  17 JUN 2022  7:00 PM IST  \n",
       "1                   M Chinnaswamy Stadium,  19 JUN 2022  7:00 PM IST  "
      ]
     },
     "execution_count": 42,
     "metadata": {},
     "output_type": "execute_result"
    }
   ],
   "source": [
    "# Creating DataFrame\n",
    "bcci_tv=pd.DataFrame({})\n",
    "bcci_tv['Title']=title\n",
    "bcci_tv['Series']=series\n",
    "bcci_tv['Place']=place\n",
    "bcci_tv['Date']=date\n",
    "bcci_tv['Time']=time\n",
    "\n",
    "bcci_tv"
   ]
  },
  {
   "cell_type": "markdown",
   "id": "8f3ad46f",
   "metadata": {},
   "source": [
    "Q3 : Scrape the details of selenium exception from guru99.com."
   ]
  },
  {
   "cell_type": "code",
   "execution_count": 51,
   "id": "35df0bf7",
   "metadata": {},
   "outputs": [],
   "source": [
    "guru99='https://www.guru99.com/'"
   ]
  },
  {
   "cell_type": "code",
   "execution_count": 52,
   "id": "47a11d2b",
   "metadata": {},
   "outputs": [],
   "source": [
    "import time"
   ]
  },
  {
   "cell_type": "code",
   "execution_count": 53,
   "id": "45d224ef",
   "metadata": {},
   "outputs": [],
   "source": [
    "driver.get(guru99)\n",
    "time.sleep(5)"
   ]
  },
  {
   "cell_type": "code",
   "execution_count": 54,
   "id": "c1f7c003",
   "metadata": {},
   "outputs": [],
   "source": [
    "# click on menu button\n",
    "driver.find_element_by_xpath('/html/body/div[1]/header/div[2]/div/div/div/div/div/div/div/div[2]/div/div/button/span/span').click()"
   ]
  },
  {
   "cell_type": "code",
   "execution_count": 55,
   "id": "96c26527",
   "metadata": {},
   "outputs": [],
   "source": [
    "# Clicking on drop down buttin of Testing\n",
    "driver.find_element_by_xpath('/html/body/div[2]/div[2]/div[2]/div/nav/div/ul/li[2]/div/button/span[2]').click()"
   ]
  },
  {
   "cell_type": "code",
   "execution_count": 56,
   "id": "564355ea",
   "metadata": {},
   "outputs": [],
   "source": [
    "# Clicking on Selenium\n",
    "driver.find_element_by_xpath('/html/body/div[2]/div[2]/div[2]/div/nav/div/ul/li[2]/ul/li[12]').click()"
   ]
  },
  {
   "cell_type": "code",
   "execution_count": 57,
   "id": "cf7621cc",
   "metadata": {},
   "outputs": [],
   "source": [
    "# Clicking on Tutorial of Selenium Exception Handling\n",
    "driver.find_element_by_xpath('/html/body/div[1]/div/div/div/main/div/article/div/div/table[5]/tbody/tr[34]/td[1]').click()"
   ]
  },
  {
   "cell_type": "code",
   "execution_count": 58,
   "id": "208e1bcf",
   "metadata": {},
   "outputs": [],
   "source": [
    "# Creating empty lists\n",
    "name=[]\n",
    "desc=[]"
   ]
  },
  {
   "cell_type": "code",
   "execution_count": 59,
   "id": "209dd5b4",
   "metadata": {},
   "outputs": [],
   "source": [
    "# Extracting tags\n",
    "name_tag=driver.find_elements_by_xpath('//table[@class=\"table table-striped\"]/tbody/tr/td[1]')\n",
    "\n",
    "# Extracting name from tags\n",
    "for i in name_tag:\n",
    "    n=i.text\n",
    "    name.append(n)"
   ]
  },
  {
   "cell_type": "code",
   "execution_count": 60,
   "id": "df7258aa",
   "metadata": {},
   "outputs": [
    {
     "data": {
      "text/plain": [
       "41"
      ]
     },
     "execution_count": 60,
     "metadata": {},
     "output_type": "execute_result"
    }
   ],
   "source": [
    "len(name)"
   ]
  },
  {
   "cell_type": "code",
   "execution_count": 61,
   "id": "f93b731a",
   "metadata": {},
   "outputs": [
    {
     "data": {
      "text/plain": [
       "['ElementNotVisibleException',\n",
       " 'ElementNotSelectableException',\n",
       " 'NoSuchElementException',\n",
       " 'NoSuchFrameException',\n",
       " 'NoAlertPresentException',\n",
       " 'NoSuchWindowException',\n",
       " 'StaleElementReferenceException',\n",
       " 'SessionNotFoundException',\n",
       " 'TimeoutException',\n",
       " 'WebDriverException',\n",
       " 'ConnectionClosedException',\n",
       " 'ElementClickInterceptedException',\n",
       " 'ElementNotInteractableException',\n",
       " 'ErrorInResponseException',\n",
       " 'ErrorHandler.UnknownServerException',\n",
       " 'ImeActivationFailedException',\n",
       " 'ImeNotAvailableException',\n",
       " 'InsecureCertificateException',\n",
       " 'InvalidArgumentException',\n",
       " 'InvalidCookieDomainException',\n",
       " 'InvalidCoordinatesException',\n",
       " 'InvalidElementStateExceptio',\n",
       " 'InvalidSessionIdException',\n",
       " 'InvalidSwitchToTargetException',\n",
       " 'JavascriptException',\n",
       " 'JsonException',\n",
       " 'NoSuchAttributeException',\n",
       " 'MoveTargetOutOfBoundsException',\n",
       " 'NoSuchContextException',\n",
       " 'NoSuchCookieException',\n",
       " 'NotFoundException',\n",
       " 'RemoteDriverServerException',\n",
       " 'ScreenshotException',\n",
       " 'SessionNotCreatedException',\n",
       " 'UnableToSetCookieException',\n",
       " 'UnexpectedTagNameException',\n",
       " 'UnhandledAlertException',\n",
       " 'UnexpectedAlertPresentException',\n",
       " 'UnknownMethodException',\n",
       " 'UnreachableBrowserException',\n",
       " 'UnsupportedCommandException']"
      ]
     },
     "execution_count": 61,
     "metadata": {},
     "output_type": "execute_result"
    }
   ],
   "source": [
    "name"
   ]
  },
  {
   "cell_type": "code",
   "execution_count": 62,
   "id": "2bf0fd02",
   "metadata": {},
   "outputs": [],
   "source": [
    "# Extracting tags\n",
    "desc_tag=driver.find_elements_by_xpath('//table[@class=\"table table-striped\"]/tbody/tr/td[2]')\n",
    "desc_tag\n",
    "\n",
    "# Extracting desc from tags\n",
    "for i in desc_tag:\n",
    "    n=i.text\n",
    "    desc.append(n)"
   ]
  },
  {
   "cell_type": "code",
   "execution_count": 63,
   "id": "3da694f8",
   "metadata": {},
   "outputs": [
    {
     "data": {
      "text/plain": [
       "41"
      ]
     },
     "execution_count": 63,
     "metadata": {},
     "output_type": "execute_result"
    }
   ],
   "source": [
    "len(desc)"
   ]
  },
  {
   "cell_type": "code",
   "execution_count": 64,
   "id": "312fce30",
   "metadata": {},
   "outputs": [
    {
     "data": {
      "text/plain": [
       "['This type of Selenium exception occurs when an existing element in DOM has a feature set as hidden.',\n",
       " 'This Selenium exception occurs when an element is presented in the DOM, but you can be able to select. Therefore, it is not possible to interact.',\n",
       " 'This Exception occurs if an element could not be found.',\n",
       " 'This Exception occurs if the frame target to be switched to does not exist.',\n",
       " 'This Exception occurs when you switch to no presented alert.',\n",
       " 'This Exception occurs if the window target to be switch does not exist.',\n",
       " 'This Selenium exception occurs happens when the web element is detached from the current DOM.',\n",
       " 'The WebDriver is acting after you quit the browser.',\n",
       " 'Thrown when there is not enough time for a command to be completed. For Example, the element searched wasn’t found in the specified time.',\n",
       " 'This Exception takes place when the WebDriver is acting right after you close the browser.',\n",
       " 'This type of Exception takes place when there is a disconnection in the driver.',\n",
       " 'The command may not be completed as the element receiving the events is concealing the element which was requested clicked.',\n",
       " 'This Selenium exception is thrown when any element is presented in the DOM. However, it is impossible to interact with such an element.',\n",
       " 'This happens while interacting with the Firefox extension or the remote driver server.',\n",
       " 'Exception is used as a placeholder in case if the server returns an error without a stack trace.',\n",
       " 'This expectation will occur when IME engine activation has failed.',\n",
       " 'It takes place when IME support is unavailable.',\n",
       " 'Navigation made the user agent to hit a certificate warning. This can cause by an invalid or expired TLS certificate.',\n",
       " 'It occurs when an argument does not belong to the expected type.',\n",
       " 'This happens when you try to add a cookie under a different domain instead of current URL.',\n",
       " 'This type of Exception matches an interacting operation that is not valid.',\n",
       " 'It occurs when command can’t be finished when the element is invalid.',\n",
       " 'This Exception took place when the given session ID is not included in the list of active sessions. It means the session does not exist or is inactive either.',\n",
       " 'This occurs when the frame or window target to be switched does not exist.',\n",
       " 'This issue occurs while executing JavaScript given by the user.',\n",
       " 'It occurs when you afford to get the session when the session is not created.',\n",
       " 'This kind of Exception occurs when the attribute of an element could not be found.',\n",
       " 'It takes place if the target provided to the ActionChains move() methodology is not valid. For Example, out of the document.',\n",
       " 'ContextAware does mobile device testing.',\n",
       " 'This Exception occurs when no cookie matching with the given pathname found for all the associated cookies of the currently browsing document.',\n",
       " 'This Exception is a subclass of WebDriverException. This will occur when an element on the DOM does not exist.',\n",
       " 'This Selenium exception is thrown when the server is not responding because of the problem that the capabilities described are not proper.',\n",
       " 'It is not possible to capture a screen.',\n",
       " 'It happens when a new session could not be successfully created.',\n",
       " 'This occurs if a driver is unable to set a cookie.',\n",
       " 'Happens if a support class did not get a web element as expected.',\n",
       " 'This expectation occurs when there is an alert, but WebDriver is not able to perform Alert operation.',\n",
       " 'It occurs when there is the appearance of an unexpected alert.',\n",
       " 'This Exception happens when the requested command matches with a known URL but and not matching with a methodology for a specific URL.',\n",
       " 'This Exception occurs only when the browser is not able to be opened or crashed because of some reason.',\n",
       " 'This occurs when remote WebDriver does n’t send valid commands as expected.']"
      ]
     },
     "execution_count": 64,
     "metadata": {},
     "output_type": "execute_result"
    }
   ],
   "source": [
    "desc"
   ]
  },
  {
   "cell_type": "code",
   "execution_count": 65,
   "id": "09abce3d",
   "metadata": {},
   "outputs": [
    {
     "data": {
      "text/html": [
       "<div>\n",
       "<style scoped>\n",
       "    .dataframe tbody tr th:only-of-type {\n",
       "        vertical-align: middle;\n",
       "    }\n",
       "\n",
       "    .dataframe tbody tr th {\n",
       "        vertical-align: top;\n",
       "    }\n",
       "\n",
       "    .dataframe thead th {\n",
       "        text-align: right;\n",
       "    }\n",
       "</style>\n",
       "<table border=\"1\" class=\"dataframe\">\n",
       "  <thead>\n",
       "    <tr style=\"text-align: right;\">\n",
       "      <th></th>\n",
       "      <th>Name</th>\n",
       "      <th>Description</th>\n",
       "    </tr>\n",
       "  </thead>\n",
       "  <tbody>\n",
       "    <tr>\n",
       "      <th>0</th>\n",
       "      <td>ElementNotVisibleException</td>\n",
       "      <td>This type of Selenium exception occurs when an...</td>\n",
       "    </tr>\n",
       "    <tr>\n",
       "      <th>1</th>\n",
       "      <td>ElementNotSelectableException</td>\n",
       "      <td>This Selenium exception occurs when an element...</td>\n",
       "    </tr>\n",
       "    <tr>\n",
       "      <th>2</th>\n",
       "      <td>NoSuchElementException</td>\n",
       "      <td>This Exception occurs if an element could not ...</td>\n",
       "    </tr>\n",
       "    <tr>\n",
       "      <th>3</th>\n",
       "      <td>NoSuchFrameException</td>\n",
       "      <td>This Exception occurs if the frame target to b...</td>\n",
       "    </tr>\n",
       "    <tr>\n",
       "      <th>4</th>\n",
       "      <td>NoAlertPresentException</td>\n",
       "      <td>This Exception occurs when you switch to no pr...</td>\n",
       "    </tr>\n",
       "  </tbody>\n",
       "</table>\n",
       "</div>"
      ],
      "text/plain": [
       "                            Name  \\\n",
       "0     ElementNotVisibleException   \n",
       "1  ElementNotSelectableException   \n",
       "2         NoSuchElementException   \n",
       "3           NoSuchFrameException   \n",
       "4        NoAlertPresentException   \n",
       "\n",
       "                                         Description  \n",
       "0  This type of Selenium exception occurs when an...  \n",
       "1  This Selenium exception occurs when an element...  \n",
       "2  This Exception occurs if an element could not ...  \n",
       "3  This Exception occurs if the frame target to b...  \n",
       "4  This Exception occurs when you switch to no pr...  "
      ]
     },
     "execution_count": 65,
     "metadata": {},
     "output_type": "execute_result"
    }
   ],
   "source": [
    "# Creating DatFrame\n",
    "selenium_exception_handling=pd.DataFrame({})\n",
    "selenium_exception_handling['Name']=name\n",
    "selenium_exception_handling['Description']=desc\n",
    "\n",
    "selenium_exception_handling.head()"
   ]
  },
  {
   "cell_type": "markdown",
   "id": "6ed695f8",
   "metadata": {},
   "source": [
    "Q4 : Scrape the details of State-wise GDP of India from statisticstime.com."
   ]
  },
  {
   "cell_type": "code",
   "execution_count": 69,
   "id": "afa02148",
   "metadata": {},
   "outputs": [],
   "source": [
    "gdp='https://www.statisticstimes.com/'\n",
    "driver.get(gdp)"
   ]
  },
  {
   "cell_type": "code",
   "execution_count": 71,
   "id": "b9cc1968",
   "metadata": {},
   "outputs": [
    {
     "name": "stdout",
     "output_type": "stream",
     "text": [
      "Element is not iteracable so i'm directly clicking in India under Economy section\n"
     ]
    }
   ],
   "source": [
    "try:\n",
    "    i=driver.find_element_by_xpath('/html/body/div[2]/div[1]/div[2]/div[2]/div/a[3]')\n",
    "    i.click()\n",
    "except ElementNotInteractableException:\n",
    "    print(\"Element is not iteracable so i'm directly clicking in India under Economy section\")"
   ]
  },
  {
   "cell_type": "code",
   "execution_count": 74,
   "id": "54b15584",
   "metadata": {},
   "outputs": [],
   "source": [
    "# Clicking on gdp of Indian states\n",
    "driver.find_element_by_xpath('/html/body/div[2]/div[2]/div[2]/ul/li[1]/a').click()"
   ]
  },
  {
   "cell_type": "code",
   "execution_count": 82,
   "id": "d5778a9b",
   "metadata": {},
   "outputs": [],
   "source": [
    "# Creating Empty Lists\n",
    "rank=[]\n",
    "state=[]\n",
    "gsdp_18_19=[]\n",
    "gsdp_19_20=[]\n",
    "share=[]\n",
    "gdp=[]"
   ]
  },
  {
   "cell_type": "code",
   "execution_count": 83,
   "id": "4a919ef6",
   "metadata": {},
   "outputs": [],
   "source": [
    "# Extracting tags\n",
    "rank_tag=driver.find_elements_by_xpath('//td[@class=\"data1\"]')\n",
    "rank_tag=rank_tag[0:33]\n",
    "\n",
    "# Extracting rank from tags\n",
    "for i in rank_tag:\n",
    "    n=i.text\n",
    "    rank.append(n)"
   ]
  },
  {
   "cell_type": "code",
   "execution_count": 88,
   "id": "9f1d8ec7",
   "metadata": {},
   "outputs": [
    {
     "data": {
      "text/plain": [
       "33"
      ]
     },
     "execution_count": 88,
     "metadata": {},
     "output_type": "execute_result"
    }
   ],
   "source": [
    "len(rank)"
   ]
  },
  {
   "cell_type": "code",
   "execution_count": 84,
   "id": "543988a2",
   "metadata": {},
   "outputs": [
    {
     "data": {
      "text/plain": [
       "['1',\n",
       " '2',\n",
       " '3',\n",
       " '4',\n",
       " '5',\n",
       " '6',\n",
       " '7',\n",
       " '8',\n",
       " '9',\n",
       " '10',\n",
       " '11',\n",
       " '12',\n",
       " '13',\n",
       " '14',\n",
       " '15',\n",
       " '16',\n",
       " '17',\n",
       " '18',\n",
       " '19',\n",
       " '20',\n",
       " '21',\n",
       " '22',\n",
       " '23',\n",
       " '24',\n",
       " '25',\n",
       " '26',\n",
       " '27',\n",
       " '28',\n",
       " '29',\n",
       " '30',\n",
       " '31',\n",
       " '32',\n",
       " '33']"
      ]
     },
     "execution_count": 84,
     "metadata": {},
     "output_type": "execute_result"
    }
   ],
   "source": [
    "rank"
   ]
  },
  {
   "cell_type": "code",
   "execution_count": 85,
   "id": "671cf742",
   "metadata": {},
   "outputs": [],
   "source": [
    "# Extracting tags\n",
    "state_tag=driver.find_elements_by_xpath('//td[@class=\"name\"]')\n",
    "state_tag=state_tag[0:33]\n",
    "\n",
    "# Extracting state from tags\n",
    "for i in state_tag:\n",
    "    n=i.text\n",
    "    state.append(n)"
   ]
  },
  {
   "cell_type": "code",
   "execution_count": 87,
   "id": "d9f0f6ad",
   "metadata": {},
   "outputs": [
    {
     "data": {
      "text/plain": [
       "33"
      ]
     },
     "execution_count": 87,
     "metadata": {},
     "output_type": "execute_result"
    }
   ],
   "source": [
    "len(state)"
   ]
  },
  {
   "cell_type": "code",
   "execution_count": 86,
   "id": "2f2da900",
   "metadata": {},
   "outputs": [
    {
     "data": {
      "text/plain": [
       "['Maharashtra',\n",
       " 'Tamil Nadu',\n",
       " 'Uttar Pradesh',\n",
       " 'Gujarat',\n",
       " 'Karnataka',\n",
       " 'West Bengal',\n",
       " 'Rajasthan',\n",
       " 'Andhra Pradesh',\n",
       " 'Telangana',\n",
       " 'Madhya Pradesh',\n",
       " 'Kerala',\n",
       " 'Delhi',\n",
       " 'Haryana',\n",
       " 'Bihar',\n",
       " 'Punjab',\n",
       " 'Odisha',\n",
       " 'Assam',\n",
       " 'Chhattisgarh',\n",
       " 'Jharkhand',\n",
       " 'Uttarakhand',\n",
       " 'Jammu & Kashmir',\n",
       " 'Himachal Pradesh',\n",
       " 'Goa',\n",
       " 'Tripura',\n",
       " 'Chandigarh',\n",
       " 'Puducherry',\n",
       " 'Meghalaya',\n",
       " 'Sikkim',\n",
       " 'Manipur',\n",
       " 'Nagaland',\n",
       " 'Arunachal Pradesh',\n",
       " 'Mizoram',\n",
       " 'Andaman & Nicobar Islands']"
      ]
     },
     "execution_count": 86,
     "metadata": {},
     "output_type": "execute_result"
    }
   ],
   "source": [
    "state"
   ]
  },
  {
   "cell_type": "code",
   "execution_count": 89,
   "id": "c26556e4",
   "metadata": {},
   "outputs": [
    {
     "data": {
      "text/plain": [
       "['2,632,792',\n",
       " '1,630,208',\n",
       " '1,584,764',\n",
       " '1,502,899',\n",
       " '1,493,127',\n",
       " '1,089,898',\n",
       " '942,586',\n",
       " '862,957',\n",
       " '861,031',\n",
       " '809,592',\n",
       " '781,653',\n",
       " '774,870',\n",
       " '734,163',\n",
       " '530,363',\n",
       " '526,376',\n",
       " '487,805',\n",
       " '315,881',\n",
       " '304,063',\n",
       " '297,204',\n",
       " '245,895',\n",
       " '155,956',\n",
       " '153,845',\n",
       " '73,170',\n",
       " '49,845',\n",
       " '42,114',\n",
       " '34,433',\n",
       " '33,481',\n",
       " '28,723',\n",
       " '27,870',\n",
       " '27,283',\n",
       " '24,603',\n",
       " '22,287',\n",
       " '-']"
      ]
     },
     "execution_count": 89,
     "metadata": {},
     "output_type": "execute_result"
    }
   ],
   "source": [
    "# Extracting tags\n",
    "gsdp_18_19_tag=driver.find_elements_by_xpath('//td[@class=\"data sorting_1\"]')\n",
    "gsdp_18_19_tag=gsdp_18_19_tag[0:33]\n",
    "\n",
    "# Extracting gsdp_18_19 from tags\n",
    "for i in gsdp_18_19_tag:\n",
    "    n=i.text\n",
    "    gsdp_18_19.append(n)\n",
    "    \n",
    "gsdp_18_19"
   ]
  },
  {
   "cell_type": "code",
   "execution_count": 90,
   "id": "46945ec2",
   "metadata": {},
   "outputs": [
    {
     "data": {
      "text/plain": [
       "33"
      ]
     },
     "execution_count": 90,
     "metadata": {},
     "output_type": "execute_result"
    }
   ],
   "source": [
    "len(gsdp_18_19)"
   ]
  },
  {
   "cell_type": "code",
   "execution_count": 100,
   "id": "6cb9083e",
   "metadata": {},
   "outputs": [],
   "source": [
    "gsdp_19_20=[]"
   ]
  },
  {
   "cell_type": "code",
   "execution_count": 101,
   "id": "c9c51cdd",
   "metadata": {},
   "outputs": [
    {
     "data": {
      "text/plain": [
       "['-',\n",
       " '1,845,853',\n",
       " '1,687,818',\n",
       " '-',\n",
       " '1,631,977',\n",
       " '1,253,832',\n",
       " '1,020,989',\n",
       " '972,782',\n",
       " '969,604',\n",
       " '906,672',\n",
       " '-',\n",
       " '856,112',\n",
       " '831,610',\n",
       " '611,804',\n",
       " '574,760',\n",
       " '521,275',\n",
       " '-',\n",
       " '329,180',\n",
       " '328,598',\n",
       " '-',\n",
       " '-',\n",
       " '165,472',\n",
       " '80,449',\n",
       " '55,984',\n",
       " '-',\n",
       " '38,253',\n",
       " '36,572',\n",
       " '32,496',\n",
       " '31,790',\n",
       " '-',\n",
       " '-',\n",
       " '26,503',\n",
       " '-']"
      ]
     },
     "execution_count": 101,
     "metadata": {},
     "output_type": "execute_result"
    }
   ],
   "source": [
    "# Extracting tags\n",
    "gsdp_19_20_tag=driver.find_elements_by_xpath('//table[@class=\"display dataTable\"]/tbody/tr/td[3]')\n",
    "gsdp_19_20_tag=gsdp_19_20_tag[0:33]\n",
    "\n",
    "# Extracting gsdp_18_19 from tags\n",
    "for i in gsdp_19_20_tag:\n",
    "    n=i.text\n",
    "    gsdp_19_20.append(n)\n",
    "    \n",
    "gsdp_19_20"
   ]
  },
  {
   "cell_type": "code",
   "execution_count": 102,
   "id": "6184d96d",
   "metadata": {},
   "outputs": [
    {
     "data": {
      "text/plain": [
       "33"
      ]
     },
     "execution_count": 102,
     "metadata": {},
     "output_type": "execute_result"
    }
   ],
   "source": [
    "len(gsdp_19_20)"
   ]
  },
  {
   "cell_type": "code",
   "execution_count": 103,
   "id": "deb570b1",
   "metadata": {},
   "outputs": [
    {
     "data": {
      "text/plain": [
       "['13.94%',\n",
       " '8.63%',\n",
       " '8.39%',\n",
       " '7.96%',\n",
       " '7.91%',\n",
       " '5.77%',\n",
       " '4.99%',\n",
       " '4.57%',\n",
       " '4.56%',\n",
       " '4.29%',\n",
       " '4.14%',\n",
       " '4.10%',\n",
       " '3.89%',\n",
       " '2.81%',\n",
       " '2.79%',\n",
       " '2.58%',\n",
       " '1.67%',\n",
       " '1.61%',\n",
       " '1.57%',\n",
       " '1.30%',\n",
       " '0.83%',\n",
       " '0.81%',\n",
       " '0.39%',\n",
       " '0.26%',\n",
       " '0.22%',\n",
       " '0.18%',\n",
       " '0.18%',\n",
       " '0.15%',\n",
       " '0.15%',\n",
       " '0.14%',\n",
       " '0.13%',\n",
       " '0.12%',\n",
       " '-']"
      ]
     },
     "execution_count": 103,
     "metadata": {},
     "output_type": "execute_result"
    }
   ],
   "source": [
    "# Extracting tags\n",
    "share_tag=driver.find_elements_by_xpath('//table[@class=\"display dataTable\"]/tbody/tr/td[5]')\n",
    "share_tag=share_tag[0:33]\n",
    "\n",
    "# Extracting share from tags\n",
    "for i in share_tag:\n",
    "    n=i.text\n",
    "    share.append(n)\n",
    "    \n",
    "share"
   ]
  },
  {
   "cell_type": "code",
   "execution_count": 104,
   "id": "66acc9c7",
   "metadata": {},
   "outputs": [
    {
     "data": {
      "text/plain": [
       "33"
      ]
     },
     "execution_count": 104,
     "metadata": {},
     "output_type": "execute_result"
    }
   ],
   "source": [
    "len(share)"
   ]
  },
  {
   "cell_type": "code",
   "execution_count": 105,
   "id": "4e34492c",
   "metadata": {},
   "outputs": [
    {
     "data": {
      "text/plain": [
       "['399.921',\n",
       " '247.629',\n",
       " '240.726',\n",
       " '228.290',\n",
       " '226.806',\n",
       " '165.556',\n",
       " '143.179',\n",
       " '131.083',\n",
       " '130.791',\n",
       " '122.977',\n",
       " '118.733',\n",
       " '117.703',\n",
       " '111.519',\n",
       " '80.562',\n",
       " '79.957',\n",
       " '74.098',\n",
       " '47.982',\n",
       " '46.187',\n",
       " '45.145',\n",
       " '37.351',\n",
       " '23.690',\n",
       " '23.369',\n",
       " '11.115',\n",
       " '7.571',\n",
       " '6.397',\n",
       " '5.230',\n",
       " '5.086',\n",
       " '4.363',\n",
       " '4.233',\n",
       " '4.144',\n",
       " '3.737',\n",
       " '3.385',\n",
       " '-']"
      ]
     },
     "execution_count": 105,
     "metadata": {},
     "output_type": "execute_result"
    }
   ],
   "source": [
    "# Extracting tags\n",
    "gdp_tag=driver.find_elements_by_xpath('//table[@class=\"display dataTable\"]/tbody/tr/td[6]')\n",
    "gdp_tag=gdp_tag[0:33]\n",
    "\n",
    "# Extracting gdp from tags\n",
    "for i in gdp_tag:\n",
    "    n=i.text\n",
    "    gdp.append(n)\n",
    "    \n",
    "gdp"
   ]
  },
  {
   "cell_type": "code",
   "execution_count": 106,
   "id": "b15f3fc3",
   "metadata": {},
   "outputs": [
    {
     "data": {
      "text/plain": [
       "33"
      ]
     },
     "execution_count": 106,
     "metadata": {},
     "output_type": "execute_result"
    }
   ],
   "source": [
    "len(gdp)"
   ]
  },
  {
   "cell_type": "code",
   "execution_count": 107,
   "id": "fd2a6b9e",
   "metadata": {},
   "outputs": [
    {
     "data": {
      "text/html": [
       "<div>\n",
       "<style scoped>\n",
       "    .dataframe tbody tr th:only-of-type {\n",
       "        vertical-align: middle;\n",
       "    }\n",
       "\n",
       "    .dataframe tbody tr th {\n",
       "        vertical-align: top;\n",
       "    }\n",
       "\n",
       "    .dataframe thead th {\n",
       "        text-align: right;\n",
       "    }\n",
       "</style>\n",
       "<table border=\"1\" class=\"dataframe\">\n",
       "  <thead>\n",
       "    <tr style=\"text-align: right;\">\n",
       "      <th></th>\n",
       "      <th>Rank</th>\n",
       "      <th>State</th>\n",
       "      <th>GSDP(18-19)</th>\n",
       "      <th>GSDP(19-20)</th>\n",
       "      <th>Share</th>\n",
       "      <th>GDP</th>\n",
       "    </tr>\n",
       "  </thead>\n",
       "  <tbody>\n",
       "    <tr>\n",
       "      <th>0</th>\n",
       "      <td>1</td>\n",
       "      <td>Maharashtra</td>\n",
       "      <td>2,632,792</td>\n",
       "      <td>-</td>\n",
       "      <td>13.94%</td>\n",
       "      <td>399.921</td>\n",
       "    </tr>\n",
       "    <tr>\n",
       "      <th>1</th>\n",
       "      <td>2</td>\n",
       "      <td>Tamil Nadu</td>\n",
       "      <td>1,630,208</td>\n",
       "      <td>1,845,853</td>\n",
       "      <td>8.63%</td>\n",
       "      <td>247.629</td>\n",
       "    </tr>\n",
       "    <tr>\n",
       "      <th>2</th>\n",
       "      <td>3</td>\n",
       "      <td>Uttar Pradesh</td>\n",
       "      <td>1,584,764</td>\n",
       "      <td>1,687,818</td>\n",
       "      <td>8.39%</td>\n",
       "      <td>240.726</td>\n",
       "    </tr>\n",
       "    <tr>\n",
       "      <th>3</th>\n",
       "      <td>4</td>\n",
       "      <td>Gujarat</td>\n",
       "      <td>1,502,899</td>\n",
       "      <td>-</td>\n",
       "      <td>7.96%</td>\n",
       "      <td>228.290</td>\n",
       "    </tr>\n",
       "    <tr>\n",
       "      <th>4</th>\n",
       "      <td>5</td>\n",
       "      <td>Karnataka</td>\n",
       "      <td>1,493,127</td>\n",
       "      <td>1,631,977</td>\n",
       "      <td>7.91%</td>\n",
       "      <td>226.806</td>\n",
       "    </tr>\n",
       "    <tr>\n",
       "      <th>5</th>\n",
       "      <td>6</td>\n",
       "      <td>West Bengal</td>\n",
       "      <td>1,089,898</td>\n",
       "      <td>1,253,832</td>\n",
       "      <td>5.77%</td>\n",
       "      <td>165.556</td>\n",
       "    </tr>\n",
       "    <tr>\n",
       "      <th>6</th>\n",
       "      <td>7</td>\n",
       "      <td>Rajasthan</td>\n",
       "      <td>942,586</td>\n",
       "      <td>1,020,989</td>\n",
       "      <td>4.99%</td>\n",
       "      <td>143.179</td>\n",
       "    </tr>\n",
       "    <tr>\n",
       "      <th>7</th>\n",
       "      <td>8</td>\n",
       "      <td>Andhra Pradesh</td>\n",
       "      <td>862,957</td>\n",
       "      <td>972,782</td>\n",
       "      <td>4.57%</td>\n",
       "      <td>131.083</td>\n",
       "    </tr>\n",
       "    <tr>\n",
       "      <th>8</th>\n",
       "      <td>9</td>\n",
       "      <td>Telangana</td>\n",
       "      <td>861,031</td>\n",
       "      <td>969,604</td>\n",
       "      <td>4.56%</td>\n",
       "      <td>130.791</td>\n",
       "    </tr>\n",
       "    <tr>\n",
       "      <th>9</th>\n",
       "      <td>10</td>\n",
       "      <td>Madhya Pradesh</td>\n",
       "      <td>809,592</td>\n",
       "      <td>906,672</td>\n",
       "      <td>4.29%</td>\n",
       "      <td>122.977</td>\n",
       "    </tr>\n",
       "    <tr>\n",
       "      <th>10</th>\n",
       "      <td>11</td>\n",
       "      <td>Kerala</td>\n",
       "      <td>781,653</td>\n",
       "      <td>-</td>\n",
       "      <td>4.14%</td>\n",
       "      <td>118.733</td>\n",
       "    </tr>\n",
       "    <tr>\n",
       "      <th>11</th>\n",
       "      <td>12</td>\n",
       "      <td>Delhi</td>\n",
       "      <td>774,870</td>\n",
       "      <td>856,112</td>\n",
       "      <td>4.10%</td>\n",
       "      <td>117.703</td>\n",
       "    </tr>\n",
       "    <tr>\n",
       "      <th>12</th>\n",
       "      <td>13</td>\n",
       "      <td>Haryana</td>\n",
       "      <td>734,163</td>\n",
       "      <td>831,610</td>\n",
       "      <td>3.89%</td>\n",
       "      <td>111.519</td>\n",
       "    </tr>\n",
       "    <tr>\n",
       "      <th>13</th>\n",
       "      <td>14</td>\n",
       "      <td>Bihar</td>\n",
       "      <td>530,363</td>\n",
       "      <td>611,804</td>\n",
       "      <td>2.81%</td>\n",
       "      <td>80.562</td>\n",
       "    </tr>\n",
       "    <tr>\n",
       "      <th>14</th>\n",
       "      <td>15</td>\n",
       "      <td>Punjab</td>\n",
       "      <td>526,376</td>\n",
       "      <td>574,760</td>\n",
       "      <td>2.79%</td>\n",
       "      <td>79.957</td>\n",
       "    </tr>\n",
       "    <tr>\n",
       "      <th>15</th>\n",
       "      <td>16</td>\n",
       "      <td>Odisha</td>\n",
       "      <td>487,805</td>\n",
       "      <td>521,275</td>\n",
       "      <td>2.58%</td>\n",
       "      <td>74.098</td>\n",
       "    </tr>\n",
       "    <tr>\n",
       "      <th>16</th>\n",
       "      <td>17</td>\n",
       "      <td>Assam</td>\n",
       "      <td>315,881</td>\n",
       "      <td>-</td>\n",
       "      <td>1.67%</td>\n",
       "      <td>47.982</td>\n",
       "    </tr>\n",
       "    <tr>\n",
       "      <th>17</th>\n",
       "      <td>18</td>\n",
       "      <td>Chhattisgarh</td>\n",
       "      <td>304,063</td>\n",
       "      <td>329,180</td>\n",
       "      <td>1.61%</td>\n",
       "      <td>46.187</td>\n",
       "    </tr>\n",
       "    <tr>\n",
       "      <th>18</th>\n",
       "      <td>19</td>\n",
       "      <td>Jharkhand</td>\n",
       "      <td>297,204</td>\n",
       "      <td>328,598</td>\n",
       "      <td>1.57%</td>\n",
       "      <td>45.145</td>\n",
       "    </tr>\n",
       "    <tr>\n",
       "      <th>19</th>\n",
       "      <td>20</td>\n",
       "      <td>Uttarakhand</td>\n",
       "      <td>245,895</td>\n",
       "      <td>-</td>\n",
       "      <td>1.30%</td>\n",
       "      <td>37.351</td>\n",
       "    </tr>\n",
       "    <tr>\n",
       "      <th>20</th>\n",
       "      <td>21</td>\n",
       "      <td>Jammu &amp; Kashmir</td>\n",
       "      <td>155,956</td>\n",
       "      <td>-</td>\n",
       "      <td>0.83%</td>\n",
       "      <td>23.690</td>\n",
       "    </tr>\n",
       "    <tr>\n",
       "      <th>21</th>\n",
       "      <td>22</td>\n",
       "      <td>Himachal Pradesh</td>\n",
       "      <td>153,845</td>\n",
       "      <td>165,472</td>\n",
       "      <td>0.81%</td>\n",
       "      <td>23.369</td>\n",
       "    </tr>\n",
       "    <tr>\n",
       "      <th>22</th>\n",
       "      <td>23</td>\n",
       "      <td>Goa</td>\n",
       "      <td>73,170</td>\n",
       "      <td>80,449</td>\n",
       "      <td>0.39%</td>\n",
       "      <td>11.115</td>\n",
       "    </tr>\n",
       "    <tr>\n",
       "      <th>23</th>\n",
       "      <td>24</td>\n",
       "      <td>Tripura</td>\n",
       "      <td>49,845</td>\n",
       "      <td>55,984</td>\n",
       "      <td>0.26%</td>\n",
       "      <td>7.571</td>\n",
       "    </tr>\n",
       "    <tr>\n",
       "      <th>24</th>\n",
       "      <td>25</td>\n",
       "      <td>Chandigarh</td>\n",
       "      <td>42,114</td>\n",
       "      <td>-</td>\n",
       "      <td>0.22%</td>\n",
       "      <td>6.397</td>\n",
       "    </tr>\n",
       "    <tr>\n",
       "      <th>25</th>\n",
       "      <td>26</td>\n",
       "      <td>Puducherry</td>\n",
       "      <td>34,433</td>\n",
       "      <td>38,253</td>\n",
       "      <td>0.18%</td>\n",
       "      <td>5.230</td>\n",
       "    </tr>\n",
       "    <tr>\n",
       "      <th>26</th>\n",
       "      <td>27</td>\n",
       "      <td>Meghalaya</td>\n",
       "      <td>33,481</td>\n",
       "      <td>36,572</td>\n",
       "      <td>0.18%</td>\n",
       "      <td>5.086</td>\n",
       "    </tr>\n",
       "    <tr>\n",
       "      <th>27</th>\n",
       "      <td>28</td>\n",
       "      <td>Sikkim</td>\n",
       "      <td>28,723</td>\n",
       "      <td>32,496</td>\n",
       "      <td>0.15%</td>\n",
       "      <td>4.363</td>\n",
       "    </tr>\n",
       "    <tr>\n",
       "      <th>28</th>\n",
       "      <td>29</td>\n",
       "      <td>Manipur</td>\n",
       "      <td>27,870</td>\n",
       "      <td>31,790</td>\n",
       "      <td>0.15%</td>\n",
       "      <td>4.233</td>\n",
       "    </tr>\n",
       "    <tr>\n",
       "      <th>29</th>\n",
       "      <td>30</td>\n",
       "      <td>Nagaland</td>\n",
       "      <td>27,283</td>\n",
       "      <td>-</td>\n",
       "      <td>0.14%</td>\n",
       "      <td>4.144</td>\n",
       "    </tr>\n",
       "    <tr>\n",
       "      <th>30</th>\n",
       "      <td>31</td>\n",
       "      <td>Arunachal Pradesh</td>\n",
       "      <td>24,603</td>\n",
       "      <td>-</td>\n",
       "      <td>0.13%</td>\n",
       "      <td>3.737</td>\n",
       "    </tr>\n",
       "    <tr>\n",
       "      <th>31</th>\n",
       "      <td>32</td>\n",
       "      <td>Mizoram</td>\n",
       "      <td>22,287</td>\n",
       "      <td>26,503</td>\n",
       "      <td>0.12%</td>\n",
       "      <td>3.385</td>\n",
       "    </tr>\n",
       "    <tr>\n",
       "      <th>32</th>\n",
       "      <td>33</td>\n",
       "      <td>Andaman &amp; Nicobar Islands</td>\n",
       "      <td>-</td>\n",
       "      <td>-</td>\n",
       "      <td>-</td>\n",
       "      <td>-</td>\n",
       "    </tr>\n",
       "  </tbody>\n",
       "</table>\n",
       "</div>"
      ],
      "text/plain": [
       "   Rank                      State GSDP(18-19) GSDP(19-20)   Share      GDP\n",
       "0     1                Maharashtra   2,632,792           -  13.94%  399.921\n",
       "1     2                 Tamil Nadu   1,630,208   1,845,853   8.63%  247.629\n",
       "2     3              Uttar Pradesh   1,584,764   1,687,818   8.39%  240.726\n",
       "3     4                    Gujarat   1,502,899           -   7.96%  228.290\n",
       "4     5                  Karnataka   1,493,127   1,631,977   7.91%  226.806\n",
       "5     6                West Bengal   1,089,898   1,253,832   5.77%  165.556\n",
       "6     7                  Rajasthan     942,586   1,020,989   4.99%  143.179\n",
       "7     8             Andhra Pradesh     862,957     972,782   4.57%  131.083\n",
       "8     9                  Telangana     861,031     969,604   4.56%  130.791\n",
       "9    10             Madhya Pradesh     809,592     906,672   4.29%  122.977\n",
       "10   11                     Kerala     781,653           -   4.14%  118.733\n",
       "11   12                      Delhi     774,870     856,112   4.10%  117.703\n",
       "12   13                    Haryana     734,163     831,610   3.89%  111.519\n",
       "13   14                      Bihar     530,363     611,804   2.81%   80.562\n",
       "14   15                     Punjab     526,376     574,760   2.79%   79.957\n",
       "15   16                     Odisha     487,805     521,275   2.58%   74.098\n",
       "16   17                      Assam     315,881           -   1.67%   47.982\n",
       "17   18               Chhattisgarh     304,063     329,180   1.61%   46.187\n",
       "18   19                  Jharkhand     297,204     328,598   1.57%   45.145\n",
       "19   20                Uttarakhand     245,895           -   1.30%   37.351\n",
       "20   21            Jammu & Kashmir     155,956           -   0.83%   23.690\n",
       "21   22           Himachal Pradesh     153,845     165,472   0.81%   23.369\n",
       "22   23                        Goa      73,170      80,449   0.39%   11.115\n",
       "23   24                    Tripura      49,845      55,984   0.26%    7.571\n",
       "24   25                 Chandigarh      42,114           -   0.22%    6.397\n",
       "25   26                 Puducherry      34,433      38,253   0.18%    5.230\n",
       "26   27                  Meghalaya      33,481      36,572   0.18%    5.086\n",
       "27   28                     Sikkim      28,723      32,496   0.15%    4.363\n",
       "28   29                    Manipur      27,870      31,790   0.15%    4.233\n",
       "29   30                   Nagaland      27,283           -   0.14%    4.144\n",
       "30   31          Arunachal Pradesh      24,603           -   0.13%    3.737\n",
       "31   32                    Mizoram      22,287      26,503   0.12%    3.385\n",
       "32   33  Andaman & Nicobar Islands           -           -       -        -"
      ]
     },
     "execution_count": 107,
     "metadata": {},
     "output_type": "execute_result"
    }
   ],
   "source": [
    "# Creating DataFrame\n",
    "gdp_of_indian_states=pd.DataFrame({})\n",
    "\n",
    "gdp_of_indian_states['Rank']=rank\n",
    "gdp_of_indian_states['State']=state\n",
    "gdp_of_indian_states['GSDP(18-19)']=gsdp_18_19\n",
    "gdp_of_indian_states['GSDP(19-20)']=gsdp_19_20\n",
    "gdp_of_indian_states['Share']=share\n",
    "gdp_of_indian_states['GDP']=gdp\n",
    "\n",
    "gdp_of_indian_states"
   ]
  },
  {
   "cell_type": "markdown",
   "id": "b1b598b7",
   "metadata": {},
   "source": [
    "Q5 : Scrape the details of trending repositories on Github.com."
   ]
  },
  {
   "cell_type": "code",
   "execution_count": 108,
   "id": "8d71e2d5",
   "metadata": {},
   "outputs": [],
   "source": [
    "github='https://github.com/'\n",
    "driver.get(github)"
   ]
  },
  {
   "cell_type": "code",
   "execution_count": 111,
   "id": "b8047ca0",
   "metadata": {},
   "outputs": [],
   "source": [
    "# Clicking on menu button\n",
    "driver.find_element_by_xpath('/html/body/div[1]/header/div/div[1]/div[2]/button').click()"
   ]
  },
  {
   "cell_type": "code",
   "execution_count": 112,
   "id": "185abea8",
   "metadata": {},
   "outputs": [],
   "source": [
    "# Clicking on Explore\n",
    "driver.find_element_by_xpath('/html/body/div[1]/header/div/div[2]/nav/ul/li[4]/details/summary').click()"
   ]
  },
  {
   "cell_type": "code",
   "execution_count": 113,
   "id": "d4865570",
   "metadata": {},
   "outputs": [],
   "source": [
    "# Going on trending section\n",
    "driver.find_element_by_xpath('/html/body/div[1]/header/div/div[2]/nav/ul/li[4]/details/div/ul/li[5]/a').click()"
   ]
  },
  {
   "cell_type": "code",
   "execution_count": 276,
   "id": "61ca8b4e",
   "metadata": {},
   "outputs": [],
   "source": [
    "# Creating Empty lists\n",
    "rep_title=[]\n",
    "rep_desc=[]\n",
    "cont_count=[]\n",
    "lang=[]"
   ]
  },
  {
   "cell_type": "code",
   "execution_count": 277,
   "id": "0b4aacb4",
   "metadata": {},
   "outputs": [],
   "source": [
    "# Extracting tags\n",
    "rep_title_tag=driver.find_elements_by_xpath('//h1[@class=\"h3 lh-condensed\"]/a')\n",
    "\n",
    "# Extracting text from tags\n",
    "for i in rep_title_tag:\n",
    "    n=i.text\n",
    "    rep_title.append(n)"
   ]
  },
  {
   "cell_type": "code",
   "execution_count": 278,
   "id": "b16902bd",
   "metadata": {},
   "outputs": [
    {
     "data": {
      "text/plain": [
       "['grafana / oncall',\n",
       " 'csteinmetz1 / ai-audio-startups',\n",
       " 'lucacasonato / fresh',\n",
       " 'CeresDB / ceresdb',\n",
       " 'geekan / HowToLiveLonger',\n",
       " 'GitHubDaily / GitHubDaily',\n",
       " 'lxgr-linux / pokete',\n",
       " 'Tencent / spring-cloud-tencent',\n",
       " 'elastic / eui',\n",
       " 'ProjectOpenSea / seaport',\n",
       " 'google / jax',\n",
       " 'sheepla / pingu',\n",
       " 'vmware-tanzu / community-edition',\n",
       " 'facebook / react',\n",
       " 'redis / redis-py',\n",
       " 'hashicorp / terraform-provider-aws',\n",
       " 'VueTubeApp / VueTube',\n",
       " 'softwaremill / tapir',\n",
       " 'psf / black',\n",
       " 'Kong / kong',\n",
       " 'callstack / react-native-paper',\n",
       " 'alan2207 / bulletproof-react',\n",
       " 'actions / virtual-environments',\n",
       " 'siyuan-note / siyuan',\n",
       " 'TheAlgorithms / Python']"
      ]
     },
     "execution_count": 278,
     "metadata": {},
     "output_type": "execute_result"
    }
   ],
   "source": [
    "rep_title"
   ]
  },
  {
   "cell_type": "code",
   "execution_count": 279,
   "id": "2a5a3fe8",
   "metadata": {},
   "outputs": [
    {
     "data": {
      "text/plain": [
       "25"
      ]
     },
     "execution_count": 279,
     "metadata": {},
     "output_type": "execute_result"
    }
   ],
   "source": [
    "len(rep_title)"
   ]
  },
  {
   "cell_type": "code",
   "execution_count": 280,
   "id": "acb08939",
   "metadata": {},
   "outputs": [],
   "source": [
    "# Extracting tags\n",
    "rep_desc_tag=driver.find_elements_by_xpath('//p[@class=\"col-9 color-fg-muted my-1 pr-4\"]')\n",
    "\n",
    "# Extracting text from tags\n",
    "for i in rep_desc_tag:\n",
    "    n=i.text\n",
    "    rep_desc.append(n)"
   ]
  },
  {
   "cell_type": "code",
   "execution_count": 281,
   "id": "448efc21",
   "metadata": {},
   "outputs": [
    {
     "data": {
      "text/plain": [
       "['Developer-friendly incident response with brilliant Slack integration',\n",
       " 'Community list of startups working with AI in audio and music technology',\n",
       " 'Preact, but super edgy',\n",
       " 'CeresDB is a high-performance, distributed, schema-less, cloud native time-series database that can handle both time-series and analytics workloads.',\n",
       " \"程序员延寿指南 | A programmer's guide to live longer\",\n",
       " '坚持分享 GitHub 上高质量、有趣实用的开源技术教程、开发者工具、编程网站、技术资讯。A list cool, interesting projects of GitHub.',\n",
       " 'A terminal based Pokemon like game',\n",
       " 'Spring Cloud Tencent is a Spring Boot based Service Governance Framework provided by Tencent, including service discovery, traffic control, circuitbreak, ratelimit, config and so on.',\n",
       " 'Elastic UI Framework 🙌',\n",
       " 'Seaport is a marketplace protocol for safely and efficiently buying and selling NFTs.',\n",
       " 'Composable transformations of Python+NumPy programs: differentiate, vectorize, JIT to GPU/TPU, and more',\n",
       " '🐧ping command but with pingu',\n",
       " 'VMware Tanzu Community Edition is a full-featured, easy to manage Kubernetes platform for learners and users on your local workstation or your favorite cloud. Tanzu Community Edition enables the creation of application platforms: infrastructure, tooling, and services providing location to run applications and enable positive developer experiences.',\n",
       " 'A declarative, efficient, and flexible JavaScript library for building user interfaces.',\n",
       " 'Redis Python Client',\n",
       " 'Terraform AWS provider',\n",
       " 'A simple FOSS video streaming client aimed to recreate ALL features from their respective apps (and more)',\n",
       " 'Declarative, type-safe web endpoints library',\n",
       " 'The uncompromising Python code formatter',\n",
       " '🦍 The Cloud-Native API Gateway',\n",
       " 'Material Design for React Native (Android & iOS)',\n",
       " '🛡️ ⚛️ A simple, scalable, and powerful architecture for building production ready React applications.',\n",
       " 'GitHub Actions virtual environments',\n",
       " '📕 Build Your Eternal Digital Garden',\n",
       " 'All Algorithms implemented in Python']"
      ]
     },
     "execution_count": 281,
     "metadata": {},
     "output_type": "execute_result"
    }
   ],
   "source": [
    "rep_desc"
   ]
  },
  {
   "cell_type": "code",
   "execution_count": 282,
   "id": "cff4f301",
   "metadata": {},
   "outputs": [
    {
     "data": {
      "text/plain": [
       "25"
      ]
     },
     "execution_count": 282,
     "metadata": {},
     "output_type": "execute_result"
    }
   ],
   "source": [
    "len(rep_desc)"
   ]
  },
  {
   "cell_type": "code",
   "execution_count": 283,
   "id": "70932545",
   "metadata": {},
   "outputs": [
    {
     "data": {
      "text/plain": [
       "['@Konstantinov-Innokentii',\n",
       " '@Matvey-Kuk',\n",
       " '@iskhakov',\n",
       " '@Ukochka',\n",
       " '@mderynck',\n",
       " '@csteinmetz1',\n",
       " '@tg-bomze',\n",
       " '@pkmital',\n",
       " '@carlthome',\n",
       " '@rishikksh20',\n",
       " '@lucacasonato',\n",
       " '@crowlKats',\n",
       " '@sylc',\n",
       " '@hashrock',\n",
       " '@satyarohith',\n",
       " '@waynexia',\n",
       " '@ShiKaiWi',\n",
       " '@chunshao90',\n",
       " '@jiacai2050',\n",
       " '@VirrageS',\n",
       " '@geekan',\n",
       " '@qhy040404',\n",
       " '@Yulv-git',\n",
       " '@situ2001',\n",
       " '@reezhu',\n",
       " '@YSoer',\n",
       " '@Freelander',\n",
       " '@Azleal',\n",
       " '@lxgr-linux',\n",
       " '@MaFeLP',\n",
       " '@bubstance',\n",
       " '@RossOgilvie',\n",
       " '@phaberest',\n",
       " '@SkyeBeFreeman',\n",
       " '@lepdou',\n",
       " '@andrewshan',\n",
       " '@ranchowang',\n",
       " '@chuntaojun',\n",
       " '@chandlerprall',\n",
       " '@thompsongl',\n",
       " '@cchaos',\n",
       " '@snide',\n",
       " '@cjcenizal',\n",
       " '@0age',\n",
       " '@jameswenzel',\n",
       " '@d1ll0n',\n",
       " '@stephankmin',\n",
       " '@BCLeFevre',\n",
       " '@mattjj',\n",
       " '@hawkinsp',\n",
       " '@jakevdp',\n",
       " '@gnecula',\n",
       " '@sheepla',\n",
       " '@mattn',\n",
       " '@HaraShun',\n",
       " '@naoyukis',\n",
       " '@johnmanjiro13',\n",
       " '@dvonthenen',\n",
       " '@tce-automation',\n",
       " '@stmcginnis',\n",
       " '@joshrosso',\n",
       " '@seemiller',\n",
       " '@zpao',\n",
       " '@gaearon',\n",
       " '@sophiebits',\n",
       " '@acdlite',\n",
       " '@sebmarkbage',\n",
       " '@andymccurdy',\n",
       " '@chayim',\n",
       " '@dvora-h',\n",
       " '@AvitalFineRedis',\n",
       " '@jdufresne',\n",
       " '@bflad',\n",
       " '@YakDriver',\n",
       " '@ewbankkit',\n",
       " '@DrFaust92',\n",
       " '@anGie44',\n",
       " '@Frontesque',\n",
       " '@404-Program-not-found',\n",
       " '@PickleNik',\n",
       " '@gayolGate',\n",
       " '@afnzmn',\n",
       " '@adamw',\n",
       " '@scala-steward',\n",
       " '@mergify',\n",
       " '@ghostbuster91',\n",
       " '@softwaremill-ci',\n",
       " '@ambv',\n",
       " '@JelleZijlstra',\n",
       " '@ichard26',\n",
       " '@hugovk',\n",
       " '@cooperlees',\n",
       " '@thibaultcha',\n",
       " '@subnetmarco',\n",
       " '@bungle',\n",
       " '@hishamhm',\n",
       " '@Tieske',\n",
       " '@satya164',\n",
       " '@Trancever',\n",
       " '@lukewalczak',\n",
       " '@jaulz',\n",
       " '@brunohkbx',\n",
       " '@alan2207',\n",
       " '@ryota-murakami',\n",
       " '@neighborhood999',\n",
       " '@nina1012',\n",
       " '@pfcodes',\n",
       " '@github-actions',\n",
       " '@459680',\n",
       " '@al-cheb',\n",
       " '@miketimofeev',\n",
       " '@88250',\n",
       " '@Vanessa219',\n",
       " '@ssfdust',\n",
       " '@kecrily',\n",
       " '@cclauss',\n",
       " '@harshildarji',\n",
       " '@dhruvmanila',\n",
       " '@poyea',\n",
       " '@dynamitechetan']"
      ]
     },
     "execution_count": 283,
     "metadata": {},
     "output_type": "execute_result"
    }
   ],
   "source": [
    "# Extracting tags\n",
    "cont_count_tag=driver.find_elements_by_xpath('//span[@class=\"d-inline-block mr-3\"]/a/img')\n",
    "\n",
    "# Extracting text from tags\n",
    "for i in cont_count_tag:\n",
    "    n=i.get_attribute('alt')\n",
    "    cont_count.append(n)\n",
    "    \n",
    "cont_count"
   ]
  },
  {
   "cell_type": "code",
   "execution_count": 284,
   "id": "aa13b0fa",
   "metadata": {},
   "outputs": [
    {
     "data": {
      "text/plain": [
       "120"
      ]
     },
     "execution_count": 284,
     "metadata": {},
     "output_type": "execute_result"
    }
   ],
   "source": [
    "len(cont_count)"
   ]
  },
  {
   "cell_type": "markdown",
   "id": "58298d30",
   "metadata": {},
   "source": [
    "**I am unable to get the count of contributers**"
   ]
  },
  {
   "cell_type": "code",
   "execution_count": 291,
   "id": "e4c85194",
   "metadata": {},
   "outputs": [],
   "source": [
    "lang=[]"
   ]
  },
  {
   "cell_type": "code",
   "execution_count": 292,
   "id": "89872834",
   "metadata": {},
   "outputs": [
    {
     "data": {
      "text/plain": [
       "['Python',\n",
       " 'TypeScript',\n",
       " 'Rust',\n",
       " 'Python',\n",
       " 'Java',\n",
       " 'TypeScript',\n",
       " 'Solidity',\n",
       " 'Python',\n",
       " 'Go',\n",
       " 'Go',\n",
       " 'JavaScript',\n",
       " 'Python',\n",
       " 'Go',\n",
       " 'Vue',\n",
       " 'Scala',\n",
       " 'Python',\n",
       " 'Lua',\n",
       " 'TypeScript',\n",
       " 'TypeScript',\n",
       " 'PowerShell',\n",
       " 'TypeScript',\n",
       " 'Python']"
      ]
     },
     "execution_count": 292,
     "metadata": {},
     "output_type": "execute_result"
    }
   ],
   "source": [
    "# Extracting tags\n",
    "lang_tag=driver.find_elements_by_xpath('//span[@class=\"d-inline-block ml-0 mr-3\"]')\n",
    "\n",
    "# Extracting text from tags\n",
    "for i in lang_tag:\n",
    "    if i.text is None:\n",
    "        lang.append('-')\n",
    "    else:\n",
    "        lang.append(i.text)\n",
    "    \n",
    "lang"
   ]
  },
  {
   "cell_type": "code",
   "execution_count": 290,
   "id": "af49ef66",
   "metadata": {},
   "outputs": [
    {
     "data": {
      "text/plain": [
       "22"
      ]
     },
     "execution_count": 290,
     "metadata": {},
     "output_type": "execute_result"
    }
   ],
   "source": [
    "len(lang)"
   ]
  },
  {
   "cell_type": "markdown",
   "id": "f99f7722",
   "metadata": {},
   "source": [
    "Q6 : Scrape the details of top 100 songs on billiboard.com."
   ]
  },
  {
   "cell_type": "code",
   "execution_count": 342,
   "id": "8fc0e740",
   "metadata": {},
   "outputs": [],
   "source": [
    "billboard='https://www.billboard.com/'\n",
    "driver.get(billboard)"
   ]
  },
  {
   "cell_type": "code",
   "execution_count": 343,
   "id": "410d4e7f",
   "metadata": {},
   "outputs": [],
   "source": [
    "# Clicking on menu\n",
    "driver.find_element_by_xpath('/html/body/div[3]/header/div[1]/div/div/div[1]/button').click()"
   ]
  },
  {
   "cell_type": "code",
   "execution_count": 344,
   "id": "7c36bcb1",
   "metadata": {},
   "outputs": [],
   "source": [
    "# Clicking on charts\n",
    "driver.find_element_by_xpath('/html/body/div[3]/div[6]/div/div/div/ul/li[1]/h3/a').click()"
   ]
  },
  {
   "cell_type": "code",
   "execution_count": 345,
   "id": "b073fc80",
   "metadata": {},
   "outputs": [],
   "source": [
    "# Clicking on Hot 100\n",
    "driver.find_element_by_xpath('/html/body/div[3]/header/div[2]/div/nav/ul/li[1]/a').click()"
   ]
  },
  {
   "cell_type": "code",
   "execution_count": 346,
   "id": "ec8d8f1c",
   "metadata": {},
   "outputs": [],
   "source": [
    "# Creating empty lists\n",
    "song=[]\n",
    "artist=[]\n",
    "last_week=[]\n",
    "peak=[]\n",
    "weeks=[]"
   ]
  },
  {
   "cell_type": "code",
   "execution_count": 347,
   "id": "3af5264f",
   "metadata": {},
   "outputs": [
    {
     "data": {
      "text/plain": [
       "['1',\n",
       " '2',\n",
       " '3',\n",
       " '8',\n",
       " '4',\n",
       " '5',\n",
       " '6',\n",
       " '7',\n",
       " '-',\n",
       " '11',\n",
       " '10',\n",
       " '37',\n",
       " '13',\n",
       " '12',\n",
       " '9',\n",
       " '15',\n",
       " '16',\n",
       " '14',\n",
       " '18',\n",
       " '17',\n",
       " '19',\n",
       " '23',\n",
       " '27',\n",
       " '20',\n",
       " '29',\n",
       " '28',\n",
       " '25',\n",
       " '24',\n",
       " '34',\n",
       " '26',\n",
       " '21',\n",
       " '31',\n",
       " '30',\n",
       " '-',\n",
       " '36',\n",
       " '33',\n",
       " '40',\n",
       " '32',\n",
       " '-',\n",
       " '50',\n",
       " '35',\n",
       " '43',\n",
       " '38',\n",
       " '49',\n",
       " '48',\n",
       " '-',\n",
       " '-',\n",
       " '45',\n",
       " '53',\n",
       " '47',\n",
       " '54',\n",
       " '55',\n",
       " '-',\n",
       " '-',\n",
       " '56',\n",
       " '-',\n",
       " '51',\n",
       " '41',\n",
       " '39',\n",
       " '66',\n",
       " '44',\n",
       " '-',\n",
       " '67',\n",
       " '64',\n",
       " '52',\n",
       " '63',\n",
       " '62',\n",
       " '70',\n",
       " '22',\n",
       " '-',\n",
       " '42',\n",
       " '87',\n",
       " '46',\n",
       " '73',\n",
       " '-',\n",
       " '69',\n",
       " '60',\n",
       " '79',\n",
       " '74',\n",
       " '80',\n",
       " '72',\n",
       " '82',\n",
       " '57',\n",
       " '89',\n",
       " '78',\n",
       " '86',\n",
       " '71',\n",
       " '-',\n",
       " '94',\n",
       " '58',\n",
       " '61',\n",
       " '98',\n",
       " '84',\n",
       " '65',\n",
       " '-',\n",
       " '85',\n",
       " '-',\n",
       " '99',\n",
       " '91',\n",
       " '-']"
      ]
     },
     "execution_count": 347,
     "metadata": {},
     "output_type": "execute_result"
    }
   ],
   "source": [
    "# Extracting tags\n",
    "last_week_tag=driver.find_elements_by_xpath('//ul[@class=\"lrv-a-unstyle-list lrv-u-flex lrv-u-height-100p lrv-u-flex-direction-column@mobile-max\"]/li[4]')\n",
    "\n",
    "# Extracting text from tags\n",
    "for i in last_week_tag:\n",
    "    n=i.text\n",
    "    last_week.append(n)\n",
    "    \n",
    "last_week"
   ]
  },
  {
   "cell_type": "code",
   "execution_count": 348,
   "id": "535f2ab2",
   "metadata": {},
   "outputs": [
    {
     "data": {
      "text/plain": [
       "100"
      ]
     },
     "execution_count": 348,
     "metadata": {},
     "output_type": "execute_result"
    }
   ],
   "source": [
    "len(last_week)"
   ]
  },
  {
   "cell_type": "code",
   "execution_count": 349,
   "id": "4a22c254",
   "metadata": {},
   "outputs": [
    {
     "data": {
      "text/plain": [
       "['As It Was',\n",
       " 'First Class',\n",
       " 'Wait For U',\n",
       " 'Running Up That Hill (A Deal With God)',\n",
       " 'About Damn Time',\n",
       " 'Heat Waves',\n",
       " 'Big Energy',\n",
       " 'Me Porto Bonito',\n",
       " 'I Like You (A Happier Song)',\n",
       " 'Titi Me Pregunto',\n",
       " 'Stay',\n",
       " 'Cooped Up',\n",
       " 'Wasted On You',\n",
       " 'Enemy',\n",
       " 'Late Night Talking',\n",
       " 'Ghost',\n",
       " 'Boyfriend',\n",
       " 'Moscow Mule',\n",
       " 'Bad Habits',\n",
       " 'Woman',\n",
       " 'Numb Little Bug',\n",
       " 'Take My Name',\n",
       " 'Bam Bam',\n",
       " 'Super Gremlin',\n",
       " 'Cold Heart (PNAU Remix)',\n",
       " 'Thats What I Want',\n",
       " 'Sweetest Pie',\n",
       " 'Shivers',\n",
       " 'Provenza',\n",
       " 'Party',\n",
       " 'You Proof',\n",
       " 'AA',\n",
       " 'Despues de La Playa',\n",
       " 'One Right Now',\n",
       " 'Ojitos Lindos',\n",
       " 'Puffin On Zootiez',\n",
       " 'Something In The Orange',\n",
       " 'Trouble With A Heartbreak',\n",
       " 'Distraction',\n",
       " 'Efecto',\n",
       " 'MAMIII',\n",
       " 'Thousand Miles',\n",
       " \"'Til You Can't\",\n",
       " 'Get Into It (Yuh)',\n",
       " 'Damn Strait',\n",
       " 'I Cannot Be (A Sadder Song)',\n",
       " 'Wrapped Around Your Finger',\n",
       " 'In A Minute',\n",
       " 'Hold My Hand',\n",
       " 'Sleazy Flow',\n",
       " '2step',\n",
       " 'Fall In Love',\n",
       " 'Lemon Tree',\n",
       " 'Reputation',\n",
       " 'To The Moon!',\n",
       " 'Wasting Angels',\n",
       " 'Silent Hill',\n",
       " 'Music For A Sushi Restaurant',\n",
       " 'N95',\n",
       " 'Like I Love Country Music',\n",
       " \"She's All I Wanna Be\",\n",
       " 'Insane',\n",
       " 'What Happened To Virgil',\n",
       " \"When You're Gone\",\n",
       " 'Die Hard',\n",
       " 'Tarot',\n",
       " 'Un Ratito',\n",
       " 'If I Was A Cowboy',\n",
       " 'True Love',\n",
       " 'Love/Hate Letter To Alcohol',\n",
       " 'Matilda',\n",
       " 'Sunroof',\n",
       " 'Daylight',\n",
       " 'Right On',\n",
       " 'Vegas',\n",
       " 'Thought You Should Know',\n",
       " 'Die Young',\n",
       " 'Flower Shops',\n",
       " 'Freaky Deaky',\n",
       " 'She Likes It',\n",
       " 'Hotel Lobby (Unc And Phew)',\n",
       " 'Ghost Story',\n",
       " 'Slow Down Summer',\n",
       " 'Circles Around This Town',\n",
       " 'Yo No Soy Celoso',\n",
       " 'She Had Me At Heads Carolina',\n",
       " 'Potion',\n",
       " 'Te Felicito',\n",
       " 'DFMU',\n",
       " 'Little Freak',\n",
       " 'Grapejuice',\n",
       " 'Last Night Lonely',\n",
       " 'La Corriente',\n",
       " 'Satellite',\n",
       " 'Plan B',\n",
       " 'Neverita',\n",
       " \"When I'm Alone\",\n",
       " '7500 OBO',\n",
       " \"F.N.F. (Let's Go)\",\n",
       " 'Euthanasia']"
      ]
     },
     "execution_count": 349,
     "metadata": {},
     "output_type": "execute_result"
    }
   ],
   "source": [
    "# Extracting tags\n",
    "song_tag=driver.find_elements_by_xpath('//ul[@class=\"lrv-a-unstyle-list lrv-u-flex lrv-u-height-100p lrv-u-flex-direction-column@mobile-max\"]/li/h3')\n",
    "\n",
    "# Extracting text from tags\n",
    "for i in song_tag:\n",
    "    n=i.text\n",
    "    song.append(n)\n",
    "    \n",
    "song"
   ]
  },
  {
   "cell_type": "code",
   "execution_count": 350,
   "id": "2c82c70c",
   "metadata": {},
   "outputs": [
    {
     "data": {
      "text/plain": [
       "100"
      ]
     },
     "execution_count": 350,
     "metadata": {},
     "output_type": "execute_result"
    }
   ],
   "source": [
    "len(song)"
   ]
  },
  {
   "cell_type": "code",
   "execution_count": 351,
   "id": "7808c72b",
   "metadata": {},
   "outputs": [
    {
     "data": {
      "text/plain": [
       "['Harry Styles',\n",
       " 'Jack Harlow',\n",
       " 'Future Featuring Drake & Tems',\n",
       " 'Kate Bush',\n",
       " 'Lizzo',\n",
       " 'Glass Animals',\n",
       " 'Latto',\n",
       " 'Bad Bunny & Chencho Corleone',\n",
       " 'Post Malone Featuring Doja Cat',\n",
       " 'Bad Bunny',\n",
       " 'The Kid LAROI & Justin Bieber',\n",
       " 'Post Malone Featuring Roddy Ricch',\n",
       " 'Morgan Wallen',\n",
       " 'Imagine Dragons X JID',\n",
       " 'Harry Styles',\n",
       " 'Justin Bieber',\n",
       " 'Dove Cameron',\n",
       " 'Bad Bunny',\n",
       " 'Ed Sheeran',\n",
       " 'Doja Cat',\n",
       " 'Em Beihold',\n",
       " 'Parmalee',\n",
       " 'Camila Cabello Featuring Ed Sheeran',\n",
       " 'Kodak Black',\n",
       " 'Elton John & Dua Lipa',\n",
       " 'Lil Nas X',\n",
       " 'Megan Thee Stallion & Dua Lipa',\n",
       " 'Ed Sheeran',\n",
       " 'Karol G',\n",
       " 'Bad Bunny & Rauw Alejandro',\n",
       " 'Morgan Wallen',\n",
       " 'Walker Hayes',\n",
       " 'Bad Bunny',\n",
       " 'Post Malone & The Weeknd',\n",
       " 'Bad Bunny & Bomba Estereo',\n",
       " 'Future',\n",
       " 'Zach Bryan',\n",
       " 'Jason Aldean',\n",
       " 'Polo G',\n",
       " 'Bad Bunny',\n",
       " 'Becky G X Karol G',\n",
       " 'The Kid LAROI',\n",
       " 'Cody Johnson',\n",
       " 'Doja Cat',\n",
       " 'Scotty McCreery',\n",
       " 'Post Malone Featuring Gunna',\n",
       " 'Post Malone',\n",
       " 'Lil Baby',\n",
       " 'Lady Gaga',\n",
       " 'SleazyWorld Go Featuring Lil Baby',\n",
       " 'Ed Sheeran Featuring Lil Baby',\n",
       " 'Bailey Zimmerman',\n",
       " 'Post Malone',\n",
       " 'Post Malone',\n",
       " 'JNR CHOI & Sam Tompkins',\n",
       " 'Post Malone Featuring The Kid LAROI',\n",
       " 'Kendrick Lamar & Kodak Black',\n",
       " 'Harry Styles',\n",
       " 'Kendrick Lamar',\n",
       " 'Kane Brown',\n",
       " 'Tate McRae',\n",
       " 'Post Malone',\n",
       " 'Lil Durk Featuring Gunna',\n",
       " 'Shawn Mendes',\n",
       " 'Kendrick Lamar, Blxst & Amanda Reifer',\n",
       " 'Bad Bunny & Jhay Cortez',\n",
       " 'Bad Bunny',\n",
       " 'Miranda Lambert',\n",
       " 'Kanye West & XXXTENTACION',\n",
       " 'Post Malone Featuring Fleet Foxes',\n",
       " 'Harry Styles',\n",
       " 'Nicky Youre & dazy',\n",
       " 'Harry Styles',\n",
       " 'Lil Baby',\n",
       " 'Doja Cat',\n",
       " 'Morgan Wallen',\n",
       " 'Sleepy Hallow Featuring 347aidan',\n",
       " 'ERNEST Featuring Morgan Wallen',\n",
       " 'Tyga X Doja Cat',\n",
       " 'Russell Dickerson & Jake Scott',\n",
       " 'Quavo & Takeoff',\n",
       " 'Carrie Underwood',\n",
       " 'Thomas Rhett',\n",
       " 'Maren Morris',\n",
       " 'Bad Bunny',\n",
       " 'Cole Swindell',\n",
       " 'Calvin Harris, Dua Lipa & Young Thug',\n",
       " 'Shakira & Rauw Alejandro',\n",
       " 'Ella Mai',\n",
       " 'Harry Styles',\n",
       " 'Harry Styles',\n",
       " 'Jon Pardi',\n",
       " 'Bad Bunny & Tony Dize',\n",
       " 'Harry Styles',\n",
       " 'Megan Thee Stallion',\n",
       " 'Bad Bunny',\n",
       " 'Post Malone',\n",
       " 'Tim McGraw',\n",
       " 'Hitkidd & Glorilla',\n",
       " 'Post Malone']"
      ]
     },
     "execution_count": 351,
     "metadata": {},
     "output_type": "execute_result"
    }
   ],
   "source": [
    "# Extracting tags\n",
    "artist_tag=driver.find_elements_by_xpath('//ul[@class=\"lrv-a-unstyle-list lrv-u-flex lrv-u-height-100p lrv-u-flex-direction-column@mobile-max\"]/li[1]/span')\n",
    "\n",
    "# Extracting text from tags\n",
    "for i in artist_tag:\n",
    "    n=i.text\n",
    "    artist.append(n)\n",
    "    \n",
    "artist"
   ]
  },
  {
   "cell_type": "code",
   "execution_count": 352,
   "id": "33be6acd",
   "metadata": {},
   "outputs": [
    {
     "data": {
      "text/plain": [
       "100"
      ]
     },
     "execution_count": 352,
     "metadata": {},
     "output_type": "execute_result"
    }
   ],
   "source": [
    "len(song)"
   ]
  },
  {
   "cell_type": "code",
   "execution_count": 353,
   "id": "f017726d",
   "metadata": {},
   "outputs": [
    {
     "data": {
      "text/plain": [
       "['1',\n",
       " '1',\n",
       " '1',\n",
       " '4',\n",
       " '4',\n",
       " '1',\n",
       " '3',\n",
       " '7',\n",
       " '9',\n",
       " '5',\n",
       " '1',\n",
       " '12',\n",
       " '9',\n",
       " '5',\n",
       " '4',\n",
       " '5',\n",
       " '16',\n",
       " '4',\n",
       " '2',\n",
       " '7',\n",
       " '19',\n",
       " '22',\n",
       " '21',\n",
       " '3',\n",
       " '7',\n",
       " '8',\n",
       " '15',\n",
       " '4',\n",
       " '25',\n",
       " '14',\n",
       " '6',\n",
       " '28',\n",
       " '6',\n",
       " '6',\n",
       " '26',\n",
       " '4',\n",
       " '37',\n",
       " '32',\n",
       " '39',\n",
       " '34',\n",
       " '15',\n",
       " '15',\n",
       " '18',\n",
       " '44',\n",
       " '45',\n",
       " '46',\n",
       " '47',\n",
       " '14',\n",
       " '49',\n",
       " '47',\n",
       " '51',\n",
       " '52',\n",
       " '53',\n",
       " '54',\n",
       " '38',\n",
       " '56',\n",
       " '7',\n",
       " '8',\n",
       " '3',\n",
       " '60',\n",
       " '44',\n",
       " '62',\n",
       " '22',\n",
       " '38',\n",
       " '5',\n",
       " '18',\n",
       " '16',\n",
       " '53',\n",
       " '22',\n",
       " '70',\n",
       " '9',\n",
       " '72',\n",
       " '13',\n",
       " '13',\n",
       " '75',\n",
       " '12',\n",
       " '60',\n",
       " '64',\n",
       " '43',\n",
       " '80',\n",
       " '59',\n",
       " '72',\n",
       " '43',\n",
       " '52',\n",
       " '22',\n",
       " '86',\n",
       " '71',\n",
       " '88',\n",
       " '89',\n",
       " '14',\n",
       " '15',\n",
       " '92',\n",
       " '32',\n",
       " '21',\n",
       " '29',\n",
       " '31',\n",
       " '97',\n",
       " '98',\n",
       " '91',\n",
       " '100']"
      ]
     },
     "execution_count": 353,
     "metadata": {},
     "output_type": "execute_result"
    }
   ],
   "source": [
    "# Extracting tags\n",
    "peak_tag=driver.find_elements_by_xpath('//ul[@class=\"lrv-a-unstyle-list lrv-u-flex lrv-u-height-100p lrv-u-flex-direction-column@mobile-max\"]/li[5]/span')\n",
    "\n",
    "# Extracting text from tags\n",
    "for i in peak_tag:\n",
    "    n=i.text\n",
    "    peak.append(n)\n",
    "    \n",
    "peak"
   ]
  },
  {
   "cell_type": "code",
   "execution_count": 354,
   "id": "d880ae56",
   "metadata": {},
   "outputs": [
    {
     "data": {
      "text/plain": [
       "100"
      ]
     },
     "execution_count": 354,
     "metadata": {},
     "output_type": "execute_result"
    }
   ],
   "source": [
    "len(peak)"
   ]
  },
  {
   "cell_type": "code",
   "execution_count": 355,
   "id": "e3f0d626",
   "metadata": {},
   "outputs": [
    {
     "data": {
      "text/plain": [
       "['10',\n",
       " '9',\n",
       " '6',\n",
       " '22',\n",
       " '8',\n",
       " '73',\n",
       " '33',\n",
       " '5',\n",
       " '1',\n",
       " '5',\n",
       " '48',\n",
       " '4',\n",
       " '30',\n",
       " '29',\n",
       " '3',\n",
       " '37',\n",
       " '17',\n",
       " '5',\n",
       " '50',\n",
       " '45',\n",
       " '19',\n",
       " '10',\n",
       " '14',\n",
       " '31',\n",
       " '40',\n",
       " '38',\n",
       " '13',\n",
       " '39',\n",
       " '7',\n",
       " '5',\n",
       " '4',\n",
       " '22',\n",
       " '5',\n",
       " '27',\n",
       " '5',\n",
       " '6',\n",
       " '7',\n",
       " '12',\n",
       " '1',\n",
       " '5',\n",
       " '17',\n",
       " '7',\n",
       " '35',\n",
       " '27',\n",
       " '10',\n",
       " '1',\n",
       " '1',\n",
       " '9',\n",
       " '5',\n",
       " '2',\n",
       " '7',\n",
       " '6',\n",
       " '1',\n",
       " '1',\n",
       " '15',\n",
       " '1',\n",
       " '4',\n",
       " '3',\n",
       " '4',\n",
       " '3',\n",
       " '18',\n",
       " '1',\n",
       " '13',\n",
       " '10',\n",
       " '4',\n",
       " '5',\n",
       " '5',\n",
       " '19',\n",
       " '2',\n",
       " '1',\n",
       " '3',\n",
       " '2',\n",
       " '3',\n",
       " '9',\n",
       " '1',\n",
       " '5',\n",
       " '2',\n",
       " '20',\n",
       " '15',\n",
       " '10',\n",
       " '3',\n",
       " '3',\n",
       " '16',\n",
       " '20',\n",
       " '5',\n",
       " '2',\n",
       " '2',\n",
       " '1',\n",
       " '3',\n",
       " '3',\n",
       " '3',\n",
       " '2',\n",
       " '5',\n",
       " '3',\n",
       " '3',\n",
       " '5',\n",
       " '1',\n",
       " '2',\n",
       " '2',\n",
       " '1']"
      ]
     },
     "execution_count": 355,
     "metadata": {},
     "output_type": "execute_result"
    }
   ],
   "source": [
    "# Extracting tags\n",
    "weeks_tag=driver.find_elements_by_xpath('//ul[@class=\"lrv-a-unstyle-list lrv-u-flex lrv-u-height-100p lrv-u-flex-direction-column@mobile-max\"]/li[6]/span')\n",
    "\n",
    "# Extracting text from tags\n",
    "for i in weeks_tag:\n",
    "    n=i.text\n",
    "    weeks.append(n)\n",
    "    \n",
    "weeks"
   ]
  },
  {
   "cell_type": "code",
   "execution_count": 356,
   "id": "82359564",
   "metadata": {},
   "outputs": [
    {
     "data": {
      "text/plain": [
       "100"
      ]
     },
     "execution_count": 356,
     "metadata": {},
     "output_type": "execute_result"
    }
   ],
   "source": [
    "len(weeks)"
   ]
  },
  {
   "cell_type": "code",
   "execution_count": 357,
   "id": "8f1e6050",
   "metadata": {},
   "outputs": [
    {
     "data": {
      "text/html": [
       "<div>\n",
       "<style scoped>\n",
       "    .dataframe tbody tr th:only-of-type {\n",
       "        vertical-align: middle;\n",
       "    }\n",
       "\n",
       "    .dataframe tbody tr th {\n",
       "        vertical-align: top;\n",
       "    }\n",
       "\n",
       "    .dataframe thead th {\n",
       "        text-align: right;\n",
       "    }\n",
       "</style>\n",
       "<table border=\"1\" class=\"dataframe\">\n",
       "  <thead>\n",
       "    <tr style=\"text-align: right;\">\n",
       "      <th></th>\n",
       "      <th>Song Name</th>\n",
       "      <th>Artist Name</th>\n",
       "      <th>Last week rank</th>\n",
       "      <th>Peak Rank</th>\n",
       "      <th>Weeks on Board</th>\n",
       "    </tr>\n",
       "  </thead>\n",
       "  <tbody>\n",
       "    <tr>\n",
       "      <th>0</th>\n",
       "      <td>As It Was</td>\n",
       "      <td>Harry Styles</td>\n",
       "      <td>1</td>\n",
       "      <td>1</td>\n",
       "      <td>10</td>\n",
       "    </tr>\n",
       "    <tr>\n",
       "      <th>1</th>\n",
       "      <td>First Class</td>\n",
       "      <td>Jack Harlow</td>\n",
       "      <td>2</td>\n",
       "      <td>1</td>\n",
       "      <td>9</td>\n",
       "    </tr>\n",
       "    <tr>\n",
       "      <th>2</th>\n",
       "      <td>Wait For U</td>\n",
       "      <td>Future Featuring Drake &amp; Tems</td>\n",
       "      <td>3</td>\n",
       "      <td>1</td>\n",
       "      <td>6</td>\n",
       "    </tr>\n",
       "    <tr>\n",
       "      <th>3</th>\n",
       "      <td>Running Up That Hill (A Deal With God)</td>\n",
       "      <td>Kate Bush</td>\n",
       "      <td>8</td>\n",
       "      <td>4</td>\n",
       "      <td>22</td>\n",
       "    </tr>\n",
       "    <tr>\n",
       "      <th>4</th>\n",
       "      <td>About Damn Time</td>\n",
       "      <td>Lizzo</td>\n",
       "      <td>4</td>\n",
       "      <td>4</td>\n",
       "      <td>8</td>\n",
       "    </tr>\n",
       "  </tbody>\n",
       "</table>\n",
       "</div>"
      ],
      "text/plain": [
       "                                Song Name                    Artist Name  \\\n",
       "0                               As It Was                   Harry Styles   \n",
       "1                             First Class                    Jack Harlow   \n",
       "2                              Wait For U  Future Featuring Drake & Tems   \n",
       "3  Running Up That Hill (A Deal With God)                      Kate Bush   \n",
       "4                         About Damn Time                          Lizzo   \n",
       "\n",
       "  Last week rank Peak Rank Weeks on Board  \n",
       "0              1         1             10  \n",
       "1              2         1              9  \n",
       "2              3         1              6  \n",
       "3              8         4             22  \n",
       "4              4         4              8  "
      ]
     },
     "execution_count": 357,
     "metadata": {},
     "output_type": "execute_result"
    }
   ],
   "source": [
    "# Creating DataFrame\n",
    "billboard_top_100=pd.DataFrame({})\n",
    "\n",
    "billboard_top_100['Song Name']=song\n",
    "billboard_top_100['Artist Name']=artist\n",
    "billboard_top_100['Last week rank']=last_week\n",
    "billboard_top_100['Peak Rank']=peak\n",
    "billboard_top_100['Weeks on Board']=weeks\n",
    "\n",
    "billboard_top_100.head()"
   ]
  },
  {
   "cell_type": "markdown",
   "id": "8fdd5491",
   "metadata": {},
   "source": [
    "Q7 : Scrape the details of Data science recruiters from naukri.com."
   ]
  },
  {
   "cell_type": "code",
   "execution_count": 368,
   "id": "8d453664",
   "metadata": {},
   "outputs": [],
   "source": [
    "naukri='https://www.naukri.com/hr-recruiters-consultants'\n",
    "driver.get(naukri)"
   ]
  },
  {
   "cell_type": "code",
   "execution_count": 370,
   "id": "66e99703",
   "metadata": {},
   "outputs": [],
   "source": [
    "# Search bar\n",
    "search=driver.find_element_by_xpath('/html/body/div[2]/div[2]/div[1]/div[1]/form/div[1]/div/div[1]/div[1]/div[2]/input')\n",
    "search.send_keys('Data Science')"
   ]
  },
  {
   "cell_type": "code",
   "execution_count": 371,
   "id": "cf2c7e0a",
   "metadata": {},
   "outputs": [],
   "source": [
    "# search button\n",
    "search_button=driver.find_element_by_xpath('/html/body/div[2]/div[2]/div[1]/div[1]/form/div[1]/button')\n",
    "search_button.click()"
   ]
  },
  {
   "cell_type": "code",
   "execution_count": 372,
   "id": "0bd8649b",
   "metadata": {},
   "outputs": [],
   "source": [
    "# Creating Empty lists\n",
    "\n",
    "name=[]\n",
    "designation=[]\n",
    "company=[]\n",
    "skill=[]\n",
    "location=[]"
   ]
  },
  {
   "cell_type": "code",
   "execution_count": 373,
   "id": "1d819856",
   "metadata": {},
   "outputs": [
    {
     "data": {
      "text/plain": [
       "['Aakash Harit',\n",
       " 'shravan Kumar Gaddam',\n",
       " 'MARSIAN Technologies LLP',\n",
       " 'Anik Agrawal',\n",
       " 'subhas patel',\n",
       " 'Abhishek - Only Analytics Hiring - India and',\n",
       " 'Institute for Financial Management and Resear',\n",
       " 'Balu Ramesh',\n",
       " 'Asif Lucknowi',\n",
       " 'InstaFinancials',\n",
       " 'Priyanka Akiri',\n",
       " 'Kalpana Dumpala',\n",
       " 'Mubarak',\n",
       " 'Kushal Rastogi',\n",
       " 'Mahesh Babu Channa',\n",
       " 'Kapil Devang',\n",
       " 'Sakshi Chhikara',\n",
       " 'Ruchi Dhote',\n",
       " 'Manisha Yadav',\n",
       " 'Riya Rajesh',\n",
       " 'Rashmi Bhattacharjee',\n",
       " 'Faizan Kareem',\n",
       " 'Rithika dadwal',\n",
       " 'Sandhya Khandagale',\n",
       " 'Shaun Rao',\n",
       " 'Azahar Shaikh',\n",
       " 'Manas',\n",
       " 'kumar',\n",
       " 'Sunil Vedula',\n",
       " 'Rajat Kumar',\n",
       " 'Dhruv Dev Dubey',\n",
       " 'Jayanth N',\n",
       " 'Avodha',\n",
       " 'Priya Khare',\n",
       " 'Amit Sharma',\n",
       " 'Kanan',\n",
       " 'Shashikant Chaudhary',\n",
       " 'Brad',\n",
       " 'Rutuja Pawar',\n",
       " 'Madhusudhan Sridhar',\n",
       " 'Ankit Sinha',\n",
       " 'Gaurav Chouhan',\n",
       " 'Rashi Kacker',\n",
       " 'Ashwini',\n",
       " 'Balaji Kolli',\n",
       " 'Rajani Nagaraj',\n",
       " 'ROHIT Kumar',\n",
       " 'Amir Chowdhury',\n",
       " 'SREEDHAR',\n",
       " 'Ravi Dubey']"
      ]
     },
     "execution_count": 373,
     "metadata": {},
     "output_type": "execute_result"
    }
   ],
   "source": [
    "# Extracting tags\n",
    "name_tag=driver.find_elements_by_xpath('//a[@class=\"ellipsis\"]/span')\n",
    "\n",
    "# Extracting text from tags\n",
    "for i in name_tag:\n",
    "    n=i.text\n",
    "    name.append(n)\n",
    "    \n",
    "name"
   ]
  },
  {
   "cell_type": "code",
   "execution_count": 374,
   "id": "d3ac46d3",
   "metadata": {},
   "outputs": [
    {
     "data": {
      "text/plain": [
       "50"
      ]
     },
     "execution_count": 374,
     "metadata": {},
     "output_type": "execute_result"
    }
   ],
   "source": [
    "len(name)"
   ]
  },
  {
   "cell_type": "code",
   "execution_count": 375,
   "id": "9c8cc155",
   "metadata": {},
   "outputs": [
    {
     "data": {
      "text/plain": [
       "['HR Manager',\n",
       " 'Company Recruiter',\n",
       " 'Company HR',\n",
       " 'Company Recruiter',\n",
       " 'Founder CEO',\n",
       " 'Recruitment Lead Consultant',\n",
       " 'Programme Manager',\n",
       " 'HR Administrator',\n",
       " 'Director',\n",
       " 'Human Resource',\n",
       " 'HR Manager',\n",
       " 'Executive Hiring',\n",
       " 'Company HR',\n",
       " 'Company HR',\n",
       " 'HR Team Lead',\n",
       " 'HR Manager',\n",
       " 'Assistant Manager HR',\n",
       " 'Senior Executive Talent Acquisition',\n",
       " 'HR Executive',\n",
       " 'Manager Talent Acquisition',\n",
       " 'HR Head',\n",
       " 'HR MANAGER',\n",
       " 'HR Recruiter',\n",
       " 'HR Recruiter',\n",
       " 'Manager Human Resources',\n",
       " 'Company Recruiter',\n",
       " 'Lead Talent acquisition',\n",
       " 'Proprietor',\n",
       " 'CEO',\n",
       " 'Founder CEO',\n",
       " 'Company Recruitment Head',\n",
       " 'Project Manager',\n",
       " 'Business Development Associate',\n",
       " 'Senior Manager',\n",
       " 'Consultant',\n",
       " 'senior technology instructor',\n",
       " 'HR Recruiter/HR Excutive',\n",
       " 'Manager, Technical Recruiting',\n",
       " 'Technical Recruiter',\n",
       " 'Erp Implementer',\n",
       " 'Head Analytics',\n",
       " 'Chief Technical Officer',\n",
       " 'Sr Product Manager',\n",
       " 'Director Global Delivery',\n",
       " 'Co Founder',\n",
       " 'HR Manager',\n",
       " 'Architect',\n",
       " 'Managing Partner',\n",
       " 'Recruitment Consultant',\n",
       " 'Recruitment Manager']"
      ]
     },
     "execution_count": 375,
     "metadata": {},
     "output_type": "execute_result"
    }
   ],
   "source": [
    "# Extracting tags\n",
    "designation_tag=driver.find_elements_by_xpath('//span[@class=\"ellipsis clr\"]')\n",
    "\n",
    "# Extracting text from tags\n",
    "for i in designation_tag:\n",
    "    n=i.text\n",
    "    designation.append(n)\n",
    "    \n",
    "designation"
   ]
  },
  {
   "cell_type": "code",
   "execution_count": 376,
   "id": "05ccbda5",
   "metadata": {},
   "outputs": [
    {
     "data": {
      "text/plain": [
       "50"
      ]
     },
     "execution_count": 376,
     "metadata": {},
     "output_type": "execute_result"
    }
   ],
   "source": [
    "len(designation)"
   ]
  },
  {
   "cell_type": "code",
   "execution_count": 379,
   "id": "7b48f802",
   "metadata": {},
   "outputs": [
    {
     "data": {
      "text/plain": [
       "['Data Science Network',\n",
       " 'Shore Infotech India Pvt. Ltd',\n",
       " 'MARSIAN Technologies LLP',\n",
       " 'Enerlytics Software Solutions Pvt Ltd',\n",
       " 'LibraryXProject',\n",
       " 'Apidel Technologies Division of Transpower',\n",
       " 'IFMR',\n",
       " 'Techvantage Systems Pvt Ltd',\n",
       " 'Weupskill- Live Wire India',\n",
       " 'CBL Data Science Private Limited',\n",
       " 'Infinitive Software Solutions',\n",
       " 'Innominds Software',\n",
       " 'MoneyTap',\n",
       " 'QuantMagnum Technologies Pvt. Ltd.',\n",
       " 'SocialPrachar.com',\n",
       " 'BISP Solutions',\n",
       " 'BIZ INFOTECNO PRIVATE LIMITED',\n",
       " 'Bristlecone India Ltd',\n",
       " 'Easi Tax',\n",
       " 'Novelworx Digital Solutions',\n",
       " 'AXESTRACK SOFTWARE SOLUTIONS PRIVATE...',\n",
       " 'FirstTech Consaltants Pvt.Ltd',\n",
       " 'Affine Analytics',\n",
       " 'Compumatrice Multimedia Pvt Ltd',\n",
       " 'Exela Technologies',\n",
       " 'NEAL ANALYTICS SERVICES PVT LTD',\n",
       " 'Autumn Leaf Consulting Services Private...',\n",
       " 'trainin',\n",
       " 'Nanoprecise Sci Corp',\n",
       " 'R.S Consultancy &amp; Services',\n",
       " 'Confidential',\n",
       " 'Dollarbird Information Services Pvt, Ltd',\n",
       " 'Nikitha Palaparthi',\n",
       " 'Independent Consultant',\n",
       " 'ASCO consulting',\n",
       " 'NY INST',\n",
       " '3D India Staffing Research &amp; Consulting...',\n",
       " 'O.C. Tanner',\n",
       " 'Demand Matrix',\n",
       " 'MADHUSUDHAN SRIDHAR',\n",
       " 'Suntech Global',\n",
       " 'Strategic Consulting Lab',\n",
       " 'Impel Labs Pvt. Ltd.',\n",
       " 'MRP Advisers',\n",
       " 'Saras Solutions India Pvt Ltd',\n",
       " 'WildJasmine',\n",
       " 'LNT Private Limited',\n",
       " 'Granular.ai',\n",
       " 'JOBSMILL BUSINESS SOLUTIONS PRIVATE LIMITED',\n",
       " 'HyrEzy Talent Solutions LLP']"
      ]
     },
     "execution_count": 379,
     "metadata": {},
     "output_type": "execute_result"
    }
   ],
   "source": [
    "# Extracting tags\n",
    "company_tag=driver.find_elements_by_xpath('//p[@class=\"highlightable\"]/a[2]')\n",
    "\n",
    "# Extracting text from tags\n",
    "for i in company_tag:\n",
    "    n=i.text\n",
    "    company.append(n)\n",
    "    \n",
    "company"
   ]
  },
  {
   "cell_type": "code",
   "execution_count": 380,
   "id": "93860ce3",
   "metadata": {},
   "outputs": [
    {
     "data": {
      "text/plain": [
       "50"
      ]
     },
     "execution_count": 380,
     "metadata": {},
     "output_type": "execute_result"
    }
   ],
   "source": [
    "len(company)"
   ]
  },
  {
   "cell_type": "code",
   "execution_count": 381,
   "id": "141881d8",
   "metadata": {},
   "outputs": [
    {
     "data": {
      "text/plain": [
       "['Classic ASP Developer, Internet Marketing Professional, Data Science SME, Content Writers, SEO Professional, Revenue Professional',\n",
       " '.Net, Java, Data Science, Linux Administration, Sql Server Development, Winforms, Wcf Services, Wpf, Telecom Engineering, Technical Management, Software',\n",
       " 'Data Science, Artificial Intelligence, Machine Learning, Business Analytics, Deep Learning, statistics, Data Analytics, Data Analysis, support vector machine',\n",
       " 'Mean Stack, javascript, angularjs, mongodb, Web Services, rest, express, Node.js, Big Data, iot, Data Science, Cloud Computing, saas, Aws',\n",
       " 'Hadoop, Spark, Digital Strategy, Data Architecture, Command Center, Cdp, Dmp, Kafka, Data Science, Data Analysis, Big Data Analytics, Real Time Analysis, SQL',\n",
       " 'Analytics, Business Intelligence, Business Analytics, Predictive Modeling, Predictive Analytics, Data Science, Data Analysis, Data Analytics, Big Data, Big',\n",
       " 'Data Science',\n",
       " 'Machine Learning, algorithms, Go Getter, Computer Science, spark, Big Data, hdfs, sql, cassandra, hadoop, python, scala, java, Data Science, Front End',\n",
       " 'Technical Training, Software Development, Presentation Skills, B.tech, M.tech, B.e., mca, msc, Computer Science, freshers, jobs in indore, Data Science, itil',\n",
       " 'Software Development, It Sales, Account Management, Data Analysis, Customer Service, Sr, Software Engineering, Mvc, Ajax, Asp.net, Html, C#, Javascript',\n",
       " 'Oracle Dba, Data Science, Data Warehousing, ETL, Jupyter, Numpy, Data Transformation, Snowflake, Teradata, Python, Data Manipulation, Relational Databases',\n",
       " 'Qa, Ui/ux, Java Developer, Java Architect, C++/qt, Php, Lamp, Api, J2ee, Java, Soa, Esb, Middleware, Bigdata Achitect, Hadoop Architect, Deep',\n",
       " 'Business Intelligence, Data Warehousing, Data Science, Business Analytics, Customer Support, Business Reporting, Bi',\n",
       " 'Office Administration, Hr Administration, telecalling, client relationship management, Client Acquisition, Sales, Reception, HR, Recruitment, Onboarding, Human',\n",
       " 'Social Media, digital media maketing, seo, smm, smo, sem, Content Wirting, social media marketing, social media manager, digital media marketing manager',\n",
       " 'Big Data, Hadoop, Data Analytics, Data Science',\n",
       " 'React.js, Data Science, Java, Front End, Business Analytics, Backend, Tableau, Python, Qa Testing, Automation Testing',\n",
       " 'Qlikview, Qlik Sense, Microsoft Azure, Power Bi, Data Science, Machine Learning',\n",
       " 'Telecalling, Client Interaction, Marketing, Research, Web Development, Social Media Marketing, Data Entry Operation, Excel, Ms Office, Invoicing',\n",
       " 'Data Science',\n",
       " 'Corporate Sales, Software Development, Software Sales, Marketing, Creative Designing, Corporate Planning, Senior Management, Crm, Client Relationship',\n",
       " 'Data Analytics, Data Science, Machine Learning, Deep Learning, Nlp, Data Mining, Python, R, Database Administration, Text Mining',\n",
       " 'Data Science, Machine Learning, Python, R, Deep Learning, Big Data, Hadoop',\n",
       " 'Big Data, Data Science, Artificial Intelligence, Hadoop, Ui Development, Php, Freelancing, .Net, Software Testing, Sap, Leadership Hiring',\n",
       " 'Java, Net, Angularjs, Hr, Infrastructure, Management, Project Management, Business Analysis, Data Science, Information Technology, Technology',\n",
       " 'Data Science, Artificial Intelligence, Machine Learning, Data Analytics',\n",
       " 'Software Architecture, Vp Engineering, Product Management, analytics, Data Science, Node.js, Principal Engineer, Big Data, python, angularjs, React.js',\n",
       " 'Data Science, Hadoop, Rpas, Devops, Python, Aws, Teaching, Big Data',\n",
       " 'Signal Processing, Machine Learning, Neural Networks, Data Science, Predictive Analytics, Time Series Analysis, Data Visualization, Technical Leadership, Data',\n",
       " 'Web Technologies, Project Management, Software Architecture, Data Science, Object Oriented Programming, Computer Science, Electrical Engineering, Architecture',\n",
       " 'Server Administartion, Verilog, Vhdl, Digital Marketing, Market Research, Property Research, Legal, It And Non It Recruitment, Logistics, Supply Chain, Bfsi',\n",
       " 'Data Analytics, Managed Services, Team Leading, python, Machine Learning, Google Analytics, Dmp, Aws, Campaign Analytics, Digital Campaigns, Audience',\n",
       " 'Ethical Hacking, Security Operations Center, SOC, Managed Services, Data Science, Machine Learning, Artificial Intelligence, Operations Research, Education',\n",
       " 'Data Science, Artificial Intelligence, analytics, Business Intelligence, python, tableau, Power Bi, qlikview, sql, Data Warehousing, Data Visualization',\n",
       " 'Machine Learning, Artificial Intelligence, Data Science, Software Engineering, Software Development, Graduate Engineer Trainee, Fresher, Data Analytics, Java',\n",
       " 'C, C++, Artificial Intelligence, Python, Php, Web Development, Matlab, Data Science, Augmented Reality, C C++',\n",
       " 'Relationship Management, Retail Sales, Private Banking, Mutual Funds, NISM, Equity, Finance, Financial Products, Financial Services, Verbal, Written',\n",
       " 'Data Science, Software Engineering',\n",
       " 'Data Science, Big Data Analytics, Digital Marketing, Content Writing, Ui Development, Database Development, Qa Automation, Python, Project Management',\n",
       " 'Data Science, Recruitment, Salary',\n",
       " 'B.Tech, Tableau, Statistics, R, Analytics, Time Series, Data Science, Business Solutions, SQL, Technical Skills, SSAS, SQL Server, Analysis Services, Qlikview',\n",
       " 'Software Development, Business Intelligence, Big Data Analytics, Database Administration, Data Science, Microsoft Azure, Spark, Cassandra, Object Oriented',\n",
       " 'Data Science, Node.js, Angularjs',\n",
       " 'Data Science, Media Marketing, Resource Planning, Managed Services, Display Advertising, Machine Learning, Python, Etl, Sql',\n",
       " 'Data Analysis, Learning, Data Science, Computer Science, Communication Skills',\n",
       " 'Java, Hadoop, R, Machine Learning, Spark, Flume, Hdfs, Data Mining, Sas, Big, Data Science, Cloudera, Impala, Bigdata',\n",
       " 'Software Development, Core Java, Unit Testing, Customer Experience, Problem Solving, Communication Skills, Mysql, Data Science, Sales Management, Analytics',\n",
       " 'Machine Learning, Data Science, Product Management, New Product, Data Analysis, Computer Vision, Deep Learning, Python, Remote Sensing',\n",
       " 'Data Science, Machine Learning, Big Data Analytics, Spark, Python, R, Networking, Network Engineering, Placement, Training, Sql, Marketing, Mainframes, All',\n",
       " 'Walmart Interra Skeps Expressstores indifi whitehatJr Practo Zylo Doctalk Medtrail']"
      ]
     },
     "execution_count": 381,
     "metadata": {},
     "output_type": "execute_result"
    }
   ],
   "source": [
    "# Extracting tags\n",
    "skill_tag=driver.find_elements_by_xpath('//div[@class=\"hireSec highlightable\"]')\n",
    "\n",
    "# Extracting text from tags\n",
    "for i in skill_tag:\n",
    "    n=i.text\n",
    "    skill.append(n)\n",
    "    \n",
    "skill"
   ]
  },
  {
   "cell_type": "code",
   "execution_count": 382,
   "id": "f0ef9485",
   "metadata": {},
   "outputs": [
    {
     "data": {
      "text/plain": [
       "50"
      ]
     },
     "execution_count": 382,
     "metadata": {},
     "output_type": "execute_result"
    }
   ],
   "source": [
    "len(skill)"
   ]
  },
  {
   "cell_type": "code",
   "execution_count": 384,
   "id": "da0497b2",
   "metadata": {},
   "outputs": [],
   "source": [
    "location=[]"
   ]
  },
  {
   "cell_type": "code",
   "execution_count": 385,
   "id": "6693c271",
   "metadata": {},
   "outputs": [
    {
     "data": {
      "text/plain": [
       "['Delhi',\n",
       " 'Hyderabad / Secunderabad',\n",
       " 'Pune',\n",
       " 'Ahmedabad',\n",
       " 'UK - (london)',\n",
       " 'Vadodara / Baroda',\n",
       " 'Chennai',\n",
       " 'Trivandrum',\n",
       " 'Indore',\n",
       " 'Bengaluru / Bangalore',\n",
       " 'Hyderabad',\n",
       " 'Hyderabad / Secunderabad',\n",
       " 'Bengaluru / Bangalore',\n",
       " 'Mumbai',\n",
       " 'Hyderabad / Secunderabad',\n",
       " 'Bhopal',\n",
       " 'Chandigarh',\n",
       " 'Pune',\n",
       " 'Navi Mumbai',\n",
       " 'Cochin',\n",
       " 'Delhi',\n",
       " 'Hyderabad / Secunderabad',\n",
       " 'Pune',\n",
       " 'Pune',\n",
       " 'Pune',\n",
       " 'Pune',\n",
       " 'Bengaluru / Bangalore',\n",
       " 'Bengaluru / Bangalore',\n",
       " 'Delhi',\n",
       " 'Bengaluru / Bangalore',\n",
       " 'Mysoru / Mysore',\n",
       " 'Hyderabad / Secunderabad',\n",
       " 'Bengaluru / Bangalore',\n",
       " 'New Delhi',\n",
       " 'Chennai',\n",
       " 'Aligarh',\n",
       " 'Salt Lake City',\n",
       " 'Pune',\n",
       " 'Bengaluru / Bangalore',\n",
       " 'Mumbai',\n",
       " 'Indore',\n",
       " 'Bengaluru / Bangalore',\n",
       " 'MYSORE',\n",
       " 'Hyderabad / Secunderabad',\n",
       " 'Bengaluru / Bangalore',\n",
       " 'Mumbai',\n",
       " 'Hyderabad / Secunderabad',\n",
       " 'Ghaziabad']"
      ]
     },
     "execution_count": 385,
     "metadata": {},
     "output_type": "execute_result"
    }
   ],
   "source": [
    "# Extracting tags\n",
    "location_tag=driver.find_elements_by_xpath('//p[@class=\"highlightable\"]/span/small')\n",
    "\n",
    "# Extracting text from tags\n",
    "for i in location_tag:\n",
    "    n=i.text\n",
    "    location.append(n)\n",
    "    \n",
    "location"
   ]
  },
  {
   "cell_type": "code",
   "execution_count": 386,
   "id": "e7c807f4",
   "metadata": {},
   "outputs": [
    {
     "data": {
      "text/plain": [
       "48"
      ]
     },
     "execution_count": 386,
     "metadata": {},
     "output_type": "execute_result"
    }
   ],
   "source": [
    "len(location)"
   ]
  },
  {
   "cell_type": "markdown",
   "id": "89aee3ea",
   "metadata": {},
   "source": [
    "Q8 : Scrape the details of Highest selling novels."
   ]
  },
  {
   "cell_type": "code",
   "execution_count": 387,
   "id": "5a220bf6",
   "metadata": {},
   "outputs": [],
   "source": [
    "the_guardian='https://www.theguardian.com/news/datablog/2012/aug/09/best-selling-books-all-time-fifty-shades-grey-compare'\n",
    "driver.get(the_guardian)"
   ]
  },
  {
   "cell_type": "code",
   "execution_count": 389,
   "id": "350a223f",
   "metadata": {},
   "outputs": [],
   "source": [
    "# Creating Empty lists\n",
    "book=[]\n",
    "author=[]\n",
    "volumes_sold=[]\n",
    "publisher=[]\n",
    "genre=[]"
   ]
  },
  {
   "cell_type": "code",
   "execution_count": 390,
   "id": "bfeb173c",
   "metadata": {},
   "outputs": [
    {
     "data": {
      "text/plain": [
       "['Da Vinci Code,The',\n",
       " 'Harry Potter and the Deathly Hallows',\n",
       " \"Harry Potter and the Philosopher's Stone\",\n",
       " 'Harry Potter and the Order of the Phoenix',\n",
       " 'Fifty Shades of Grey',\n",
       " 'Harry Potter and the Goblet of Fire',\n",
       " 'Harry Potter and the Chamber of Secrets',\n",
       " 'Harry Potter and the Prisoner of Azkaban',\n",
       " 'Angels and Demons',\n",
       " \"Harry Potter and the Half-blood Prince:Children's Edition\",\n",
       " 'Fifty Shades Darker',\n",
       " 'Twilight',\n",
       " 'Girl with the Dragon Tattoo,The:Millennium Trilogy',\n",
       " 'Fifty Shades Freed',\n",
       " 'Lost Symbol,The',\n",
       " 'New Moon',\n",
       " 'Deception Point',\n",
       " 'Eclipse',\n",
       " 'Lovely Bones,The',\n",
       " 'Curious Incident of the Dog in the Night-time,The',\n",
       " 'Digital Fortress',\n",
       " 'Short History of Nearly Everything,A',\n",
       " 'Girl Who Played with Fire,The:Millennium Trilogy',\n",
       " 'Breaking Dawn',\n",
       " 'Very Hungry Caterpillar,The:The Very Hungry Caterpillar',\n",
       " 'Gruffalo,The',\n",
       " \"Jamie's 30-Minute Meals\",\n",
       " 'Kite Runner,The',\n",
       " 'One Day',\n",
       " 'Thousand Splendid Suns,A',\n",
       " \"Girl Who Kicked the Hornets' Nest,The:Millennium Trilogy\",\n",
       " \"Time Traveler's Wife,The\",\n",
       " 'Atonement',\n",
       " \"Bridget Jones's Diary:A Novel\",\n",
       " 'World According to Clarkson,The',\n",
       " \"Captain Corelli's Mandolin\",\n",
       " 'Sound of Laughter,The',\n",
       " 'Life of Pi',\n",
       " 'Billy Connolly',\n",
       " 'Child Called It,A',\n",
       " \"Gruffalo's Child,The\",\n",
       " \"Angela's Ashes:A Memoir of a Childhood\",\n",
       " 'Birdsong',\n",
       " 'Northern Lights:His Dark Materials S.',\n",
       " 'Labyrinth',\n",
       " 'Harry Potter and the Half-blood Prince',\n",
       " 'Help,The',\n",
       " 'Man and Boy',\n",
       " 'Memoirs of a Geisha',\n",
       " \"No.1 Ladies' Detective Agency,The:No.1 Ladies' Detective Agency S.\",\n",
       " 'Island,The',\n",
       " 'PS, I Love You',\n",
       " 'You are What You Eat:The Plan That Will Change Your Life',\n",
       " 'Shadow of the Wind,The',\n",
       " 'Tales of Beedle the Bard,The',\n",
       " 'Broker,The',\n",
       " \"Dr. Atkins' New Diet Revolution:The No-hunger, Luxurious Weight Loss P\",\n",
       " 'Subtle Knife,The:His Dark Materials S.',\n",
       " 'Eats, Shoots and Leaves:The Zero Tolerance Approach to Punctuation',\n",
       " \"Delia's How to Cook:(Bk.1)\",\n",
       " 'Chocolat',\n",
       " 'Boy in the Striped Pyjamas,The',\n",
       " \"My Sister's Keeper\",\n",
       " 'Amber Spyglass,The:His Dark Materials S.',\n",
       " 'To Kill a Mockingbird',\n",
       " 'Men are from Mars, Women are from Venus:A Practical Guide for Improvin',\n",
       " 'Dear Fatty',\n",
       " 'Short History of Tractors in Ukrainian,A',\n",
       " 'Hannibal',\n",
       " 'Lord of the Rings,The',\n",
       " 'Stupid White Men:...and Other Sorry Excuses for the State of the Natio',\n",
       " 'Interpretation of Murder,The',\n",
       " 'Sharon Osbourne Extreme:My Autobiography',\n",
       " 'Alchemist,The:A Fable About Following Your Dream',\n",
       " \"At My Mother's Knee ...:and Other Low Joints\",\n",
       " 'Notes from a Small Island',\n",
       " 'Return of the Naked Chef,The',\n",
       " 'Bridget Jones: The Edge of Reason',\n",
       " \"Jamie's Italy\",\n",
       " 'I Can Make You Thin',\n",
       " 'Down Under',\n",
       " 'Summons,The',\n",
       " 'Small Island',\n",
       " 'Nigella Express',\n",
       " 'Brick Lane',\n",
       " \"Memory Keeper's Daughter,The\",\n",
       " 'Room on the Broom',\n",
       " 'About a Boy',\n",
       " 'My Booky Wook',\n",
       " 'God Delusion,The',\n",
       " '\"Beano\" Annual,The',\n",
       " 'White Teeth',\n",
       " 'House at Riverton,The',\n",
       " 'Book Thief,The',\n",
       " 'Nights of Rain and Stars',\n",
       " 'Ghost,The',\n",
       " 'Happy Days with the Naked Chef',\n",
       " 'Hunger Games,The:Hunger Games Trilogy',\n",
       " \"Lost Boy,The:A Foster Child's Search for the Love of a Family\",\n",
       " \"Jamie's Ministry of Food:Anyone Can Learn to Cook in 24 Hours\"]"
      ]
     },
     "execution_count": 390,
     "metadata": {},
     "output_type": "execute_result"
    }
   ],
   "source": [
    "# Extracting tags\n",
    "book_tag=driver.find_elements_by_xpath('//table[@class=\"in-article sortable\"]/tbody/tr/td[2]')\n",
    "\n",
    "# Extracting text from tags\n",
    "for i in book_tag:\n",
    "    n=i.text\n",
    "    book.append(n)\n",
    "    \n",
    "book"
   ]
  },
  {
   "cell_type": "code",
   "execution_count": 391,
   "id": "a246f73b",
   "metadata": {},
   "outputs": [
    {
     "data": {
      "text/plain": [
       "100"
      ]
     },
     "execution_count": 391,
     "metadata": {},
     "output_type": "execute_result"
    }
   ],
   "source": [
    "len(book)"
   ]
  },
  {
   "cell_type": "code",
   "execution_count": 392,
   "id": "00260d6c",
   "metadata": {},
   "outputs": [
    {
     "data": {
      "text/plain": [
       "['Brown, Dan',\n",
       " 'Rowling, J.K.',\n",
       " 'Rowling, J.K.',\n",
       " 'Rowling, J.K.',\n",
       " 'James, E. L.',\n",
       " 'Rowling, J.K.',\n",
       " 'Rowling, J.K.',\n",
       " 'Rowling, J.K.',\n",
       " 'Brown, Dan',\n",
       " 'Rowling, J.K.',\n",
       " 'James, E. L.',\n",
       " 'Meyer, Stephenie',\n",
       " 'Larsson, Stieg',\n",
       " 'James, E. L.',\n",
       " 'Brown, Dan',\n",
       " 'Meyer, Stephenie',\n",
       " 'Brown, Dan',\n",
       " 'Meyer, Stephenie',\n",
       " 'Sebold, Alice',\n",
       " 'Haddon, Mark',\n",
       " 'Brown, Dan',\n",
       " 'Bryson, Bill',\n",
       " 'Larsson, Stieg',\n",
       " 'Meyer, Stephenie',\n",
       " 'Carle, Eric',\n",
       " 'Donaldson, Julia',\n",
       " 'Oliver, Jamie',\n",
       " 'Hosseini, Khaled',\n",
       " 'Nicholls, David',\n",
       " 'Hosseini, Khaled',\n",
       " 'Larsson, Stieg',\n",
       " 'Niffenegger, Audrey',\n",
       " 'McEwan, Ian',\n",
       " 'Fielding, Helen',\n",
       " 'Clarkson, Jeremy',\n",
       " 'Bernieres, Louis de',\n",
       " 'Kay, Peter',\n",
       " 'Martel, Yann',\n",
       " 'Stephenson, Pamela',\n",
       " 'Pelzer, Dave',\n",
       " 'Donaldson, Julia',\n",
       " 'McCourt, Frank',\n",
       " 'Faulks, Sebastian',\n",
       " 'Pullman, Philip',\n",
       " 'Mosse, Kate',\n",
       " 'Rowling, J.K.',\n",
       " 'Stockett, Kathryn',\n",
       " 'Parsons, Tony',\n",
       " 'Golden, Arthur',\n",
       " 'McCall Smith, Alexander',\n",
       " 'Hislop, Victoria',\n",
       " 'Ahern, Cecelia',\n",
       " 'McKeith, Gillian',\n",
       " 'Zafon, Carlos Ruiz',\n",
       " 'Rowling, J.K.',\n",
       " 'Grisham, John',\n",
       " 'Atkins, Robert C.',\n",
       " 'Pullman, Philip',\n",
       " 'Truss, Lynne',\n",
       " 'Smith, Delia',\n",
       " 'Harris, Joanne',\n",
       " 'Boyne, John',\n",
       " 'Picoult, Jodi',\n",
       " 'Pullman, Philip',\n",
       " 'Lee, Harper',\n",
       " 'Gray, John',\n",
       " 'French, Dawn',\n",
       " 'Lewycka, Marina',\n",
       " 'Harris, Thomas',\n",
       " 'Tolkien, J. R. R.',\n",
       " 'Moore, Michael',\n",
       " 'Rubenfeld, Jed',\n",
       " 'Osbourne, Sharon',\n",
       " 'Coelho, Paulo',\n",
       " \"O'Grady, Paul\",\n",
       " 'Bryson, Bill',\n",
       " 'Oliver, Jamie',\n",
       " 'Fielding, Helen',\n",
       " 'Oliver, Jamie',\n",
       " 'McKenna, Paul',\n",
       " 'Bryson, Bill',\n",
       " 'Grisham, John',\n",
       " 'Levy, Andrea',\n",
       " 'Lawson, Nigella',\n",
       " 'Ali, Monica',\n",
       " 'Edwards, Kim',\n",
       " 'Donaldson, Julia',\n",
       " 'Hornby, Nick',\n",
       " 'Brand, Russell',\n",
       " 'Dawkins, Richard',\n",
       " '0',\n",
       " 'Smith, Zadie',\n",
       " 'Morton, Kate',\n",
       " 'Zusak, Markus',\n",
       " 'Binchy, Maeve',\n",
       " 'Harris, Robert',\n",
       " 'Oliver, Jamie',\n",
       " 'Collins, Suzanne',\n",
       " 'Pelzer, Dave',\n",
       " 'Oliver, Jamie']"
      ]
     },
     "execution_count": 392,
     "metadata": {},
     "output_type": "execute_result"
    }
   ],
   "source": [
    "# Extracting tags\n",
    "author_tag=driver.find_elements_by_xpath('//table[@class=\"in-article sortable\"]/tbody/tr/td[3]')\n",
    "\n",
    "# Extracting text from tags\n",
    "for i in author_tag:\n",
    "    n=i.text\n",
    "    author.append(n)\n",
    "    \n",
    "author"
   ]
  },
  {
   "cell_type": "code",
   "execution_count": 393,
   "id": "437f5cdc",
   "metadata": {},
   "outputs": [
    {
     "data": {
      "text/plain": [
       "100"
      ]
     },
     "execution_count": 393,
     "metadata": {},
     "output_type": "execute_result"
    }
   ],
   "source": [
    "len(author)"
   ]
  },
  {
   "cell_type": "code",
   "execution_count": 394,
   "id": "b0b793c4",
   "metadata": {},
   "outputs": [
    {
     "data": {
      "text/plain": [
       "['5,094,805',\n",
       " '4,475,152',\n",
       " '4,200,654',\n",
       " '4,179,479',\n",
       " '3,758,936',\n",
       " '3,583,215',\n",
       " '3,484,047',\n",
       " '3,377,906',\n",
       " '3,193,946',\n",
       " '2,950,264',\n",
       " '2,479,784',\n",
       " '2,315,405',\n",
       " '2,233,570',\n",
       " '2,193,928',\n",
       " '2,183,031',\n",
       " '2,152,737',\n",
       " '2,062,145',\n",
       " '2,052,876',\n",
       " '2,005,598',\n",
       " '1,979,552',\n",
       " '1,928,900',\n",
       " '1,852,919',\n",
       " '1,814,784',\n",
       " '1,787,118',\n",
       " '1,783,535',\n",
       " '1,781,269',\n",
       " '1,743,266',\n",
       " '1,629,119',\n",
       " '1,616,068',\n",
       " '1,583,992',\n",
       " '1,555,135',\n",
       " '1,546,886',\n",
       " '1,539,428',\n",
       " '1,508,205',\n",
       " '1,489,403',\n",
       " '1,352,318',\n",
       " '1,310,207',\n",
       " '1,310,176',\n",
       " '1,231,957',\n",
       " '1,217,712',\n",
       " '1,208,711',\n",
       " '1,204,058',\n",
       " '1,184,967',\n",
       " '1,181,503',\n",
       " '1,181,093',\n",
       " '1,153,181',\n",
       " '1,132,336',\n",
       " '1,130,802',\n",
       " '1,126,337',\n",
       " '1,115,549',\n",
       " '1,108,328',\n",
       " '1,107,379',\n",
       " '1,104,403',\n",
       " '1,092,349',\n",
       " '1,090,847',\n",
       " '1,087,262',\n",
       " '1,054,196',\n",
       " '1,037,160',\n",
       " '1,023,688',\n",
       " '1,015,956',\n",
       " '1,009,873',\n",
       " '1,004,414',\n",
       " '1,003,780',\n",
       " '1,002,314',\n",
       " '998,213',\n",
       " '992,846',\n",
       " '986,753',\n",
       " '986,115',\n",
       " '970,509',\n",
       " '967,466',\n",
       " '963,353',\n",
       " '962,515',\n",
       " '959,496',\n",
       " '956,114',\n",
       " '945,640',\n",
       " '931,312',\n",
       " '925,425',\n",
       " '924,695',\n",
       " '906,968',\n",
       " '905,086',\n",
       " '890,847',\n",
       " '869,671',\n",
       " '869,659',\n",
       " '862,602',\n",
       " '856,540',\n",
       " '845,858',\n",
       " '842,535',\n",
       " '828,215',\n",
       " '820,563',\n",
       " '816,907',\n",
       " '816,585',\n",
       " '815,586',\n",
       " '814,370',\n",
       " '809,641',\n",
       " '808,900',\n",
       " '807,311',\n",
       " '794,201',\n",
       " '792,187',\n",
       " '791,507',\n",
       " '791,095']"
      ]
     },
     "execution_count": 394,
     "metadata": {},
     "output_type": "execute_result"
    }
   ],
   "source": [
    "# Extracting tags\n",
    "volumes_sold_tag=driver.find_elements_by_xpath('//table[@class=\"in-article sortable\"]/tbody/tr/td[4]')\n",
    "\n",
    "# Extracting text from tags\n",
    "for i in volumes_sold_tag:\n",
    "    n=i.text\n",
    "    volumes_sold.append(n)\n",
    "    \n",
    "volumes_sold"
   ]
  },
  {
   "cell_type": "code",
   "execution_count": 395,
   "id": "9e7a8e47",
   "metadata": {},
   "outputs": [
    {
     "data": {
      "text/plain": [
       "100"
      ]
     },
     "execution_count": 395,
     "metadata": {},
     "output_type": "execute_result"
    }
   ],
   "source": [
    "len(volumes_sold)"
   ]
  },
  {
   "cell_type": "code",
   "execution_count": 396,
   "id": "93fda03a",
   "metadata": {},
   "outputs": [
    {
     "data": {
      "text/plain": [
       "['Transworld',\n",
       " 'Bloomsbury',\n",
       " 'Bloomsbury',\n",
       " 'Bloomsbury',\n",
       " 'Random House',\n",
       " 'Bloomsbury',\n",
       " 'Bloomsbury',\n",
       " 'Bloomsbury',\n",
       " 'Transworld',\n",
       " 'Bloomsbury',\n",
       " 'Random House',\n",
       " 'Little, Brown Book',\n",
       " 'Quercus',\n",
       " 'Random House',\n",
       " 'Transworld',\n",
       " 'Little, Brown Book',\n",
       " 'Transworld',\n",
       " 'Little, Brown Book',\n",
       " 'Pan Macmillan',\n",
       " 'Random House',\n",
       " 'Transworld',\n",
       " 'Transworld',\n",
       " 'Quercus',\n",
       " 'Little, Brown Book',\n",
       " 'Penguin',\n",
       " 'Pan Macmillan',\n",
       " 'Penguin',\n",
       " 'Bloomsbury',\n",
       " 'Hodder & Stoughton',\n",
       " 'Bloomsbury',\n",
       " 'Quercus',\n",
       " 'Random House',\n",
       " 'Random House',\n",
       " 'Pan Macmillan',\n",
       " 'Penguin',\n",
       " 'Random House',\n",
       " 'Random House',\n",
       " 'Canongate',\n",
       " 'HarperCollins',\n",
       " 'Orion',\n",
       " 'Pan Macmillan',\n",
       " 'HarperCollins',\n",
       " 'Random House',\n",
       " 'Scholastic Ltd.',\n",
       " 'Orion',\n",
       " 'Bloomsbury',\n",
       " 'Penguin',\n",
       " 'HarperCollins',\n",
       " 'Random House',\n",
       " 'Little, Brown Book',\n",
       " 'Headline',\n",
       " 'HarperCollins',\n",
       " 'Penguin',\n",
       " 'Orion',\n",
       " 'Bloomsbury',\n",
       " 'Random House',\n",
       " 'Random House',\n",
       " 'Scholastic Ltd.',\n",
       " 'Profile Books Group',\n",
       " 'Random House',\n",
       " 'Transworld',\n",
       " 'Random House Childrens Books G',\n",
       " 'Hodder & Stoughton',\n",
       " 'Scholastic Ltd.',\n",
       " 'Random House',\n",
       " 'HarperCollins',\n",
       " 'Random House',\n",
       " 'Penguin',\n",
       " 'Random House',\n",
       " 'HarperCollins',\n",
       " 'Penguin',\n",
       " 'Headline',\n",
       " 'Little, Brown Book',\n",
       " 'HarperCollins',\n",
       " 'Transworld',\n",
       " 'Transworld',\n",
       " 'Penguin',\n",
       " 'Pan Macmillan',\n",
       " 'Penguin',\n",
       " 'Transworld',\n",
       " 'Transworld',\n",
       " 'Random House',\n",
       " 'Headline',\n",
       " 'Random House',\n",
       " 'Transworld',\n",
       " 'Penguin',\n",
       " 'Pan Macmillan',\n",
       " 'Penguin',\n",
       " 'Hodder & Stoughton',\n",
       " 'Transworld',\n",
       " 'D.C. Thomson',\n",
       " 'Penguin',\n",
       " 'Pan Macmillan',\n",
       " 'Transworld',\n",
       " 'Orion',\n",
       " 'Random House',\n",
       " 'Penguin',\n",
       " 'Scholastic Ltd.',\n",
       " 'Orion',\n",
       " 'Penguin']"
      ]
     },
     "execution_count": 396,
     "metadata": {},
     "output_type": "execute_result"
    }
   ],
   "source": [
    "# Extracting tags\n",
    "publisher_tag=driver.find_elements_by_xpath('//table[@class=\"in-article sortable\"]/tbody/tr/td[5]')\n",
    "\n",
    "# Extracting text from tags\n",
    "for i in publisher_tag:\n",
    "    n=i.text\n",
    "    publisher.append(n)\n",
    "    \n",
    "publisher"
   ]
  },
  {
   "cell_type": "code",
   "execution_count": 397,
   "id": "1eb8c2df",
   "metadata": {},
   "outputs": [
    {
     "data": {
      "text/plain": [
       "100"
      ]
     },
     "execution_count": 397,
     "metadata": {},
     "output_type": "execute_result"
    }
   ],
   "source": [
    "len(publisher)"
   ]
  },
  {
   "cell_type": "code",
   "execution_count": 398,
   "id": "1f3cc362",
   "metadata": {},
   "outputs": [
    {
     "data": {
      "text/plain": [
       "['Crime, Thriller & Adventure',\n",
       " \"Children's Fiction\",\n",
       " \"Children's Fiction\",\n",
       " \"Children's Fiction\",\n",
       " 'Romance & Sagas',\n",
       " \"Children's Fiction\",\n",
       " \"Children's Fiction\",\n",
       " \"Children's Fiction\",\n",
       " 'Crime, Thriller & Adventure',\n",
       " \"Children's Fiction\",\n",
       " 'Romance & Sagas',\n",
       " 'Young Adult Fiction',\n",
       " 'Crime, Thriller & Adventure',\n",
       " 'Romance & Sagas',\n",
       " 'Crime, Thriller & Adventure',\n",
       " 'Young Adult Fiction',\n",
       " 'Crime, Thriller & Adventure',\n",
       " 'Young Adult Fiction',\n",
       " 'General & Literary Fiction',\n",
       " 'General & Literary Fiction',\n",
       " 'Crime, Thriller & Adventure',\n",
       " 'Popular Science',\n",
       " 'Crime, Thriller & Adventure',\n",
       " 'Young Adult Fiction',\n",
       " 'Picture Books',\n",
       " 'Picture Books',\n",
       " 'Food & Drink: General',\n",
       " 'General & Literary Fiction',\n",
       " 'General & Literary Fiction',\n",
       " 'General & Literary Fiction',\n",
       " 'Crime, Thriller & Adventure',\n",
       " 'General & Literary Fiction',\n",
       " 'General & Literary Fiction',\n",
       " 'General & Literary Fiction',\n",
       " 'Humour: Collections & General',\n",
       " 'General & Literary Fiction',\n",
       " 'Autobiography: General',\n",
       " 'General & Literary Fiction',\n",
       " 'Biography: The Arts',\n",
       " 'Autobiography: General',\n",
       " 'Picture Books',\n",
       " 'Autobiography: General',\n",
       " 'General & Literary Fiction',\n",
       " 'Young Adult Fiction',\n",
       " 'General & Literary Fiction',\n",
       " 'Science Fiction & Fantasy',\n",
       " 'General & Literary Fiction',\n",
       " 'General & Literary Fiction',\n",
       " 'General & Literary Fiction',\n",
       " 'Crime, Thriller & Adventure',\n",
       " 'General & Literary Fiction',\n",
       " 'General & Literary Fiction',\n",
       " 'Fitness & Diet',\n",
       " 'General & Literary Fiction',\n",
       " \"Children's Fiction\",\n",
       " 'Crime, Thriller & Adventure',\n",
       " 'Fitness & Diet',\n",
       " 'Young Adult Fiction',\n",
       " 'Usage & Writing Guides',\n",
       " 'Food & Drink: General',\n",
       " 'General & Literary Fiction',\n",
       " 'Young Adult Fiction',\n",
       " 'General & Literary Fiction',\n",
       " 'Young Adult Fiction',\n",
       " 'General & Literary Fiction',\n",
       " 'Popular Culture & Media: General Interest',\n",
       " 'Autobiography: The Arts',\n",
       " 'General & Literary Fiction',\n",
       " 'Crime, Thriller & Adventure',\n",
       " 'Science Fiction & Fantasy',\n",
       " 'Current Affairs & Issues',\n",
       " 'Crime, Thriller & Adventure',\n",
       " 'Autobiography: The Arts',\n",
       " 'General & Literary Fiction',\n",
       " 'Autobiography: The Arts',\n",
       " 'Travel Writing',\n",
       " 'Food & Drink: General',\n",
       " 'General & Literary Fiction',\n",
       " 'National & Regional Cuisine',\n",
       " 'Fitness & Diet',\n",
       " 'Travel Writing',\n",
       " 'Crime, Thriller & Adventure',\n",
       " 'General & Literary Fiction',\n",
       " 'Food & Drink: General',\n",
       " 'General & Literary Fiction',\n",
       " 'General & Literary Fiction',\n",
       " 'Picture Books',\n",
       " 'General & Literary Fiction',\n",
       " 'Autobiography: The Arts',\n",
       " 'Popular Science',\n",
       " \"Children's Annuals\",\n",
       " 'General & Literary Fiction',\n",
       " 'General & Literary Fiction',\n",
       " 'General & Literary Fiction',\n",
       " 'General & Literary Fiction',\n",
       " 'General & Literary Fiction',\n",
       " 'Food & Drink: General',\n",
       " 'Young Adult Fiction',\n",
       " 'Biography: General',\n",
       " 'Food & Drink: General']"
      ]
     },
     "execution_count": 398,
     "metadata": {},
     "output_type": "execute_result"
    }
   ],
   "source": [
    "# Extracting tags\n",
    "genre_tag=driver.find_elements_by_xpath('//table[@class=\"in-article sortable\"]/tbody/tr/td[6]')\n",
    "\n",
    "# Extracting text from tags\n",
    "for i in genre_tag:\n",
    "    n=i.text\n",
    "    genre.append(n)\n",
    "    \n",
    "genre"
   ]
  },
  {
   "cell_type": "code",
   "execution_count": 400,
   "id": "ec8efd7a",
   "metadata": {},
   "outputs": [
    {
     "data": {
      "text/plain": [
       "100"
      ]
     },
     "execution_count": 400,
     "metadata": {},
     "output_type": "execute_result"
    }
   ],
   "source": [
    "len(genre)"
   ]
  },
  {
   "cell_type": "code",
   "execution_count": 401,
   "id": "5b170ab0",
   "metadata": {},
   "outputs": [
    {
     "data": {
      "text/html": [
       "<div>\n",
       "<style scoped>\n",
       "    .dataframe tbody tr th:only-of-type {\n",
       "        vertical-align: middle;\n",
       "    }\n",
       "\n",
       "    .dataframe tbody tr th {\n",
       "        vertical-align: top;\n",
       "    }\n",
       "\n",
       "    .dataframe thead th {\n",
       "        text-align: right;\n",
       "    }\n",
       "</style>\n",
       "<table border=\"1\" class=\"dataframe\">\n",
       "  <thead>\n",
       "    <tr style=\"text-align: right;\">\n",
       "      <th></th>\n",
       "      <th>Book Name</th>\n",
       "      <th>Author Name</th>\n",
       "      <th>Volumes Sold</th>\n",
       "      <th>Publisher</th>\n",
       "      <th>Genre</th>\n",
       "    </tr>\n",
       "  </thead>\n",
       "  <tbody>\n",
       "    <tr>\n",
       "      <th>0</th>\n",
       "      <td>Da Vinci Code,The</td>\n",
       "      <td>Brown, Dan</td>\n",
       "      <td>5,094,805</td>\n",
       "      <td>Transworld</td>\n",
       "      <td>Crime, Thriller &amp; Adventure</td>\n",
       "    </tr>\n",
       "    <tr>\n",
       "      <th>1</th>\n",
       "      <td>Harry Potter and the Deathly Hallows</td>\n",
       "      <td>Rowling, J.K.</td>\n",
       "      <td>4,475,152</td>\n",
       "      <td>Bloomsbury</td>\n",
       "      <td>Children's Fiction</td>\n",
       "    </tr>\n",
       "    <tr>\n",
       "      <th>2</th>\n",
       "      <td>Harry Potter and the Philosopher's Stone</td>\n",
       "      <td>Rowling, J.K.</td>\n",
       "      <td>4,200,654</td>\n",
       "      <td>Bloomsbury</td>\n",
       "      <td>Children's Fiction</td>\n",
       "    </tr>\n",
       "    <tr>\n",
       "      <th>3</th>\n",
       "      <td>Harry Potter and the Order of the Phoenix</td>\n",
       "      <td>Rowling, J.K.</td>\n",
       "      <td>4,179,479</td>\n",
       "      <td>Bloomsbury</td>\n",
       "      <td>Children's Fiction</td>\n",
       "    </tr>\n",
       "    <tr>\n",
       "      <th>4</th>\n",
       "      <td>Fifty Shades of Grey</td>\n",
       "      <td>James, E. L.</td>\n",
       "      <td>3,758,936</td>\n",
       "      <td>Random House</td>\n",
       "      <td>Romance &amp; Sagas</td>\n",
       "    </tr>\n",
       "  </tbody>\n",
       "</table>\n",
       "</div>"
      ],
      "text/plain": [
       "                                   Book Name    Author Name Volumes Sold  \\\n",
       "0                          Da Vinci Code,The     Brown, Dan    5,094,805   \n",
       "1       Harry Potter and the Deathly Hallows  Rowling, J.K.    4,475,152   \n",
       "2   Harry Potter and the Philosopher's Stone  Rowling, J.K.    4,200,654   \n",
       "3  Harry Potter and the Order of the Phoenix  Rowling, J.K.    4,179,479   \n",
       "4                       Fifty Shades of Grey   James, E. L.    3,758,936   \n",
       "\n",
       "      Publisher                        Genre  \n",
       "0    Transworld  Crime, Thriller & Adventure  \n",
       "1    Bloomsbury           Children's Fiction  \n",
       "2    Bloomsbury           Children's Fiction  \n",
       "3    Bloomsbury           Children's Fiction  \n",
       "4  Random House              Romance & Sagas  "
      ]
     },
     "execution_count": 401,
     "metadata": {},
     "output_type": "execute_result"
    }
   ],
   "source": [
    "# Creating DataFrame\n",
    "\n",
    "best_selling_books=pd.DataFrame({})\n",
    "\n",
    "best_selling_books['Book Name']=book\n",
    "best_selling_books['Author Name']=author\n",
    "best_selling_books['Volumes Sold']=volumes_sold\n",
    "best_selling_books['Publisher']=publisher\n",
    "best_selling_books['Genre']=genre\n",
    "\n",
    "best_selling_books.head()"
   ]
  },
  {
   "cell_type": "markdown",
   "id": "be233f84",
   "metadata": {},
   "source": [
    "Q9 : Scrape the details most watched tv series of all time from imdb.com."
   ]
  },
  {
   "cell_type": "code",
   "execution_count": 403,
   "id": "47a0c890",
   "metadata": {},
   "outputs": [],
   "source": [
    "imdb='https://www.imdb.com/list/ls095964455/'\n",
    "driver.get(imdb)"
   ]
  },
  {
   "cell_type": "code",
   "execution_count": 404,
   "id": "336620e9",
   "metadata": {},
   "outputs": [],
   "source": [
    "# Creating Empty lists\n",
    "name=[]\n",
    "year=[]\n",
    "genre=[]\n",
    "run_time=[]\n",
    "rating=[]\n",
    "vote=[]"
   ]
  },
  {
   "cell_type": "code",
   "execution_count": 405,
   "id": "c48c83d0",
   "metadata": {},
   "outputs": [
    {
     "data": {
      "text/plain": [
       "['Game of Thrones',\n",
       " 'Stranger Things',\n",
       " 'The Walking Dead',\n",
       " '13 Reasons Why',\n",
       " 'The 100',\n",
       " 'Orange Is the New Black',\n",
       " 'Riverdale',\n",
       " \"Grey's Anatomy\",\n",
       " 'The Flash',\n",
       " 'Arrow',\n",
       " 'Money Heist',\n",
       " 'The Big Bang Theory',\n",
       " 'Black Mirror',\n",
       " 'Sherlock',\n",
       " 'Vikings',\n",
       " 'Pretty Little Liars',\n",
       " 'The Vampire Diaries',\n",
       " 'American Horror Story',\n",
       " 'Breaking Bad',\n",
       " 'Lucifer',\n",
       " 'Supernatural',\n",
       " 'Prison Break',\n",
       " 'How to Get Away with Murder',\n",
       " 'Teen Wolf',\n",
       " 'The Simpsons',\n",
       " 'Once Upon a Time',\n",
       " 'Narcos',\n",
       " 'Daredevil',\n",
       " 'Friends',\n",
       " 'How I Met Your Mother',\n",
       " 'Suits',\n",
       " 'Mr. Robot',\n",
       " 'The Originals',\n",
       " 'Supergirl',\n",
       " 'Gossip Girl',\n",
       " 'Sense8',\n",
       " 'Gotham',\n",
       " 'Westworld',\n",
       " 'Jessica Jones',\n",
       " 'Modern Family',\n",
       " 'Rick and Morty',\n",
       " 'Shadowhunters',\n",
       " 'The End of the F***ing World',\n",
       " 'House of Cards',\n",
       " 'Dark',\n",
       " 'Elite',\n",
       " 'Sex Education',\n",
       " 'Shameless',\n",
       " 'New Girl',\n",
       " 'Agents of S.H.I.E.L.D.',\n",
       " 'You',\n",
       " 'Dexter',\n",
       " 'Fear the Walking Dead',\n",
       " 'Family Guy',\n",
       " 'The Blacklist',\n",
       " 'Lost',\n",
       " 'Peaky Blinders',\n",
       " 'House',\n",
       " 'Quantico',\n",
       " 'Orphan Black',\n",
       " 'Homeland',\n",
       " 'Blindspot',\n",
       " \"DC's Legends of Tomorrow\",\n",
       " \"The Handmaid's Tale\",\n",
       " 'Chilling Adventures of Sabrina',\n",
       " 'The Good Doctor',\n",
       " 'Jane the Virgin',\n",
       " 'Glee',\n",
       " 'South Park',\n",
       " 'Brooklyn Nine-Nine',\n",
       " 'Under the Dome',\n",
       " 'The Umbrella Academy',\n",
       " 'True Detective',\n",
       " 'The OA',\n",
       " 'Desperate Housewives',\n",
       " 'Better Call Saul',\n",
       " 'Bates Motel',\n",
       " 'The Punisher',\n",
       " 'Atypical',\n",
       " 'Dynasty',\n",
       " 'This Is Us',\n",
       " 'The Good Place',\n",
       " 'Iron Fist',\n",
       " 'The Rain',\n",
       " 'Mindhunter',\n",
       " 'Revenge',\n",
       " 'Luke Cage',\n",
       " 'Scandal',\n",
       " 'The Defenders',\n",
       " 'Big Little Lies',\n",
       " 'Insatiable',\n",
       " 'The Mentalist',\n",
       " 'The Crown',\n",
       " 'Chernobyl',\n",
       " 'iZombie',\n",
       " 'Reign',\n",
       " 'A Series of Unfortunate Events',\n",
       " 'Criminal Minds',\n",
       " 'Scream: The TV Series',\n",
       " 'The Haunting of Hill House']"
      ]
     },
     "execution_count": 405,
     "metadata": {},
     "output_type": "execute_result"
    }
   ],
   "source": [
    "# Extracting tags\n",
    "name_tag=driver.find_elements_by_xpath('//h3[@class=\"lister-item-header\"]/a')\n",
    "\n",
    "# Extracting text from tags\n",
    "for i in name_tag:\n",
    "    n=i.text\n",
    "    name.append(n)\n",
    "    \n",
    "name"
   ]
  },
  {
   "cell_type": "code",
   "execution_count": 406,
   "id": "36ba5a46",
   "metadata": {},
   "outputs": [
    {
     "data": {
      "text/plain": [
       "100"
      ]
     },
     "execution_count": 406,
     "metadata": {},
     "output_type": "execute_result"
    }
   ],
   "source": [
    "len(name)"
   ]
  },
  {
   "cell_type": "code",
   "execution_count": 407,
   "id": "89050a46",
   "metadata": {},
   "outputs": [
    {
     "data": {
      "text/plain": [
       "['(2011–2019)',\n",
       " '(2016– )',\n",
       " '(2010–2022)',\n",
       " '(2017–2020)',\n",
       " '(2014–2020)',\n",
       " '(2013–2019)',\n",
       " '(2017–2023)',\n",
       " '(2005– )',\n",
       " '(2014– )',\n",
       " '(2012–2020)',\n",
       " '(2017–2021)',\n",
       " '(2007–2019)',\n",
       " '(2011–2019)',\n",
       " '(2010–2017)',\n",
       " '(2013–2020)',\n",
       " '(2010–2017)',\n",
       " '(2009–2017)',\n",
       " '(2011– )',\n",
       " '(2008–2013)',\n",
       " '(2016–2021)',\n",
       " '(2005–2020)',\n",
       " '(2005–2017)',\n",
       " '(2014–2020)',\n",
       " '(2011–2017)',\n",
       " '(1989– )',\n",
       " '(2011–2018)',\n",
       " '(2015–2017)',\n",
       " '(2015–2018)',\n",
       " '(1994–2004)',\n",
       " '(2005–2014)',\n",
       " '(2011–2019)',\n",
       " '(2015–2019)',\n",
       " '(2013–2018)',\n",
       " '(2015–2021)',\n",
       " '(2007–2012)',\n",
       " '(2015–2018)',\n",
       " '(2014–2019)',\n",
       " '(2016– )',\n",
       " '(2015–2019)',\n",
       " '(2009–2020)',\n",
       " '(2013– )',\n",
       " '(2016–2019)',\n",
       " '(2017–2019)',\n",
       " '(2013–2018)',\n",
       " '(2017–2020)',\n",
       " '(2018– )',\n",
       " '(2019– )',\n",
       " '(2011–2021)',\n",
       " '(2011–2018)',\n",
       " '(2013–2020)',\n",
       " '(2018– )',\n",
       " '(2006–2013)',\n",
       " '(2015– )',\n",
       " '(1999– )',\n",
       " '(2013– )',\n",
       " '(2004–2010)',\n",
       " '(2013–2022)',\n",
       " '(2004–2012)',\n",
       " '(2015–2018)',\n",
       " '(2013–2017)',\n",
       " '(2011–2020)',\n",
       " '(2015–2020)',\n",
       " '(2016–2022)',\n",
       " '(2017– )',\n",
       " '(2018–2020)',\n",
       " '(2017– )',\n",
       " '(2014–2019)',\n",
       " '(2009–2015)',\n",
       " '(1997– )',\n",
       " '(2013–2021)',\n",
       " '(2013–2015)',\n",
       " '(2019– )',\n",
       " '(2014–2019)',\n",
       " '(2016–2019)',\n",
       " '(2004–2012)',\n",
       " '(2015–2022)',\n",
       " '(2013–2017)',\n",
       " '(2017–2019)',\n",
       " '(2017–2021)',\n",
       " '(2017–2022)',\n",
       " '(2016–2022)',\n",
       " '(2016–2020)',\n",
       " '(2017–2018)',\n",
       " '(2018–2020)',\n",
       " '(2017–2019)',\n",
       " '(2011–2015)',\n",
       " '(2016–2018)',\n",
       " '(2012–2018)',\n",
       " '(2017)',\n",
       " '(2017–2019)',\n",
       " '(2018–2019)',\n",
       " '(2008–2015)',\n",
       " '(2016– )',\n",
       " '(2019)',\n",
       " '(2015–2019)',\n",
       " '(2013–2017)',\n",
       " '(2017–2019)',\n",
       " '(2005–2020)',\n",
       " '(2015–2019)',\n",
       " '(2018)']"
      ]
     },
     "execution_count": 407,
     "metadata": {},
     "output_type": "execute_result"
    }
   ],
   "source": [
    "# Extracting tags\n",
    "year_tag=driver.find_elements_by_xpath('//h3[@class=\"lister-item-header\"]/span[2]')\n",
    "\n",
    "# Extracting text from tags\n",
    "for i in year_tag:\n",
    "    n=i.text\n",
    "    year.append(n)\n",
    "    \n",
    "year"
   ]
  },
  {
   "cell_type": "code",
   "execution_count": 408,
   "id": "90364699",
   "metadata": {},
   "outputs": [
    {
     "data": {
      "text/plain": [
       "100"
      ]
     },
     "execution_count": 408,
     "metadata": {},
     "output_type": "execute_result"
    }
   ],
   "source": [
    "len(year)"
   ]
  },
  {
   "cell_type": "code",
   "execution_count": 409,
   "id": "3d579e75",
   "metadata": {},
   "outputs": [
    {
     "data": {
      "text/plain": [
       "['Action, Adventure, Drama',\n",
       " 'Drama, Fantasy, Horror',\n",
       " 'Drama, Horror, Thriller',\n",
       " 'Drama, Mystery, Thriller',\n",
       " 'Drama, Mystery, Sci-Fi',\n",
       " 'Comedy, Crime, Drama',\n",
       " 'Crime, Drama, Mystery',\n",
       " 'Drama, Romance',\n",
       " 'Action, Adventure, Drama',\n",
       " 'Action, Adventure, Crime',\n",
       " 'Action, Crime, Drama',\n",
       " 'Comedy, Romance',\n",
       " 'Drama, Mystery, Sci-Fi',\n",
       " 'Crime, Drama, Mystery',\n",
       " 'Action, Adventure, Drama',\n",
       " 'Drama, Mystery, Romance',\n",
       " 'Drama, Fantasy, Horror',\n",
       " 'Drama, Horror, Sci-Fi',\n",
       " 'Crime, Drama, Thriller',\n",
       " 'Crime, Drama, Fantasy',\n",
       " 'Drama, Fantasy, Horror',\n",
       " 'Action, Crime, Drama',\n",
       " 'Crime, Drama, Mystery',\n",
       " 'Action, Drama, Fantasy',\n",
       " 'Animation, Comedy',\n",
       " 'Adventure, Fantasy, Romance',\n",
       " 'Biography, Crime, Drama',\n",
       " 'Action, Crime, Drama',\n",
       " 'Comedy, Romance',\n",
       " 'Comedy, Romance',\n",
       " 'Comedy, Drama',\n",
       " 'Crime, Drama, Thriller',\n",
       " 'Drama, Fantasy, Horror',\n",
       " 'Action, Adventure, Drama',\n",
       " 'Drama, Romance',\n",
       " 'Drama, Mystery, Sci-Fi',\n",
       " 'Action, Crime, Drama',\n",
       " 'Drama, Mystery, Sci-Fi',\n",
       " 'Action, Crime, Drama',\n",
       " 'Comedy, Drama, Romance',\n",
       " 'Animation, Adventure, Comedy',\n",
       " 'Action, Drama, Fantasy',\n",
       " 'Adventure, Comedy, Crime',\n",
       " 'Drama',\n",
       " 'Crime, Drama, Mystery',\n",
       " 'Crime, Drama, Thriller',\n",
       " 'Comedy, Drama',\n",
       " 'Comedy, Drama',\n",
       " 'Comedy, Romance',\n",
       " 'Action, Adventure, Drama',\n",
       " 'Crime, Drama, Romance',\n",
       " 'Crime, Drama, Mystery',\n",
       " 'Drama, Horror, Sci-Fi',\n",
       " 'Animation, Comedy',\n",
       " 'Crime, Drama, Mystery',\n",
       " 'Adventure, Drama, Fantasy',\n",
       " 'Crime, Drama',\n",
       " 'Drama, Mystery',\n",
       " 'Crime, Drama, Mystery',\n",
       " 'Drama, Sci-Fi, Thriller',\n",
       " 'Crime, Drama, Mystery',\n",
       " 'Action, Crime, Drama',\n",
       " 'Action, Adventure, Drama',\n",
       " 'Drama, Sci-Fi, Thriller',\n",
       " 'Drama, Fantasy, Horror',\n",
       " 'Drama',\n",
       " 'Comedy',\n",
       " 'Comedy, Drama, Music',\n",
       " 'Animation, Comedy',\n",
       " 'Comedy, Crime',\n",
       " 'Drama, Mystery, Sci-Fi',\n",
       " 'Action, Adventure, Comedy',\n",
       " 'Crime, Drama, Mystery',\n",
       " 'Drama, Fantasy, Mystery',\n",
       " 'Comedy, Drama, Mystery',\n",
       " 'Crime, Drama',\n",
       " 'Drama, Horror, Mystery',\n",
       " 'Action, Crime, Drama',\n",
       " 'Comedy, Drama',\n",
       " 'Drama',\n",
       " 'Comedy, Drama, Romance',\n",
       " 'Comedy, Drama, Fantasy',\n",
       " 'Action, Adventure, Crime',\n",
       " 'Drama, Sci-Fi, Thriller',\n",
       " 'Crime, Drama, Mystery',\n",
       " 'Drama, Mystery, Thriller',\n",
       " 'Action, Crime, Drama',\n",
       " 'Drama, Thriller',\n",
       " 'Action, Adventure, Crime',\n",
       " 'Crime, Drama, Mystery',\n",
       " 'Comedy, Drama, Thriller',\n",
       " 'Crime, Drama, Mystery',\n",
       " 'Biography, Drama, History',\n",
       " 'Drama, History, Thriller',\n",
       " 'Comedy, Crime, Drama',\n",
       " 'Drama, Fantasy',\n",
       " 'Adventure, Comedy, Drama',\n",
       " 'Crime, Drama, Mystery',\n",
       " 'Comedy, Crime, Drama',\n",
       " 'Drama, Horror, Mystery']"
      ]
     },
     "execution_count": 409,
     "metadata": {},
     "output_type": "execute_result"
    }
   ],
   "source": [
    "# Extracting tags\n",
    "genre_tag=driver.find_elements_by_xpath('//span[@class=\"genre\"]')\n",
    "\n",
    "# Extracting text from tags\n",
    "for i in genre_tag:\n",
    "    n=i.text\n",
    "    genre.append(n)\n",
    "    \n",
    "genre"
   ]
  },
  {
   "cell_type": "code",
   "execution_count": 410,
   "id": "321aacbb",
   "metadata": {},
   "outputs": [
    {
     "data": {
      "text/plain": [
       "100"
      ]
     },
     "execution_count": 410,
     "metadata": {},
     "output_type": "execute_result"
    }
   ],
   "source": [
    "len(genre)"
   ]
  },
  {
   "cell_type": "code",
   "execution_count": 411,
   "id": "be246356",
   "metadata": {},
   "outputs": [
    {
     "data": {
      "text/plain": [
       "['57 min',\n",
       " '51 min',\n",
       " '44 min',\n",
       " '60 min',\n",
       " '43 min',\n",
       " '59 min',\n",
       " '45 min',\n",
       " '41 min',\n",
       " '43 min',\n",
       " '42 min',\n",
       " '70 min',\n",
       " '22 min',\n",
       " '60 min',\n",
       " '88 min',\n",
       " '44 min',\n",
       " '44 min',\n",
       " '43 min',\n",
       " '60 min',\n",
       " '49 min',\n",
       " '42 min',\n",
       " '44 min',\n",
       " '44 min',\n",
       " '43 min',\n",
       " '41 min',\n",
       " '22 min',\n",
       " '60 min',\n",
       " '49 min',\n",
       " '54 min',\n",
       " '22 min',\n",
       " '22 min',\n",
       " '44 min',\n",
       " '49 min',\n",
       " '45 min',\n",
       " '43 min',\n",
       " '42 min',\n",
       " '60 min',\n",
       " '42 min',\n",
       " '62 min',\n",
       " '56 min',\n",
       " '22 min',\n",
       " '23 min',\n",
       " '42 min',\n",
       " '25 min',\n",
       " '51 min',\n",
       " '60 min',\n",
       " '60 min',\n",
       " '45 min',\n",
       " '46 min',\n",
       " '22 min',\n",
       " '45 min',\n",
       " '45 min',\n",
       " '53 min',\n",
       " '44 min',\n",
       " '22 min',\n",
       " '43 min',\n",
       " '44 min',\n",
       " '60 min',\n",
       " '44 min',\n",
       " '42 min',\n",
       " '44 min',\n",
       " '55 min',\n",
       " '42 min',\n",
       " '42 min',\n",
       " '60 min',\n",
       " '60 min',\n",
       " '41 min',\n",
       " '60 min',\n",
       " '44 min',\n",
       " '22 min',\n",
       " '22 min',\n",
       " '43 min',\n",
       " '60 min',\n",
       " '55 min',\n",
       " '60 min',\n",
       " '45 min',\n",
       " '46 min',\n",
       " '45 min',\n",
       " '53 min',\n",
       " '30 min',\n",
       " '42 min',\n",
       " '45 min',\n",
       " '22 min',\n",
       " '55 min',\n",
       " '45 min',\n",
       " '60 min',\n",
       " '44 min',\n",
       " '55 min',\n",
       " '43 min',\n",
       " '50 min',\n",
       " '60 min',\n",
       " '45 min',\n",
       " '43 min',\n",
       " '58 min',\n",
       " '330 min',\n",
       " '42 min',\n",
       " '42 min',\n",
       " '50 min',\n",
       " '42 min',\n",
       " '45 min',\n",
       " '572 min']"
      ]
     },
     "execution_count": 411,
     "metadata": {},
     "output_type": "execute_result"
    }
   ],
   "source": [
    "# Extracting tags\n",
    "run_time_tag=driver.find_elements_by_xpath('//span[@class=\"runtime\"]')\n",
    "\n",
    "# Extracting text from tags\n",
    "for i in run_time_tag:\n",
    "    n=i.text\n",
    "    run_time.append(n)\n",
    "    \n",
    "run_time"
   ]
  },
  {
   "cell_type": "code",
   "execution_count": 412,
   "id": "788fb55c",
   "metadata": {},
   "outputs": [
    {
     "data": {
      "text/plain": [
       "100"
      ]
     },
     "execution_count": 412,
     "metadata": {},
     "output_type": "execute_result"
    }
   ],
   "source": [
    "len(run_time)"
   ]
  },
  {
   "cell_type": "code",
   "execution_count": 413,
   "id": "ac7ac4ee",
   "metadata": {},
   "outputs": [
    {
     "data": {
      "text/plain": [
       "['9.2',\n",
       " '8.7',\n",
       " '8.2',\n",
       " '7.5',\n",
       " '7.6',\n",
       " '8.1',\n",
       " '6.7',\n",
       " '7.6',\n",
       " '7.6',\n",
       " '7.5',\n",
       " '8.2',\n",
       " '8.2',\n",
       " '8.8',\n",
       " '9.1',\n",
       " '8.5',\n",
       " '7.4',\n",
       " '7.7',\n",
       " '8',\n",
       " '9.5',\n",
       " '8.1',\n",
       " '8.5',\n",
       " '8.3',\n",
       " '8.1',\n",
       " '7.7',\n",
       " '8.7',\n",
       " '7.7',\n",
       " '8.8',\n",
       " '8.6',\n",
       " '8.9',\n",
       " '8.3',\n",
       " '8.5',\n",
       " '8.6',\n",
       " '8.3',\n",
       " '6.2',\n",
       " '7.4',\n",
       " '8.2',\n",
       " '7.8',\n",
       " '8.6',\n",
       " '7.9',\n",
       " '8.5',\n",
       " '9.2',\n",
       " '6.4',\n",
       " '8.1',\n",
       " '8.7',\n",
       " '8.7',\n",
       " '7.4',\n",
       " '8.4',\n",
       " '8.6',\n",
       " '7.7',\n",
       " '7.5',\n",
       " '7.7',\n",
       " '8.7',\n",
       " '6.8',\n",
       " '8.2',\n",
       " '8',\n",
       " '8.4',\n",
       " '8.8',\n",
       " '8.7',\n",
       " '6.6',\n",
       " '8.3',\n",
       " '8.3',\n",
       " '7.3',\n",
       " '6.7',\n",
       " '8.4',\n",
       " '7.4',\n",
       " '8.1',\n",
       " '7.9',\n",
       " '6.8',\n",
       " '8.7',\n",
       " '8.4',\n",
       " '6.5',\n",
       " '8',\n",
       " '8.9',\n",
       " '7.8',\n",
       " '7.6',\n",
       " '8.8',\n",
       " '8.2',\n",
       " '8.5',\n",
       " '8.3',\n",
       " '7.2',\n",
       " '8.7',\n",
       " '8.2',\n",
       " '6.4',\n",
       " '6.3',\n",
       " '8.6',\n",
       " '7.8',\n",
       " '7.3',\n",
       " '7.7',\n",
       " '7.2',\n",
       " '8.5',\n",
       " '6.5',\n",
       " '8.1',\n",
       " '8.7',\n",
       " '9.4',\n",
       " '7.8',\n",
       " '7.4',\n",
       " '7.8',\n",
       " '8.1',\n",
       " '7.1',\n",
       " '8.6']"
      ]
     },
     "execution_count": 413,
     "metadata": {},
     "output_type": "execute_result"
    }
   ],
   "source": [
    "# Extracting tags\n",
    "rating_tag=driver.find_elements_by_xpath('//div[@class=\"ipl-rating-star small\"]/span[2]')\n",
    "\n",
    "# Extracting text from tags\n",
    "for i in rating_tag:\n",
    "    n=i.text\n",
    "    rating.append(n)\n",
    "    \n",
    "rating"
   ]
  },
  {
   "cell_type": "code",
   "execution_count": 414,
   "id": "d18713f1",
   "metadata": {},
   "outputs": [
    {
     "data": {
      "text/plain": [
       "100"
      ]
     },
     "execution_count": 414,
     "metadata": {},
     "output_type": "execute_result"
    }
   ],
   "source": [
    "len(rating)"
   ]
  },
  {
   "cell_type": "code",
   "execution_count": 426,
   "id": "304e5354",
   "metadata": {
    "scrolled": true
   },
   "outputs": [
    {
     "data": {
      "text/plain": [
       "['1,996,482',\n",
       " '1,040,283',\n",
       " '950,178',\n",
       " '283,950',\n",
       " '243,757',\n",
       " '296,700',\n",
       " '139,927',\n",
       " '296,209',\n",
       " '338,652',\n",
       " '426,642',\n",
       " '458,227',\n",
       " '785,772',\n",
       " '520,802',\n",
       " '896,824',\n",
       " '511,942',\n",
       " '163,829',\n",
       " '312,344',\n",
       " '308,121',\n",
       " '1,749,093',\n",
       " '310,153',\n",
       " '430,945',\n",
       " '519,541',\n",
       " '147,581',\n",
       " '143,635',\n",
       " '396,808',\n",
       " '221,091',\n",
       " '407,270',\n",
       " '422,663',\n",
       " '956,554',\n",
       " '665,376',\n",
       " '397,964',\n",
       " '375,889',\n",
       " '132,382',\n",
       " '122,377',\n",
       " '170,474',\n",
       " '152,162',\n",
       " '226,924',\n",
       " '478,687',\n",
       " '209,994',\n",
       " '412,489',\n",
       " '479,319',\n",
       " '61,538',\n",
       " '179,813',\n",
       " '495,791',\n",
       " '358,401',\n",
       " '74,188',\n",
       " '263,248',\n",
       " '231,603',\n",
       " '217,536',\n",
       " '214,353',\n",
       " '227,715',\n",
       " '713,664',\n",
       " '127,702',\n",
       " '329,168',\n",
       " '240,741',\n",
       " '538,691',\n",
       " '495,580',\n",
       " '450,507',\n",
       " '60,451',\n",
       " '109,208',\n",
       " '336,100',\n",
       " '72,699',\n",
       " '103,178',\n",
       " '218,143',\n",
       " '91,074',\n",
       " '90,016',\n",
       " '48,291',\n",
       " '146,182',\n",
       " '361,258',\n",
       " '296,830',\n",
       " '105,667',\n",
       " '206,910',\n",
       " '550,016',\n",
       " '102,518',\n",
       " '126,470',\n",
       " '421,314',\n",
       " '105,811',\n",
       " '222,562',\n",
       " '84,252',\n",
       " '21,395',\n",
       " '137,391',\n",
       " '150,638',\n",
       " '127,796',\n",
       " '36,109',\n",
       " '271,669',\n",
       " '119,069',\n",
       " '128,204',\n",
       " '72,744',\n",
       " '104,264',\n",
       " '190,542',\n",
       " '27,630',\n",
       " '180,750',\n",
       " '192,422',\n",
       " '704,128',\n",
       " '66,818',\n",
       " '48,897',\n",
       " '59,598',\n",
       " '190,650',\n",
       " '40,329',\n",
       " '229,052']"
      ]
     },
     "execution_count": 426,
     "metadata": {},
     "output_type": "execute_result"
    }
   ],
   "source": [
    "# Extracting tags\n",
    "vote_tag=driver.find_elements_by_xpath('//div[@class=\"lister-item-content\"]/p[4]/span[2]')\n",
    "\n",
    "# Extracting text from tags\n",
    "for i in vote_tag:\n",
    "    n=i.text\n",
    "    vote.append(n)\n",
    "    \n",
    "vote"
   ]
  },
  {
   "cell_type": "code",
   "execution_count": 427,
   "id": "ed133e6d",
   "metadata": {},
   "outputs": [
    {
     "data": {
      "text/plain": [
       "100"
      ]
     },
     "execution_count": 427,
     "metadata": {},
     "output_type": "execute_result"
    }
   ],
   "source": [
    "len(vote)"
   ]
  },
  {
   "cell_type": "code",
   "execution_count": 430,
   "id": "c0b9a0a4",
   "metadata": {},
   "outputs": [
    {
     "data": {
      "text/html": [
       "<div>\n",
       "<style scoped>\n",
       "    .dataframe tbody tr th:only-of-type {\n",
       "        vertical-align: middle;\n",
       "    }\n",
       "\n",
       "    .dataframe tbody tr th {\n",
       "        vertical-align: top;\n",
       "    }\n",
       "\n",
       "    .dataframe thead th {\n",
       "        text-align: right;\n",
       "    }\n",
       "</style>\n",
       "<table border=\"1\" class=\"dataframe\">\n",
       "  <thead>\n",
       "    <tr style=\"text-align: right;\">\n",
       "      <th></th>\n",
       "      <th>Show Name</th>\n",
       "      <th>Year Span</th>\n",
       "      <th>Genre</th>\n",
       "      <th>Run Time</th>\n",
       "      <th>Ratings</th>\n",
       "      <th>Votes</th>\n",
       "    </tr>\n",
       "  </thead>\n",
       "  <tbody>\n",
       "    <tr>\n",
       "      <th>0</th>\n",
       "      <td>Game of Thrones</td>\n",
       "      <td>(2011–2019)</td>\n",
       "      <td>Action, Adventure, Drama</td>\n",
       "      <td>57 min</td>\n",
       "      <td>9.2</td>\n",
       "      <td>1,996,482</td>\n",
       "    </tr>\n",
       "    <tr>\n",
       "      <th>1</th>\n",
       "      <td>Stranger Things</td>\n",
       "      <td>(2016– )</td>\n",
       "      <td>Drama, Fantasy, Horror</td>\n",
       "      <td>51 min</td>\n",
       "      <td>8.7</td>\n",
       "      <td>1,040,283</td>\n",
       "    </tr>\n",
       "    <tr>\n",
       "      <th>2</th>\n",
       "      <td>The Walking Dead</td>\n",
       "      <td>(2010–2022)</td>\n",
       "      <td>Drama, Horror, Thriller</td>\n",
       "      <td>44 min</td>\n",
       "      <td>8.2</td>\n",
       "      <td>950,178</td>\n",
       "    </tr>\n",
       "    <tr>\n",
       "      <th>3</th>\n",
       "      <td>13 Reasons Why</td>\n",
       "      <td>(2017–2020)</td>\n",
       "      <td>Drama, Mystery, Thriller</td>\n",
       "      <td>60 min</td>\n",
       "      <td>7.5</td>\n",
       "      <td>283,950</td>\n",
       "    </tr>\n",
       "    <tr>\n",
       "      <th>4</th>\n",
       "      <td>The 100</td>\n",
       "      <td>(2014–2020)</td>\n",
       "      <td>Drama, Mystery, Sci-Fi</td>\n",
       "      <td>43 min</td>\n",
       "      <td>7.6</td>\n",
       "      <td>243,757</td>\n",
       "    </tr>\n",
       "  </tbody>\n",
       "</table>\n",
       "</div>"
      ],
      "text/plain": [
       "          Show Name    Year Span                     Genre Run Time Ratings  \\\n",
       "0   Game of Thrones  (2011–2019)  Action, Adventure, Drama   57 min     9.2   \n",
       "1   Stranger Things     (2016– )    Drama, Fantasy, Horror   51 min     8.7   \n",
       "2  The Walking Dead  (2010–2022)   Drama, Horror, Thriller   44 min     8.2   \n",
       "3    13 Reasons Why  (2017–2020)  Drama, Mystery, Thriller   60 min     7.5   \n",
       "4           The 100  (2014–2020)    Drama, Mystery, Sci-Fi   43 min     7.6   \n",
       "\n",
       "       Votes  \n",
       "0  1,996,482  \n",
       "1  1,040,283  \n",
       "2    950,178  \n",
       "3    283,950  \n",
       "4    243,757  "
      ]
     },
     "execution_count": 430,
     "metadata": {},
     "output_type": "execute_result"
    }
   ],
   "source": [
    "# Creating DataFrame\n",
    "\n",
    "top_100_tv_shows=pd.DataFrame({})\n",
    "\n",
    "top_100_tv_shows['Show Name']=name\n",
    "top_100_tv_shows['Year Span']=year\n",
    "top_100_tv_shows['Genre']=genre\n",
    "top_100_tv_shows['Run Time']=run_time\n",
    "top_100_tv_shows['Ratings']=rating\n",
    "top_100_tv_shows['Votes']=vote\n",
    "\n",
    "top_100_tv_shows.head()"
   ]
  },
  {
   "cell_type": "markdown",
   "id": "d36ceaad",
   "metadata": {},
   "source": [
    "Q10 : Details of Datasets from UCI machine learning repositories."
   ]
  },
  {
   "cell_type": "code",
   "execution_count": 450,
   "id": "d19bab18",
   "metadata": {},
   "outputs": [],
   "source": [
    "uci='https://archive.ics.uci.edu/ml/index.php'\n",
    "driver.get(uci)"
   ]
  },
  {
   "cell_type": "code",
   "execution_count": 451,
   "id": "ebae3a62",
   "metadata": {},
   "outputs": [],
   "source": [
    "# Clicking on view all datasets\n",
    "driver.find_element_by_xpath('/html/body/table[1]/tbody/tr/td[2]/span[2]').click()"
   ]
  },
  {
   "cell_type": "code",
   "execution_count": 452,
   "id": "1bb46c4b",
   "metadata": {},
   "outputs": [],
   "source": [
    "# Creating Empty lists\n",
    "\n",
    "name=[]\n",
    "data_type=[]\n",
    "task=[]\n",
    "attribute_type=[]\n",
    "instances=[]\n",
    "attribute=[]\n",
    "Year=[]"
   ]
  },
  {
   "cell_type": "code",
   "execution_count": 453,
   "id": "37308476",
   "metadata": {},
   "outputs": [
    {
     "data": {
      "text/plain": [
       "['Abalone',\n",
       " 'Adult',\n",
       " 'Annealing',\n",
       " 'Anonymous Microsoft Web Data',\n",
       " 'Arrhythmia',\n",
       " 'Artificial Characters',\n",
       " 'Audiology (Original)',\n",
       " 'Audiology (Standardized)',\n",
       " 'Auto MPG',\n",
       " 'Automobile',\n",
       " 'Badges',\n",
       " 'Balance Scale',\n",
       " 'Balloons',\n",
       " 'Breast Cancer',\n",
       " 'Breast Cancer Wisconsin (Original)',\n",
       " 'Breast Cancer Wisconsin (Prognostic)',\n",
       " 'Breast Cancer Wisconsin (Diagnostic)',\n",
       " 'Pittsburgh Bridges',\n",
       " 'Car Evaluation',\n",
       " 'Census Income',\n",
       " 'Chess (King-Rook vs. King-Knight)',\n",
       " 'Chess (King-Rook vs. King-Pawn)',\n",
       " 'Chess (King-Rook vs. King)',\n",
       " 'Chess (Domain Theories)',\n",
       " 'Bach Chorales',\n",
       " 'Connect-4',\n",
       " 'Credit Approval',\n",
       " 'Japanese Credit Screening',\n",
       " 'Computer Hardware',\n",
       " 'Contraceptive Method Choice',\n",
       " 'Covertype',\n",
       " 'Cylinder Bands',\n",
       " 'Dermatology',\n",
       " 'Diabetes',\n",
       " 'DGP2 - The Second Data Generation Program',\n",
       " 'Document Understanding',\n",
       " 'EBL Domain Theories',\n",
       " 'Echocardiogram',\n",
       " 'Ecoli',\n",
       " 'Flags',\n",
       " 'Function Finding',\n",
       " 'Glass Identification',\n",
       " \"Haberman's Survival\",\n",
       " 'Hayes-Roth',\n",
       " 'Heart Disease',\n",
       " 'Hepatitis',\n",
       " 'Horse Colic',\n",
       " 'ICU',\n",
       " 'Image Segmentation',\n",
       " 'Internet Advertisements',\n",
       " 'Ionosphere',\n",
       " 'Iris',\n",
       " 'ISOLET',\n",
       " 'Kinship',\n",
       " 'Labor Relations',\n",
       " 'LED Display Domain',\n",
       " 'Lenses',\n",
       " 'Letter Recognition',\n",
       " 'Liver Disorders',\n",
       " 'Logic Theorist',\n",
       " 'Lung Cancer',\n",
       " 'Lymphography',\n",
       " 'Mechanical Analysis',\n",
       " 'Meta-data',\n",
       " 'Mobile Robots',\n",
       " 'Molecular Biology (Promoter Gene Sequences)',\n",
       " 'Molecular Biology (Protein Secondary Structure)',\n",
       " 'Molecular Biology (Splice-junction Gene Sequences)',\n",
       " \"MONK's Problems\",\n",
       " 'Moral Reasoner',\n",
       " 'Multiple Features',\n",
       " 'Mushroom',\n",
       " 'Musk (Version 1)',\n",
       " 'Musk (Version 2)',\n",
       " 'Nursery',\n",
       " 'Othello Domain Theory',\n",
       " 'Page Blocks Classification',\n",
       " 'Optical Recognition of Handwritten Digits',\n",
       " 'Pen-Based Recognition of Handwritten Digits',\n",
       " 'Post-Operative Patient',\n",
       " 'Primary Tumor',\n",
       " 'Prodigy',\n",
       " 'Qualitative Structure Activity Relationships',\n",
       " 'Quadruped Mammals',\n",
       " 'Servo',\n",
       " 'Shuttle Landing Control',\n",
       " 'Solar Flare',\n",
       " 'Soybean (Large)',\n",
       " 'Soybean (Small)',\n",
       " 'Challenger USA Space Shuttle O-Ring',\n",
       " 'Low Resolution Spectrometer',\n",
       " 'Spambase',\n",
       " 'SPECT Heart',\n",
       " 'SPECTF Heart',\n",
       " 'Sponge',\n",
       " 'Statlog Project',\n",
       " 'Student Loan Relational',\n",
       " 'Teaching Assistant Evaluation',\n",
       " 'Tic-Tac-Toe Endgame',\n",
       " 'Thyroid Disease',\n",
       " 'Trains',\n",
       " 'University',\n",
       " 'Congressional Voting Records',\n",
       " 'Water Treatment Plant',\n",
       " 'Waveform Database Generator (Version 1)',\n",
       " 'Waveform Database Generator (Version 2)',\n",
       " 'Wine',\n",
       " 'Yeast',\n",
       " 'Zoo',\n",
       " 'Undocumented',\n",
       " 'Twenty Newsgroups',\n",
       " 'Australian Sign Language signs',\n",
       " 'Australian Sign Language signs (High Quality)',\n",
       " 'US Census Data (1990)',\n",
       " 'Census-Income (KDD)',\n",
       " 'Coil 1999 Competition Data',\n",
       " 'Corel Image Features',\n",
       " 'E. Coli Genes',\n",
       " 'EEG Database',\n",
       " 'El Nino',\n",
       " 'Entree Chicago Recommendation Data',\n",
       " 'CMU Face Images',\n",
       " 'Insurance Company Benchmark (COIL 2000)',\n",
       " 'Internet Usage Data',\n",
       " 'IPUMS Census Database',\n",
       " 'Japanese Vowels',\n",
       " 'KDD Cup 1998 Data',\n",
       " 'KDD Cup 1999 Data',\n",
       " 'M. Tuberculosis Genes',\n",
       " 'Movie',\n",
       " 'MSNBC.com Anonymous Web Data',\n",
       " 'NSF Research Award Abstracts 1990-2003',\n",
       " 'Pioneer-1 Mobile Robot Data',\n",
       " 'Pseudo Periodic Synthetic Time Series',\n",
       " 'Reuters-21578 Text Categorization Collection',\n",
       " 'Robot Execution Failures',\n",
       " 'Synthetic Control Chart Time Series',\n",
       " 'Syskill and Webert Web Page Ratings',\n",
       " 'UNIX User Data',\n",
       " 'Volcanoes on Venus - JARtool experiment',\n",
       " 'Statlog (Australian Credit Approval)',\n",
       " 'Statlog (German Credit Data)',\n",
       " 'Statlog (Heart)',\n",
       " 'Statlog (Landsat Satellite)',\n",
       " 'Statlog (Image Segmentation)',\n",
       " 'Statlog (Shuttle)',\n",
       " 'Statlog (Vehicle Silhouettes)',\n",
       " 'Connectionist Bench (Nettalk Corpus)',\n",
       " 'Connectionist Bench (Sonar, Mines vs. Rocks)',\n",
       " 'Connectionist Bench (Vowel Recognition - Deterding Data)',\n",
       " 'Economic Sanctions',\n",
       " 'Protein Data',\n",
       " 'Cloud',\n",
       " 'CalIt2 Building People Counts',\n",
       " 'Dodgers Loop Sensor',\n",
       " 'Poker Hand',\n",
       " 'MAGIC Gamma Telescope',\n",
       " 'UJI Pen Characters',\n",
       " 'Mammographic Mass',\n",
       " 'Forest Fires',\n",
       " 'Reuters Transcribed Subset',\n",
       " 'Bag of Words',\n",
       " 'Concrete Compressive Strength',\n",
       " 'Hill-Valley',\n",
       " 'Arcene',\n",
       " 'Dexter',\n",
       " 'Dorothea',\n",
       " 'Gisette',\n",
       " 'Madelon',\n",
       " 'Ozone Level Detection',\n",
       " 'Abscisic Acid Signaling Network',\n",
       " 'Parkinsons',\n",
       " 'Character Trajectories',\n",
       " 'Blood Transfusion Service Center',\n",
       " 'UJI Pen Characters (Version 2)',\n",
       " 'Semeion Handwritten Digit',\n",
       " 'SECOM',\n",
       " 'Plants',\n",
       " 'Libras Movement',\n",
       " 'Concrete Slump Test',\n",
       " 'Communities and Crime',\n",
       " 'Acute Inflammations',\n",
       " 'Wine Quality',\n",
       " 'URL Reputation',\n",
       " 'p53 Mutants',\n",
       " 'Parkinsons Telemonitoring',\n",
       " 'Demospongiae',\n",
       " 'Opinosis Opinion ⁄ Review',\n",
       " 'Breast Tissue',\n",
       " 'Cardiotocography',\n",
       " 'Wall-Following Robot Navigation Data',\n",
       " 'Spoken Arabic Digit',\n",
       " 'Localization Data for Person Activity',\n",
       " 'AutoUniv',\n",
       " 'Steel Plates Faults',\n",
       " 'MiniBooNE particle identification',\n",
       " 'YearPredictionMSD',\n",
       " 'PEMS-SF',\n",
       " 'OpinRank Review Dataset',\n",
       " 'Relative location of CT slices on axial axis',\n",
       " 'Online Handwritten Assamese Characters Dataset',\n",
       " 'PubChem Bioassay Data',\n",
       " 'Record Linkage Comparison Patterns',\n",
       " 'Communities and Crime Unnormalized',\n",
       " 'Vertebral Column',\n",
       " 'EMG Physical Action Data Set',\n",
       " 'Vicon Physical Action Data Set',\n",
       " 'Amazon Commerce reviews set',\n",
       " 'Amazon Access Samples',\n",
       " 'Reuter_50_50',\n",
       " 'Farm Ads',\n",
       " 'DBWorld e-mails',\n",
       " 'KEGG Metabolic Relation Network (Directed)',\n",
       " 'KEGG Metabolic Reaction Network (Undirected)',\n",
       " 'Bank Marketing',\n",
       " 'YouTube Comedy Slam Preference Data',\n",
       " 'Gas Sensor Array Drift Dataset',\n",
       " 'ILPD (Indian Liver Patient Dataset)',\n",
       " 'OPPORTUNITY Activity Recognition',\n",
       " 'Nomao',\n",
       " 'SMS Spam Collection',\n",
       " 'Skin Segmentation',\n",
       " 'Planning Relax',\n",
       " 'PAMAP2 Physical Activity Monitoring',\n",
       " 'Restaurant & consumer data',\n",
       " 'CNAE-9',\n",
       " 'Individual household electric power consumption',\n",
       " 'seeds',\n",
       " 'Northix',\n",
       " 'QtyT40I10D100K',\n",
       " 'Legal Case Reports',\n",
       " 'Human Activity Recognition Using Smartphones',\n",
       " 'One-hundred plant species leaves data set',\n",
       " 'Energy efficiency',\n",
       " 'Yacht Hydrodynamics',\n",
       " 'Fertility',\n",
       " 'Daphnet Freezing of Gait',\n",
       " '3D Road Network (North Jutland, Denmark)',\n",
       " 'ISTANBUL STOCK EXCHANGE',\n",
       " 'Buzz in social media',\n",
       " 'First-order theorem proving',\n",
       " 'Wearable Computing: Classification of Body Postures and Movements (PUC-Rio)',\n",
       " 'Gas sensor arrays in open sampling settings',\n",
       " 'Climate Model Simulation Crashes',\n",
       " 'MicroMass',\n",
       " 'QSAR biodegradation',\n",
       " 'BLOGGER',\n",
       " 'Daily and Sports Activities',\n",
       " 'User Knowledge Modeling',\n",
       " 'Reuters RCV1 RCV2 Multilingual, Multiview Text Categorization Test collection',\n",
       " 'NYSK',\n",
       " 'Turkiye Student Evaluation',\n",
       " \"ser Knowledge Modeling Data (Students' Knowledge Levels on DC Electrical Machines)\",\n",
       " 'EEG Eye State',\n",
       " 'Physicochemical Properties of Protein Tertiary Structure',\n",
       " 'seismic-bumps',\n",
       " 'banknote authentication',\n",
       " 'USPTO Algorithm Challenge, run by NASA-Harvard Tournament Lab and TopCoder Problem: Pat',\n",
       " 'YouTube Multiview Video Games Dataset',\n",
       " 'Gas Sensor Array Drift Dataset at Different Concentrations',\n",
       " 'Activities of Daily Living (ADLs) Recognition Using Binary Sensors',\n",
       " 'SkillCraft1 Master Table Dataset',\n",
       " 'Weight Lifting Exercises monitored with Inertial Measurement Units',\n",
       " 'SML2010',\n",
       " 'Bike Sharing Dataset',\n",
       " 'Predict keywords activities in a online social media',\n",
       " 'Thoracic Surgery Data',\n",
       " 'EMG dataset in Lower Limb',\n",
       " 'SUSY',\n",
       " 'HIGGS',\n",
       " 'Qualitative_Bankruptcy',\n",
       " 'LSVT Voice Rehabilitation',\n",
       " 'Dataset for ADL Recognition with Wrist-worn Accelerometer',\n",
       " 'Wilt',\n",
       " 'User Identification From Walking Activity',\n",
       " 'Activity Recognition from Single Chest-Mounted Accelerometer',\n",
       " 'Leaf',\n",
       " 'Dresses_Attribute_Sales',\n",
       " 'Tamilnadu Electricity Board Hourly Readings',\n",
       " 'Airfoil Self-Noise',\n",
       " 'Wholesale customers',\n",
       " 'Twitter Data set for Arabic Sentiment Analysis',\n",
       " 'Combined Cycle Power Plant',\n",
       " 'Urban Land Cover',\n",
       " 'Diabetes 130-US hospitals for years 1999-2008',\n",
       " 'Bach Choral Harmony',\n",
       " 'StoneFlakes',\n",
       " 'Tennis Major Tournament Match Statistics',\n",
       " 'Parkinson Speech Dataset with Multiple Types of Sound Recordings',\n",
       " 'Gesture Phase Segmentation',\n",
       " 'Perfume Data',\n",
       " 'BlogFeedback',\n",
       " 'REALDISP Activity Recognition Dataset',\n",
       " 'Newspaper and magazine images segmentation dataset',\n",
       " 'AAAI 2014 Accepted Papers',\n",
       " 'Gas sensor array under flow modulation',\n",
       " 'Gas sensor array exposed to turbulent gas mixtures',\n",
       " 'UJIIndoorLoc',\n",
       " 'Sentence Classification',\n",
       " 'Dow Jones Index',\n",
       " 'sEMG for Basic Hand movements',\n",
       " 'AAAI 2013 Accepted Papers',\n",
       " 'Geographical Original of Music',\n",
       " 'Condition Based Maintenance of Naval Propulsion Plants',\n",
       " 'Grammatical Facial Expressions',\n",
       " 'NoisyOffice',\n",
       " 'MHEALTH Dataset',\n",
       " 'Student Performance',\n",
       " 'ElectricityLoadDiagrams20112014',\n",
       " 'Gas sensor array under dynamic gas mixtures',\n",
       " 'microblogPCU',\n",
       " 'Firm-Teacher_Clave-Direction_Classification',\n",
       " 'Dataset for Sensorless Drive Diagnosis',\n",
       " 'TV News Channel Commercial Detection Dataset',\n",
       " 'Phishing Websites',\n",
       " 'Greenhouse Gas Observing Network',\n",
       " 'Diabetic Retinopathy Debrecen Data Set',\n",
       " 'HIV-1 protease cleavage',\n",
       " 'Sentiment Labelled Sentences',\n",
       " 'Online News Popularity',\n",
       " 'Forest type mapping',\n",
       " 'wiki4HE',\n",
       " 'Online Video Characteristics and Transcoding Time Dataset',\n",
       " 'Chronic_Kidney_Disease',\n",
       " 'Machine Learning based ZZAlpha Ltd. Stock Recommendations 2012-2014',\n",
       " 'Folio',\n",
       " 'Taxi Service Trajectory - Prediction Challenge, ECML PKDD 2015',\n",
       " 'Cuff-Less Blood Pressure Estimation',\n",
       " 'Smartphone-Based Recognition of Human Activities and Postural Transitions',\n",
       " 'Mice Protein Expression',\n",
       " 'UJIIndoorLoc-Mag',\n",
       " 'Heterogeneity Activity Recognition',\n",
       " 'Educational Process Mining (EPM): A Learning Analytics Data Set',\n",
       " 'HEPMASS',\n",
       " 'Indoor User Movement Prediction from RSS data',\n",
       " 'Open University Learning Analytics dataset',\n",
       " 'default of credit card clients',\n",
       " 'Mesothelioma’s disease data set',\n",
       " 'Online Retail',\n",
       " 'SIFT10M',\n",
       " 'GPS Trajectories',\n",
       " 'Detect Malacious Executable(AntiVirus)',\n",
       " 'Occupancy Detection',\n",
       " 'Improved Spiral Test Using Digitized Graphics Tablet for Monitoring Parkinson’s Disease',\n",
       " 'News Aggregator',\n",
       " 'Air Quality',\n",
       " 'Twin gas sensor arrays',\n",
       " 'Gas sensors for home activity monitoring',\n",
       " 'Facebook Comment Volume Dataset',\n",
       " 'Smartphone Dataset for Human Activity Recognition (HAR) in Ambient Assisted Living (AAL)',\n",
       " 'Polish companies bankruptcy data',\n",
       " 'Activity Recognition system based on Multisensor data fusion (AReM)',\n",
       " 'Dota2 Games Results',\n",
       " 'Facebook metrics',\n",
       " 'UbiqLog (smartphone lifelogging)',\n",
       " 'NIPS Conference Papers 1987-2015',\n",
       " 'HTRU2',\n",
       " 'Drug consumption (quantified)',\n",
       " 'Appliances energy prediction',\n",
       " 'Miskolc IIS Hybrid IPS',\n",
       " 'KDC-4007 dataset Collection',\n",
       " 'Geo-Magnetic field and WLAN dataset for indoor localisation from wristband and smartphone',\n",
       " 'DrivFace',\n",
       " 'Website Phishing',\n",
       " 'YouTube Spam Collection',\n",
       " 'Beijing PM2.5 Data',\n",
       " 'Cargo 2000 Freight Tracking and Tracing',\n",
       " 'Cervical cancer (Risk Factors)',\n",
       " 'Quality Assessment of Digital Colposcopies',\n",
       " 'KASANDR',\n",
       " 'FMA: A Dataset For Music Analysis',\n",
       " 'Air quality',\n",
       " 'Epileptic Seizure Recognition',\n",
       " 'Devanagari Handwritten Character Dataset',\n",
       " 'Stock portfolio performance',\n",
       " 'MoCap Hand Postures',\n",
       " 'Early biomarkers of Parkinson�s disease based on natural connected speech',\n",
       " 'Data for Software Engineering Teamwork Assessment in Education Setting',\n",
       " 'PM2.5 Data of Five Chinese Cities',\n",
       " 'Parkinson Disease Spiral Drawings Using Digitized Graphics Tablet',\n",
       " 'Sales_Transactions_Dataset_Weekly',\n",
       " 'Las Vegas Strip',\n",
       " 'Eco-hotel',\n",
       " 'MEU-Mobile KSD',\n",
       " 'Crowdsourced Mapping',\n",
       " 'gene expression cancer RNA-Seq',\n",
       " 'Hybrid Indoor Positioning Dataset from WiFi RSSI, Bluetooth and magnetometer',\n",
       " 'chestnut – LARVIC',\n",
       " 'Burst Header Packet (BHP) flooding attack on Optical Burst Switching (OBS) Network',\n",
       " 'Motion Capture Hand Postures',\n",
       " 'Anuran Calls (MFCCs)',\n",
       " 'TTC-3600: Benchmark dataset for Turkish text categorization',\n",
       " 'Gastrointestinal Lesions in Regular Colonoscopy',\n",
       " 'Daily Demand Forecasting Orders',\n",
       " 'Paper Reviews',\n",
       " 'extention of Z-Alizadeh sani dataset',\n",
       " 'Z-Alizadeh Sani',\n",
       " 'Dynamic Features of VirusShare Executables',\n",
       " 'IDA2016Challenge',\n",
       " 'DSRC Vehicle Communications',\n",
       " 'Mturk User-Perceived Clusters over Images',\n",
       " 'Character Font Images',\n",
       " 'DeliciousMIL: A Data Set for Multi-Label Multi-Instance Learning with Instance Labels',\n",
       " 'Autistic Spectrum Disorder Screening Data for Children',\n",
       " 'Autistic Spectrum Disorder Screening Data for Adolescent',\n",
       " 'APS Failure at Scania Trucks',\n",
       " 'Wireless Indoor Localization',\n",
       " 'HCC Survival',\n",
       " 'CSM (Conventional and Social Media Movies) Dataset 2014 and 2015',\n",
       " 'University of Tehran Question Dataset 2016 (UTQD.2016)',\n",
       " 'Autism Screening Adult',\n",
       " 'Activity recognition with healthy older people using a batteryless wearable sensor',\n",
       " 'Immunotherapy Dataset',\n",
       " 'Cryotherapy Dataset',\n",
       " 'OCT data & Color Fundus Images of Left & Right Eyes',\n",
       " 'Discrete Tone Image Dataset',\n",
       " 'News Popularity in Multiple Social Media Platforms',\n",
       " 'Ultrasonic flowmeter diagnostics',\n",
       " 'ICMLA 2014 Accepted Papers Data Set',\n",
       " 'BLE RSSI Dataset for Indoor localization and Navigation',\n",
       " 'Container Crane Controller Data Set',\n",
       " 'Residential Building Data Set',\n",
       " 'Health News in Twitter',\n",
       " 'chipseq',\n",
       " 'SGEMM GPU kernel performance',\n",
       " 'Repeat Consumption Matrices',\n",
       " 'detection_of_IoT_botnet_attacks_N_BaIoT',\n",
       " 'Absenteeism at work',\n",
       " 'SCADI',\n",
       " 'Condition monitoring of hydraulic systems',\n",
       " 'Carbon Nanotubes',\n",
       " 'Optical Interconnection Network',\n",
       " 'Sports articles for objectivity analysis',\n",
       " 'Breast Cancer Coimbra',\n",
       " 'GNFUV Unmanned Surface Vehicles Sensor Data',\n",
       " 'Dishonest Internet users Dataset',\n",
       " 'Victorian Era Authorship Attribution',\n",
       " 'Simulated Falls and Daily Living Activities Data Set',\n",
       " 'Multimodal Damage Identification for Humanitarian Computing',\n",
       " 'EEG Steady-State Visual Evoked Potential Signals',\n",
       " 'Roman Urdu Data Set',\n",
       " 'Avila',\n",
       " 'PANDOR',\n",
       " 'Drug Review Dataset (Druglib.com)',\n",
       " 'Drug Review Dataset (Drugs.com)',\n",
       " 'Physical Unclonable Functions',\n",
       " 'Superconductivty Data',\n",
       " 'WESAD (Wearable Stress and Affect Detection)',\n",
       " 'GNFUV Unmanned Surface Vehicles Sensor Data Set 2',\n",
       " 'Student Academics Performance',\n",
       " 'Online Shoppers Purchasing Intention Dataset',\n",
       " 'PMU-UD',\n",
       " \"Parkinson's Disease Classification\",\n",
       " 'Electrical Grid Stability Simulated Data',\n",
       " 'Caesarian Section Classification Dataset',\n",
       " 'BAUM-1',\n",
       " 'BAUM-2',\n",
       " 'Audit Data',\n",
       " 'BuddyMove Data Set',\n",
       " 'Real estate valuation data set',\n",
       " 'Early biomarkers of Parkinson’s disease based on natural connected speech Data Set',\n",
       " 'Somerville Happiness Survey',\n",
       " '2.4 GHZ Indoor Channel Measurements',\n",
       " 'EMG data for gestures',\n",
       " 'Parking Birmingham',\n",
       " 'Behavior of the urban traffic of the city of Sao Paulo in Brazil',\n",
       " 'Travel Reviews',\n",
       " 'Tarvel Review Ratings',\n",
       " 'Rice Leaf Diseases',\n",
       " 'Gas sensor array temperature modulation',\n",
       " 'Facebook Live Sellers in Thailand',\n",
       " 'Parkinson Dataset with replicated acoustic features',\n",
       " 'Metro Interstate Traffic Volume',\n",
       " 'Query Analytics Workloads Dataset',\n",
       " 'Wave Energy Converters',\n",
       " 'PPG-DaLiA',\n",
       " 'Alcohol QCM Sensor Dataset',\n",
       " 'Divorce Predictors data set',\n",
       " 'Incident management process enriched event log',\n",
       " 'Opinion Corpus for Lebanese Arabic Reviews (OCLAR)',\n",
       " 'MEx',\n",
       " 'Beijing Multi-Site Air-Quality Data',\n",
       " 'Online Retail II',\n",
       " 'Hepatitis C Virus (HCV) for Egyptian patients',\n",
       " 'QSAR fish toxicity',\n",
       " 'QSAR aquatic toxicity',\n",
       " 'Human Activity Recognition from Continuous Ambient Sensor Data',\n",
       " 'WISDM Smartphone and Smartwatch Activity and Biometrics Dataset',\n",
       " 'QSAR oral toxicity',\n",
       " 'QSAR androgen receptor',\n",
       " 'QSAR Bioconcentration classes dataset',\n",
       " 'QSAR fish bioconcentration factor (BCF)',\n",
       " 'A study of Asian Religious and Biblical Texts',\n",
       " 'Real-time Election Results: Portugal 2019',\n",
       " 'Bias correction of numerical prediction model temperature forecast',\n",
       " 'Bar Crawl: Detecting Heavy Drinking',\n",
       " 'Kitsune Network Attack Dataset',\n",
       " 'Shoulder Implant X-Ray Manufacturer Classification',\n",
       " 'Speaker Accent Recognition',\n",
       " 'Heart failure clinical records',\n",
       " 'Deepfakes: Medical Image Tamper Detection',\n",
       " 'selfBACK',\n",
       " 'South German Credit',\n",
       " 'Exasens',\n",
       " 'Swarm Behaviour',\n",
       " 'Crop mapping using fused optical-radar data set',\n",
       " 'BitcoinHeistRansomwareAddressDataset',\n",
       " 'Facebook Large Page-Page Network',\n",
       " 'Amphibians',\n",
       " 'Early stage diabetes risk prediction dataset.',\n",
       " 'Turkish Spam V01',\n",
       " 'Stock keeping units',\n",
       " 'Demand Forecasting for a store',\n",
       " 'Detect Malware Types',\n",
       " 'Wave Energy Converters',\n",
       " 'Youtube cookery channels viewers comments in Hinglish',\n",
       " 'Pedestrian in Traffic Dataset',\n",
       " 'Cervical Cancer Behavior Risk',\n",
       " 'Sattriya_Dance_Single_Hand_Gestures Dataset',\n",
       " 'Divorce Predictors data set',\n",
       " '3W dataset',\n",
       " 'Malware static and dynamic features VxHeaven and Virus Total',\n",
       " 'Internet Firewall Data',\n",
       " 'User Profiling and Abusive Language Detection Dataset',\n",
       " 'Estimation of obesity levels based on eating habits and physical condition',\n",
       " 'Rice (Cammeo and Osmancik)',\n",
       " 'Vehicle routing and scheduling problems',\n",
       " 'Algerian Forest Fires Dataset',\n",
       " 'Breath Metabolomics',\n",
       " 'Horton General Hospital',\n",
       " 'UrbanGB, urban road accidents coordinates labelled by the urban center',\n",
       " 'Gas Turbine CO and NOx Emission Data Set',\n",
       " 'Activity recognition using wearable physiological measurements',\n",
       " 'clickstream data for online shopping',\n",
       " 'CNNpred: CNN-based stock market prediction using a diverse set of variables',\n",
       " 'Apartment for rent classified',\n",
       " ': Simulated Data set of Iraqi tourism places',\n",
       " 'Nasarian CAD Dataset',\n",
       " 'Monolithic Columns in Troad and Mysia Region',\n",
       " 'Bar Crawl: Detecting Heavy Drinking',\n",
       " 'Seoul Bike Sharing Demand',\n",
       " 'Person Classification Gait Data',\n",
       " 'Shill Bidding Dataset',\n",
       " 'Iranian Churn Dataset',\n",
       " 'Unmanned Aerial Vehicle (UAV) Intrusion Detection',\n",
       " 'Bone marrow transplant: children',\n",
       " 'Exasens',\n",
       " 'COVID-19 Surveillance',\n",
       " 'Refractive errors',\n",
       " 'Shoulder Implant X-Ray Manufacturer Classification',\n",
       " 'CLINC150',\n",
       " 'HCV data',\n",
       " 'Taiwanese Bankruptcy Prediction',\n",
       " 'South German Credit (UPDATE)',\n",
       " 'IIWA14-R820-Gazebo-Dataset-10Trajectories',\n",
       " 'Guitar Chords finger positions',\n",
       " 'Russian Corpus of Biographical Texts',\n",
       " 'Codon usage',\n",
       " 'Intelligent Media Accelerometer and Gyroscope (IM-AccGyro) Dataset',\n",
       " 'Myocardial infarction complications',\n",
       " 'Hungarian Chickenpox Cases',\n",
       " 'Simulated data for survival modelling',\n",
       " 'Student Performance on an entrance examination',\n",
       " 'Chemical Composition of Ceramic Samples',\n",
       " 'Labeled Text Forum Threads Dataset',\n",
       " 'Stock keeping units',\n",
       " 'BLE RSSI dataset for Indoor localization',\n",
       " 'Basketball dataset',\n",
       " 'GitHub MUSAE',\n",
       " 'Anticancer peptides',\n",
       " 'Monolithic Columns in Troad and Mysia Region',\n",
       " 'Gender by Name',\n",
       " 'Iranian Churn Dataset',\n",
       " 'Unmanned Aerial Vehicle (UAV) Intrusion Detection',\n",
       " 'Shoulder Implant Manufacture Classification',\n",
       " 'LastFM Asia Social Network',\n",
       " 'Wheat kernels',\n",
       " 'Productivity Prediction of Garment Employees',\n",
       " 'Multi-view Brain Networks',\n",
       " 'LastFM Asia Social Network',\n",
       " 'Wisesight Sentiment Corpus',\n",
       " 'AI4I 2020 Predictive Maintenance Dataset',\n",
       " 'Dry Bean Dataset',\n",
       " 'in-vehicle coupon recommendation',\n",
       " 'Gait Classification',\n",
       " 'Wikipedia Math Essentials',\n",
       " 'Wikipedia Math Essentials',\n",
       " 'Synchronous Machine Data Set',\n",
       " 'Average Localization Error (ALE) in sensor node localization process in WSNs',\n",
       " '9mers from cullpdb',\n",
       " 'TamilSentiMix',\n",
       " 'Accelerometer',\n",
       " 'Synchronous Machine Data Set',\n",
       " 'Pedal Me Bicycle Deliveries',\n",
       " 'Turkish Headlines Dataset',\n",
       " 'Secondary Mushroom Dataset',\n",
       " 'Power consumption of Tetouan city',\n",
       " 'Raisin Dataset',\n",
       " 'Steel Industry Energy Consumption Dataset',\n",
       " 'Gender Gap in Spanish WP',\n",
       " 'Non verbal tourists data',\n",
       " 'Roman Urdu Sentiment Analysis Dataset (RUSAD)',\n",
       " 'TUANDROMD ( Tezpur University Android Malware Dataset)',\n",
       " 'Higher Education Students Performance Evaluation Dataset',\n",
       " 'Risk Factor prediction of Chronic Kidney Disease',\n",
       " 'Lab Test',\n",
       " 'Shoulder Implant Manufacture Classification',\n",
       " 'Rocket League Skillshots Data Set',\n",
       " 'Sepsis survival minimal clinical records',\n",
       " 'Water Quality Prediction',\n",
       " 'Traffic Flow Forecasting',\n",
       " 'sentiment analysis in Saudi Arabia about distance education during Covid-19',\n",
       " 'Kain Tradisional Sambas',\n",
       " 'Image Recognition Task Execution Times in Mobile Edge Computing',\n",
       " 'REWEMA',\n",
       " 'REJAFADA',\n",
       " 'Steel Industry Energy Consumption Dataset',\n",
       " 'Influenza outbreak event prediction via Twitter data',\n",
       " 'Turkish Music Emotion Dataset',\n",
       " 'Maternal Health Risk Data Set',\n",
       " 'Room Occupancy Estimation',\n",
       " 'Image Recognition Task Execution Times in Mobile Edge Computing']"
      ]
     },
     "execution_count": 453,
     "metadata": {},
     "output_type": "execute_result"
    }
   ],
   "source": [
    "# Extracting tags\n",
    "name_tag=driver.find_elements_by_xpath('//p[@class=\"normal\"]/b/a')\n",
    "\n",
    "# Extracting text from tags\n",
    "for i in name_tag:\n",
    "    n=i.text\n",
    "    name.append(n)\n",
    "    \n",
    "name"
   ]
  },
  {
   "cell_type": "code",
   "execution_count": 454,
   "id": "38597e51",
   "metadata": {},
   "outputs": [
    {
     "data": {
      "text/plain": [
       "622"
      ]
     },
     "execution_count": 454,
     "metadata": {},
     "output_type": "execute_result"
    }
   ],
   "source": [
    "len(name)"
   ]
  },
  {
   "cell_type": "markdown",
   "id": "0426c925",
   "metadata": {},
   "source": [
    "**Class name is same for all the elements, i'm unable to fetch the data**\n",
    "\n",
    "**Please provide the solution for the same**"
   ]
  },
  {
   "cell_type": "markdown",
   "id": "36ff7aae",
   "metadata": {},
   "source": [
    "# THE END"
   ]
  }
 ],
 "metadata": {
  "kernelspec": {
   "display_name": "Python 3",
   "language": "python",
   "name": "python3"
  },
  "language_info": {
   "codemirror_mode": {
    "name": "ipython",
    "version": 3
   },
   "file_extension": ".py",
   "mimetype": "text/x-python",
   "name": "python",
   "nbconvert_exporter": "python",
   "pygments_lexer": "ipython3",
   "version": "3.8.8"
  }
 },
 "nbformat": 4,
 "nbformat_minor": 5
}
